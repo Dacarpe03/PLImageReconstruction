{
 "cells": [
  {
   "cell_type": "markdown",
   "id": "6c6f3390",
   "metadata": {},
   "source": [
    "## Imports"
   ]
  },
  {
   "cell_type": "code",
   "execution_count": 1,
   "id": "b7e12292",
   "metadata": {},
   "outputs": [
    {
     "name": "stderr",
     "output_type": "stream",
     "text": [
      "2023-12-09 17:14:48.535544: I tensorflow/core/util/port.cc:113] oneDNN custom operations are on. You may see slightly different numerical results due to floating-point round-off errors from different computation orders. To turn them off, set the environment variable `TF_ENABLE_ONEDNN_OPTS=0`.\n",
      "2023-12-09 17:14:48.809105: E external/local_xla/xla/stream_executor/cuda/cuda_dnn.cc:9261] Unable to register cuDNN factory: Attempting to register factory for plugin cuDNN when one has already been registered\n",
      "2023-12-09 17:14:48.809218: E external/local_xla/xla/stream_executor/cuda/cuda_fft.cc:607] Unable to register cuFFT factory: Attempting to register factory for plugin cuFFT when one has already been registered\n",
      "2023-12-09 17:14:48.842140: E external/local_xla/xla/stream_executor/cuda/cuda_blas.cc:1515] Unable to register cuBLAS factory: Attempting to register factory for plugin cuBLAS when one has already been registered\n",
      "2023-12-09 17:14:48.936637: I tensorflow/core/platform/cpu_feature_guard.cc:182] This TensorFlow binary is optimized to use available CPU instructions in performance-critical operations.\n",
      "To enable the following instructions: AVX2 AVX_VNNI FMA, in other operations, rebuild TensorFlow with the appropriate compiler flags.\n",
      "2023-12-09 17:14:49.775191: W tensorflow/compiler/tf2tensorrt/utils/py_utils.cc:38] TF-TRT Warning: Could not find TensorRT\n"
     ]
    }
   ],
   "source": [
    "from constants import FLUXES_FOLDER, SLM_FOLDER\n",
    "\n",
    "from data_utils import process_amp_phase_data\n",
    "\n",
    "from plot_utils import plot_map, \\\n",
    "                       plot_model_history, \\\n",
    "                       plot_fully_connected_amp_phase_prediction, \\\n",
    "                       plot_conv_amp_phase_prediction\n",
    "\n",
    "from modeling_utils import create_fully_connected_architecture_for_amplitude_and_phase_reconstruction, \\\n",
    "                           create_convolutional_architecture_for_amplitude_and_phase_reconstruction, \\\n",
    "                           compile_model, \\\n",
    "                           train_model\n",
    "\n",
    "from configurations import FirstConvolutionalModelWithBN as ModelConfiguration"
   ]
  },
  {
   "cell_type": "markdown",
   "id": "fe49c6dd",
   "metadata": {},
   "source": [
    "## Load data"
   ]
  },
  {
   "cell_type": "markdown",
   "id": "c72e529b",
   "metadata": {},
   "source": [
    "In the first place, define the data paths"
   ]
  },
  {
   "cell_type": "code",
   "execution_count": 2,
   "id": "6ebc67b0",
   "metadata": {},
   "outputs": [],
   "source": [
    "train_fluxes_array, val_fluxes_array, train_amp_phase_array, val_amp_phase_array, scalers = \\\n",
    "    process_amp_phase_data(\n",
    "        n_points=40000,\n",
    "        normalize_flux=True,\n",
    "        normalize_amplitude=True,\n",
    "        shuffle=False,\n",
    "        flatten_fluxes=False,\n",
    "        split=True,\n",
    "        val_ratio=0.1\n",
    "    )"
   ]
  },
  {
   "cell_type": "code",
   "execution_count": 3,
   "id": "95f7f889-8eb3-4c44-a2a6-058ce1bcf6e6",
   "metadata": {},
   "outputs": [
    {
     "data": {
      "text/plain": [
       "(36000, 55, 24)"
      ]
     },
     "execution_count": 3,
     "metadata": {},
     "output_type": "execute_result"
    }
   ],
   "source": [
    "train_fluxes_array.shape"
   ]
  },
  {
   "cell_type": "code",
   "execution_count": 4,
   "id": "73558461-2447-4325-ab06-543104dfde3c",
   "metadata": {},
   "outputs": [
    {
     "data": {
      "text/plain": [
       "(4000, 55, 24)"
      ]
     },
     "execution_count": 4,
     "metadata": {},
     "output_type": "execute_result"
    }
   ],
   "source": [
    "val_fluxes_array.shape"
   ]
  },
  {
   "cell_type": "code",
   "execution_count": 5,
   "id": "bfc0514f-5d73-4ec9-8866-e50088d770aa",
   "metadata": {},
   "outputs": [
    {
     "data": {
      "text/plain": [
       "(36000, 2, 96, 96)"
      ]
     },
     "execution_count": 5,
     "metadata": {},
     "output_type": "execute_result"
    }
   ],
   "source": [
    "train_amp_phase_array.shape"
   ]
  },
  {
   "cell_type": "code",
   "execution_count": 6,
   "id": "4a4fae31-ccea-46be-af0d-7d40dfeb97ab",
   "metadata": {},
   "outputs": [
    {
     "data": {
      "text/plain": [
       "array([[[[ 6.98578053e-01,  7.43319937e-01,  7.90347719e-01, ...,\n",
       "           4.21478524e-01,  5.03408261e-01,  5.77518393e-01],\n",
       "         [ 5.44036523e-01,  5.83540890e-01,  6.25700029e-01, ...,\n",
       "           3.14985327e-01,  3.98666633e-01,  4.74617017e-01],\n",
       "         [ 3.80387767e-01,  4.14716237e-01,  4.52099906e-01, ...,\n",
       "           2.11574432e-01,  2.96703474e-01,  3.74210814e-01],\n",
       "         ...,\n",
       "         [ 3.47608817e-01,  2.76880737e-01,  1.98129718e-01, ...,\n",
       "           3.06610904e-01,  2.70855147e-01,  2.38132616e-01],\n",
       "         [ 4.43536922e-01,  3.74210309e-01,  2.96703970e-01, ...,\n",
       "           4.92059931e-01,  4.52099391e-01,  4.14716747e-01],\n",
       "         [ 5.42260586e-01,  4.74616499e-01,  3.98667141e-01, ...,\n",
       "           6.70015776e-01,  6.25699493e-01,  5.83541421e-01]],\n",
       "\n",
       "        [[-9.20236727e-02, -5.71971023e-02, -2.34401611e-02, ...,\n",
       "           5.14060277e-01,  5.31800416e-01,  5.47601037e-01],\n",
       "         [-9.58859807e-02, -5.92038460e-02, -2.36001412e-02, ...,\n",
       "           5.41211293e-01,  5.56980582e-01,  5.70863285e-01],\n",
       "         [-1.00118886e-01, -6.11577839e-02, -2.32916706e-02, ...,\n",
       "           5.69409203e-01,  5.82750053e-01,  5.94316059e-01],\n",
       "         ...,\n",
       "         [-6.25209660e-01, -6.17714819e-01, -6.08899433e-01, ...,\n",
       "          -1.68018226e-02,  2.23538170e-02,  6.30338416e-02],\n",
       "         [-6.04402772e-01, -5.94316059e-01, -5.82750053e-01, ...,\n",
       "          -1.31520605e-02,  2.32916706e-02,  6.11577839e-02],\n",
       "         [-5.83164465e-01, -5.70863285e-01, -5.56980582e-01, ...,\n",
       "          -1.06546157e-02,  2.36001412e-02,  5.92038460e-02]]],\n",
       "\n",
       "\n",
       "       [[[-2.71194495e-01, -3.37833438e-01, -4.03128841e-01, ...,\n",
       "          -1.09679839e-01, -6.65207051e-02, -2.43060134e-02],\n",
       "         [-3.06172711e-01, -3.76070965e-01, -4.44837524e-01, ...,\n",
       "          -1.36233040e-01, -9.29872155e-02, -5.01379866e-02],\n",
       "         [-3.43379055e-01, -4.15865456e-01, -4.87352053e-01, ...,\n",
       "          -1.55805064e-01, -1.12848659e-01, -6.97320584e-02],\n",
       "         ...,\n",
       "         [-4.01479090e-02, -8.34104000e-02, -1.26513540e-01, ...,\n",
       "          -6.02896826e-01, -5.30670251e-01, -4.57214928e-01],\n",
       "         [-2.69373223e-02, -6.97325101e-02, -1.12848212e-01, ...,\n",
       "          -5.57535924e-01, -4.87352454e-01, -4.15865046e-01],\n",
       "         [-8.09953970e-03, -5.01384407e-02, -9.29867666e-02, ...,\n",
       "          -5.12123777e-01, -4.44837931e-01, -3.76070550e-01]],\n",
       "\n",
       "        [[ 9.90045996e-01,  9.90339496e-01,  9.87093159e-01, ...,\n",
       "          -7.04995374e-01, -6.43698575e-01, -5.85432516e-01],\n",
       "         [ 1.03358432e+00,  1.03964394e+00,  1.04267660e+00, ...,\n",
       "          -7.62527115e-01, -6.97101408e-01, -6.35148931e-01],\n",
       "         [ 1.07595554e+00,  1.08823309e+00,  1.09818993e+00, ...,\n",
       "          -8.18231150e-01, -7.48926102e-01, -6.83481507e-01],\n",
       "         ...,\n",
       "         [ 6.64997389e-01,  7.29589981e-01,  7.98215183e-01, ...,\n",
       "          -1.16940126e+00, -1.15359305e+00, -1.13605855e+00],\n",
       "         [ 6.21739214e-01,  6.83481507e-01,  7.48926102e-01, ...,\n",
       "          -1.10539805e+00, -1.09818993e+00, -1.08823309e+00],\n",
       "         [ 5.76512452e-01,  6.35148931e-01,  6.97101408e-01, ...,\n",
       "          -1.04221468e+00, -1.04267660e+00, -1.03964394e+00]]],\n",
       "\n",
       "\n",
       "       [[[ 5.82478836e-01,  5.97726004e-01,  6.10282559e-01, ...,\n",
       "           1.20608044e+00,  1.25635023e+00,  1.29980377e+00],\n",
       "         [ 5.34039917e-01,  5.46500629e-01,  5.56356163e-01, ...,\n",
       "           1.14349782e+00,  1.19697294e+00,  1.24377516e+00],\n",
       "         [ 4.82269099e-01,  4.91947761e-01,  4.99131236e-01, ...,\n",
       "           1.07750603e+00,  1.13404001e+00,  1.18404989e+00],\n",
       "         ...,\n",
       "         [ 1.16740158e+00,  1.12103734e+00,  1.06799762e+00, ...,\n",
       "           4.40982907e-01,  4.39021976e-01,  4.34481923e-01],\n",
       "         [ 1.22724006e+00,  1.18404929e+00,  1.13404061e+00, ...,\n",
       "           5.03621490e-01,  4.99130716e-01,  4.91948281e-01],\n",
       "         [ 1.28362165e+00,  1.24377454e+00,  1.19697355e+00, ...,\n",
       "           5.63426956e-01,  5.56355635e-01,  5.46501156e-01]],\n",
       "\n",
       "        [[ 6.37031463e-01,  6.49465791e-01,  6.59839941e-01, ...,\n",
       "          -5.77708609e-02, -4.06654161e-02, -2.44206022e-02],\n",
       "         [ 6.48309445e-01,  6.62953557e-01,  6.75376013e-01, ...,\n",
       "          -3.44640802e-02, -1.74097856e-02, -1.25161518e-03],\n",
       "         [ 6.58813175e-01,  6.75744426e-01,  6.90291948e-01, ...,\n",
       "          -9.93316154e-03,  6.94731960e-03,  2.29004242e-02],\n",
       "         ...,\n",
       "         [-6.27592598e-02, -4.80153023e-02, -3.23966564e-02, ...,\n",
       "          -7.18944744e-01, -7.04626973e-01, -6.87876118e-01],\n",
       "         [-3.79997152e-02, -2.29004242e-02, -6.94731960e-03, ...,\n",
       "          -7.02575963e-01, -6.90291948e-01, -6.75744426e-01],\n",
       "         [-1.40791642e-02,  1.25161518e-03,  1.74097856e-02, ...,\n",
       "          -6.85702134e-01, -6.75376013e-01, -6.62953557e-01]]],\n",
       "\n",
       "\n",
       "       ...,\n",
       "\n",
       "\n",
       "       [[[ 2.66678023e-01,  2.28306927e-01,  1.86707020e-01, ...,\n",
       "           8.67025333e-01,  9.59815296e-01,  1.04919941e+00],\n",
       "         [ 2.95759887e-01,  2.57143826e-01,  2.15269022e-01, ...,\n",
       "           7.72740366e-01,  8.70053378e-01,  9.64183724e-01],\n",
       "         [ 3.25523540e-01,  2.86811795e-01,  2.44817947e-01, ...,\n",
       "           6.72970171e-01,  7.74566440e-01,  8.73219388e-01],\n",
       "         ...,\n",
       "         [ 8.76470130e-01,  7.76748349e-01,  6.73821583e-01, ...,\n",
       "           2.30324412e-01,  2.75010315e-01,  3.16962087e-01],\n",
       "         [ 9.68408825e-01,  8.73218822e-01,  7.74566994e-01, ...,\n",
       "           2.00110418e-01,  2.44817457e-01,  2.86812290e-01],\n",
       "         [ 1.05461136e+00,  9.64183147e-01,  8.70053943e-01, ...,\n",
       "           1.70709931e-01,  2.15268536e-01,  2.57144317e-01]],\n",
       "\n",
       "        [[ 1.24099124e-01,  9.65248064e-02,  6.63570257e-02, ...,\n",
       "          -3.61347820e-01, -3.66518005e-01, -3.69496418e-01],\n",
       "         [ 1.43457222e-01,  1.16389143e-01,  8.67958671e-02, ...,\n",
       "          -3.64661990e-01, -3.68821037e-01, -3.70770130e-01],\n",
       "         [ 1.62099544e-01,  1.35578900e-01,  1.06604681e-01, ...,\n",
       "          -3.68705146e-01, -3.71734049e-01, -3.72544786e-01],\n",
       "         ...,\n",
       "         [ 3.72492017e-01,  3.74884728e-01,  3.75346195e-01, ...,\n",
       "          -9.48449271e-02, -1.25715489e-01, -1.54041042e-01],\n",
       "         [ 3.71393663e-01,  3.72544786e-01,  3.71734049e-01, ...,\n",
       "          -7.50021083e-02, -1.06604681e-01, -1.35578900e-01],\n",
       "         [ 3.70742012e-01,  3.70770130e-01,  3.68821037e-01, ...,\n",
       "          -5.44933906e-02, -8.67958671e-02, -1.16389143e-01]]],\n",
       "\n",
       "\n",
       "       [[[ 9.46366845e-01,  9.34917426e-01,  9.15542397e-01, ...,\n",
       "          -3.51978818e-01, -3.36870245e-01, -3.22534182e-01],\n",
       "         [ 8.82333560e-01,  8.63805437e-01,  8.37363248e-01, ...,\n",
       "          -4.26380084e-01, -4.10038713e-01, -3.94494371e-01],\n",
       "         [ 8.14929152e-01,  7.89458637e-01,  7.56112322e-01, ...,\n",
       "          -4.98535495e-01, -4.81013546e-01, -4.64325412e-01],\n",
       "         ...,\n",
       "         [-5.14906858e-01, -5.31511879e-01, -5.49291777e-01, ...,\n",
       "           6.24738710e-01,  6.72416383e-01,  7.12471968e-01],\n",
       "         [-4.48722174e-01, -4.64325816e-01, -4.81013145e-01, ...,\n",
       "           7.15040763e-01,  7.56111770e-01,  7.89459193e-01],\n",
       "         [-3.79959844e-01, -3.94494783e-01, -4.10038302e-01, ...,\n",
       "           8.03121985e-01,  8.37362687e-01,  8.63806002e-01]],\n",
       "\n",
       "        [[ 7.55343233e-02,  7.47569289e-02,  7.36795094e-02, ...,\n",
       "          -5.45416064e-01, -5.69867681e-01, -5.91379634e-01],\n",
       "         [ 9.13468641e-02,  9.11730232e-02,  9.07083589e-02, ...,\n",
       "          -5.79396460e-01, -6.04836768e-01, -6.26844862e-01],\n",
       "         [ 1.07625629e-01,  1.08181920e-01,  1.08469472e-01, ...,\n",
       "          -6.16112095e-01, -6.42641861e-01, -6.65183840e-01],\n",
       "         ...,\n",
       "         [ 7.25083751e-01,  7.06690899e-01,  6.83586037e-01, ...,\n",
       "          -1.27988112e-01, -1.27028401e-01, -1.25833030e-01],\n",
       "         [ 6.83591549e-01,  6.65183840e-01,  6.42641861e-01, ...,\n",
       "          -1.08475066e-01, -1.08469472e-01, -1.08181920e-01],\n",
       "         [ 6.45239861e-01,  6.26844862e-01,  6.04836768e-01, ...,\n",
       "          -8.99347797e-02, -9.07083589e-02, -9.11730232e-02]]],\n",
       "\n",
       "\n",
       "       [[[ 1.62113328e-01,  1.14251508e-01,  6.50853251e-02, ...,\n",
       "          -5.49323300e-02, -3.72402113e-02, -2.19878320e-02],\n",
       "         [ 5.69287056e-02,  5.21140972e-03, -4.78022874e-02, ...,\n",
       "          -6.43365818e-02, -4.54804650e-02, -2.91180231e-02],\n",
       "         [-4.75796795e-02, -1.02753653e-01, -1.59217693e-01, ...,\n",
       "          -7.00889995e-02, -5.03285768e-02, -3.31038899e-02],\n",
       "         ...,\n",
       "         [-1.87993810e-02, -3.40574881e-02, -5.19120099e-02, ...,\n",
       "          -3.28946159e-01, -2.68349622e-01, -2.08887101e-01],\n",
       "         [-1.84487338e-02, -3.31043460e-02, -5.03281228e-02, ...,\n",
       "          -2.16827534e-01, -1.59218134e-01, -1.02753205e-01],\n",
       "         [-1.52858162e-02, -2.91184796e-02, -4.54800104e-02, ...,\n",
       "          -1.01971274e-01, -4.78027417e-02,  5.21187047e-03]],\n",
       "\n",
       "        [[-3.25105440e-01, -3.12827610e-01, -2.99764627e-01, ...,\n",
       "           2.86288565e-01,  2.80199550e-01,  2.73724038e-01],\n",
       "         [-3.49194252e-01, -3.38001096e-01, -3.25973229e-01, ...,\n",
       "           3.43242338e-01,  3.35264824e-01,  3.26949578e-01],\n",
       "         [-3.74694426e-01, -3.65031579e-01, -3.54535059e-01, ...,\n",
       "           3.99297469e-01,  3.89476297e-01,  3.79374302e-01],\n",
       "         ...,\n",
       "         [-4.18319683e-01, -4.30388502e-01, -4.42178395e-01, ...,\n",
       "           3.76488024e-01,  3.85670864e-01,  3.94014459e-01],\n",
       "         [-3.68940071e-01, -3.79374302e-01, -3.89476297e-01, ...,\n",
       "           3.43124603e-01,  3.54535059e-01,  3.65031579e-01],\n",
       "         [-3.18251674e-01, -3.26949578e-01, -3.35264824e-01, ...,\n",
       "           3.13047703e-01,  3.25973229e-01,  3.38001096e-01]]]])"
      ]
     },
     "execution_count": 6,
     "metadata": {},
     "output_type": "execute_result"
    }
   ],
   "source": [
    "val_amp_phase_array.shape"
   ]
  },
  {
   "cell_type": "markdown",
   "id": "77fb5607",
   "metadata": {},
   "source": [
    "## CONVOLUTIONAL MODEL"
   ]
  },
  {
   "cell_type": "code",
   "execution_count": 7,
   "id": "a748321b",
   "metadata": {},
   "outputs": [
    {
     "name": "stdout",
     "output_type": "stream",
     "text": [
      "\n",
      "\t=== ConvolutionalAmplitudePhaseReconstructor ===\n",
      "\t*ARCHITECTURE HYPERPARAMETERS:\n",
      "\t\t-Convolutional\n",
      "\t\t-Input shape: (55, 24)\n",
      "\t\t-Output shape: (2, 96, 96)\n",
      "\t\t-Convolutional Layers: [128, 64]\n",
      "\t\t-Convolutonal Kernels: [(5, 5), (3, 3)]\n",
      "\t\t-Fully Connected Hidden layers: [1024, 2048, 2048, 2048]\n",
      "\t\t-Regularizer: None\n",
      "\t\t-Convolutional Activation: relu\n",
      "\t\t-Hidden Layers Activation: relu\n",
      "\t\t-Output Layer Activation: linear\n",
      "\t\t-Batch Normalization: True\n",
      "\t\n",
      "\t*COMPILATION HYPERPARAMETERS:\n",
      "\t\t-Optimizer: ADAM lr=0.0001, beta_1=0.9, beta_2=0.999\n",
      "\t\t-Loss Function: MSE\n",
      "\t\t-Metric: MSE\n",
      "\t\n",
      "\t* TRAINING HYPERPARAMETERS:\n",
      "\t\t-Epochs: 1000\n",
      "\t\t-Batch size: 32\n",
      "\t\t-Callbacks:\n",
      "\t\t\t-ReduceLROnPlateau: MSE 15 x0.1\n",
      "\t\t\t-Early Stop: MSE 50\n",
      "\t\n"
     ]
    },
    {
     "name": "stderr",
     "output_type": "stream",
     "text": [
      "2023-12-09 17:15:21.988851: I external/local_xla/xla/stream_executor/cuda/cuda_executor.cc:901] successful NUMA node read from SysFS had negative value (-1), but there must be at least one NUMA node, so returning NUMA node zero. See more at https://github.com/torvalds/linux/blob/v6.0/Documentation/ABI/testing/sysfs-bus-pci#L344-L355\n",
      "2023-12-09 17:15:22.092527: I external/local_xla/xla/stream_executor/cuda/cuda_executor.cc:901] successful NUMA node read from SysFS had negative value (-1), but there must be at least one NUMA node, so returning NUMA node zero. See more at https://github.com/torvalds/linux/blob/v6.0/Documentation/ABI/testing/sysfs-bus-pci#L344-L355\n",
      "2023-12-09 17:15:22.093056: I external/local_xla/xla/stream_executor/cuda/cuda_executor.cc:901] successful NUMA node read from SysFS had negative value (-1), but there must be at least one NUMA node, so returning NUMA node zero. See more at https://github.com/torvalds/linux/blob/v6.0/Documentation/ABI/testing/sysfs-bus-pci#L344-L355\n",
      "2023-12-09 17:15:22.144926: I external/local_xla/xla/stream_executor/cuda/cuda_executor.cc:901] successful NUMA node read from SysFS had negative value (-1), but there must be at least one NUMA node, so returning NUMA node zero. See more at https://github.com/torvalds/linux/blob/v6.0/Documentation/ABI/testing/sysfs-bus-pci#L344-L355\n",
      "2023-12-09 17:15:22.145175: I external/local_xla/xla/stream_executor/cuda/cuda_executor.cc:901] successful NUMA node read from SysFS had negative value (-1), but there must be at least one NUMA node, so returning NUMA node zero. See more at https://github.com/torvalds/linux/blob/v6.0/Documentation/ABI/testing/sysfs-bus-pci#L344-L355\n",
      "2023-12-09 17:15:22.145261: I external/local_xla/xla/stream_executor/cuda/cuda_executor.cc:901] successful NUMA node read from SysFS had negative value (-1), but there must be at least one NUMA node, so returning NUMA node zero. See more at https://github.com/torvalds/linux/blob/v6.0/Documentation/ABI/testing/sysfs-bus-pci#L344-L355\n",
      "2023-12-09 17:15:22.226103: I external/local_xla/xla/stream_executor/cuda/cuda_executor.cc:901] successful NUMA node read from SysFS had negative value (-1), but there must be at least one NUMA node, so returning NUMA node zero. See more at https://github.com/torvalds/linux/blob/v6.0/Documentation/ABI/testing/sysfs-bus-pci#L344-L355\n",
      "2023-12-09 17:15:22.226819: I external/local_xla/xla/stream_executor/cuda/cuda_executor.cc:901] successful NUMA node read from SysFS had negative value (-1), but there must be at least one NUMA node, so returning NUMA node zero. See more at https://github.com/torvalds/linux/blob/v6.0/Documentation/ABI/testing/sysfs-bus-pci#L344-L355\n",
      "2023-12-09 17:15:22.227144: I external/local_xla/xla/stream_executor/cuda/cuda_executor.cc:901] successful NUMA node read from SysFS had negative value (-1), but there must be at least one NUMA node, so returning NUMA node zero. See more at https://github.com/torvalds/linux/blob/v6.0/Documentation/ABI/testing/sysfs-bus-pci#L344-L355\n",
      "2023-12-09 17:15:22.227356: I tensorflow/core/common_runtime/gpu/gpu_device.cc:1929] Created device /job:localhost/replica:0/task:0/device:GPU:0 with 6263 MB memory:  -> device: 0, name: NVIDIA GeForce RTX 4070 Laptop GPU, pci bus id: 0000:01:00.0, compute capability: 8.9\n"
     ]
    }
   ],
   "source": [
    "model_configuration = ModelConfiguration(train_fluxes_array,\n",
    "                                         train_amp_phase_array)\n",
    "print(model_configuration.get_description())"
   ]
  },
  {
   "cell_type": "code",
   "execution_count": 8,
   "id": "7f2cd57a",
   "metadata": {},
   "outputs": [
    {
     "name": "stdout",
     "output_type": "stream",
     "text": [
      "Model: \"ConvolutionalAmplitudePhaseReconstructor\"\n",
      "_________________________________________________________________\n",
      " Layer (type)                Output Shape              Param #   \n",
      "=================================================================\n",
      " conv2d (Conv2D)             (None, 51, 20, 128)       3328      \n",
      "                                                                 \n",
      " max_pooling2d (MaxPooling2  (None, 25, 10, 128)       0         \n",
      " D)                                                              \n",
      "                                                                 \n",
      " conv2d_1 (Conv2D)           (None, 23, 8, 64)         73792     \n",
      "                                                                 \n",
      " max_pooling2d_1 (MaxPoolin  (None, 11, 4, 64)         0         \n",
      " g2D)                                                            \n",
      "                                                                 \n",
      " flatten (Flatten)           (None, 2816)              0         \n",
      "                                                                 \n",
      " dense (Dense)               (None, 1024)              2883584   \n",
      "                                                                 \n",
      " batch_normalization (Batch  (None, 1024)              4096      \n",
      " Normalization)                                                  \n",
      "                                                                 \n",
      " activation (Activation)     (None, 1024)              0         \n",
      "                                                                 \n",
      " dense_1 (Dense)             (None, 2048)              2097152   \n",
      "                                                                 \n",
      " batch_normalization_1 (Bat  (None, 2048)              8192      \n",
      " chNormalization)                                                \n",
      "                                                                 \n",
      " activation_1 (Activation)   (None, 2048)              0         \n",
      "                                                                 \n",
      " dense_2 (Dense)             (None, 2048)              4194304   \n",
      "                                                                 \n",
      " batch_normalization_2 (Bat  (None, 2048)              8192      \n",
      " chNormalization)                                                \n",
      "                                                                 \n",
      " activation_2 (Activation)   (None, 2048)              0         \n",
      "                                                                 \n",
      " dense_3 (Dense)             (None, 2048)              4194304   \n",
      "                                                                 \n",
      " batch_normalization_3 (Bat  (None, 2048)              8192      \n",
      " chNormalization)                                                \n",
      "                                                                 \n",
      " activation_3 (Activation)   (None, 2048)              0         \n",
      "                                                                 \n",
      " dense_4 (Dense)             (None, 18432)             37767168  \n",
      "                                                                 \n",
      " reshape (Reshape)           (None, 2, 96, 96)         0         \n",
      "                                                                 \n",
      "=================================================================\n",
      "Total params: 51242304 (195.47 MB)\n",
      "Trainable params: 51227968 (195.42 MB)\n",
      "Non-trainable params: 14336 (56.00 KB)\n",
      "_________________________________________________________________\n"
     ]
    }
   ],
   "source": [
    "model = create_convolutional_architecture_for_amplitude_and_phase_reconstruction(\n",
    "    *model_configuration.unpack_architecture_hyperparameters()\n",
    ")\n",
    "compile_model(\n",
    "    model,\n",
    "    *model_configuration.unpack_compilation_hyperparameters()\n",
    ")"
   ]
  },
  {
   "cell_type": "code",
   "execution_count": null,
   "id": "35f3a560",
   "metadata": {},
   "outputs": [
    {
     "name": "stdout",
     "output_type": "stream",
     "text": [
      "Epoch 1/1000\n"
     ]
    },
    {
     "name": "stderr",
     "output_type": "stream",
     "text": [
      "2023-12-09 17:15:27.024630: I external/local_xla/xla/stream_executor/cuda/cuda_dnn.cc:454] Loaded cuDNN version 8904\n",
      "2023-12-09 17:15:27.162873: I external/local_tsl/tsl/platform/default/subprocess.cc:304] Start cannot spawn child process: No such file or directory\n",
      "2023-12-09 17:15:27.766410: I external/local_tsl/tsl/platform/default/subprocess.cc:304] Start cannot spawn child process: No such file or directory\n",
      "2023-12-09 17:15:28.142790: I external/local_xla/xla/service/service.cc:168] XLA service 0x7fe28e998d20 initialized for platform CUDA (this does not guarantee that XLA will be used). Devices:\n",
      "2023-12-09 17:15:28.142805: I external/local_xla/xla/service/service.cc:176]   StreamExecutor device (0): NVIDIA GeForce RTX 4070 Laptop GPU, Compute Capability 8.9\n",
      "2023-12-09 17:15:28.158724: I tensorflow/compiler/mlir/tensorflow/utils/dump_mlir_util.cc:269] disabling MLIR crash reproducer, set env var `MLIR_CRASH_REPRODUCER_DIRECTORY` to enable.\n",
      "WARNING: All log messages before absl::InitializeLog() is called are written to STDERR\n",
      "I0000 00:00:1702102528.326905   51083 device_compiler.h:186] Compiled cluster using XLA!  This line is logged at most once for the lifetime of the process.\n"
     ]
    },
    {
     "name": "stdout",
     "output_type": "stream",
     "text": [
      "1125/1125 [==============================] - 27s 20ms/step - loss: 0.6155 - mean_squared_error: 0.6155 - val_loss: 1.2712 - val_mean_squared_error: 1.2712 - lr: 1.0000e-04\n",
      "Epoch 2/1000\n",
      "1125/1125 [==============================] - 22s 19ms/step - loss: 0.5450 - mean_squared_error: 0.5450 - val_loss: 1.3449 - val_mean_squared_error: 1.3449 - lr: 1.0000e-04\n",
      "Epoch 3/1000\n",
      "1125/1125 [==============================] - 22s 19ms/step - loss: 0.5136 - mean_squared_error: 0.5136 - val_loss: 1.4042 - val_mean_squared_error: 1.4042 - lr: 1.0000e-04\n",
      "Epoch 4/1000\n",
      "1125/1125 [==============================] - 22s 20ms/step - loss: 0.4909 - mean_squared_error: 0.4909 - val_loss: 1.4790 - val_mean_squared_error: 1.4790 - lr: 1.0000e-04\n",
      "Epoch 5/1000\n",
      "1125/1125 [==============================] - 22s 20ms/step - loss: 0.4750 - mean_squared_error: 0.4750 - val_loss: 1.1995 - val_mean_squared_error: 1.1995 - lr: 1.0000e-04\n",
      "Epoch 6/1000\n",
      "1125/1125 [==============================] - 22s 20ms/step - loss: 0.4600 - mean_squared_error: 0.4600 - val_loss: 1.3010 - val_mean_squared_error: 1.3010 - lr: 1.0000e-04\n",
      "Epoch 7/1000\n",
      "1125/1125 [==============================] - 21s 18ms/step - loss: 0.4485 - mean_squared_error: 0.4485 - val_loss: 1.3453 - val_mean_squared_error: 1.3453 - lr: 1.0000e-04\n",
      "Epoch 8/1000\n",
      "1125/1125 [==============================] - 21s 19ms/step - loss: 0.4366 - mean_squared_error: 0.4366 - val_loss: 1.4140 - val_mean_squared_error: 1.4140 - lr: 1.0000e-04\n",
      "Epoch 9/1000\n",
      "1125/1125 [==============================] - 21s 19ms/step - loss: 0.4272 - mean_squared_error: 0.4272 - val_loss: 1.3896 - val_mean_squared_error: 1.3896 - lr: 1.0000e-04\n",
      "Epoch 10/1000\n",
      "1125/1125 [==============================] - 22s 19ms/step - loss: 0.4175 - mean_squared_error: 0.4175 - val_loss: 1.4311 - val_mean_squared_error: 1.4311 - lr: 1.0000e-04\n",
      "Epoch 11/1000\n",
      "1125/1125 [==============================] - 21s 19ms/step - loss: 0.4102 - mean_squared_error: 0.4102 - val_loss: 1.4042 - val_mean_squared_error: 1.4042 - lr: 1.0000e-04\n",
      "Epoch 12/1000\n",
      "1125/1125 [==============================] - 22s 20ms/step - loss: 0.4008 - mean_squared_error: 0.4008 - val_loss: 1.2971 - val_mean_squared_error: 1.2971 - lr: 1.0000e-04\n",
      "Epoch 13/1000\n",
      "1125/1125 [==============================] - 22s 19ms/step - loss: 0.3936 - mean_squared_error: 0.3936 - val_loss: 1.3930 - val_mean_squared_error: 1.3930 - lr: 1.0000e-04\n",
      "Epoch 14/1000\n",
      "1125/1125 [==============================] - 22s 20ms/step - loss: 0.3835 - mean_squared_error: 0.3835 - val_loss: 1.3518 - val_mean_squared_error: 1.3518 - lr: 1.0000e-04\n",
      "Epoch 15/1000\n",
      "1125/1125 [==============================] - 22s 20ms/step - loss: 0.3780 - mean_squared_error: 0.3780 - val_loss: 1.4122 - val_mean_squared_error: 1.4122 - lr: 1.0000e-04\n",
      "Epoch 16/1000\n",
      "1125/1125 [==============================] - 22s 19ms/step - loss: 0.3717 - mean_squared_error: 0.3717 - val_loss: 1.4594 - val_mean_squared_error: 1.4594 - lr: 1.0000e-04\n",
      "Epoch 17/1000\n",
      "1125/1125 [==============================] - 22s 19ms/step - loss: 0.3645 - mean_squared_error: 0.3645 - val_loss: 1.3039 - val_mean_squared_error: 1.3039 - lr: 1.0000e-04\n",
      "Epoch 18/1000\n",
      "1125/1125 [==============================] - 21s 19ms/step - loss: 0.3563 - mean_squared_error: 0.3563 - val_loss: 1.4017 - val_mean_squared_error: 1.4017 - lr: 1.0000e-04\n",
      "Epoch 19/1000\n",
      "1125/1125 [==============================] - 22s 19ms/step - loss: 0.3497 - mean_squared_error: 0.3497 - val_loss: 1.4928 - val_mean_squared_error: 1.4928 - lr: 1.0000e-04\n",
      "Epoch 20/1000\n",
      "1125/1125 [==============================] - 22s 20ms/step - loss: 0.3426 - mean_squared_error: 0.3426 - val_loss: 1.5974 - val_mean_squared_error: 1.5974 - lr: 1.0000e-04\n",
      "Epoch 21/1000\n",
      "1125/1125 [==============================] - 21s 19ms/step - loss: 0.3357 - mean_squared_error: 0.3357 - val_loss: 1.4279 - val_mean_squared_error: 1.4279 - lr: 1.0000e-04\n",
      "Epoch 22/1000\n",
      "1125/1125 [==============================] - 21s 19ms/step - loss: 0.3306 - mean_squared_error: 0.3306 - val_loss: 1.4294 - val_mean_squared_error: 1.4294 - lr: 1.0000e-04\n",
      "Epoch 23/1000\n",
      "1125/1125 [==============================] - 22s 20ms/step - loss: 0.3224 - mean_squared_error: 0.3224 - val_loss: 1.4716 - val_mean_squared_error: 1.4716 - lr: 1.0000e-04\n",
      "Epoch 24/1000\n",
      "1125/1125 [==============================] - 21s 18ms/step - loss: 0.3176 - mean_squared_error: 0.3176 - val_loss: 1.5463 - val_mean_squared_error: 1.5463 - lr: 1.0000e-04\n",
      "Epoch 25/1000\n",
      "1125/1125 [==============================] - 19s 17ms/step - loss: 0.3093 - mean_squared_error: 0.3093 - val_loss: 1.3938 - val_mean_squared_error: 1.3938 - lr: 1.0000e-04\n",
      "Epoch 26/1000\n",
      "1125/1125 [==============================] - 19s 17ms/step - loss: 0.3022 - mean_squared_error: 0.3022 - val_loss: 1.4602 - val_mean_squared_error: 1.4602 - lr: 1.0000e-04\n",
      "Epoch 27/1000\n",
      "1125/1125 [==============================] - 19s 17ms/step - loss: 0.2985 - mean_squared_error: 0.2985 - val_loss: 1.3844 - val_mean_squared_error: 1.3844 - lr: 1.0000e-04\n",
      "Epoch 28/1000\n",
      "1125/1125 [==============================] - 19s 17ms/step - loss: 0.2930 - mean_squared_error: 0.2930 - val_loss: 1.4809 - val_mean_squared_error: 1.4809 - lr: 1.0000e-04\n",
      "Epoch 29/1000\n",
      "1125/1125 [==============================] - 19s 17ms/step - loss: 0.2855 - mean_squared_error: 0.2855 - val_loss: 1.4964 - val_mean_squared_error: 1.4964 - lr: 1.0000e-04\n",
      "Epoch 30/1000\n",
      "1125/1125 [==============================] - 19s 17ms/step - loss: 0.2808 - mean_squared_error: 0.2808 - val_loss: 1.5146 - val_mean_squared_error: 1.5146 - lr: 1.0000e-04\n",
      "Epoch 31/1000\n",
      "1125/1125 [==============================] - 19s 17ms/step - loss: 0.2763 - mean_squared_error: 0.2763 - val_loss: 1.4181 - val_mean_squared_error: 1.4181 - lr: 1.0000e-04\n",
      "Epoch 32/1000\n",
      "1125/1125 [==============================] - 19s 17ms/step - loss: 0.2706 - mean_squared_error: 0.2706 - val_loss: 1.2514 - val_mean_squared_error: 1.2514 - lr: 1.0000e-04\n",
      "Epoch 33/1000\n",
      "1125/1125 [==============================] - 19s 17ms/step - loss: 0.2663 - mean_squared_error: 0.2663 - val_loss: 1.4451 - val_mean_squared_error: 1.4451 - lr: 1.0000e-04\n",
      "Epoch 34/1000\n",
      "1125/1125 [==============================] - 19s 17ms/step - loss: 0.2629 - mean_squared_error: 0.2629 - val_loss: 1.5261 - val_mean_squared_error: 1.5261 - lr: 1.0000e-04\n",
      "Epoch 35/1000\n",
      "1125/1125 [==============================] - 19s 17ms/step - loss: 0.2584 - mean_squared_error: 0.2584 - val_loss: 1.4691 - val_mean_squared_error: 1.4691 - lr: 1.0000e-04\n",
      "Epoch 36/1000\n",
      "1125/1125 [==============================] - 19s 17ms/step - loss: 0.2543 - mean_squared_error: 0.2543 - val_loss: 1.3268 - val_mean_squared_error: 1.3268 - lr: 1.0000e-04\n",
      "Epoch 37/1000\n",
      "1125/1125 [==============================] - 19s 17ms/step - loss: 0.2505 - mean_squared_error: 0.2505 - val_loss: 1.4914 - val_mean_squared_error: 1.4914 - lr: 1.0000e-04\n",
      "Epoch 38/1000\n",
      "1125/1125 [==============================] - 19s 17ms/step - loss: 0.2468 - mean_squared_error: 0.2468 - val_loss: 1.4369 - val_mean_squared_error: 1.4369 - lr: 1.0000e-04\n",
      "Epoch 39/1000\n",
      "1125/1125 [==============================] - 19s 17ms/step - loss: 0.2426 - mean_squared_error: 0.2426 - val_loss: 1.3705 - val_mean_squared_error: 1.3705 - lr: 1.0000e-04\n",
      "Epoch 40/1000\n",
      "1125/1125 [==============================] - 19s 17ms/step - loss: 0.2404 - mean_squared_error: 0.2404 - val_loss: 1.5368 - val_mean_squared_error: 1.5368 - lr: 1.0000e-04\n",
      "Epoch 41/1000\n",
      "1125/1125 [==============================] - 19s 17ms/step - loss: 0.2365 - mean_squared_error: 0.2365 - val_loss: 1.4962 - val_mean_squared_error: 1.4962 - lr: 1.0000e-04\n",
      "Epoch 42/1000\n",
      "1125/1125 [==============================] - 20s 18ms/step - loss: 0.2346 - mean_squared_error: 0.2346 - val_loss: 1.4109 - val_mean_squared_error: 1.4109 - lr: 1.0000e-04\n",
      "Epoch 43/1000\n",
      " 171/1125 [===>..........................] - ETA: 15s - loss: 0.2221 - mean_squared_error: 0.2221"
     ]
    }
   ],
   "source": [
    "history = train_model(\n",
    "    model,\n",
    "    train_fluxes_array,\n",
    "    train_amp_phase_array,\n",
    "    val_fluxes_array,\n",
    "    val_amp_phase_array,\n",
    "    *model_configuration.unpack_training_hyperparameters()\n",
    ")"
   ]
  },
  {
   "cell_type": "code",
   "execution_count": null,
   "id": "4c3826f2",
   "metadata": {},
   "outputs": [],
   "source": [
    "plot_model_history(history)"
   ]
  },
  {
   "cell_type": "code",
   "execution_count": null,
   "id": "b83d62c1",
   "metadata": {},
   "outputs": [],
   "source": [
    "n = 106\n",
    "plot_conv_amp_phase_prediction(\n",
    "    model,\n",
    "    val_fluxes_array[n],\n",
    "    val_amp_phase_array[n][0],\n",
    "    val_amp_phase_array[n][1]\n",
    "    )"
   ]
  },
  {
   "cell_type": "code",
   "execution_count": null,
   "id": "71ba25ab",
   "metadata": {},
   "outputs": [],
   "source": [
    "n = 106\n",
    "plot_conv_amp_phase_prediction(\n",
    "    model,\n",
    "    train_fluxes_array[n],\n",
    "    train_amp_phase_array[n][0],\n",
    "    train_amp_phase_array[n][1]\n",
    "    )"
   ]
  }
 ],
 "metadata": {
  "kernelspec": {
   "display_name": "Python 3 (ipykernel)",
   "language": "python",
   "name": "python3"
  },
  "language_info": {
   "codemirror_mode": {
    "name": "ipython",
    "version": 3
   },
   "file_extension": ".py",
   "mimetype": "text/x-python",
   "name": "python",
   "nbconvert_exporter": "python",
   "pygments_lexer": "ipython3",
   "version": "3.9.18"
  }
 },
 "nbformat": 4,
 "nbformat_minor": 5
}
