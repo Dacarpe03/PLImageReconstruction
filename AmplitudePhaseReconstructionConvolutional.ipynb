{
 "cells": [
  {
   "cell_type": "markdown",
   "id": "6c6f3390",
   "metadata": {},
   "source": [
    "## Imports"
   ]
  },
  {
   "cell_type": "code",
   "execution_count": 1,
   "id": "b7e12292",
   "metadata": {},
   "outputs": [
    {
     "name": "stderr",
     "output_type": "stream",
     "text": [
      "2023-12-18 09:36:05.469996: I tensorflow/core/util/port.cc:113] oneDNN custom operations are on. You may see slightly different numerical results due to floating-point round-off errors from different computation orders. To turn them off, set the environment variable `TF_ENABLE_ONEDNN_OPTS=0`.\n",
      "2023-12-18 09:36:05.496065: E external/local_xla/xla/stream_executor/cuda/cuda_dnn.cc:9261] Unable to register cuDNN factory: Attempting to register factory for plugin cuDNN when one has already been registered\n",
      "2023-12-18 09:36:05.496086: E external/local_xla/xla/stream_executor/cuda/cuda_fft.cc:607] Unable to register cuFFT factory: Attempting to register factory for plugin cuFFT when one has already been registered\n",
      "2023-12-18 09:36:05.496752: E external/local_xla/xla/stream_executor/cuda/cuda_blas.cc:1515] Unable to register cuBLAS factory: Attempting to register factory for plugin cuBLAS when one has already been registered\n",
      "2023-12-18 09:36:05.501362: I tensorflow/core/platform/cpu_feature_guard.cc:182] This TensorFlow binary is optimized to use available CPU instructions in performance-critical operations.\n",
      "To enable the following instructions: AVX2 AVX_VNNI FMA, in other operations, rebuild TensorFlow with the appropriate compiler flags.\n",
      "2023-12-18 09:36:05.977796: W tensorflow/compiler/tf2tensorrt/utils/py_utils.cc:38] TF-TRT Warning: Could not find TensorRT\n"
     ]
    }
   ],
   "source": [
    "from constants import TRAIN_CNN_FLUXES_PATH, \\\n",
    "                      TRAIN_CNN_AMP_PHASE_PATH, \\\n",
    "                      VALIDATION_CNN_FLUXES_PATH, \\\n",
    "                      VALIDATION_CNN_AMP_PHASE_PATH\n",
    "\n",
    "from data_utils import load_numpy_data\n",
    "\n",
    "from plot_utils import plot_map, \\\n",
    "                       plot_model_history, \\\n",
    "                       plot_fully_connected_amp_phase_prediction, \\\n",
    "                       plot_conv_amp_phase_prediction\n",
    "\n",
    "from modeling_utils import create_fully_connected_architecture_for_amplitude_and_phase_reconstruction, \\\n",
    "                           create_convolutional_architecture_for_amplitude_and_phase_reconstruction, \\\n",
    "                           compile_model, \\\n",
    "                           train_model_with_generator, \\\n",
    "                           store_model\n",
    "\n",
    "from configurations import SimpleConvolutional as ModelConfiguration"
   ]
  },
  {
   "cell_type": "markdown",
   "id": "fe49c6dd",
   "metadata": {},
   "source": [
    "## Load data"
   ]
  },
  {
   "cell_type": "markdown",
   "id": "c72e529b",
   "metadata": {},
   "source": [
    "In the first place, define the data paths"
   ]
  },
  {
   "cell_type": "code",
   "execution_count": 2,
   "id": "b8f359c9-f659-4dee-b58c-62623b290172",
   "metadata": {},
   "outputs": [],
   "source": [
    "validation_fluxes_array = load_numpy_data(VALIDATION_CNN_FLUXES_PATH)\n",
    "validation_amp_phase_array = load_numpy_data(VALIDATION_CNN_AMP_PHASE_PATH)"
   ]
  },
  {
   "cell_type": "markdown",
   "id": "77fb5607",
   "metadata": {},
   "source": [
    "## CONVOLUTIONAL MODEL"
   ]
  },
  {
   "cell_type": "code",
   "execution_count": 3,
   "id": "a748321b",
   "metadata": {},
   "outputs": [
    {
     "name": "stdout",
     "output_type": "stream",
     "text": [
      "\n",
      "\t=== SimpleConvolutional ===\n",
      "\t*ARCHITECTURE HYPERPARAMETERS:\n",
      "\t\t-Convolutional\n",
      "\t\t-Input shape: (55, 24, 1)\n",
      "\t\t-Output shape: (2, 96, 96)\n",
      "\t\t-Convolutional Layers: [1024, 512, 256, 1024]\n",
      "\t\t-Convolutonal Kernels: [(3, 1), (3, 1), (3, 1), (3, 1)]\n",
      "\t\t-Fully Connected Hidden layers: [1024, 2048, 2048, 2048]\n",
      "\t\t-Regularizer: None\n",
      "\t\t-Convolutional Activation: relu\n",
      "\t\t-Hidden Layers Activation: relu\n",
      "\t\t-Output Layer Activation: linear\n",
      "\t\t-Batch Normalization: True\n",
      "\t\n",
      "\t*COMPILATION HYPERPARAMETERS:\n",
      "\t\t-Optimizer: ADAM lr=0.0001, beta_1=0.9, beta_2=0.999\n",
      "\t\t-Loss Function: MSE\n",
      "\t\t-Metric: MSE\n",
      "\t\n",
      "\t* TRAINING HYPERPARAMETERS:\n",
      "\t\t-Epochs: 200\n",
      "\t\t-Batch size: 32\n",
      "\t\t-Callbacks:\n",
      "\t\t\t-ReduceLROnPlateau: MSE 15 x0.1\n",
      "\t\t\t-Early Stop: MSE 50\n",
      "\t\n"
     ]
    },
    {
     "name": "stderr",
     "output_type": "stream",
     "text": [
      "2023-12-18 09:36:06.506096: I external/local_xla/xla/stream_executor/cuda/cuda_executor.cc:901] successful NUMA node read from SysFS had negative value (-1), but there must be at least one NUMA node, so returning NUMA node zero. See more at https://github.com/torvalds/linux/blob/v6.0/Documentation/ABI/testing/sysfs-bus-pci#L344-L355\n",
      "2023-12-18 09:36:06.528538: I external/local_xla/xla/stream_executor/cuda/cuda_executor.cc:901] successful NUMA node read from SysFS had negative value (-1), but there must be at least one NUMA node, so returning NUMA node zero. See more at https://github.com/torvalds/linux/blob/v6.0/Documentation/ABI/testing/sysfs-bus-pci#L344-L355\n",
      "2023-12-18 09:36:06.528667: I external/local_xla/xla/stream_executor/cuda/cuda_executor.cc:901] successful NUMA node read from SysFS had negative value (-1), but there must be at least one NUMA node, so returning NUMA node zero. See more at https://github.com/torvalds/linux/blob/v6.0/Documentation/ABI/testing/sysfs-bus-pci#L344-L355\n",
      "2023-12-18 09:36:06.531075: I external/local_xla/xla/stream_executor/cuda/cuda_executor.cc:901] successful NUMA node read from SysFS had negative value (-1), but there must be at least one NUMA node, so returning NUMA node zero. See more at https://github.com/torvalds/linux/blob/v6.0/Documentation/ABI/testing/sysfs-bus-pci#L344-L355\n",
      "2023-12-18 09:36:06.531283: I external/local_xla/xla/stream_executor/cuda/cuda_executor.cc:901] successful NUMA node read from SysFS had negative value (-1), but there must be at least one NUMA node, so returning NUMA node zero. See more at https://github.com/torvalds/linux/blob/v6.0/Documentation/ABI/testing/sysfs-bus-pci#L344-L355\n",
      "2023-12-18 09:36:06.531441: I external/local_xla/xla/stream_executor/cuda/cuda_executor.cc:901] successful NUMA node read from SysFS had negative value (-1), but there must be at least one NUMA node, so returning NUMA node zero. See more at https://github.com/torvalds/linux/blob/v6.0/Documentation/ABI/testing/sysfs-bus-pci#L344-L355\n",
      "2023-12-18 09:36:06.591562: I external/local_xla/xla/stream_executor/cuda/cuda_executor.cc:901] successful NUMA node read from SysFS had negative value (-1), but there must be at least one NUMA node, so returning NUMA node zero. See more at https://github.com/torvalds/linux/blob/v6.0/Documentation/ABI/testing/sysfs-bus-pci#L344-L355\n",
      "2023-12-18 09:36:06.591702: I external/local_xla/xla/stream_executor/cuda/cuda_executor.cc:901] successful NUMA node read from SysFS had negative value (-1), but there must be at least one NUMA node, so returning NUMA node zero. See more at https://github.com/torvalds/linux/blob/v6.0/Documentation/ABI/testing/sysfs-bus-pci#L344-L355\n",
      "2023-12-18 09:36:06.591804: I external/local_xla/xla/stream_executor/cuda/cuda_executor.cc:901] successful NUMA node read from SysFS had negative value (-1), but there must be at least one NUMA node, so returning NUMA node zero. See more at https://github.com/torvalds/linux/blob/v6.0/Documentation/ABI/testing/sysfs-bus-pci#L344-L355\n",
      "2023-12-18 09:36:06.591867: I tensorflow/core/common_runtime/gpu/gpu_device.cc:1929] Created device /job:localhost/replica:0/task:0/device:GPU:0 with 6263 MB memory:  -> device: 0, name: NVIDIA GeForce RTX 4070 Laptop GPU, pci bus id: 0000:01:00.0, compute capability: 8.9\n"
     ]
    }
   ],
   "source": [
    "model_configuration = ModelConfiguration()\n",
    "print(model_configuration.get_description())"
   ]
  },
  {
   "cell_type": "code",
   "execution_count": 4,
   "id": "7f2cd57a",
   "metadata": {},
   "outputs": [
    {
     "name": "stdout",
     "output_type": "stream",
     "text": [
      "Model: \"SimpleConvolutional\"\n",
      "_________________________________________________________________\n",
      " Layer (type)                Output Shape              Param #   \n",
      "=================================================================\n",
      " conv2d (Conv2D)             (None, 53, 24, 1024)      4096      \n",
      "                                                                 \n",
      " max_pooling2d (MaxPooling2  (None, 26, 12, 1024)      0         \n",
      " D)                                                              \n",
      "                                                                 \n",
      " conv2d_1 (Conv2D)           (None, 24, 12, 512)       1573376   \n",
      "                                                                 \n",
      " max_pooling2d_1 (MaxPoolin  (None, 12, 6, 512)        0         \n",
      " g2D)                                                            \n",
      "                                                                 \n",
      " conv2d_2 (Conv2D)           (None, 10, 6, 256)        393472    \n",
      "                                                                 \n",
      " conv2d_3 (Conv2D)           (None, 8, 6, 1024)        787456    \n",
      "                                                                 \n",
      " max_pooling2d_2 (MaxPoolin  (None, 4, 3, 1024)        0         \n",
      " g2D)                                                            \n",
      "                                                                 \n",
      " flatten (Flatten)           (None, 12288)             0         \n",
      "                                                                 \n",
      " dense (Dense)               (None, 1024)              12582912  \n",
      "                                                                 \n",
      " batch_normalization (Batch  (None, 1024)              4096      \n",
      " Normalization)                                                  \n",
      "                                                                 \n",
      " activation (Activation)     (None, 1024)              0         \n",
      "                                                                 \n",
      " dense_1 (Dense)             (None, 2048)              2097152   \n",
      "                                                                 \n",
      " batch_normalization_1 (Bat  (None, 2048)              8192      \n",
      " chNormalization)                                                \n",
      "                                                                 \n",
      " activation_1 (Activation)   (None, 2048)              0         \n",
      "                                                                 \n",
      " dense_2 (Dense)             (None, 2048)              4194304   \n",
      "                                                                 \n",
      " batch_normalization_2 (Bat  (None, 2048)              8192      \n",
      " chNormalization)                                                \n",
      "                                                                 \n",
      " activation_2 (Activation)   (None, 2048)              0         \n",
      "                                                                 \n",
      " dense_3 (Dense)             (None, 2048)              4194304   \n",
      "                                                                 \n",
      " batch_normalization_3 (Bat  (None, 2048)              8192      \n",
      " chNormalization)                                                \n",
      "                                                                 \n",
      " activation_3 (Activation)   (None, 2048)              0         \n",
      "                                                                 \n",
      " dense_4 (Dense)             (None, 18432)             37767168  \n",
      "                                                                 \n",
      " reshape (Reshape)           (None, 2, 96, 96)         0         \n",
      "                                                                 \n",
      "=================================================================\n",
      "Total params: 63622912 (242.70 MB)\n",
      "Trainable params: 63608576 (242.65 MB)\n",
      "Non-trainable params: 14336 (56.00 KB)\n",
      "_________________________________________________________________\n"
     ]
    }
   ],
   "source": [
    "model = create_convolutional_architecture_for_amplitude_and_phase_reconstruction(\n",
    "    *model_configuration.unpack_architecture_hyperparameters()\n",
    ")\n"
   ]
  },
  {
   "cell_type": "code",
   "execution_count": 5,
   "id": "55f44e73-06be-4879-a855-ea659edbe048",
   "metadata": {},
   "outputs": [
    {
     "data": {
      "text/plain": [
       "(10000, 55, 24)"
      ]
     },
     "execution_count": 5,
     "metadata": {},
     "output_type": "execute_result"
    }
   ],
   "source": [
    "validation_fluxes_array.shape"
   ]
  },
  {
   "cell_type": "code",
   "execution_count": 6,
   "id": "7a6f74cc-a1b7-4c64-a8fb-679e969f9394",
   "metadata": {},
   "outputs": [
    {
     "data": {
      "text/plain": [
       "(10000, 2, 96, 96)"
      ]
     },
     "execution_count": 6,
     "metadata": {},
     "output_type": "execute_result"
    }
   ],
   "source": [
    "validation_amp_phase_array.shape"
   ]
  },
  {
   "cell_type": "code",
   "execution_count": 7,
   "id": "cc0f84b6-23ac-4ef9-8109-bce9c958aad2",
   "metadata": {},
   "outputs": [],
   "source": [
    "compile_model(\n",
    "    model,\n",
    "    *model_configuration.unpack_compilation_hyperparameters()\n",
    ")"
   ]
  },
  {
   "cell_type": "code",
   "execution_count": 8,
   "id": "35f3a560",
   "metadata": {},
   "outputs": [
    {
     "name": "stderr",
     "output_type": "stream",
     "text": [
      "/home/dani/DaniProjects/SAIL/PhotonicLanternProjects/PLImageReconstruction/Utils/modeling_utils.py:533: UserWarning: `Model.fit_generator` is deprecated and will be removed in a future version. Please use `Model.fit`, which supports generators.\n",
      "  history = model.fit_generator(train_gen,\n"
     ]
    },
    {
     "name": "stdout",
     "output_type": "stream",
     "text": [
      "Epoch 1/200\n"
     ]
    },
    {
     "name": "stderr",
     "output_type": "stream",
     "text": [
      "2023-12-18 09:36:08.140863: I external/local_xla/xla/stream_executor/cuda/cuda_dnn.cc:454] Loaded cuDNN version 8904\n",
      "2023-12-18 09:36:08.204640: I external/local_tsl/tsl/platform/default/subprocess.cc:304] Start cannot spawn child process: No such file or directory\n",
      "2023-12-18 09:36:08.462437: I external/local_tsl/tsl/platform/default/subprocess.cc:304] Start cannot spawn child process: No such file or directory\n",
      "2023-12-18 09:36:09.275296: I external/local_xla/xla/service/service.cc:168] XLA service 0x98cf600 initialized for platform CUDA (this does not guarantee that XLA will be used). Devices:\n",
      "2023-12-18 09:36:09.275311: I external/local_xla/xla/service/service.cc:176]   StreamExecutor device (0): NVIDIA GeForce RTX 4070 Laptop GPU, Compute Capability 8.9\n",
      "2023-12-18 09:36:09.279879: I tensorflow/compiler/mlir/tensorflow/utils/dump_mlir_util.cc:269] disabling MLIR crash reproducer, set env var `MLIR_CRASH_REPRODUCER_DIRECTORY` to enable.\n",
      "WARNING: All log messages before absl::InitializeLog() is called are written to STDERR\n",
      "I0000 00:00:1702852569.347746   10310 device_compiler.h:186] Compiled cluster using XLA!  This line is logged at most once for the lifetime of the process.\n"
     ]
    },
    {
     "name": "stdout",
     "output_type": "stream",
     "text": [
      "2188/2188 [==============================] - 120s 53ms/step - loss: 0.6340 - mean_squared_error: 0.6340 - val_loss: 0.6302 - val_mean_squared_error: 0.6302 - lr: 1.0000e-04\n",
      "Epoch 2/200\n",
      "2188/2188 [==============================] - 113s 52ms/step - loss: 0.6301 - mean_squared_error: 0.6301 - val_loss: 0.6266 - val_mean_squared_error: 0.6266 - lr: 1.0000e-04\n",
      "Epoch 3/200\n",
      "2188/2188 [==============================] - 113s 52ms/step - loss: 0.6285 - mean_squared_error: 0.6285 - val_loss: 0.6262 - val_mean_squared_error: 0.6262 - lr: 1.0000e-04\n",
      "Epoch 4/200\n",
      "2188/2188 [==============================] - 112s 51ms/step - loss: 0.6277 - mean_squared_error: 0.6277 - val_loss: 0.6253 - val_mean_squared_error: 0.6253 - lr: 1.0000e-04\n",
      "Epoch 5/200\n",
      "2188/2188 [==============================] - 179s 82ms/step - loss: 0.6272 - mean_squared_error: 0.6272 - val_loss: 0.6252 - val_mean_squared_error: 0.6252 - lr: 1.0000e-04\n",
      "Epoch 6/200\n",
      "2188/2188 [==============================] - 1014s 463ms/step - loss: 0.6268 - mean_squared_error: 0.6268 - val_loss: 0.6242 - val_mean_squared_error: 0.6242 - lr: 1.0000e-04\n",
      "Epoch 7/200\n",
      "2188/2188 [==============================] - 90s 41ms/step - loss: 0.6266 - mean_squared_error: 0.6266 - val_loss: 0.6244 - val_mean_squared_error: 0.6244 - lr: 1.0000e-04\n",
      "Epoch 8/200\n",
      "2188/2188 [==============================] - 90s 41ms/step - loss: 0.6263 - mean_squared_error: 0.6263 - val_loss: 0.6245 - val_mean_squared_error: 0.6245 - lr: 1.0000e-04\n",
      "Epoch 9/200\n",
      "2188/2188 [==============================] - 89s 41ms/step - loss: 0.6262 - mean_squared_error: 0.6262 - val_loss: 0.6244 - val_mean_squared_error: 0.6244 - lr: 1.0000e-04\n",
      "Epoch 10/200\n",
      "2188/2188 [==============================] - 90s 41ms/step - loss: 0.6261 - mean_squared_error: 0.6261 - val_loss: 0.6240 - val_mean_squared_error: 0.6240 - lr: 1.0000e-04\n",
      "Epoch 11/200\n",
      "2188/2188 [==============================] - 89s 41ms/step - loss: 0.6260 - mean_squared_error: 0.6260 - val_loss: 0.6277 - val_mean_squared_error: 0.6277 - lr: 1.0000e-04\n",
      "Epoch 12/200\n",
      "2188/2188 [==============================] - 90s 41ms/step - loss: 0.6261 - mean_squared_error: 0.6261 - val_loss: 0.6262 - val_mean_squared_error: 0.6262 - lr: 1.0000e-04\n",
      "Epoch 13/200\n",
      "2188/2188 [==============================] - 89s 41ms/step - loss: 0.6260 - mean_squared_error: 0.6260 - val_loss: 0.6245 - val_mean_squared_error: 0.6245 - lr: 1.0000e-04\n",
      "Epoch 14/200\n",
      "2188/2188 [==============================] - 88s 40ms/step - loss: 0.6259 - mean_squared_error: 0.6259 - val_loss: 0.6259 - val_mean_squared_error: 0.6259 - lr: 1.0000e-04\n",
      "Epoch 15/200\n",
      "2188/2188 [==============================] - 89s 41ms/step - loss: 0.6259 - mean_squared_error: 0.6259 - val_loss: 0.6254 - val_mean_squared_error: 0.6254 - lr: 1.0000e-04\n",
      "Epoch 16/200\n",
      "2188/2188 [==============================] - 89s 41ms/step - loss: 0.6258 - mean_squared_error: 0.6258 - val_loss: 0.6242 - val_mean_squared_error: 0.6242 - lr: 1.0000e-04\n",
      "Epoch 17/200\n",
      "2188/2188 [==============================] - 89s 41ms/step - loss: 0.6258 - mean_squared_error: 0.6258 - val_loss: 0.6280 - val_mean_squared_error: 0.6280 - lr: 1.0000e-04\n",
      "Epoch 18/200\n",
      "2188/2188 [==============================] - 89s 41ms/step - loss: 0.6258 - mean_squared_error: 0.6258 - val_loss: 0.6306 - val_mean_squared_error: 0.6306 - lr: 1.0000e-04\n",
      "Epoch 19/200\n",
      "2188/2188 [==============================] - 89s 41ms/step - loss: 0.6257 - mean_squared_error: 0.6257 - val_loss: 0.6244 - val_mean_squared_error: 0.6244 - lr: 1.0000e-04\n",
      "Epoch 20/200\n",
      "2188/2188 [==============================] - 89s 41ms/step - loss: 0.6258 - mean_squared_error: 0.6258 - val_loss: 0.6290 - val_mean_squared_error: 0.6290 - lr: 1.0000e-04\n",
      "Epoch 21/200\n",
      "2188/2188 [==============================] - 89s 41ms/step - loss: 0.6259 - mean_squared_error: 0.6259 - val_loss: 0.6245 - val_mean_squared_error: 0.6245 - lr: 1.0000e-04\n",
      "Epoch 22/200\n",
      "2188/2188 [==============================] - 89s 41ms/step - loss: 0.6258 - mean_squared_error: 0.6258 - val_loss: 0.6441 - val_mean_squared_error: 0.6441 - lr: 1.0000e-04\n",
      "Epoch 23/200\n",
      "2188/2188 [==============================] - 89s 41ms/step - loss: 0.6255 - mean_squared_error: 0.6255 - val_loss: 0.6416 - val_mean_squared_error: 0.6416 - lr: 1.0000e-04\n",
      "Epoch 24/200\n",
      "2188/2188 [==============================] - 89s 41ms/step - loss: 0.6258 - mean_squared_error: 0.6258 - val_loss: 0.6333 - val_mean_squared_error: 0.6333 - lr: 1.0000e-04\n",
      "Epoch 25/200\n",
      "2187/2188 [============================>.] - ETA: 0s - loss: 0.6256 - mean_squared_error: 0.6256\n",
      "Epoch 25: ReduceLROnPlateau reducing learning rate to 9.999999747378752e-06.\n",
      "2188/2188 [==============================] - 89s 41ms/step - loss: 0.6256 - mean_squared_error: 0.6256 - val_loss: 0.6355 - val_mean_squared_error: 0.6355 - lr: 1.0000e-04\n",
      "Epoch 26/200\n",
      "2188/2188 [==============================] - 89s 41ms/step - loss: 0.6255 - mean_squared_error: 0.6255 - val_loss: 0.6381 - val_mean_squared_error: 0.6381 - lr: 1.0000e-05\n",
      "Epoch 27/200\n",
      "2188/2188 [==============================] - 89s 41ms/step - loss: 0.6254 - mean_squared_error: 0.6254 - val_loss: 0.6355 - val_mean_squared_error: 0.6355 - lr: 1.0000e-05\n",
      "Epoch 28/200\n",
      "2188/2188 [==============================] - 89s 41ms/step - loss: 0.6253 - mean_squared_error: 0.6253 - val_loss: 0.6317 - val_mean_squared_error: 0.6317 - lr: 1.0000e-05\n",
      "Epoch 29/200\n",
      "2188/2188 [==============================] - 89s 41ms/step - loss: 0.6252 - mean_squared_error: 0.6252 - val_loss: 0.6317 - val_mean_squared_error: 0.6317 - lr: 1.0000e-05\n",
      "Epoch 30/200\n",
      "2188/2188 [==============================] - 88s 40ms/step - loss: 0.6254 - mean_squared_error: 0.6254 - val_loss: 0.6373 - val_mean_squared_error: 0.6373 - lr: 1.0000e-05\n",
      "Epoch 31/200\n",
      "2188/2188 [==============================] - 88s 40ms/step - loss: 0.6253 - mean_squared_error: 0.6253 - val_loss: 0.6331 - val_mean_squared_error: 0.6331 - lr: 1.0000e-05\n",
      "Epoch 32/200\n",
      "2188/2188 [==============================] - 89s 41ms/step - loss: 0.6255 - mean_squared_error: 0.6255 - val_loss: 0.6333 - val_mean_squared_error: 0.6333 - lr: 1.0000e-05\n",
      "Epoch 33/200\n",
      "2188/2188 [==============================] - 88s 40ms/step - loss: 0.6254 - mean_squared_error: 0.6254 - val_loss: 0.6315 - val_mean_squared_error: 0.6315 - lr: 1.0000e-05\n",
      "Epoch 34/200\n",
      "2188/2188 [==============================] - 89s 41ms/step - loss: 0.6253 - mean_squared_error: 0.6253 - val_loss: 0.6347 - val_mean_squared_error: 0.6347 - lr: 1.0000e-05\n",
      "Epoch 35/200\n",
      "2188/2188 [==============================] - 89s 41ms/step - loss: 0.6253 - mean_squared_error: 0.6253 - val_loss: 0.6338 - val_mean_squared_error: 0.6338 - lr: 1.0000e-05\n",
      "Epoch 36/200\n",
      "2188/2188 [==============================] - 88s 40ms/step - loss: 0.6253 - mean_squared_error: 0.6253 - val_loss: 0.6319 - val_mean_squared_error: 0.6319 - lr: 1.0000e-05\n",
      "Epoch 37/200\n",
      "2188/2188 [==============================] - 88s 40ms/step - loss: 0.6255 - mean_squared_error: 0.6255 - val_loss: 0.6368 - val_mean_squared_error: 0.6368 - lr: 1.0000e-05\n",
      "Epoch 38/200\n",
      "2188/2188 [==============================] - 88s 40ms/step - loss: 0.6252 - mean_squared_error: 0.6252 - val_loss: 0.6383 - val_mean_squared_error: 0.6383 - lr: 1.0000e-05\n",
      "Epoch 39/200\n",
      "2188/2188 [==============================] - 88s 40ms/step - loss: 0.6253 - mean_squared_error: 0.6253 - val_loss: 0.6336 - val_mean_squared_error: 0.6336 - lr: 1.0000e-05\n",
      "Epoch 40/200\n",
      "2188/2188 [==============================] - ETA: 0s - loss: 0.6254 - mean_squared_error: 0.6254\n",
      "Epoch 40: ReduceLROnPlateau reducing learning rate to 9.999999747378752e-07.\n",
      "2188/2188 [==============================] - 88s 40ms/step - loss: 0.6254 - mean_squared_error: 0.6254 - val_loss: 0.6376 - val_mean_squared_error: 0.6376 - lr: 1.0000e-05\n",
      "Epoch 41/200\n",
      "2188/2188 [==============================] - 88s 40ms/step - loss: 0.6253 - mean_squared_error: 0.6253 - val_loss: 0.6372 - val_mean_squared_error: 0.6372 - lr: 1.0000e-06\n",
      "Epoch 42/200\n",
      "2188/2188 [==============================] - 88s 40ms/step - loss: 0.6252 - mean_squared_error: 0.6252 - val_loss: 0.6353 - val_mean_squared_error: 0.6353 - lr: 1.0000e-06\n",
      "Epoch 43/200\n",
      "2188/2188 [==============================] - 89s 41ms/step - loss: 0.6250 - mean_squared_error: 0.6250 - val_loss: 0.6340 - val_mean_squared_error: 0.6340 - lr: 1.0000e-06\n",
      "Epoch 44/200\n",
      "2188/2188 [==============================] - 89s 41ms/step - loss: 0.6256 - mean_squared_error: 0.6256 - val_loss: 0.6343 - val_mean_squared_error: 0.6343 - lr: 1.0000e-06\n",
      "Epoch 45/200\n",
      "2188/2188 [==============================] - 88s 40ms/step - loss: 0.6252 - mean_squared_error: 0.6252 - val_loss: 0.6339 - val_mean_squared_error: 0.6339 - lr: 1.0000e-06\n",
      "Epoch 46/200\n",
      "2188/2188 [==============================] - 88s 40ms/step - loss: 0.6253 - mean_squared_error: 0.6253 - val_loss: 0.6332 - val_mean_squared_error: 0.6332 - lr: 1.0000e-06\n",
      "Epoch 47/200\n",
      "2188/2188 [==============================] - 88s 40ms/step - loss: 0.6253 - mean_squared_error: 0.6253 - val_loss: 0.6331 - val_mean_squared_error: 0.6331 - lr: 1.0000e-06\n",
      "Epoch 48/200\n",
      "2188/2188 [==============================] - 88s 40ms/step - loss: 0.6252 - mean_squared_error: 0.6252 - val_loss: 0.6331 - val_mean_squared_error: 0.6331 - lr: 1.0000e-06\n",
      "Epoch 49/200\n",
      "2188/2188 [==============================] - 88s 40ms/step - loss: 0.6254 - mean_squared_error: 0.6254 - val_loss: 0.6325 - val_mean_squared_error: 0.6325 - lr: 1.0000e-06\n",
      "Epoch 50/200\n",
      "2188/2188 [==============================] - 88s 40ms/step - loss: 0.6252 - mean_squared_error: 0.6252 - val_loss: 0.6320 - val_mean_squared_error: 0.6320 - lr: 1.0000e-06\n",
      "Epoch 51/200\n",
      "2188/2188 [==============================] - 88s 40ms/step - loss: 0.6254 - mean_squared_error: 0.6254 - val_loss: 0.6319 - val_mean_squared_error: 0.6319 - lr: 1.0000e-06\n",
      "Epoch 52/200\n",
      "2188/2188 [==============================] - 88s 40ms/step - loss: 0.6252 - mean_squared_error: 0.6252 - val_loss: 0.6317 - val_mean_squared_error: 0.6317 - lr: 1.0000e-06\n",
      "Epoch 53/200\n",
      "2188/2188 [==============================] - 88s 40ms/step - loss: 0.6254 - mean_squared_error: 0.6254 - val_loss: 0.6311 - val_mean_squared_error: 0.6311 - lr: 1.0000e-06\n",
      "Epoch 54/200\n",
      "2188/2188 [==============================] - 88s 40ms/step - loss: 0.6251 - mean_squared_error: 0.6251 - val_loss: 0.6309 - val_mean_squared_error: 0.6309 - lr: 1.0000e-06\n",
      "Epoch 55/200\n",
      "2188/2188 [==============================] - ETA: 0s - loss: 0.6254 - mean_squared_error: 0.6254\n",
      "Epoch 55: ReduceLROnPlateau reducing learning rate to 9.999999974752428e-08.\n",
      "2188/2188 [==============================] - 88s 40ms/step - loss: 0.6254 - mean_squared_error: 0.6254 - val_loss: 0.6310 - val_mean_squared_error: 0.6310 - lr: 1.0000e-06\n",
      "Epoch 56/200\n",
      "2188/2188 [==============================] - 88s 40ms/step - loss: 0.6251 - mean_squared_error: 0.6251 - val_loss: 0.6301 - val_mean_squared_error: 0.6301 - lr: 1.0000e-07\n",
      "Epoch 57/200\n",
      "2188/2188 [==============================] - 88s 40ms/step - loss: 0.6254 - mean_squared_error: 0.6254 - val_loss: 0.6301 - val_mean_squared_error: 0.6301 - lr: 1.0000e-07\n",
      "Epoch 58/200\n",
      "2188/2188 [==============================] - 88s 40ms/step - loss: 0.6250 - mean_squared_error: 0.6250 - val_loss: 0.6301 - val_mean_squared_error: 0.6301 - lr: 1.0000e-07\n",
      "Epoch 59/200\n",
      "2188/2188 [==============================] - 88s 40ms/step - loss: 0.6255 - mean_squared_error: 0.6255 - val_loss: 0.6300 - val_mean_squared_error: 0.6300 - lr: 1.0000e-07\n",
      "Epoch 60/200\n",
      "2188/2188 [==============================] - 88s 40ms/step - loss: 0.6253 - mean_squared_error: 0.6253 - val_loss: 0.6292 - val_mean_squared_error: 0.6292 - lr: 1.0000e-07\n",
      "Epoch 60: early stopping\n"
     ]
    }
   ],
   "source": [
    "history = train_model_with_generator(\n",
    "    model,\n",
    "    TRAIN_CNN_FLUXES_PATH,\n",
    "    TRAIN_CNN_AMP_PHASE_PATH,\n",
    "    validation_fluxes_array,\n",
    "    validation_amp_phase_array,\n",
    "    *model_configuration.unpack_training_hyperparameters()\n",
    ")"
   ]
  },
  {
   "cell_type": "code",
   "execution_count": 9,
   "id": "4c3826f2",
   "metadata": {},
   "outputs": [
    {
     "data": {
      "image/png": "[encoded data removed]",
      "text/plain": [
       "<Figure size 800x500 with 1 Axes>"
      ]
     },
     "metadata": {},
     "output_type": "display_data"
    }
   ],
   "source": [
    "plot_model_history(history)"
   ]
  },
  {
   "cell_type": "code",
   "execution_count": 10,
   "id": "b83d62c1",
   "metadata": {},
   "outputs": [
    {
     "ename": "NameError",
     "evalue": "name 'val_fluxes_array' is not defined",
     "output_type": "error",
     "traceback": [
      "\u001b[0;31m---------------------------------------------------------------------------\u001b[0m",
      "\u001b[0;31mNameError\u001b[0m                                 Traceback (most recent call last)",
      "Cell \u001b[0;32mIn[10], line 4\u001b[0m\n\u001b[1;32m      1\u001b[0m n \u001b[38;5;241m=\u001b[39m \u001b[38;5;241m106\u001b[39m\n\u001b[1;32m      2\u001b[0m plot_conv_amp_phase_prediction(\n\u001b[1;32m      3\u001b[0m     model,\n\u001b[0;32m----> 4\u001b[0m     \u001b[43mval_fluxes_array\u001b[49m[n],\n\u001b[1;32m      5\u001b[0m     val_amp_phase_array[n][\u001b[38;5;241m0\u001b[39m],\n\u001b[1;32m      6\u001b[0m     val_amp_phase_array[n][\u001b[38;5;241m1\u001b[39m]\n\u001b[1;32m      7\u001b[0m     )\n",
      "\u001b[0;31mNameError\u001b[0m: name 'val_fluxes_array' is not defined"
     ]
    }
   ],
   "source": [
    "n = 106\n",
    "plot_conv_amp_phase_prediction(\n",
    "    model,\n",
    "    val_fluxes_array[n],\n",
    "    val_amp_phase_array[n][0],\n",
    "    val_amp_phase_array[n][1]\n",
    "    )"
   ]
  },
  {
   "cell_type": "code",
   "execution_count": null,
   "id": "71ba25ab",
   "metadata": {},
   "outputs": [],
   "source": [
    "n = 106\n",
    "plot_conv_amp_phase_prediction(\n",
    "    model,\n",
    "    train_fluxes_array[n],\n",
    "    train_amp_phase_array[n][0],\n",
    "    train_amp_phase_array[n][1]\n",
    "    )"
   ]
  },
  {
   "cell_type": "code",
   "execution_count": null,
   "id": "e46bcc01-aaa1-4df2-beba-1289e7825cbb",
   "metadata": {},
   "outputs": [],
   "source": [
    "store_model(model,\n",
    "            model.name,\n",
    "            model_configuration.get_description())"
   ]
  }
 ],
 "metadata": {
  "kernelspec": {
   "display_name": "Python 3 (ipykernel)",
   "language": "python",
   "name": "python3"
  },
  "language_info": {
   "codemirror_mode": {
    "name": "ipython",
    "version": 3
   },
   "file_extension": ".py",
   "mimetype": "text/x-python",
   "name": "python",
   "nbconvert_exporter": "python",
   "pygments_lexer": "ipython3",
   "version": "3.9.18"
  }
 },
 "nbformat": 4,
 "nbformat_minor": 5
}
