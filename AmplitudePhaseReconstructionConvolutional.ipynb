{
 "cells": [
  {
   "cell_type": "markdown",
   "id": "6c6f3390",
   "metadata": {},
   "source": [
    "## Imports"
   ]
  },
  {
   "cell_type": "code",
   "execution_count": 1,
   "id": "b7e12292",
   "metadata": {},
   "outputs": [
    {
     "name": "stderr",
     "output_type": "stream",
     "text": [
      "2023-11-29 13:19:50.405146: I tensorflow/core/platform/cpu_feature_guard.cc:182] This TensorFlow binary is optimized to use available CPU instructions in performance-critical operations.\n",
      "To enable the following instructions: AVX2 FMA, in other operations, rebuild TensorFlow with the appropriate compiler flags.\n",
      "2023-11-29 13:19:51.092366: W tensorflow/compiler/tf2tensorrt/utils/py_utils.cc:38] TF-TRT Warning: Could not find TensorRT\n"
     ]
    }
   ],
   "source": [
    "from constants import FLUXES_FOLDER, SLM_FOLDER\n",
    "\n",
    "from data_utils import process_amp_phase_data\n",
    "\n",
    "from plot_utils import plot_map, \\\n",
    "                       plot_model_history, \\\n",
    "                       plot_fully_connected_amp_phase_prediction, \\\n",
    "                       plot_conv_amp_phase_prediction\n",
    "\n",
    "from modeling_utils import create_fully_connected_architecture_for_amplitude_and_phase_reconstruction, \\\n",
    "                           create_convolutional_architecture_for_amplitude_and_phase_reconstruction, \\\n",
    "                           compile_model, \\\n",
    "                           train_model\n",
    "\n",
    "from configurations import FirstWorkingModel"
   ]
  },
  {
   "cell_type": "markdown",
   "id": "fe49c6dd",
   "metadata": {},
   "source": [
    "## Load data"
   ]
  },
  {
   "cell_type": "markdown",
   "id": "c72e529b",
   "metadata": {},
   "source": [
    "In the first place, define the data paths"
   ]
  },
  {
   "cell_type": "code",
   "execution_count": 2,
   "id": "52991673",
   "metadata": {},
   "outputs": [],
   "source": [
    "fluxes_filename = \"all_fluxes.npy\"\n",
    "amplitudes_filename = \"complexsine_pupamp.npy\"\n",
    "phases_filename = \"complexsine_pupphase.npy\"\n",
    "\n",
    "fluxes_path = f\"{FLUXES_FOLDER}/{fluxes_filename}\"\n",
    "amplitudes_path = f\"{SLM_FOLDER}/{amplitudes_filename}\"\n",
    "phases_path = f\"{SLM_FOLDER}/{phases_filename}\""
   ]
  },
  {
   "cell_type": "code",
   "execution_count": 3,
   "id": "6ebc67b0",
   "metadata": {},
   "outputs": [],
   "source": [
    "train_fluxes_array, val_fluxes_array, train_amp_phase_array, val_amp_phase_array, scalers = \\\n",
    "    process_amp_phase_data(\n",
    "        fluxes_path,\n",
    "        amplitudes_path,\n",
    "        phases_path,\n",
    "        n_points=10000,\n",
    "        normalize_flux=True,\n",
    "        normalize_amplitude=True,\n",
    "        shuffle=False,\n",
    "        flatten_fluxes=False,\n",
    "        split=True,\n",
    "        val_ratio=0.1\n",
    "    )"
   ]
  },
  {
   "cell_type": "markdown",
   "id": "77fb5607",
   "metadata": {},
   "source": [
    "## CONVOLUTIONAL MODEL"
   ]
  },
  {
   "cell_type": "code",
   "execution_count": 4,
   "id": "a748321b",
   "metadata": {},
   "outputs": [
    {
     "ename": "NameError",
     "evalue": "name 'FirstConvolutionalModel' is not defined",
     "output_type": "error",
     "traceback": [
      "\u001b[0;31m---------------------------------------------------------------------------\u001b[0m",
      "\u001b[0;31mNameError\u001b[0m                                 Traceback (most recent call last)",
      "Cell \u001b[0;32mIn[4], line 1\u001b[0m\n\u001b[0;32m----> 1\u001b[0m model_configuration \u001b[38;5;241m=\u001b[39m \u001b[43mFirstConvolutionalModel\u001b[49m(train_fluxes_array,\n\u001b[1;32m      2\u001b[0m                           train_amp_phase_array)\n\u001b[1;32m      3\u001b[0m \u001b[38;5;28mprint\u001b[39m(model_configuration\u001b[38;5;241m.\u001b[39mget_description())\n",
      "\u001b[0;31mNameError\u001b[0m: name 'FirstConvolutionalModel' is not defined"
     ]
    }
   ],
   "source": [
    "model_configuration = FirstConvolutionalModelWithBN(train_fluxes_array,\n",
    "                          train_amp_phase_array)\n",
    "print(model_configuration.get_description())"
   ]
  },
  {
   "cell_type": "code",
   "execution_count": null,
   "id": "7f2cd57a",
   "metadata": {},
   "outputs": [],
   "source": [
    "model = create_convolutional_architecture_for_amplitude_and_phase_reconstruction(\n",
    "    *model_configuration.unpack_architecture_hyperparameters()\n",
    ")\n",
    "compile_model(\n",
    "    model,\n",
    "    *model_configuration.unpack_compilation_hyperparameters()\n",
    ")"
   ]
  },
  {
   "cell_type": "code",
   "execution_count": null,
   "id": "35f3a560",
   "metadata": {},
   "outputs": [],
   "source": [
    "history = train_model(\n",
    "    model,\n",
    "    train_fluxes_array,\n",
    "    train_amp_phase_array,\n",
    "    val_fluxes_array,\n",
    "    val_amp_phase_array,\n",
    "    *model_configuration.unpack_training_hyperparameters()\n",
    ")"
   ]
  },
  {
   "cell_type": "code",
   "execution_count": null,
   "id": "4c3826f2",
   "metadata": {},
   "outputs": [],
   "source": [
    "plot_model_history(history)"
   ]
  },
  {
   "cell_type": "code",
   "execution_count": null,
   "id": "b83d62c1",
   "metadata": {},
   "outputs": [],
   "source": [
    "n = 106\n",
    "plot_conv_amp_phase_prediction(\n",
    "    model,\n",
    "    val_fluxes_array[n],\n",
    "    val_amp_phase_array[n][0],\n",
    "    val_amp_phase_array[n][1]\n",
    "    )"
   ]
  },
  {
   "cell_type": "code",
   "execution_count": null,
   "id": "71ba25ab",
   "metadata": {},
   "outputs": [],
   "source": [
    "n = 106\n",
    "plot_conv_amp_phase_prediction(\n",
    "    model,\n",
    "    train_fluxes_array[n],\n",
    "    train_amp_phase_array[n][0],\n",
    "    train_amp_phase_array[n][1]\n",
    "    )"
   ]
  }
 ],
 "metadata": {
  "kernelspec": {
   "display_name": "Python 3 (ipykernel)",
   "language": "python",
   "name": "python3"
  },
  "language_info": {
   "codemirror_mode": {
    "name": "ipython",
    "version": 3
   },
   "file_extension": ".py",
   "mimetype": "text/x-python",
   "name": "python",
   "nbconvert_exporter": "python",
   "pygments_lexer": "ipython3",
   "version": "3.9.18"
  }
 },
 "nbformat": 4,
 "nbformat_minor": 5
}
