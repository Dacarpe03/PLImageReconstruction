{
 "cells": [
  {
   "cell_type": "markdown",
   "id": "6c6f3390",
   "metadata": {},
   "source": [
    "## Imports"
   ]
  },
  {
   "cell_type": "code",
   "execution_count": 1,
   "id": "b7e12292",
   "metadata": {},
   "outputs": [
    {
     "name": "stderr",
     "output_type": "stream",
     "text": [
      "2023-12-10 20:21:44.782932: I tensorflow/core/util/port.cc:113] oneDNN custom operations are on. You may see slightly different numerical results due to floating-point round-off errors from different computation orders. To turn them off, set the environment variable `TF_ENABLE_ONEDNN_OPTS=0`.\n",
      "2023-12-10 20:21:44.860271: E external/local_xla/xla/stream_executor/cuda/cuda_dnn.cc:9261] Unable to register cuDNN factory: Attempting to register factory for plugin cuDNN when one has already been registered\n",
      "2023-12-10 20:21:44.860295: E external/local_xla/xla/stream_executor/cuda/cuda_fft.cc:607] Unable to register cuFFT factory: Attempting to register factory for plugin cuFFT when one has already been registered\n",
      "2023-12-10 20:21:44.861823: E external/local_xla/xla/stream_executor/cuda/cuda_blas.cc:1515] Unable to register cuBLAS factory: Attempting to register factory for plugin cuBLAS when one has already been registered\n",
      "2023-12-10 20:21:44.885254: I tensorflow/core/platform/cpu_feature_guard.cc:182] This TensorFlow binary is optimized to use available CPU instructions in performance-critical operations.\n",
      "To enable the following instructions: AVX2 AVX_VNNI FMA, in other operations, rebuild TensorFlow with the appropriate compiler flags.\n",
      "2023-12-10 20:21:45.570318: W tensorflow/compiler/tf2tensorrt/utils/py_utils.cc:38] TF-TRT Warning: Could not find TensorRT\n"
     ]
    }
   ],
   "source": [
    "from constants import FLUXES_FOLDER, SLM_FOLDER\n",
    "\n",
    "from data_utils import process_amp_phase_data\n",
    "\n",
    "from plot_utils import plot_map, \\\n",
    "                       plot_model_history, \\\n",
    "                       plot_fully_connected_amp_phase_prediction, \\\n",
    "                       plot_conv_amp_phase_prediction\n",
    "\n",
    "from modeling_utils import create_fully_connected_architecture_for_amplitude_and_phase_reconstruction, \\\n",
    "                           create_convolutional_architecture_for_amplitude_and_phase_reconstruction, \\\n",
    "                           compile_model, \\\n",
    "                           train_model\n",
    "\n",
    "from configurations import SimpleConvolutional as ModelConfiguration"
   ]
  },
  {
   "cell_type": "markdown",
   "id": "fe49c6dd",
   "metadata": {},
   "source": [
    "## Load data"
   ]
  },
  {
   "cell_type": "markdown",
   "id": "c72e529b",
   "metadata": {},
   "source": [
    "In the first place, define the data paths"
   ]
  },
  {
   "cell_type": "code",
   "execution_count": 2,
   "id": "6ebc67b0",
   "metadata": {},
   "outputs": [],
   "source": [
    "train_fluxes_array, val_fluxes_array, train_amp_phase_array, val_amp_phase_array, scalers = \\\n",
    "    process_amp_phase_data(\n",
    "        n_points=30000,\n",
    "        normalize_flux=True,\n",
    "        normalize_amplitude=True,\n",
    "        shuffle=False,\n",
    "        flatten_fluxes=False,\n",
    "        split=True,\n",
    "        val_ratio=0.1\n",
    "    )"
   ]
  },
  {
   "cell_type": "code",
   "execution_count": 3,
   "id": "95f7f889-8eb3-4c44-a2a6-058ce1bcf6e6",
   "metadata": {},
   "outputs": [
    {
     "data": {
      "text/plain": [
       "(27000, 55, 24)"
      ]
     },
     "execution_count": 3,
     "metadata": {},
     "output_type": "execute_result"
    }
   ],
   "source": [
    "train_fluxes_array.shape"
   ]
  },
  {
   "cell_type": "code",
   "execution_count": 4,
   "id": "73558461-2447-4325-ab06-543104dfde3c",
   "metadata": {},
   "outputs": [
    {
     "data": {
      "text/plain": [
       "(3000, 55, 24)"
      ]
     },
     "execution_count": 4,
     "metadata": {},
     "output_type": "execute_result"
    }
   ],
   "source": [
    "val_fluxes_array.shape"
   ]
  },
  {
   "cell_type": "code",
   "execution_count": 5,
   "id": "bfc0514f-5d73-4ec9-8866-e50088d770aa",
   "metadata": {},
   "outputs": [
    {
     "data": {
      "text/plain": [
       "(27000, 2, 96, 96)"
      ]
     },
     "execution_count": 5,
     "metadata": {},
     "output_type": "execute_result"
    }
   ],
   "source": [
    "train_amp_phase_array.shape"
   ]
  },
  {
   "cell_type": "code",
   "execution_count": 6,
   "id": "4a4fae31-ccea-46be-af0d-7d40dfeb97ab",
   "metadata": {},
   "outputs": [
    {
     "data": {
      "text/plain": [
       "(3000, 2, 96, 96)"
      ]
     },
     "execution_count": 6,
     "metadata": {},
     "output_type": "execute_result"
    }
   ],
   "source": [
    "val_amp_phase_array.shape"
   ]
  },
  {
   "cell_type": "markdown",
   "id": "77fb5607",
   "metadata": {},
   "source": [
    "## CONVOLUTIONAL MODEL"
   ]
  },
  {
   "cell_type": "code",
   "execution_count": 7,
   "id": "a748321b",
   "metadata": {},
   "outputs": [
    {
     "name": "stdout",
     "output_type": "stream",
     "text": [
      "\n",
      "\t=== SimpleConvolutional ===\n",
      "\t*ARCHITECTURE HYPERPARAMETERS:\n",
      "\t\t-Convolutional\n",
      "\t\t-Input shape: (55, 24)\n",
      "\t\t-Output shape: (2, 96, 96)\n",
      "\t\t-Convolutional Layers: [128, 256, 512]\n",
      "\t\t-Convolutonal Kernels: [(3, 3), (3, 3), (3, 3)]\n",
      "\t\t-Fully Connected Hidden layers: [1024, 2048, 2048, 2048]\n",
      "\t\t-Regularizer: None\n",
      "\t\t-Convolutional Activation: relu\n",
      "\t\t-Hidden Layers Activation: relu\n",
      "\t\t-Output Layer Activation: linear\n",
      "\t\t-Batch Normalization: True\n",
      "\t\n",
      "\t*COMPILATION HYPERPARAMETERS:\n",
      "\t\t-Optimizer: ADAM lr=0.0001, beta_1=0.9, beta_2=0.999\n",
      "\t\t-Loss Function: MSE\n",
      "\t\t-Metric: MSE\n",
      "\t\n",
      "\t* TRAINING HYPERPARAMETERS:\n",
      "\t\t-Epochs: 200\n",
      "\t\t-Batch size: 32\n",
      "\t\t-Callbacks:\n",
      "\t\t\t-ReduceLROnPlateau: MSE 15 x0.1\n",
      "\t\t\t-Early Stop: MSE 50\n",
      "\t\n"
     ]
    },
    {
     "name": "stderr",
     "output_type": "stream",
     "text": [
      "2023-12-10 20:22:09.713563: I external/local_xla/xla/stream_executor/cuda/cuda_executor.cc:901] successful NUMA node read from SysFS had negative value (-1), but there must be at least one NUMA node, so returning NUMA node zero. See more at https://github.com/torvalds/linux/blob/v6.0/Documentation/ABI/testing/sysfs-bus-pci#L344-L355\n",
      "2023-12-10 20:22:09.796895: I external/local_xla/xla/stream_executor/cuda/cuda_executor.cc:901] successful NUMA node read from SysFS had negative value (-1), but there must be at least one NUMA node, so returning NUMA node zero. See more at https://github.com/torvalds/linux/blob/v6.0/Documentation/ABI/testing/sysfs-bus-pci#L344-L355\n",
      "2023-12-10 20:22:09.797058: I external/local_xla/xla/stream_executor/cuda/cuda_executor.cc:901] successful NUMA node read from SysFS had negative value (-1), but there must be at least one NUMA node, so returning NUMA node zero. See more at https://github.com/torvalds/linux/blob/v6.0/Documentation/ABI/testing/sysfs-bus-pci#L344-L355\n",
      "2023-12-10 20:22:09.807669: I external/local_xla/xla/stream_executor/cuda/cuda_executor.cc:901] successful NUMA node read from SysFS had negative value (-1), but there must be at least one NUMA node, so returning NUMA node zero. See more at https://github.com/torvalds/linux/blob/v6.0/Documentation/ABI/testing/sysfs-bus-pci#L344-L355\n",
      "2023-12-10 20:22:09.807856: I external/local_xla/xla/stream_executor/cuda/cuda_executor.cc:901] successful NUMA node read from SysFS had negative value (-1), but there must be at least one NUMA node, so returning NUMA node zero. See more at https://github.com/torvalds/linux/blob/v6.0/Documentation/ABI/testing/sysfs-bus-pci#L344-L355\n",
      "2023-12-10 20:22:09.807933: I external/local_xla/xla/stream_executor/cuda/cuda_executor.cc:901] successful NUMA node read from SysFS had negative value (-1), but there must be at least one NUMA node, so returning NUMA node zero. See more at https://github.com/torvalds/linux/blob/v6.0/Documentation/ABI/testing/sysfs-bus-pci#L344-L355\n",
      "2023-12-10 20:22:09.855114: I external/local_xla/xla/stream_executor/cuda/cuda_executor.cc:901] successful NUMA node read from SysFS had negative value (-1), but there must be at least one NUMA node, so returning NUMA node zero. See more at https://github.com/torvalds/linux/blob/v6.0/Documentation/ABI/testing/sysfs-bus-pci#L344-L355\n",
      "2023-12-10 20:22:09.855463: I external/local_xla/xla/stream_executor/cuda/cuda_executor.cc:901] successful NUMA node read from SysFS had negative value (-1), but there must be at least one NUMA node, so returning NUMA node zero. See more at https://github.com/torvalds/linux/blob/v6.0/Documentation/ABI/testing/sysfs-bus-pci#L344-L355\n",
      "2023-12-10 20:22:09.855554: I external/local_xla/xla/stream_executor/cuda/cuda_executor.cc:901] successful NUMA node read from SysFS had negative value (-1), but there must be at least one NUMA node, so returning NUMA node zero. See more at https://github.com/torvalds/linux/blob/v6.0/Documentation/ABI/testing/sysfs-bus-pci#L344-L355\n",
      "2023-12-10 20:22:09.855617: I tensorflow/core/common_runtime/gpu/gpu_device.cc:1929] Created device /job:localhost/replica:0/task:0/device:GPU:0 with 6263 MB memory:  -> device: 0, name: NVIDIA GeForce RTX 4070 Laptop GPU, pci bus id: 0000:01:00.0, compute capability: 8.9\n"
     ]
    }
   ],
   "source": [
    "model_configuration = ModelConfiguration(train_fluxes_array,\n",
    "                                         train_amp_phase_array)\n",
    "print(model_configuration.get_description())"
   ]
  },
  {
   "cell_type": "code",
   "execution_count": 8,
   "id": "7f2cd57a",
   "metadata": {},
   "outputs": [
    {
     "name": "stdout",
     "output_type": "stream",
     "text": [
      "Model: \"SimpleConvolutional\"\n",
      "_________________________________________________________________\n",
      " Layer (type)                Output Shape              Param #   \n",
      "=================================================================\n",
      " conv2d (Conv2D)             (None, 53, 22, 128)       1280      \n",
      "                                                                 \n",
      " max_pooling2d (MaxPooling2  (None, 26, 11, 128)       0         \n",
      " D)                                                              \n",
      "                                                                 \n",
      " conv2d_1 (Conv2D)           (None, 24, 9, 256)        295168    \n",
      "                                                                 \n",
      " max_pooling2d_1 (MaxPoolin  (None, 12, 4, 256)        0         \n",
      " g2D)                                                            \n",
      "                                                                 \n",
      " conv2d_2 (Conv2D)           (None, 10, 2, 512)        1180160   \n",
      "                                                                 \n",
      " max_pooling2d_2 (MaxPoolin  (None, 5, 1, 512)         0         \n",
      " g2D)                                                            \n",
      "                                                                 \n",
      " flatten (Flatten)           (None, 2560)              0         \n",
      "                                                                 \n",
      " dense (Dense)               (None, 1024)              2621440   \n",
      "                                                                 \n",
      " batch_normalization (Batch  (None, 1024)              4096      \n",
      " Normalization)                                                  \n",
      "                                                                 \n",
      " activation (Activation)     (None, 1024)              0         \n",
      "                                                                 \n",
      " dense_1 (Dense)             (None, 2048)              2097152   \n",
      "                                                                 \n",
      " batch_normalization_1 (Bat  (None, 2048)              8192      \n",
      " chNormalization)                                                \n",
      "                                                                 \n",
      " activation_1 (Activation)   (None, 2048)              0         \n",
      "                                                                 \n",
      " dense_2 (Dense)             (None, 2048)              4194304   \n",
      "                                                                 \n",
      " batch_normalization_2 (Bat  (None, 2048)              8192      \n",
      " chNormalization)                                                \n",
      "                                                                 \n",
      " activation_2 (Activation)   (None, 2048)              0         \n",
      "                                                                 \n",
      " dense_3 (Dense)             (None, 2048)              4194304   \n",
      "                                                                 \n",
      " batch_normalization_3 (Bat  (None, 2048)              8192      \n",
      " chNormalization)                                                \n",
      "                                                                 \n",
      " activation_3 (Activation)   (None, 2048)              0         \n",
      "                                                                 \n",
      " dense_4 (Dense)             (None, 18432)             37767168  \n",
      "                                                                 \n",
      " reshape (Reshape)           (None, 2, 96, 96)         0         \n",
      "                                                                 \n",
      "=================================================================\n",
      "Total params: 52379648 (199.81 MB)\n",
      "Trainable params: 52365312 (199.76 MB)\n",
      "Non-trainable params: 14336 (56.00 KB)\n",
      "_________________________________________________________________\n"
     ]
    }
   ],
   "source": [
    "model = create_convolutional_architecture_for_amplitude_and_phase_reconstruction(\n",
    "    *model_configuration.unpack_architecture_hyperparameters()\n",
    ")\n",
    "compile_model(\n",
    "    model,\n",
    "    *model_configuration.unpack_compilation_hyperparameters()\n",
    ")"
   ]
  },
  {
   "cell_type": "code",
   "execution_count": null,
   "id": "35f3a560",
   "metadata": {},
   "outputs": [
    {
     "name": "stdout",
     "output_type": "stream",
     "text": [
      "Epoch 1/200\n"
     ]
    },
    {
     "name": "stderr",
     "output_type": "stream",
     "text": [
      "2023-12-10 20:22:13.439532: I external/local_xla/xla/stream_executor/cuda/cuda_dnn.cc:454] Loaded cuDNN version 8904\n",
      "2023-12-10 20:22:13.561007: I external/local_tsl/tsl/platform/default/subprocess.cc:304] Start cannot spawn child process: No such file or directory\n",
      "2023-12-10 20:22:13.926495: I external/local_tsl/tsl/platform/default/subprocess.cc:304] Start cannot spawn child process: No such file or directory\n",
      "2023-12-10 20:22:14.254275: I external/local_xla/xla/service/service.cc:168] XLA service 0x899d6c0 initialized for platform CUDA (this does not guarantee that XLA will be used). Devices:\n",
      "2023-12-10 20:22:14.254292: I external/local_xla/xla/service/service.cc:176]   StreamExecutor device (0): NVIDIA GeForce RTX 4070 Laptop GPU, Compute Capability 8.9\n",
      "2023-12-10 20:22:14.266549: I tensorflow/compiler/mlir/tensorflow/utils/dump_mlir_util.cc:269] disabling MLIR crash reproducer, set env var `MLIR_CRASH_REPRODUCER_DIRECTORY` to enable.\n",
      "WARNING: All log messages before absl::InitializeLog() is called are written to STDERR\n",
      "I0000 00:00:1702200134.356182   58073 device_compiler.h:186] Compiled cluster using XLA!  This line is logged at most once for the lifetime of the process.\n"
     ]
    },
    {
     "name": "stdout",
     "output_type": "stream",
     "text": [
      "844/844 [==============================] - 21s 20ms/step - loss: 0.5097 - mean_squared_error: 0.5097 - val_loss: 0.4568 - val_mean_squared_error: 0.4568 - lr: 1.0000e-04\n",
      "Epoch 2/200\n",
      "797/844 [===========================>..] - ETA: 0s - loss: 0.4160 - mean_squared_error: 0.4160"
     ]
    }
   ],
   "source": [
    "history = train_model(\n",
    "    model,\n",
    "    train_fluxes_array,\n",
    "    train_amp_phase_array,\n",
    "    val_fluxes_array,\n",
    "    val_amp_phase_array,\n",
    "    *model_configuration.unpack_training_hyperparameters()\n",
    ")"
   ]
  },
  {
   "cell_type": "code",
   "execution_count": null,
   "id": "4c3826f2",
   "metadata": {},
   "outputs": [],
   "source": [
    "plot_model_history(history)"
   ]
  },
  {
   "cell_type": "code",
   "execution_count": null,
   "id": "b83d62c1",
   "metadata": {},
   "outputs": [],
   "source": [
    "n = 106\n",
    "plot_conv_amp_phase_prediction(\n",
    "    model,\n",
    "    val_fluxes_array[n],\n",
    "    val_amp_phase_array[n][0],\n",
    "    val_amp_phase_array[n][1]\n",
    "    )"
   ]
  },
  {
   "cell_type": "code",
   "execution_count": null,
   "id": "71ba25ab",
   "metadata": {},
   "outputs": [],
   "source": [
    "n = 106\n",
    "plot_conv_amp_phase_prediction(\n",
    "    model,\n",
    "    train_fluxes_array[n],\n",
    "    train_amp_phase_array[n][0],\n",
    "    train_amp_phase_array[n][1]\n",
    "    )"
   ]
  },
  {
   "cell_type": "code",
   "execution_count": null,
   "id": "e46bcc01-aaa1-4df2-beba-1289e7825cbb",
   "metadata": {},
   "outputs": [],
   "source": [
    "store_model(model,\n",
    "            model.name,\n",
    "            model_configuration.get_description())"
   ]
  }
 ],
 "metadata": {
  "kernelspec": {
   "display_name": "Python 3 (ipykernel)",
   "language": "python",
   "name": "python3"
  },
  "language_info": {
   "codemirror_mode": {
    "name": "ipython",
    "version": 3
   },
   "file_extension": ".py",
   "mimetype": "text/x-python",
   "name": "python",
   "nbconvert_exporter": "python",
   "pygments_lexer": "ipython3",
   "version": "3.9.18"
  }
 },
 "nbformat": 4,
 "nbformat_minor": 5
}
