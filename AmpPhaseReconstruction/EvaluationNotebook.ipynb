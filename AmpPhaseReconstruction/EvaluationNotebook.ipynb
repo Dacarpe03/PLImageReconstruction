{
 "cells": [
  {
   "cell_type": "code",
   "execution_count": 1,
   "id": "af743894-4d2a-494d-bda3-5157adf9ea55",
   "metadata": {},
   "outputs": [
    {
     "name": "stderr",
     "output_type": "stream",
     "text": [
      "2023-12-22 09:47:14.119127: I tensorflow/core/util/port.cc:113] oneDNN custom operations are on. You may see slightly different numerical results due to floating-point round-off errors from different computation orders. To turn them off, set the environment variable `TF_ENABLE_ONEDNN_OPTS=0`.\n",
      "2023-12-22 09:47:14.150351: E external/local_xla/xla/stream_executor/cuda/cuda_dnn.cc:9261] Unable to register cuDNN factory: Attempting to register factory for plugin cuDNN when one has already been registered\n",
      "2023-12-22 09:47:14.150370: E external/local_xla/xla/stream_executor/cuda/cuda_fft.cc:607] Unable to register cuFFT factory: Attempting to register factory for plugin cuFFT when one has already been registered\n",
      "2023-12-22 09:47:14.151014: E external/local_xla/xla/stream_executor/cuda/cuda_blas.cc:1515] Unable to register cuBLAS factory: Attempting to register factory for plugin cuBLAS when one has already been registered\n",
      "2023-12-22 09:47:14.155078: I tensorflow/core/platform/cpu_feature_guard.cc:182] This TensorFlow binary is optimized to use available CPU instructions in performance-critical operations.\n",
      "To enable the following instructions: AVX2 AVX_VNNI FMA, in other operations, rebuild TensorFlow with the appropriate compiler flags.\n",
      "2023-12-22 09:47:14.612665: W tensorflow/compiler/tf2tensorrt/utils/py_utils.cc:38] TF-TRT Warning: Could not find TensorRT\n"
     ]
    }
   ],
   "source": [
    "from modeling_utils import load_model, \\\n",
    "                           evaluate_model\n",
    "\n",
    "from plot_utils import plot_conv_amp_phase_prediction, \\\n",
    "                       plot_fully_connected_amp_phase_prediction\n",
    "\n",
    "from data_utils import load_validation_data, load_numpy_data\n",
    "\n",
    "from constants import VALIDATION_CNN_AMP_PHASE_PATH, VALIDATION_CNN_FLUXES_PATH\n",
    "                       "
   ]
  },
  {
   "cell_type": "code",
   "execution_count": 2,
   "id": "4ece9484-32b5-44f4-a0fc-8e46ba2e73b5",
   "metadata": {},
   "outputs": [],
   "source": [
    "two_d_input = False\n",
    "model_name = \"FCDropoutL1\""
   ]
  },
  {
   "cell_type": "code",
   "execution_count": 3,
   "id": "e5d734e6-691d-4adf-940d-fdc75d34e6b0",
   "metadata": {},
   "outputs": [
    {
     "ename": "NameError",
     "evalue": "name 'VALIDATION_FC_FLUXES_PATH' is not defined",
     "output_type": "error",
     "traceback": [
      "\u001b[0;31m---------------------------------------------------------------------------\u001b[0m",
      "\u001b[0;31mNameError\u001b[0m                                 Traceback (most recent call last)",
      "Cell \u001b[0;32mIn[3], line 1\u001b[0m\n\u001b[0;32m----> 1\u001b[0m val_fluxes_array \u001b[38;5;241m=\u001b[39m load_numpy_data(\u001b[43mVALIDATION_FC_FLUXES_PATH\u001b[49m)\n\u001b[1;32m      2\u001b[0m val_amp_phase_array \u001b[38;5;241m=\u001b[39m load_numpy_data(VALIDATION_FC_AMP_PHASE_PATH)\n",
      "\u001b[0;31mNameError\u001b[0m: name 'VALIDATION_FC_FLUXES_PATH' is not defined"
     ]
    }
   ],
   "source": [
    "val_fluxes_array = load_numpy_data(VALIDATION_FC_FLUXES_PATH)\n",
    "val_amp_phase_array = load_numpy_data(VALIDATION_FC_AMP_PHASE_PATH)"
   ]
  },
  {
   "cell_type": "code",
   "execution_count": null,
   "id": "8b3df6ca-9877-4f15-9e82-d9013e32d926",
   "metadata": {},
   "outputs": [],
   "source": [
    "model = load_model(model_name)"
   ]
  },
  {
   "cell_type": "code",
   "execution_count": null,
   "id": "270a41f5-9259-4b78-b704-f16850648a02",
   "metadata": {},
   "outputs": [],
   "source": [
    "evaluate_model(model,\n",
    "               val_fluxes_array,\n",
    "               val_amp_phase_array)"
   ]
  },
  {
   "cell_type": "code",
   "execution_count": null,
   "id": "66fcfc30-f1a4-4779-a252-a21a76366eee",
   "metadata": {},
   "outputs": [],
   "source": [
    "if two_d_input:\n",
    "    plot_conv_amp_phase_prediction(model,\n",
    "                                       val_fluxes_array[0], \n",
    "                                       val_amp_phase_array[0][0],\n",
    "                                       val_amp_phase_array[0][1])\n",
    "\n",
    "else:\n",
    "    plot_fully_connected_amp_phase_prediction(model,\n",
    "                                              val_fluxes_array[0], \n",
    "                                              val_amp_phase_array[0][0],\n",
    "                                              val_amp_phase_array[0][1])"
   ]
  }
 ],
 "metadata": {
  "kernelspec": {
   "display_name": "sail-env",
   "language": "python",
   "name": "sail-env"
  },
  "language_info": {
   "codemirror_mode": {
    "name": "ipython",
    "version": 3
   },
   "file_extension": ".py",
   "mimetype": "text/x-python",
   "name": "python",
   "nbconvert_exporter": "python",
   "pygments_lexer": "ipython3",
   "version": "3.9.18"
  }
 },
 "nbformat": 4,
 "nbformat_minor": 5
}
