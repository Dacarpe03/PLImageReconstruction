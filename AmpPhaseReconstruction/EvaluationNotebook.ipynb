{
 "cells": [
  {
   "cell_type": "code",
   "execution_count": 1,
   "id": "af743894-4d2a-494d-bda3-5157adf9ea55",
   "metadata": {},
   "outputs": [
    {
     "name": "stderr",
     "output_type": "stream",
     "text": [
      "2024-02-23 07:49:55.555002: I tensorflow/core/util/port.cc:113] oneDNN custom operations are on. You may see slightly different numerical results due to floating-point round-off errors from different computation orders. To turn them off, set the environment variable `TF_ENABLE_ONEDNN_OPTS=0`.\n",
      "2024-02-23 07:49:55.601563: E external/local_xla/xla/stream_executor/cuda/cuda_dnn.cc:9261] Unable to register cuDNN factory: Attempting to register factory for plugin cuDNN when one has already been registered\n",
      "2024-02-23 07:49:55.601592: E external/local_xla/xla/stream_executor/cuda/cuda_fft.cc:607] Unable to register cuFFT factory: Attempting to register factory for plugin cuFFT when one has already been registered\n",
      "2024-02-23 07:49:55.602686: E external/local_xla/xla/stream_executor/cuda/cuda_blas.cc:1515] Unable to register cuBLAS factory: Attempting to register factory for plugin cuBLAS when one has already been registered\n",
      "2024-02-23 07:49:55.609665: I tensorflow/core/platform/cpu_feature_guard.cc:182] This TensorFlow binary is optimized to use available CPU instructions in performance-critical operations.\n",
      "To enable the following instructions: AVX2 AVX_VNNI FMA, in other operations, rebuild TensorFlow with the appropriate compiler flags.\n",
      "2024-02-23 07:49:56.397748: W tensorflow/compiler/tf2tensorrt/utils/py_utils.cc:38] TF-TRT Warning: Could not find TensorRT\n"
     ]
    }
   ],
   "source": [
    "from modeling_utils import load_model, \\\n",
    "                           evaluate_model\n",
    "\n",
    "from plot_utils import plot_conv_amp_phase_prediction, \\\n",
    "                       plot_fully_connected_amp_phase_prediction,\\\n",
    "                       plot_enc_conv_amp_phase_prediction\n",
    "\n",
    "from data_utils import load_validation_data, load_numpy_data\n",
    "\n",
    "from constants import TEST_FC_FLUXES_PATH, \\\n",
    "                      TEST_FC_AMP_PHASE_PATH, TEST_CNN_FLUXES_PATH, TEST_CNN_AMP_PHASE_PATH, \\\n",
    "                      TEST_AUTOENCODER_FLUXES_PATH, \\\n",
    "                      TEST_AUTOENCODER_AMP_PHASE_PATH\n",
    "                      \n",
    "\n",
    "                       "
   ]
  },
  {
   "cell_type": "code",
   "execution_count": 2,
   "id": "4ece9484-32b5-44f4-a0fc-8e46ba2e73b5",
   "metadata": {},
   "outputs": [],
   "source": [
    "two_d_input = False\n",
    "model_name = \"NewEncConv80000-1\""
   ]
  },
  {
   "cell_type": "code",
   "execution_count": 3,
   "id": "e5d734e6-691d-4adf-940d-fdc75d34e6b0",
   "metadata": {},
   "outputs": [],
   "source": [
    "test_fluxes_array = load_numpy_data(TEST_AUTOENCODER_FLUXES_PATH)\n",
    "test_amp_phase_array = load_numpy_data(TEST_AUTOENCODER_AMP_PHASE_PATH)"
   ]
  },
  {
   "cell_type": "code",
   "execution_count": 4,
   "id": "8b3df6ca-9877-4f15-9e82-d9013e32d926",
   "metadata": {},
   "outputs": [
    {
     "name": "stderr",
     "output_type": "stream",
     "text": [
      "2024-02-23 07:50:00.265559: I external/local_xla/xla/stream_executor/cuda/cuda_executor.cc:901] successful NUMA node read from SysFS had negative value (-1), but there must be at least one NUMA node, so returning NUMA node zero. See more at https://github.com/torvalds/linux/blob/v6.0/Documentation/ABI/testing/sysfs-bus-pci#L344-L355\n",
      "2024-02-23 07:50:00.305465: I external/local_xla/xla/stream_executor/cuda/cuda_executor.cc:901] successful NUMA node read from SysFS had negative value (-1), but there must be at least one NUMA node, so returning NUMA node zero. See more at https://github.com/torvalds/linux/blob/v6.0/Documentation/ABI/testing/sysfs-bus-pci#L344-L355\n",
      "2024-02-23 07:50:00.305679: I external/local_xla/xla/stream_executor/cuda/cuda_executor.cc:901] successful NUMA node read from SysFS had negative value (-1), but there must be at least one NUMA node, so returning NUMA node zero. See more at https://github.com/torvalds/linux/blob/v6.0/Documentation/ABI/testing/sysfs-bus-pci#L344-L355\n",
      "2024-02-23 07:50:00.307849: I external/local_xla/xla/stream_executor/cuda/cuda_executor.cc:901] successful NUMA node read from SysFS had negative value (-1), but there must be at least one NUMA node, so returning NUMA node zero. See more at https://github.com/torvalds/linux/blob/v6.0/Documentation/ABI/testing/sysfs-bus-pci#L344-L355\n",
      "2024-02-23 07:50:00.308029: I external/local_xla/xla/stream_executor/cuda/cuda_executor.cc:901] successful NUMA node read from SysFS had negative value (-1), but there must be at least one NUMA node, so returning NUMA node zero. See more at https://github.com/torvalds/linux/blob/v6.0/Documentation/ABI/testing/sysfs-bus-pci#L344-L355\n",
      "2024-02-23 07:50:00.308158: I external/local_xla/xla/stream_executor/cuda/cuda_executor.cc:901] successful NUMA node read from SysFS had negative value (-1), but there must be at least one NUMA node, so returning NUMA node zero. See more at https://github.com/torvalds/linux/blob/v6.0/Documentation/ABI/testing/sysfs-bus-pci#L344-L355\n",
      "2024-02-23 07:50:00.380084: I external/local_xla/xla/stream_executor/cuda/cuda_executor.cc:901] successful NUMA node read from SysFS had negative value (-1), but there must be at least one NUMA node, so returning NUMA node zero. See more at https://github.com/torvalds/linux/blob/v6.0/Documentation/ABI/testing/sysfs-bus-pci#L344-L355\n",
      "2024-02-23 07:50:00.380325: I external/local_xla/xla/stream_executor/cuda/cuda_executor.cc:901] successful NUMA node read from SysFS had negative value (-1), but there must be at least one NUMA node, so returning NUMA node zero. See more at https://github.com/torvalds/linux/blob/v6.0/Documentation/ABI/testing/sysfs-bus-pci#L344-L355\n",
      "2024-02-23 07:50:00.380488: I external/local_xla/xla/stream_executor/cuda/cuda_executor.cc:901] successful NUMA node read from SysFS had negative value (-1), but there must be at least one NUMA node, so returning NUMA node zero. See more at https://github.com/torvalds/linux/blob/v6.0/Documentation/ABI/testing/sysfs-bus-pci#L344-L355\n",
      "2024-02-23 07:50:00.380610: I tensorflow/core/common_runtime/gpu/gpu_device.cc:1929] Created device /job:localhost/replica:0/task:0/device:GPU:0 with 6264 MB memory:  -> device: 0, name: NVIDIA GeForce RTX 4070 Laptop GPU, pci bus id: 0000:01:00.0, compute capability: 8.9\n"
     ]
    }
   ],
   "source": [
    "model = load_model(model_name)"
   ]
  },
  {
   "cell_type": "code",
   "execution_count": 5,
   "id": "270a41f5-9259-4b78-b704-f16850648a02",
   "metadata": {},
   "outputs": [
    {
     "name": "stderr",
     "output_type": "stream",
     "text": [
      "2024-02-23 07:50:27.908465: I external/local_xla/xla/stream_executor/cuda/cuda_dnn.cc:454] Loaded cuDNN version 8904\n",
      "2024-02-23 07:50:28.077205: I external/local_tsl/tsl/platform/default/subprocess.cc:304] Start cannot spawn child process: No such file or directory\n",
      "2024-02-23 07:50:30.954542: I external/local_tsl/tsl/platform/default/subprocess.cc:304] Start cannot spawn child process: No such file or directory\n"
     ]
    },
    {
     "name": "stdout",
     "output_type": "stream",
     "text": [
      "313/313 [==============================] - 29s 80ms/step - loss: 0.0289 - mean_squared_error: 0.0289\n",
      "MSE: 0.02889864705502987\n"
     ]
    },
    {
     "data": {
      "text/plain": [
       "[0.028898654505610466, 0.02889864705502987]"
      ]
     },
     "execution_count": 5,
     "metadata": {},
     "output_type": "execute_result"
    }
   ],
   "source": [
    "evaluate_model(model,\n",
    "               test_fluxes_array,\n",
    "               test_amp_phase_array)"
   ]
  },
  {
   "cell_type": "code",
   "execution_count": 6,
   "id": "66fcfc30-f1a4-4779-a252-a21a76366eee",
   "metadata": {},
   "outputs": [
    {
     "ename": "NameError",
     "evalue": "name 'val_fluxes_array' is not defined",
     "output_type": "error",
     "traceback": [
      "\u001b[0;31m---------------------------------------------------------------------------\u001b[0m",
      "\u001b[0;31mNameError\u001b[0m                                 Traceback (most recent call last)",
      "Cell \u001b[0;32mIn[6], line 9\u001b[0m\n\u001b[1;32m      2\u001b[0m     plot_conv_amp_phase_prediction(model,\n\u001b[1;32m      3\u001b[0m                                        test_fluxes_array[\u001b[38;5;241m0\u001b[39m], \n\u001b[1;32m      4\u001b[0m                                        test_amp_phase_array[\u001b[38;5;241m0\u001b[39m][\u001b[38;5;241m0\u001b[39m],\n\u001b[1;32m      5\u001b[0m                                        test_amp_phase_array[\u001b[38;5;241m0\u001b[39m][\u001b[38;5;241m1\u001b[39m])\n\u001b[1;32m      7\u001b[0m \u001b[38;5;28;01melse\u001b[39;00m:\n\u001b[1;32m      8\u001b[0m     plot_fully_connected_amp_phase_prediction(model,\n\u001b[0;32m----> 9\u001b[0m                                               \u001b[43mval_fluxes_array\u001b[49m[\u001b[38;5;241m0\u001b[39m], \n\u001b[1;32m     10\u001b[0m                                               val_amp_phase_array[\u001b[38;5;241m0\u001b[39m][\u001b[38;5;241m0\u001b[39m],\n\u001b[1;32m     11\u001b[0m                                               val_amp_phase_array[\u001b[38;5;241m0\u001b[39m][\u001b[38;5;241m1\u001b[39m])\n",
      "\u001b[0;31mNameError\u001b[0m: name 'val_fluxes_array' is not defined"
     ]
    }
   ],
   "source": [
    "if two_d_input:\n",
    "    plot_conv_amp_phase_prediction(model,\n",
    "                                       test_fluxes_array[0], \n",
    "                                       test_amp_phase_array[0][0],\n",
    "                                       test_amp_phase_array[0][1])\n",
    "\n",
    "else:\n",
    "    plot_fully_connected_amp_phase_prediction(model,\n",
    "                                              val_fluxes_array[0], \n",
    "                                              val_amp_phase_array[0][0],\n",
    "                                              val_amp_phase_array[0][1])"
   ]
  }
 ],
 "metadata": {
  "kernelspec": {
   "display_name": "sail-env",
   "language": "python",
   "name": "sail-env"
  },
  "language_info": {
   "codemirror_mode": {
    "name": "ipython",
    "version": 3
   },
   "file_extension": ".py",
   "mimetype": "text/x-python",
   "name": "python",
   "nbconvert_exporter": "python",
   "pygments_lexer": "ipython3",
   "version": "3.9.18"
  }
 },
 "nbformat": 4,
 "nbformat_minor": 5
}
