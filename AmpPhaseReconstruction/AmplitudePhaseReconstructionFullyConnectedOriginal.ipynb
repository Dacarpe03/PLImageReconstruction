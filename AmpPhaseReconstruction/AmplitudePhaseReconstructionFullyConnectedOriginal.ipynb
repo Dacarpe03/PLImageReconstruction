{
 "cells": [
  {
   "cell_type": "markdown",
   "id": "6c6f3390",
   "metadata": {},
   "source": [
    "## Imports"
   ]
  },
  {
   "cell_type": "code",
   "execution_count": 1,
   "id": "b7e12292",
   "metadata": {},
   "outputs": [
    {
     "name": "stderr",
     "output_type": "stream",
     "text": [
      "2024-02-19 09:32:28.641114: I tensorflow/core/util/port.cc:113] oneDNN custom operations are on. You may see slightly different numerical results due to floating-point round-off errors from different computation orders. To turn them off, set the environment variable `TF_ENABLE_ONEDNN_OPTS=0`.\n",
      "2024-02-19 09:32:29.023808: E external/local_xla/xla/stream_executor/cuda/cuda_dnn.cc:9261] Unable to register cuDNN factory: Attempting to register factory for plugin cuDNN when one has already been registered\n",
      "2024-02-19 09:32:29.024027: E external/local_xla/xla/stream_executor/cuda/cuda_fft.cc:607] Unable to register cuFFT factory: Attempting to register factory for plugin cuFFT when one has already been registered\n",
      "2024-02-19 09:32:29.067489: E external/local_xla/xla/stream_executor/cuda/cuda_blas.cc:1515] Unable to register cuBLAS factory: Attempting to register factory for plugin cuBLAS when one has already been registered\n",
      "2024-02-19 09:32:29.165375: I tensorflow/core/platform/cpu_feature_guard.cc:182] This TensorFlow binary is optimized to use available CPU instructions in performance-critical operations.\n",
      "To enable the following instructions: AVX2 AVX_VNNI FMA, in other operations, rebuild TensorFlow with the appropriate compiler flags.\n",
      "2024-02-19 09:32:32.013793: W tensorflow/compiler/tf2tensorrt/utils/py_utils.cc:38] TF-TRT Warning: Could not find TensorRT\n"
     ]
    }
   ],
   "source": [
    "from constants import ORIGINAL_FLUXES_FILE, \\\n",
    "                      ORIGINAL_SLM_FOLDER, \\\n",
    "                      ORIGINAL_AMPLITUDE_FILENAME, \\\n",
    "                      ORIGINAL_PHASE_FILENAME, \\\n",
    "                      TRAIN_FC_FLUXES_PATH, \\\n",
    "                      TRAIN_FC_AMP_PHASE_PATH, \\\n",
    "                      VALIDATION_FC_FLUXES_PATH, \\\n",
    "                      VALIDATION_FC_AMP_PHASE_PATH\n",
    "\n",
    "from data_utils import load_numpy_data, normalize_data, flatten_data, fuse_amplitude_and_phase\n",
    "                    \n",
    "\n",
    "from plot_utils import plot_map, \\\n",
    "                       plot_model_history, \\\n",
    "                       plot_fully_connected_amp_phase_prediction\n",
    "\n",
    "from modeling_utils import create_fully_connected_architecture_for_amplitude_and_phase_reconstruction, \\\n",
    "                           compile_model, \\\n",
    "                           train_model, \\\n",
    "                           train_model_with_generator, \\\n",
    "                           store_model\n",
    "\n",
    "import numpy as np\n",
    "\n",
    "from configurations import SimpleFCModel as ModelConfig"
   ]
  },
  {
   "cell_type": "markdown",
   "id": "fe49c6dd",
   "metadata": {},
   "source": [
    "## Load data"
   ]
  },
  {
   "cell_type": "code",
   "execution_count": 2,
   "id": "e77e00c0-06af-4b7c-bf6a-315c4ee69693",
   "metadata": {},
   "outputs": [],
   "source": [
    "train_flux_array = load_numpy_data(ORIGINAL_FLUXES_FILE)\n",
    "\n",
    "amps = []\n",
    "phases = []\n",
    "\n",
    "n = 8\n",
    "for i in [n]:\n",
    "    \n",
    "    train_amp_array = load_numpy_data(f\"{ORIGINAL_SLM_FOLDER}0{i}/{ORIGINAL_AMPLITUDE_FILENAME}\")\n",
    "    amps.append(train_amp_array)\n",
    "    train_phase_array = load_numpy_data(f\"{ORIGINAL_SLM_FOLDER}0{i}/{ORIGINAL_PHASE_FILENAME}\")\n",
    "    phases.append(train_phase_array)\n",
    "\n",
    "train_amp_array = np.concatenate(amps, axis=0)\n",
    "train_phase_array = np.concatenate(phases, axis=0)\n",
    "\n",
    "val_amp_array = load_numpy_data(f\"{ORIGINAL_SLM_FOLDER}08/{ORIGINAL_AMPLITUDE_FILENAME}\")\n",
    "val_phase_array = load_numpy_data(f\"{ORIGINAL_SLM_FOLDER}08/{ORIGINAL_PHASE_FILENAME}\")"
   ]
  },
  {
   "cell_type": "code",
   "execution_count": 3,
   "id": "710bd392-a526-4c0d-a2be-b435f90a0260",
   "metadata": {},
   "outputs": [],
   "source": [
    "train_flux_array, scaler = normalize_data(train_flux_array)\n",
    "\n",
    "train_amp_array, scaler = normalize_data(train_amp_array)\n",
    "val_amp_array, scaler = normalize_data(val_amp_array)\n",
    "\n",
    "train_phase_array, scaler = normalize_data(train_phase_array)\n",
    "val_phase_array, scaler = normalize_data(val_phase_array)"
   ]
  },
  {
   "cell_type": "code",
   "execution_count": 4,
   "id": "35e41250-8fd4-4086-85c5-2ac74ba206a7",
   "metadata": {},
   "outputs": [],
   "source": [
    "train_fluxes_array = flatten_data(train_flux_array)[n*10000:n*10000 + 10000]\n",
    "validation_fluxes_array = flatten_data(train_flux_array)[80000:90000]"
   ]
  },
  {
   "cell_type": "code",
   "execution_count": 5,
   "id": "f8cbea5a-f4a4-4944-bb3e-77319b838cdd",
   "metadata": {},
   "outputs": [],
   "source": [
    "train_amp_phase_array = fuse_amplitude_and_phase(train_amp_array, train_phase_array, axis=1)\n",
    "validation_amp_phase_array = fuse_amplitude_and_phase(val_amp_array, val_phase_array, axis=1)"
   ]
  },
  {
   "cell_type": "markdown",
   "id": "6250eab2",
   "metadata": {},
   "source": [
    "## Define configuration"
   ]
  },
  {
   "cell_type": "code",
   "execution_count": 6,
   "id": "aac88554",
   "metadata": {},
   "outputs": [
    {
     "name": "stdout",
     "output_type": "stream",
     "text": [
      "\n",
      "\t=== NewFC10000-Processed ===\n",
      "\t*ARCHITECTURE HYPERPARAMETERS:\n",
      "\t\t-Fully Connected\n",
      "\t\t-Input shape: 1320\n",
      "\t\t-Output shape: (2, 96, 96)\n",
      "\t\t-Hidden layers: [2000, 2000, 2000, 2000]\n",
      "\t\t-Regularizer: None\n",
      "\t\t-Hidden Layers Activation: relu\n",
      "\t\t-Output Layer Activation: linear\n",
      "\t\t-Batch Normalization: False\n",
      "\t\t-Dropout: False, 0.2\n",
      "\t\n",
      "\t*COMPILATION HYPERPARAMETERS:\n",
      "\t\t-Optimizer: ADAM lr=0.001, beta_1=0.9, beta_2=0.999\n",
      "\t\t-Loss Function: MSE\n",
      "\t\t-Metric: MSE\n",
      "\t\n",
      "\t* TRAINING HYPERPARAMETERS:\n",
      "\t\t-Epochs: 200\n",
      "\t\t-Batch size: 64\n",
      "\t\t-Callbacks: \n",
      "\t\t\t-ReduceLROnPlateau: MSE 10 x0.1\n",
      "\t\t\t-Early Stop: MSE 25\n",
      "\t\n"
     ]
    },
    {
     "name": "stderr",
     "output_type": "stream",
     "text": [
      "2024-02-19 09:32:51.979094: I external/local_xla/xla/stream_executor/cuda/cuda_executor.cc:901] successful NUMA node read from SysFS had negative value (-1), but there must be at least one NUMA node, so returning NUMA node zero. See more at https://github.com/torvalds/linux/blob/v6.0/Documentation/ABI/testing/sysfs-bus-pci#L344-L355\n",
      "2024-02-19 09:32:52.229654: I external/local_xla/xla/stream_executor/cuda/cuda_executor.cc:901] successful NUMA node read from SysFS had negative value (-1), but there must be at least one NUMA node, so returning NUMA node zero. See more at https://github.com/torvalds/linux/blob/v6.0/Documentation/ABI/testing/sysfs-bus-pci#L344-L355\n",
      "2024-02-19 09:32:52.230491: I external/local_xla/xla/stream_executor/cuda/cuda_executor.cc:901] successful NUMA node read from SysFS had negative value (-1), but there must be at least one NUMA node, so returning NUMA node zero. See more at https://github.com/torvalds/linux/blob/v6.0/Documentation/ABI/testing/sysfs-bus-pci#L344-L355\n",
      "2024-02-19 09:32:52.242056: I external/local_xla/xla/stream_executor/cuda/cuda_executor.cc:901] successful NUMA node read from SysFS had negative value (-1), but there must be at least one NUMA node, so returning NUMA node zero. See more at https://github.com/torvalds/linux/blob/v6.0/Documentation/ABI/testing/sysfs-bus-pci#L344-L355\n",
      "2024-02-19 09:32:52.242846: I external/local_xla/xla/stream_executor/cuda/cuda_executor.cc:901] successful NUMA node read from SysFS had negative value (-1), but there must be at least one NUMA node, so returning NUMA node zero. See more at https://github.com/torvalds/linux/blob/v6.0/Documentation/ABI/testing/sysfs-bus-pci#L344-L355\n",
      "2024-02-19 09:32:52.243347: I external/local_xla/xla/stream_executor/cuda/cuda_executor.cc:901] successful NUMA node read from SysFS had negative value (-1), but there must be at least one NUMA node, so returning NUMA node zero. See more at https://github.com/torvalds/linux/blob/v6.0/Documentation/ABI/testing/sysfs-bus-pci#L344-L355\n",
      "2024-02-19 09:32:52.428229: I external/local_xla/xla/stream_executor/cuda/cuda_executor.cc:901] successful NUMA node read from SysFS had negative value (-1), but there must be at least one NUMA node, so returning NUMA node zero. See more at https://github.com/torvalds/linux/blob/v6.0/Documentation/ABI/testing/sysfs-bus-pci#L344-L355\n",
      "2024-02-19 09:32:52.428713: I external/local_xla/xla/stream_executor/cuda/cuda_executor.cc:901] successful NUMA node read from SysFS had negative value (-1), but there must be at least one NUMA node, so returning NUMA node zero. See more at https://github.com/torvalds/linux/blob/v6.0/Documentation/ABI/testing/sysfs-bus-pci#L344-L355\n",
      "2024-02-19 09:32:52.429073: I external/local_xla/xla/stream_executor/cuda/cuda_executor.cc:901] successful NUMA node read from SysFS had negative value (-1), but there must be at least one NUMA node, so returning NUMA node zero. See more at https://github.com/torvalds/linux/blob/v6.0/Documentation/ABI/testing/sysfs-bus-pci#L344-L355\n",
      "2024-02-19 09:32:52.429332: I tensorflow/core/common_runtime/gpu/gpu_device.cc:1929] Created device /job:localhost/replica:0/task:0/device:GPU:0 with 6264 MB memory:  -> device: 0, name: NVIDIA GeForce RTX 4070 Laptop GPU, pci bus id: 0000:01:00.0, compute capability: 8.9\n"
     ]
    }
   ],
   "source": [
    "model_configuration = ModelConfig()\n",
    "print(model_configuration.get_description())"
   ]
  },
  {
   "cell_type": "markdown",
   "id": "b13606f9",
   "metadata": {},
   "source": [
    "## Instantiate model"
   ]
  },
  {
   "cell_type": "code",
   "execution_count": 7,
   "id": "2d80492e",
   "metadata": {
    "scrolled": true
   },
   "outputs": [
    {
     "name": "stdout",
     "output_type": "stream",
     "text": [
      "Model: \"NewFC10000-Processed\"\n",
      "_________________________________________________________________\n",
      " Layer (type)                Output Shape              Param #   \n",
      "=================================================================\n",
      " dense (Dense)               (None, 2000)              2640000   \n",
      "                                                                 \n",
      " activation (Activation)     (None, 2000)              0         \n",
      "                                                                 \n",
      " dense_1 (Dense)             (None, 2000)              4000000   \n",
      "                                                                 \n",
      " activation_1 (Activation)   (None, 2000)              0         \n",
      "                                                                 \n",
      " dense_2 (Dense)             (None, 2000)              4000000   \n",
      "                                                                 \n",
      " activation_2 (Activation)   (None, 2000)              0         \n",
      "                                                                 \n",
      " dense_3 (Dense)             (None, 2000)              4000000   \n",
      "                                                                 \n",
      " activation_3 (Activation)   (None, 2000)              0         \n",
      "                                                                 \n",
      " dense_4 (Dense)             (None, 18432)             36882432  \n",
      "                                                                 \n",
      " reshape (Reshape)           (None, 2, 96, 96)         0         \n",
      "                                                                 \n",
      "=================================================================\n",
      "Total params: 51522432 (196.54 MB)\n",
      "Trainable params: 51522432 (196.54 MB)\n",
      "Non-trainable params: 0 (0.00 Byte)\n",
      "_________________________________________________________________\n"
     ]
    }
   ],
   "source": [
    "model = create_fully_connected_architecture_for_amplitude_and_phase_reconstruction(\n",
    "    *model_configuration.unpack_architecture_hyperparameters()\n",
    ")\n"
   ]
  },
  {
   "cell_type": "markdown",
   "id": "c2098004",
   "metadata": {},
   "source": [
    "## Compile model"
   ]
  },
  {
   "cell_type": "code",
   "execution_count": 8,
   "id": "b2ea24b4",
   "metadata": {},
   "outputs": [],
   "source": [
    "compile_model(\n",
    "    model,\n",
    "    *model_configuration.unpack_compilation_hyperparameters()\n",
    ")"
   ]
  },
  {
   "cell_type": "markdown",
   "id": "37493d26",
   "metadata": {},
   "source": [
    "## Train model"
   ]
  },
  {
   "cell_type": "code",
   "execution_count": 9,
   "id": "4bf2677e-26e6-4a5a-afaf-15ebebbf9c54",
   "metadata": {},
   "outputs": [
    {
     "data": {
      "text/plain": [
       "(2, 96, 96)"
      ]
     },
     "execution_count": 9,
     "metadata": {},
     "output_type": "execute_result"
    }
   ],
   "source": [
    "validation_amp_phase_array[0].shape"
   ]
  },
  {
   "cell_type": "code",
   "execution_count": null,
   "id": "a50406c1-0569-4040-94d3-ad093ef7d86a",
   "metadata": {},
   "outputs": [
    {
     "name": "stdout",
     "output_type": "stream",
     "text": [
      "Epoch 1/200\n"
     ]
    },
    {
     "name": "stderr",
     "output_type": "stream",
     "text": [
      "2024-02-19 09:32:58.453131: I external/local_tsl/tsl/platform/default/subprocess.cc:304] Start cannot spawn child process: No such file or directory\n",
      "2024-02-19 09:32:59.634646: I external/local_xla/xla/service/service.cc:168] XLA service 0x7fa1b1981610 initialized for platform CUDA (this does not guarantee that XLA will be used). Devices:\n",
      "2024-02-19 09:32:59.634688: I external/local_xla/xla/service/service.cc:176]   StreamExecutor device (0): NVIDIA GeForce RTX 4070 Laptop GPU, Compute Capability 8.9\n",
      "2024-02-19 09:32:59.650370: I tensorflow/compiler/mlir/tensorflow/utils/dump_mlir_util.cc:269] disabling MLIR crash reproducer, set env var `MLIR_CRASH_REPRODUCER_DIRECTORY` to enable.\n",
      "2024-02-19 09:32:59.712033: I external/local_xla/xla/stream_executor/cuda/cuda_dnn.cc:454] Loaded cuDNN version 8904\n",
      "WARNING: All log messages before absl::InitializeLog() is called are written to STDERR\n",
      "I0000 00:00:1708295580.267680    6162 device_compiler.h:186] Compiled cluster using XLA!  This line is logged at most once for the lifetime of the process.\n"
     ]
    },
    {
     "name": "stdout",
     "output_type": "stream",
     "text": [
      "157/157 [==============================] - 12s 49ms/step - loss: 0.3966 - mean_squared_error: 0.3966 - val_loss: 0.2531 - val_mean_squared_error: 0.2531 - lr: 0.0010\n",
      "Epoch 2/200\n",
      "157/157 [==============================] - 5s 34ms/step - loss: 0.2437 - mean_squared_error: 0.2437 - val_loss: 0.2207 - val_mean_squared_error: 0.2207 - lr: 0.0010\n",
      "Epoch 3/200\n",
      "157/157 [==============================] - 5s 35ms/step - loss: 0.2119 - mean_squared_error: 0.2119 - val_loss: 0.1965 - val_mean_squared_error: 0.1965 - lr: 0.0010\n",
      "Epoch 4/200\n",
      "157/157 [==============================] - 5s 34ms/step - loss: 0.1836 - mean_squared_error: 0.1836 - val_loss: 0.1762 - val_mean_squared_error: 0.1762 - lr: 0.0010\n",
      "Epoch 5/200\n",
      "157/157 [==============================] - 5s 34ms/step - loss: 0.1680 - mean_squared_error: 0.1680 - val_loss: 0.1697 - val_mean_squared_error: 0.1697 - lr: 0.0010\n",
      "Epoch 6/200\n",
      "157/157 [==============================] - 5s 35ms/step - loss: 0.1581 - mean_squared_error: 0.1581 - val_loss: 0.1448 - val_mean_squared_error: 0.1448 - lr: 0.0010\n",
      "Epoch 7/200\n",
      "157/157 [==============================] - 5s 34ms/step - loss: 0.1463 - mean_squared_error: 0.1463 - val_loss: 0.1394 - val_mean_squared_error: 0.1394 - lr: 0.0010\n",
      "Epoch 8/200\n",
      "157/157 [==============================] - 5s 35ms/step - loss: 0.1375 - mean_squared_error: 0.1375 - val_loss: 0.1266 - val_mean_squared_error: 0.1266 - lr: 0.0010\n",
      "Epoch 9/200\n",
      "157/157 [==============================] - 5s 34ms/step - loss: 0.1314 - mean_squared_error: 0.1314 - val_loss: 0.1147 - val_mean_squared_error: 0.1147 - lr: 0.0010\n",
      "Epoch 10/200\n",
      "157/157 [==============================] - 5s 34ms/step - loss: 0.1258 - mean_squared_error: 0.1258 - val_loss: 0.1219 - val_mean_squared_error: 0.1219 - lr: 0.0010\n",
      "Epoch 11/200\n",
      "157/157 [==============================] - 5s 34ms/step - loss: 0.1201 - mean_squared_error: 0.1201 - val_loss: 0.1181 - val_mean_squared_error: 0.1181 - lr: 0.0010\n",
      "Epoch 12/200\n",
      "157/157 [==============================] - 5s 34ms/step - loss: 0.1203 - mean_squared_error: 0.1203 - val_loss: 0.1085 - val_mean_squared_error: 0.1085 - lr: 0.0010\n",
      "Epoch 13/200\n",
      "157/157 [==============================] - 5s 34ms/step - loss: 0.1151 - mean_squared_error: 0.1151 - val_loss: 0.1060 - val_mean_squared_error: 0.1060 - lr: 0.0010\n",
      "Epoch 14/200\n",
      "157/157 [==============================] - 5s 34ms/step - loss: 0.1107 - mean_squared_error: 0.1107 - val_loss: 0.0987 - val_mean_squared_error: 0.0987 - lr: 0.0010\n",
      "Epoch 15/200\n",
      "157/157 [==============================] - 5s 34ms/step - loss: 0.1011 - mean_squared_error: 0.1011 - val_loss: 0.0984 - val_mean_squared_error: 0.0984 - lr: 0.0010\n",
      "Epoch 16/200\n",
      "157/157 [==============================] - 5s 35ms/step - loss: 0.1029 - mean_squared_error: 0.1029 - val_loss: 0.0963 - val_mean_squared_error: 0.0963 - lr: 0.0010\n",
      "Epoch 17/200\n",
      "157/157 [==============================] - 5s 34ms/step - loss: 0.0974 - mean_squared_error: 0.0974 - val_loss: 0.0900 - val_mean_squared_error: 0.0900 - lr: 0.0010\n",
      "Epoch 18/200\n",
      "157/157 [==============================] - 5s 34ms/step - loss: 0.0971 - mean_squared_error: 0.0971 - val_loss: 0.1019 - val_mean_squared_error: 0.1019 - lr: 0.0010\n",
      "Epoch 19/200\n",
      "157/157 [==============================] - 5s 34ms/step - loss: 0.0964 - mean_squared_error: 0.0964 - val_loss: 0.0836 - val_mean_squared_error: 0.0836 - lr: 0.0010\n",
      "Epoch 20/200\n",
      "157/157 [==============================] - 5s 35ms/step - loss: 0.0970 - mean_squared_error: 0.0970 - val_loss: 0.0921 - val_mean_squared_error: 0.0921 - lr: 0.0010\n",
      "Epoch 21/200\n",
      "157/157 [==============================] - 5s 34ms/step - loss: 0.0920 - mean_squared_error: 0.0920 - val_loss: 0.0890 - val_mean_squared_error: 0.0890 - lr: 0.0010\n",
      "Epoch 22/200\n",
      "157/157 [==============================] - 5s 34ms/step - loss: 0.0877 - mean_squared_error: 0.0877 - val_loss: 0.0831 - val_mean_squared_error: 0.0831 - lr: 0.0010\n",
      "Epoch 23/200\n",
      "157/157 [==============================] - 5s 34ms/step - loss: 0.0846 - mean_squared_error: 0.0846 - val_loss: 0.0823 - val_mean_squared_error: 0.0823 - lr: 0.0010\n",
      "Epoch 24/200\n",
      "157/157 [==============================] - 5s 35ms/step - loss: 0.0821 - mean_squared_error: 0.0821 - val_loss: 0.0799 - val_mean_squared_error: 0.0799 - lr: 0.0010\n",
      "Epoch 25/200\n",
      "157/157 [==============================] - 5s 35ms/step - loss: 0.0801 - mean_squared_error: 0.0801 - val_loss: 0.0846 - val_mean_squared_error: 0.0846 - lr: 0.0010\n",
      "Epoch 26/200\n",
      "157/157 [==============================] - 5s 34ms/step - loss: 0.0794 - mean_squared_error: 0.0794 - val_loss: 0.0767 - val_mean_squared_error: 0.0767 - lr: 0.0010\n",
      "Epoch 27/200\n",
      "157/157 [==============================] - 5s 34ms/step - loss: 0.0817 - mean_squared_error: 0.0817 - val_loss: 0.0862 - val_mean_squared_error: 0.0862 - lr: 0.0010\n",
      "Epoch 28/200\n",
      "157/157 [==============================] - 5s 35ms/step - loss: 0.0860 - mean_squared_error: 0.0860 - val_loss: 0.0753 - val_mean_squared_error: 0.0753 - lr: 0.0010\n",
      "Epoch 29/200\n",
      "157/157 [==============================] - 5s 34ms/step - loss: 0.0777 - mean_squared_error: 0.0777 - val_loss: 0.0730 - val_mean_squared_error: 0.0730 - lr: 0.0010\n",
      "Epoch 30/200\n",
      "157/157 [==============================] - 5s 34ms/step - loss: 0.0785 - mean_squared_error: 0.0785 - val_loss: 0.0762 - val_mean_squared_error: 0.0762 - lr: 0.0010\n",
      "Epoch 31/200\n",
      "157/157 [==============================] - 5s 34ms/step - loss: 0.0769 - mean_squared_error: 0.0769 - val_loss: 0.0851 - val_mean_squared_error: 0.0851 - lr: 0.0010\n",
      "Epoch 32/200\n",
      "157/157 [==============================] - 5s 34ms/step - loss: 0.0746 - mean_squared_error: 0.0746 - val_loss: 0.0738 - val_mean_squared_error: 0.0738 - lr: 0.0010\n",
      "Epoch 33/200\n",
      "157/157 [==============================] - 5s 33ms/step - loss: 0.0799 - mean_squared_error: 0.0799 - val_loss: 0.0691 - val_mean_squared_error: 0.0691 - lr: 0.0010\n",
      "Epoch 34/200\n",
      "157/157 [==============================] - 5s 35ms/step - loss: 0.0702 - mean_squared_error: 0.0702 - val_loss: 0.0678 - val_mean_squared_error: 0.0678 - lr: 0.0010\n",
      "Epoch 35/200\n",
      "157/157 [==============================] - 5s 35ms/step - loss: 0.0684 - mean_squared_error: 0.0684 - val_loss: 0.0680 - val_mean_squared_error: 0.0680 - lr: 0.0010\n",
      "Epoch 36/200\n",
      "157/157 [==============================] - 5s 34ms/step - loss: 0.0786 - mean_squared_error: 0.0786 - val_loss: 0.0936 - val_mean_squared_error: 0.0936 - lr: 0.0010\n",
      "Epoch 37/200\n",
      "157/157 [==============================] - 5s 34ms/step - loss: 0.0924 - mean_squared_error: 0.0924 - val_loss: 0.0858 - val_mean_squared_error: 0.0858 - lr: 0.0010\n",
      "Epoch 38/200\n",
      "157/157 [==============================] - 5s 34ms/step - loss: 0.0731 - mean_squared_error: 0.0731 - val_loss: 0.0672 - val_mean_squared_error: 0.0672 - lr: 0.0010\n",
      "Epoch 39/200\n",
      "157/157 [==============================] - 5s 34ms/step - loss: 0.0713 - mean_squared_error: 0.0713 - val_loss: 0.0687 - val_mean_squared_error: 0.0687 - lr: 0.0010\n",
      "Epoch 40/200\n",
      "157/157 [==============================] - 5s 35ms/step - loss: 0.0742 - mean_squared_error: 0.0742 - val_loss: 0.0646 - val_mean_squared_error: 0.0646 - lr: 0.0010\n",
      "Epoch 41/200\n",
      "157/157 [==============================] - 5s 33ms/step - loss: 0.0658 - mean_squared_error: 0.0658 - val_loss: 0.0653 - val_mean_squared_error: 0.0653 - lr: 0.0010\n",
      "Epoch 42/200\n",
      "157/157 [==============================] - 5s 34ms/step - loss: 0.0688 - mean_squared_error: 0.0688 - val_loss: 0.0638 - val_mean_squared_error: 0.0638 - lr: 0.0010\n",
      "Epoch 43/200\n",
      "157/157 [==============================] - 5s 34ms/step - loss: 0.0666 - mean_squared_error: 0.0666 - val_loss: 0.0607 - val_mean_squared_error: 0.0607 - lr: 0.0010\n",
      "Epoch 44/200\n",
      "157/157 [==============================] - 5s 35ms/step - loss: 0.0621 - mean_squared_error: 0.0621 - val_loss: 0.0563 - val_mean_squared_error: 0.0563 - lr: 0.0010\n",
      "Epoch 45/200\n",
      "157/157 [==============================] - 5s 35ms/step - loss: 0.0600 - mean_squared_error: 0.0600 - val_loss: 0.0604 - val_mean_squared_error: 0.0604 - lr: 0.0010\n",
      "Epoch 46/200\n",
      "157/157 [==============================] - 5s 35ms/step - loss: 0.0611 - mean_squared_error: 0.0611 - val_loss: 0.0543 - val_mean_squared_error: 0.0543 - lr: 0.0010\n",
      "Epoch 47/200\n",
      "157/157 [==============================] - 5s 35ms/step - loss: 0.0572 - mean_squared_error: 0.0572 - val_loss: 0.0538 - val_mean_squared_error: 0.0538 - lr: 0.0010\n",
      "Epoch 48/200\n",
      "157/157 [==============================] - 5s 35ms/step - loss: 0.0573 - mean_squared_error: 0.0573 - val_loss: 0.0547 - val_mean_squared_error: 0.0547 - lr: 0.0010\n",
      "Epoch 49/200\n",
      "157/157 [==============================] - 5s 34ms/step - loss: 0.0570 - mean_squared_error: 0.0570 - val_loss: 0.0564 - val_mean_squared_error: 0.0564 - lr: 0.0010\n",
      "Epoch 50/200\n",
      "157/157 [==============================] - 5s 35ms/step - loss: 0.0699 - mean_squared_error: 0.0699 - val_loss: 0.0765 - val_mean_squared_error: 0.0765 - lr: 0.0010\n",
      "Epoch 51/200\n",
      "157/157 [==============================] - 5s 34ms/step - loss: 0.0706 - mean_squared_error: 0.0706 - val_loss: 0.0615 - val_mean_squared_error: 0.0615 - lr: 0.0010\n",
      "Epoch 52/200\n",
      "157/157 [==============================] - 5s 35ms/step - loss: 0.0657 - mean_squared_error: 0.0657 - val_loss: 0.0609 - val_mean_squared_error: 0.0609 - lr: 0.0010\n",
      "Epoch 53/200\n",
      "157/157 [==============================] - 5s 34ms/step - loss: 0.0610 - mean_squared_error: 0.0610 - val_loss: 0.0558 - val_mean_squared_error: 0.0558 - lr: 0.0010\n",
      "Epoch 54/200\n",
      "157/157 [==============================] - 5s 34ms/step - loss: 0.0567 - mean_squared_error: 0.0567 - val_loss: 0.0527 - val_mean_squared_error: 0.0527 - lr: 0.0010\n",
      "Epoch 55/200\n",
      "157/157 [==============================] - 5s 34ms/step - loss: 0.0548 - mean_squared_error: 0.0548 - val_loss: 0.0509 - val_mean_squared_error: 0.0509 - lr: 0.0010\n",
      "Epoch 56/200\n",
      "157/157 [==============================] - 5s 34ms/step - loss: 0.0529 - mean_squared_error: 0.0529 - val_loss: 0.0495 - val_mean_squared_error: 0.0495 - lr: 0.0010\n",
      "Epoch 57/200\n",
      "157/157 [==============================] - 5s 34ms/step - loss: 0.0586 - mean_squared_error: 0.0586 - val_loss: 0.0584 - val_mean_squared_error: 0.0584 - lr: 0.0010\n",
      "Epoch 58/200\n",
      "157/157 [==============================] - 5s 34ms/step - loss: 0.0671 - mean_squared_error: 0.0671 - val_loss: 0.0647 - val_mean_squared_error: 0.0647 - lr: 0.0010\n",
      "Epoch 59/200\n",
      "157/157 [==============================] - 5s 34ms/step - loss: 0.0707 - mean_squared_error: 0.0707 - val_loss: 0.0699 - val_mean_squared_error: 0.0699 - lr: 0.0010\n",
      "Epoch 60/200\n",
      "157/157 [==============================] - 5s 34ms/step - loss: 0.0624 - mean_squared_error: 0.0624 - val_loss: 0.0596 - val_mean_squared_error: 0.0596 - lr: 0.0010\n",
      "Epoch 61/200\n",
      "157/157 [==============================] - 5s 34ms/step - loss: 0.0707 - mean_squared_error: 0.0707 - val_loss: 0.0736 - val_mean_squared_error: 0.0736 - lr: 0.0010\n",
      "Epoch 62/200\n",
      "157/157 [==============================] - 5s 34ms/step - loss: 0.0638 - mean_squared_error: 0.0638 - val_loss: 0.0557 - val_mean_squared_error: 0.0557 - lr: 0.0010\n",
      "Epoch 63/200\n",
      "157/157 [==============================] - 5s 34ms/step - loss: 0.0564 - mean_squared_error: 0.0564 - val_loss: 0.0492 - val_mean_squared_error: 0.0492 - lr: 0.0010\n",
      "Epoch 64/200\n",
      "157/157 [==============================] - 5s 34ms/step - loss: 0.0506 - mean_squared_error: 0.0506 - val_loss: 0.0473 - val_mean_squared_error: 0.0473 - lr: 0.0010\n",
      "Epoch 65/200\n",
      "157/157 [==============================] - 5s 34ms/step - loss: 0.0510 - mean_squared_error: 0.0510 - val_loss: 0.0470 - val_mean_squared_error: 0.0470 - lr: 0.0010\n",
      "Epoch 66/200\n",
      "157/157 [==============================] - 5s 34ms/step - loss: 0.0490 - mean_squared_error: 0.0490 - val_loss: 0.0466 - val_mean_squared_error: 0.0466 - lr: 0.0010\n",
      "Epoch 67/200\n",
      "157/157 [==============================] - 5s 34ms/step - loss: 0.0483 - mean_squared_error: 0.0483 - val_loss: 0.0528 - val_mean_squared_error: 0.0528 - lr: 0.0010\n",
      "Epoch 68/200\n",
      "157/157 [==============================] - 5s 34ms/step - loss: 0.0619 - mean_squared_error: 0.0619 - val_loss: 0.0624 - val_mean_squared_error: 0.0624 - lr: 0.0010\n",
      "Epoch 69/200\n",
      "157/157 [==============================] - 5s 34ms/step - loss: 0.0593 - mean_squared_error: 0.0593 - val_loss: 0.0604 - val_mean_squared_error: 0.0604 - lr: 0.0010\n",
      "Epoch 70/200\n",
      "157/157 [==============================] - 5s 34ms/step - loss: 0.0553 - mean_squared_error: 0.0553 - val_loss: 0.0540 - val_mean_squared_error: 0.0540 - lr: 0.0010\n",
      "Epoch 71/200\n",
      "157/157 [==============================] - 5s 35ms/step - loss: 0.0571 - mean_squared_error: 0.0571 - val_loss: 0.0539 - val_mean_squared_error: 0.0539 - lr: 0.0010\n",
      "Epoch 72/200\n",
      "157/157 [==============================] - 5s 34ms/step - loss: 0.0548 - mean_squared_error: 0.0548 - val_loss: 0.0491 - val_mean_squared_error: 0.0491 - lr: 0.0010\n",
      "Epoch 73/200\n",
      "157/157 [==============================] - 5s 34ms/step - loss: 0.0496 - mean_squared_error: 0.0496 - val_loss: 0.0459 - val_mean_squared_error: 0.0459 - lr: 0.0010\n",
      "Epoch 74/200\n",
      "157/157 [==============================] - 5s 34ms/step - loss: 0.0474 - mean_squared_error: 0.0474 - val_loss: 0.0449 - val_mean_squared_error: 0.0449 - lr: 0.0010\n",
      "Epoch 75/200\n",
      "157/157 [==============================] - 5s 34ms/step - loss: 0.0464 - mean_squared_error: 0.0464 - val_loss: 0.0445 - val_mean_squared_error: 0.0445 - lr: 0.0010\n",
      "Epoch 76/200\n",
      "157/157 [==============================] - 5s 34ms/step - loss: 0.0458 - mean_squared_error: 0.0458 - val_loss: 0.0434 - val_mean_squared_error: 0.0434 - lr: 0.0010\n",
      "Epoch 77/200\n",
      "157/157 [==============================] - 5s 34ms/step - loss: 0.0469 - mean_squared_error: 0.0469 - val_loss: 0.0456 - val_mean_squared_error: 0.0456 - lr: 0.0010\n",
      "Epoch 78/200\n",
      "157/157 [==============================] - 5s 34ms/step - loss: 0.0502 - mean_squared_error: 0.0502 - val_loss: 0.0489 - val_mean_squared_error: 0.0489 - lr: 0.0010\n",
      "Epoch 79/200\n",
      "157/157 [==============================] - 5s 33ms/step - loss: 0.0545 - mean_squared_error: 0.0545 - val_loss: 0.0540 - val_mean_squared_error: 0.0540 - lr: 0.0010\n",
      "Epoch 80/200\n",
      "157/157 [==============================] - 5s 34ms/step - loss: 0.0543 - mean_squared_error: 0.0543 - val_loss: 0.0512 - val_mean_squared_error: 0.0512 - lr: 0.0010\n",
      "Epoch 81/200\n",
      "149/157 [===========================>..] - ETA: 0s - loss: 0.0560 - mean_squared_error: 0.0560"
     ]
    }
   ],
   "source": [
    "history = train_model(model, \n",
    "                      train_fluxes_array, \n",
    "                      train_amp_phase_array, \n",
    "                      validation_fluxes_array, \n",
    "                      validation_amp_phase_array,\n",
    "                      *model_configuration.unpack_training_hyperparameters()\n",
    "                    )\n"
   ]
  },
  {
   "cell_type": "markdown",
   "id": "67b8e2c9",
   "metadata": {},
   "source": [
    "## Results"
   ]
  },
  {
   "cell_type": "code",
   "execution_count": null,
   "id": "f4c1d77b",
   "metadata": {},
   "outputs": [],
   "source": [
    "plot_model_history(history)"
   ]
  },
  {
   "cell_type": "code",
   "execution_count": null,
   "id": "2001bf51",
   "metadata": {},
   "outputs": [],
   "source": [
    "n = 106\n",
    "plot_fully_connected_amp_phase_prediction(\n",
    "    model,\n",
    "    validation_fluxes_array[n],\n",
    "    validation_amp_phase_array[n][0],\n",
    "    validation_amp_phase_array[n][1]\n",
    "    )"
   ]
  },
  {
   "cell_type": "code",
   "execution_count": null,
   "id": "f2ef8b3c",
   "metadata": {},
   "outputs": [],
   "source": [
    "n = 106\n",
    "plot_fully_connected_amp_phase_prediction(\n",
    "    model,\n",
    "    train_fluxes_array[n],\n",
    "    train_amp_phase_array[n][0],\n",
    "    train_amp_phase_array[n][1]\n",
    "    )"
   ]
  },
  {
   "cell_type": "code",
   "execution_count": null,
   "id": "4870c8de-d1cb-474b-99f2-805a2de9a70e",
   "metadata": {},
   "outputs": [],
   "source": [
    "#store_model(model,\n",
    "            model.name,\n",
    "            model_configuration.get_description(),\n",
    "            history.history['mean_squared_error'][-1],\n",
    "            history.history['val_mean_squared_error'][-1])"
   ]
  }
 ],
 "metadata": {
  "kernelspec": {
   "display_name": "sail-env",
   "language": "python",
   "name": "sail-env"
  },
  "language_info": {
   "codemirror_mode": {
    "name": "ipython",
    "version": 3
   },
   "file_extension": ".py",
   "mimetype": "text/x-python",
   "name": "python",
   "nbconvert_exporter": "python",
   "pygments_lexer": "ipython3",
   "version": "3.9.18"
  }
 },
 "nbformat": 4,
 "nbformat_minor": 5
}
