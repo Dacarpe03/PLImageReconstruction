{
 "cells": [
  {
   "cell_type": "code",
   "execution_count": 1,
   "id": "e9c4e6bc-4af5-40fb-b4c8-b648b9e8bcb0",
   "metadata": {},
   "outputs": [],
   "source": [
    "import numpy as np\n",
    "\n",
    "from data_utils import normalize_data, \\\n",
    "                       flatten_data, \\\n",
    "                       add_row_padding, \\\n",
    "                       split_fluxes, \\\n",
    "                       fuse_amplitude_and_phase, \\\n",
    "                       save_numpy_array, \\\n",
    "                       save_scaler\n",
    "\n",
    "from plot_utils import plot_fluxes"
   ]
  },
  {
   "cell_type": "markdown",
   "id": "8a33e0ad-efbc-48f2-8719-afb1399865b4",
   "metadata": {},
   "source": [
    "# 0. Objective"
   ]
  },
  {
   "cell_type": "markdown",
   "id": "4997323f-4daf-401a-9ebe-b47a326b1f0a",
   "metadata": {},
   "source": [
    "With this notebook we will process and save the flux, amplitude and phase data, dividing them into train, validation and test datasets.\n",
    "The dataset sizes are the following:\n",
    "- Train: 70000\n",
    "- Validation: 10000\n",
    "- Test: 10000"
   ]
  },
  {
   "cell_type": "markdown",
   "id": "e9b8def7-7920-4fa5-ada6-254e6591299d",
   "metadata": {},
   "source": [
    "# 1. Flux Data"
   ]
  },
  {
   "cell_type": "code",
   "execution_count": 2,
   "id": "348bdb9f-97f9-40f1-b91d-172e7d62bbda",
   "metadata": {},
   "outputs": [],
   "source": [
    "from constants import ORIGINAL_FLUXES_FILE"
   ]
  },
  {
   "cell_type": "code",
   "execution_count": 3,
   "id": "7de30464-9d6e-4c62-91db-3b1b8e9c1ecc",
   "metadata": {},
   "outputs": [],
   "source": [
    "TRAIN_SIZE = 70000\n",
    "VALIDATION_SIZE = 10000\n",
    "TEST_SIZE = 10000"
   ]
  },
  {
   "cell_type": "markdown",
   "id": "a6859748-906e-42b4-b107-8e1b6b4171c6",
   "metadata": {},
   "source": [
    "## 1.1 Flux Data for Fully Connected Architectures\n",
    "For the FC Architectures we need to:\n",
    " - Normalize\n",
    " - Flatten"
   ]
  },
  {
   "cell_type": "code",
   "execution_count": 4,
   "id": "75ba34e0-7942-4f96-945d-eba3ab159354",
   "metadata": {},
   "outputs": [],
   "source": [
    "# Load flux data\n",
    "fluxes_array = np.load(ORIGINAL_FLUXES_FILE)"
   ]
  },
  {
   "cell_type": "markdown",
   "id": "6474d7e4-db25-42ba-a370-f14edf05c7e6",
   "metadata": {},
   "source": [
    "Check the shape of the data, there should be 90000 data points"
   ]
  },
  {
   "cell_type": "markdown",
   "id": "027697ac-2ebc-4585-ac41-504641ab70a8",
   "metadata": {},
   "source": [
    "Process_data"
   ]
  },
  {
   "cell_type": "code",
   "execution_count": 5,
   "id": "92f85a92-3700-4e7a-b35c-83ad29361144",
   "metadata": {},
   "outputs": [],
   "source": [
    "# Normalize data\n",
    "fc_normalized_fluxes_array, fc_flux_scaler = normalize_data(fluxes_array)"
   ]
  },
  {
   "cell_type": "code",
   "execution_count": 8,
   "id": "994ede3e-890c-4776-8a20-92e6b1f07397",
   "metadata": {},
   "outputs": [],
   "source": [
    "# Flatten data\n",
    "fc_flattened_normalized_fluxes_array = flatten_data(fc_normalized_fluxes_array)"
   ]
  },
  {
   "cell_type": "code",
   "execution_count": 15,
   "id": "931da1cb-2ab6-46a4-b344-6e5f8cd32828",
   "metadata": {},
   "outputs": [],
   "source": [
    "# Split data\n",
    "train_fc_fluxes, val_fc_fluxes, test_fc_fluxes = split_fluxes(fc_flattened_normalized_fluxes_array,\n",
    "                                                              TRAIN_SIZE,\n",
    "                                                              VALIDATION_SIZE,\n",
    "                                                              TEST_SIZE)"
   ]
  },
  {
   "cell_type": "code",
   "execution_count": 16,
   "id": "a1795e73-29d1-49ba-b492-99220a0021cf",
   "metadata": {},
   "outputs": [
    {
     "data": {
      "text/plain": [
       "(70000, 1320)"
      ]
     },
     "execution_count": 16,
     "metadata": {},
     "output_type": "execute_result"
    }
   ],
   "source": [
    "train_fc_fluxes.shape"
   ]
  },
  {
   "cell_type": "code",
   "execution_count": 17,
   "id": "bbe2e19b-b54f-4342-9dcb-492bf9e77679",
   "metadata": {},
   "outputs": [
    {
     "data": {
      "text/plain": [
       "(10000, 1320)"
      ]
     },
     "execution_count": 17,
     "metadata": {},
     "output_type": "execute_result"
    }
   ],
   "source": [
    "val_fc_fluxes.shape"
   ]
  },
  {
   "cell_type": "code",
   "execution_count": 18,
   "id": "a9c0ae22-e570-4ac3-9453-b0d19e79b9fa",
   "metadata": {},
   "outputs": [
    {
     "data": {
      "text/plain": [
       "(10000, 1320)"
      ]
     },
     "execution_count": 18,
     "metadata": {},
     "output_type": "execute_result"
    }
   ],
   "source": [
    "test_fc_fluxes.shape"
   ]
  },
  {
   "cell_type": "markdown",
   "id": "bc0e124d-71e5-43c1-a250-39afabda8ed0",
   "metadata": {},
   "source": [
    "Save data and scalers"
   ]
  },
  {
   "cell_type": "code",
   "execution_count": 20,
   "id": "4f46a144-65f4-4d20-9bee-c1b4bb413333",
   "metadata": {},
   "outputs": [],
   "source": [
    "# Load data paths\n",
    "from constants import TRAIN_FC_FLUXES_PATH, \\\n",
    "                      VALIDATION_FC_FLUXES_PATH, \\\n",
    "                      TEST_FC_FLUXES_PATH, \\\n",
    "                      FC_FLUX_SCALER_PATH, \\\n",
    "                      TRAIN_FILE_SUFFIXES, \\\n",
    "                      NUMPY_SUFFIX\n",
    "\n",
    "# Save train fluxes\n",
    "start = 0\n",
    "end = 10000\n",
    "for train_file in TRAIN_FILE_SUFFIXES:\n",
    "    filename = f\"{TRAIN_FC_FLUXES_PATH}{train_file}{NUMPY_SUFFIX}\"\n",
    "    save_numpy_array(train_fc_fluxes[start:end], filename)\n",
    "    start += 10000\n",
    "    end += 10000\n",
    "\n",
    "# Save validation fluxes\n",
    "save_numpy_array(val_fc_fluxes, VALIDATION_FC_FLUXES_PATH)\n",
    "# Save test fluxes\n",
    "save_numpy_array(test_fc_fluxes, TEST_FC_FLUXES_PATH)\n",
    "# Save fully connected flux scaler\n",
    "save_scaler(fc_flux_scaler, FC_FLUX_SCALER_PATH)"
   ]
  },
  {
   "cell_type": "markdown",
   "id": "d66f25ad-cae4-4bec-948e-b1ac4e949813",
   "metadata": {},
   "source": [
    "## 1.2 Flux data for CNN Architectures"
   ]
  },
  {
   "cell_type": "markdown",
   "id": "383e21f1-97ef-4501-acbf-05e19275f2f6",
   "metadata": {},
   "source": [
    "For the CNN Architectures we need to:\n",
    "- Normalize"
   ]
  },
  {
   "cell_type": "code",
   "execution_count": 16,
   "id": "dc369bf1-f419-4b19-90ef-cea0435e2c66",
   "metadata": {},
   "outputs": [],
   "source": [
    "# Load flux data\n",
    "fluxes_array = np.load(ORIGINAL_FLUXES_FILE)"
   ]
  },
  {
   "cell_type": "markdown",
   "id": "49cd2659-4cf9-45b6-888f-728494c0b9c9",
   "metadata": {},
   "source": [
    "Process data"
   ]
  },
  {
   "cell_type": "code",
   "execution_count": 17,
   "id": "f3de034d-ca30-442d-b7ff-3f5ebe12912d",
   "metadata": {},
   "outputs": [],
   "source": [
    "# Normalize data\n",
    "conv_normalized_fluxes_array, conv_flux_scaler = normalize_data(fluxes_array)"
   ]
  },
  {
   "cell_type": "code",
   "execution_count": 18,
   "id": "7ec7b432-b4fa-4b89-9459-5390f913e7a9",
   "metadata": {},
   "outputs": [],
   "source": [
    "# Split data\n",
    "train_conv_fluxes, val_conv_fluxes, test_conv_fluxes = split_fluxes(conv_normalized_fluxes_array,\n",
    "                                                                    TRAIN_SIZE,\n",
    "                                                                    VALIDATION_SIZE,\n",
    "                                                                    TEST_SIZE)"
   ]
  },
  {
   "cell_type": "code",
   "execution_count": 19,
   "id": "b98e40bf",
   "metadata": {},
   "outputs": [
    {
     "data": {
      "text/plain": [
       "(70000, 55, 24)"
      ]
     },
     "execution_count": 19,
     "metadata": {},
     "output_type": "execute_result"
    }
   ],
   "source": [
    "train_conv_fluxes.shape"
   ]
  },
  {
   "cell_type": "code",
   "execution_count": 20,
   "id": "736bc2cc",
   "metadata": {},
   "outputs": [
    {
     "data": {
      "text/plain": [
       "(10000, 55, 24)"
      ]
     },
     "execution_count": 20,
     "metadata": {},
     "output_type": "execute_result"
    }
   ],
   "source": [
    "val_conv_fluxes.shape"
   ]
  },
  {
   "cell_type": "code",
   "execution_count": 21,
   "id": "4c7860fd",
   "metadata": {},
   "outputs": [
    {
     "data": {
      "text/plain": [
       "(10000, 55, 24)"
      ]
     },
     "execution_count": 21,
     "metadata": {},
     "output_type": "execute_result"
    }
   ],
   "source": [
    "test_conv_fluxes.shape"
   ]
  },
  {
   "cell_type": "markdown",
   "id": "9f37fa79-675f-4e3c-ba9f-6418826f0edb",
   "metadata": {},
   "source": [
    "Save data and scalers"
   ]
  },
  {
   "cell_type": "code",
   "execution_count": 22,
   "id": "81ef8ba2-38a5-4c8f-b499-1f3b2a5e92f2",
   "metadata": {},
   "outputs": [],
   "source": [
    "# Load data paths\n",
    "from constants import TRAIN_CNN_FLUXES_PATH, \\\n",
    "                      VALIDATION_CNN_FLUXES_PATH, \\\n",
    "                      TEST_CNN_FLUXES_PATH, \\\n",
    "                      CNN_FLUX_SCALER_PATH, \\\n",
    "                      TRAIN_FILE_SUFFIXES, \\\n",
    "                      NUMPY_SUFFIX\n",
    "\n",
    "# Save train fluxes\n",
    "start = 0\n",
    "end = 10000\n",
    "for train_file in TRAIN_FILE_SUFFIXES:\n",
    "    filename = f\"{TRAIN_CNN_FLUXES_PATH}{train_file}{NUMPY_SUFFIX}\"\n",
    "    save_numpy_array(train_conv_fluxes[start:end], filename)\n",
    "    start += 10000\n",
    "    end += 10000\n",
    "\n",
    "# Save validation fluxes\n",
    "save_numpy_array(val_conv_fluxes, VALIDATION_CNN_FLUXES_PATH)\n",
    "\n",
    "# Save test fluxes\n",
    "save_numpy_array(test_conv_fluxes, TEST_CNN_FLUXES_PATH)\n",
    "\n",
    "# Save fully connected flux scaler\n",
    "save_scaler(conv_flux_scaler, CNN_FLUX_SCALER_PATH)"
   ]
  },
  {
   "cell_type": "markdown",
   "id": "5eced453-db2a-4dd1-80e9-106508aa8741",
   "metadata": {},
   "source": [
    "## 1.3 Flux data for Autoencoder Architecture"
   ]
  },
  {
   "cell_type": "markdown",
   "id": "d6795f98-72a3-4827-93ac-6671187dcc07",
   "metadata": {},
   "source": [
    "For the Autoencoder Architecture we need to:\n",
    "- Add padding\n",
    "- Normalize"
   ]
  },
  {
   "cell_type": "code",
   "execution_count": 23,
   "id": "973e2b3d",
   "metadata": {},
   "outputs": [],
   "source": [
    "# Load flux data\n",
    "fluxes_array = np.load(ORIGINAL_FLUXES_FILE)"
   ]
  },
  {
   "cell_type": "markdown",
   "id": "2cfef86b-8e6d-4c8f-949b-cc2f17db843e",
   "metadata": {},
   "source": [
    "Process data"
   ]
  },
  {
   "cell_type": "code",
   "execution_count": 24,
   "id": "d6a767b9",
   "metadata": {},
   "outputs": [],
   "source": [
    "# Add padding to data\n",
    "padded_fluxes = add_row_padding(fluxes_array, top_rows=1, bottom_rows=0)"
   ]
  },
  {
   "cell_type": "code",
   "execution_count": 25,
   "id": "47493422-c642-4477-9198-9484333da837",
   "metadata": {},
   "outputs": [],
   "source": [
    "# Normalize data\n",
    "normalized_padded_fluxes_array, autoencoder_flux_scaler = normalize_data(padded_fluxes)"
   ]
  },
  {
   "cell_type": "code",
   "execution_count": 26,
   "id": "d72f22fc",
   "metadata": {},
   "outputs": [],
   "source": [
    "# Split data\n",
    "train_autoencoder_fluxes, val_autoencoder_fluxes, test_autoencoder_fluxes = split_fluxes(normalized_padded_fluxes_array,\n",
    "                                                                                         TRAIN_SIZE,\n",
    "                                                                                         VALIDATION_SIZE,\n",
    "                                                                                         TEST_SIZE)"
   ]
  },
  {
   "cell_type": "code",
   "execution_count": 27,
   "id": "c80d0ba7",
   "metadata": {},
   "outputs": [
    {
     "data": {
      "text/plain": [
       "(70000, 56, 24)"
      ]
     },
     "execution_count": 27,
     "metadata": {},
     "output_type": "execute_result"
    }
   ],
   "source": [
    "train_autoencoder_fluxes.shape"
   ]
  },
  {
   "cell_type": "code",
   "execution_count": 28,
   "id": "0b40bb5f",
   "metadata": {},
   "outputs": [
    {
     "data": {
      "text/plain": [
       "(10000, 56, 24)"
      ]
     },
     "execution_count": 28,
     "metadata": {},
     "output_type": "execute_result"
    }
   ],
   "source": [
    "val_autoencoder_fluxes.shape"
   ]
  },
  {
   "cell_type": "code",
   "execution_count": 29,
   "id": "38222a5c",
   "metadata": {},
   "outputs": [
    {
     "data": {
      "text/plain": [
       "(10000, 56, 24)"
      ]
     },
     "execution_count": 29,
     "metadata": {},
     "output_type": "execute_result"
    }
   ],
   "source": [
    "test_autoencoder_fluxes.shape"
   ]
  },
  {
   "cell_type": "markdown",
   "id": "710e45c2-7880-47c9-a0d7-151717a460c4",
   "metadata": {},
   "source": [
    "Save data and scalers"
   ]
  },
  {
   "cell_type": "code",
   "execution_count": 30,
   "id": "e7263ba4",
   "metadata": {
    "scrolled": true
   },
   "outputs": [],
   "source": [
    "# Load data paths\n",
    "from constants import TRAIN_AUTOENCODER_FLUXES_PATH, \\\n",
    "                      VALIDATION_AUTOENCODER_FLUXES_PATH, \\\n",
    "                      TEST_AUTOENCODER_FLUXES_PATH, \\\n",
    "                      AUTOENCODER_FLUX_SCALER_PATH, \\\n",
    "                      TRAIN_FILE_SUFFIXES, \\\n",
    "                      NUMPY_SUFFIX\n",
    "\n",
    "# Save train fluxes\n",
    "start = 0\n",
    "end = 10000\n",
    "for train_file in TRAIN_FILE_SUFFIXES:\n",
    "    filename = f\"{TRAIN_AUTOENCODER_FLUXES_PATH}{train_file}{NUMPY_SUFFIX}\"\n",
    "    save_numpy_array(train_autoencoder_fluxes[start:end], filename)\n",
    "    start += 10000\n",
    "    end += 10000\n",
    "\n",
    "# Save train fluxes\n",
    "save_numpy_array(train_autoencoder_fluxes, TRAIN_AUTOENCODER_FLUXES_PATH)\n",
    "# Save validation fluxes\n",
    "save_numpy_array(val_autoencoder_fluxes, VALIDATION_AUTOENCODER_FLUXES_PATH)\n",
    "# Save test fluxes\n",
    "save_numpy_array(test_autoencoder_fluxes, TEST_AUTOENCODER_FLUXES_PATH)\n",
    "# Save fully connected flux scaler\n",
    "save_scaler(autoencoder_flux_scaler, AUTOENCODER_FLUX_SCALER_PATH)"
   ]
  },
  {
   "cell_type": "markdown",
   "id": "6a54482e-938e-49ea-90c1-cc0203b460a6",
   "metadata": {},
   "source": [
    "# 2. Amplitude and Phase Data"
   ]
  },
  {
   "cell_type": "markdown",
   "id": "08674fac-66b5-4af3-b1b0-07e393cf6c57",
   "metadata": {},
   "source": [
    "## 2.1 Amplitude and Phase for Fully Connected Architecture"
   ]
  },
  {
   "cell_type": "markdown",
   "id": "fd7dca6e-9861-46e6-ab10-13a5c6f7b37e",
   "metadata": {},
   "source": [
    "For the FC architectures we need to:\n",
    "- Normalize\n",
    "- Stack amplitude and phase"
   ]
  },
  {
   "cell_type": "code",
   "execution_count": 29,
   "id": "8539eeea-dc0f-45a9-8a2e-ad047b6be521",
   "metadata": {},
   "outputs": [],
   "source": [
    "from constants import ORIGINAL_SLM_FOLDER, \\\n",
    "                      ORIGINAL_AMPLITUDE_FILENAME, \\\n",
    "                      ORIGINAL_PHASE_FILENAME, \\\n",
    "                      TRAIN_FILE_SUFFIXES, \\\n",
    "                      VALIDATION_FILE_SUFFIX, \\\n",
    "                      TEST_FILE_SUFFIX, \\\n",
    "                      NUMPY_SUFFIX\n",
    "\n",
    "from plot_utils import plot_amp_phase_prediction"
   ]
  },
  {
   "cell_type": "code",
   "execution_count": 27,
   "id": "04413400-38b5-4c54-a8d5-16a9eea6d7f1",
   "metadata": {},
   "outputs": [],
   "source": [
    "# Load data\n",
    "amplitudes = []\n",
    "phases = []\n",
    "\n",
    "for file_number in TRAIN_FILE_SUFFIXES + [VALIDATION_FILE_SUFFIX] + [TEST_FILE_SUFFIX]:\n",
    "    amp_filename = f\"{ORIGINAL_SLM_FOLDER}{file_number}/{ORIGINAL_AMPLITUDE_FILENAME}\"\n",
    "    phase_filename = f\"{ORIGINAL_SLM_FOLDER}{file_number}/{ORIGINAL_PHASE_FILENAME}\"\n",
    "    amplitudes.append(np.float32(np.load(amp_filename)))\n",
    "    phases.append(np.float32(np.load(phase_filename)))\n",
    "\n",
    "amplitudes = np.concatenate(amplitudes, axis=0)\n",
    "phases = np.concatenate(phases, axis=0)\n"
   ]
  },
  {
   "cell_type": "markdown",
   "id": "bcb7b4c6-31fe-42c9-91b4-7ae78b162cdb",
   "metadata": {},
   "source": [
    "Now process the data"
   ]
  },
  {
   "cell_type": "code",
   "execution_count": 31,
   "id": "c98e3689-5bfe-4a2b-909b-5586be6cc8aa",
   "metadata": {},
   "outputs": [],
   "source": [
    "# Normalize data\n",
    "normalized_amplitudes, fc_amplitude_scaler = normalize_data(amplitudes)\n",
    "normalized_phases, fc_phase_scaler = normalize_data(phases)"
   ]
  },
  {
   "cell_type": "code",
   "execution_count": 33,
   "id": "3a97e25b-70de-4f45-afc6-804d71a56570",
   "metadata": {},
   "outputs": [
    {
     "data": {
      "text/plain": [
       "(90000, 96, 96)"
      ]
     },
     "execution_count": 33,
     "metadata": {},
     "output_type": "execute_result"
    }
   ],
   "source": [
    "normalized_amplitudes.shape\n",
    "normalized_phases.shape"
   ]
  },
  {
   "cell_type": "code",
   "execution_count": 34,
   "id": "c464b4ca-7b04-42e7-a789-01f1eb55402f",
   "metadata": {},
   "outputs": [
    {
     "data": {
      "text/plain": [
       "(90000, 2, 96, 96)"
      ]
     },
     "execution_count": 34,
     "metadata": {},
     "output_type": "execute_result"
    }
   ],
   "source": [
    "# Stack amplitude and phase\n",
    "amp_phase_array = fuse_amplitude_and_phase(normalized_amplitudes, normalized_phases)\n",
    "amp_phase_array.shape"
   ]
  },
  {
   "cell_type": "markdown",
   "id": "21536df6-2ae0-4dbc-93c4-6fd65193366c",
   "metadata": {},
   "source": [
    "Save data"
   ]
  },
  {
   "cell_type": "code",
   "execution_count": 36,
   "id": "6dd35f0a-764a-40cb-8b75-1b4042aba770",
   "metadata": {},
   "outputs": [],
   "source": [
    "from constants import TRAIN_FC_AMP_PHASE_PATH, \\\n",
    "                      VALIDATION_FC_AMP_PHASE_PATH, \\\n",
    "                      TEST_FC_AMP_PHASE_PATH, \\\n",
    "                      FC_AMP_SCALER_PATH, \\\n",
    "                      FC_PHASE_SCALER_PATH"
   ]
  },
  {
   "cell_type": "code",
   "execution_count": 38,
   "id": "8dc93eea-8c06-42e1-8d83-562904a1e33d",
   "metadata": {},
   "outputs": [],
   "source": [
    "start = 0\n",
    "end = 10000\n",
    "# Save train data\n",
    "for train_file in TRAIN_FILE_SUFFIXES:\n",
    "    filename = f\"{TRAIN_FC_AMP_PHASE_PATH}{train_file}{NUMPY_SUFFIX}\"\n",
    "    save_numpy_array(amp_phase_array[start:end], filename)\n",
    "    start += 10000\n",
    "    end += 10000\n",
    "\n",
    "# Save validation data\n",
    "save_numpy_array(amp_phase_array[start:end], VALIDATION_FC_AMP_PHASE_PATH)\n",
    "start += 10000\n",
    "end += 10000\n",
    "\n",
    "# Save test data\n",
    "save_numpy_array(amp_phase_array[start:end], TEST_FC_AMP_PHASE_PATH)\n",
    "\n",
    "# Save scalers\n",
    "save_scaler(fc_amplitude_scaler, FC_AMP_SCALER_PATH)\n",
    "save_scaler(fc_phase_scaler, FC_PHASE_SCALER_PATH)"
   ]
  },
  {
   "cell_type": "markdown",
   "id": "b88ac4cb-51c9-4f99-89fc-cf85aee9b0cd",
   "metadata": {},
   "source": [
    "## 2.2 Amplitude and Phase for Convolutional Architecture"
   ]
  },
  {
   "cell_type": "markdown",
   "id": "314fbaad-c60d-4b25-883d-27b9285f8480",
   "metadata": {},
   "source": [
    "For CNN Architecture we need to:\n",
    "- Normalize\n",
    "- Stack amplitude and phase"
   ]
  },
  {
   "cell_type": "code",
   "execution_count": 2,
   "id": "64a6f222-0694-46c8-ac1e-f5fdd894a953",
   "metadata": {},
   "outputs": [],
   "source": [
    "from constants import ORIGINAL_SLM_FOLDER, \\\n",
    "                      ORIGINAL_AMPLITUDE_FILENAME, \\\n",
    "                      ORIGINAL_PHASE_FILENAME, \\\n",
    "                      TRAIN_FILE_SUFFIXES, \\\n",
    "                      VAL_AMP_PHASE_FILE_SUFFIX, \\\n",
    "                      TEST_AMP_PHASE_FILE_SUFFIX, \\\n",
    "                      NUMPY_SUFFIX"
   ]
  },
  {
   "cell_type": "code",
   "execution_count": 3,
   "id": "842fe975-ffc8-42c9-a5ea-bb9d1b26c819",
   "metadata": {},
   "outputs": [],
   "source": [
    "# Load data\n",
    "amplitudes = []\n",
    "phases = []\n",
    "\n",
    "for file_number in TRAIN_FILE_SUFFIXES + [VAL_AMP_PHASE_FILE_SUFFIX] + [TEST_AMP_PHASE_FILE_SUFFIX]:\n",
    "    amp_filename = f\"{ORIGINAL_SLM_FOLDER}{file_number}/{ORIGINAL_AMPLITUDE_FILENAME}\"\n",
    "    phase_filename = f\"{ORIGINAL_SLM_FOLDER}{file_number}/{ORIGINAL_PHASE_FILENAME}\"\n",
    "    amplitudes.append(np.float32(np.load(amp_filename)))\n",
    "    phases.append(np.float32(np.load(phase_filename)))\n",
    "\n",
    "amplitudes = np.concatenate(amplitudes, axis=0)\n",
    "phases = np.concatenate(phases, axis=0)"
   ]
  },
  {
   "cell_type": "markdown",
   "id": "8e8250ea-4097-42ed-b1ab-c61782dea463",
   "metadata": {},
   "source": [
    "Now process data"
   ]
  },
  {
   "cell_type": "code",
   "execution_count": 4,
   "id": "07d00feb-d3b4-442b-bf79-36fc631412da",
   "metadata": {},
   "outputs": [],
   "source": [
    "# Normalize data\n",
    "normalized_amplitudes, cnn_amplitude_scaler = normalize_data(amplitudes)\n",
    "normalized_phases, cnn_phase_scaler = normalize_data(phases)"
   ]
  },
  {
   "cell_type": "code",
   "execution_count": 5,
   "id": "8d08bc76-c693-40f9-a417-f2ef88771c7f",
   "metadata": {},
   "outputs": [
    {
     "data": {
      "text/plain": [
       "(90000, 96, 96)"
      ]
     },
     "execution_count": 5,
     "metadata": {},
     "output_type": "execute_result"
    }
   ],
   "source": [
    "normalized_amplitudes.shape\n",
    "normalized_phases.shape"
   ]
  },
  {
   "cell_type": "code",
   "execution_count": 6,
   "id": "9fe005d5-0486-4038-822b-6f58a01fb210",
   "metadata": {},
   "outputs": [
    {
     "data": {
      "text/plain": [
       "(90000, 2, 96, 96)"
      ]
     },
     "execution_count": 6,
     "metadata": {},
     "output_type": "execute_result"
    }
   ],
   "source": [
    "# Stack amplitude and phase\n",
    "amp_phase_array = fuse_amplitude_and_phase(normalized_amplitudes, normalized_phases)\n",
    "amp_phase_array.shape"
   ]
  },
  {
   "cell_type": "markdown",
   "id": "31f9d925-5f11-4aa9-9d15-bcac7de9a645",
   "metadata": {},
   "source": [
    "Save data"
   ]
  },
  {
   "cell_type": "code",
   "execution_count": 7,
   "id": "22909a9d-2079-4a38-88d2-73beb44656a6",
   "metadata": {},
   "outputs": [],
   "source": [
    "from constants import TRAIN_CNN_AMP_PHASE_PATH, \\\n",
    "                      VALIDATION_CNN_AMP_PHASE_PATH, \\\n",
    "                      TEST_CNN_AMP_PHASE_PATH, \\\n",
    "                      CNN_AMP_SCALER_PATH, \\\n",
    "                      CNN_PHASE_SCALER_PATH"
   ]
  },
  {
   "cell_type": "code",
   "execution_count": 8,
   "id": "38acf1cf-04d0-4d04-b144-f541ba77057d",
   "metadata": {},
   "outputs": [],
   "source": [
    "start = 0\n",
    "end = 10000\n",
    "# Save train data\n",
    "for train_file in TRAIN_FILE_SUFFIXES:\n",
    "    filename = f\"{TRAIN_CNN_AMP_PHASE_PATH}{train_file}{NUMPY_SUFFIX}\"\n",
    "    save_numpy_array(amp_phase_array[start:end], filename)\n",
    "    start += 10000\n",
    "    end += 10000\n",
    "\n",
    "# Save validation data\n",
    "save_numpy_array(amp_phase_array[start:end], VALIDATION_CNN_AMP_PHASE_PATH)\n",
    "start += 10000\n",
    "end += 10000\n",
    "\n",
    "# Save test data\n",
    "save_numpy_array(amp_phase_array[start:end], TEST_CNN_AMP_PHASE_PATH)\n",
    "\n",
    "# Save scalers\n",
    "save_scaler(cnn_amplitude_scaler, CNN_AMP_SCALER_PATH)\n",
    "save_scaler(cnn_phase_scaler, CNN_PHASE_SCALER_PATH)"
   ]
  },
  {
   "cell_type": "markdown",
   "id": "4c7ab445-170d-4338-93b7-d83c3297e8e7",
   "metadata": {},
   "source": [
    "## 2.3 Amplitude and Phase for Autoencoder + Convolutional Architecture"
   ]
  },
  {
   "cell_type": "markdown",
   "id": "fe628424-c79c-4d79-afcb-b178aaab96c4",
   "metadata": {},
   "source": [
    "For the Autoencoder + Convolutional Architecture we need to:\n",
    "- Add padding (8 top and 8 bottom rows)\n",
    "- Normalize\n",
    "- Stack amplitude and phase\n",
    "- Swap axes"
   ]
  },
  {
   "cell_type": "code",
   "execution_count": 2,
   "id": "e3069229-62a6-4e07-9c90-dd2960332278",
   "metadata": {},
   "outputs": [],
   "source": [
    "from constants import ORIGINAL_SLM_FOLDER, \\\n",
    "                      ORIGINAL_AMPLITUDE_FILENAME, \\\n",
    "                      ORIGINAL_PHASE_FILENAME, \\\n",
    "                      TRAIN_FILE_SUFFIXES, \\\n",
    "                      VAL_AMP_PHASE_FILE_SUFFIX, \\\n",
    "                      TEST_AMP_PHASE_FILE_SUFFIX, \\\n",
    "                      NUMPY_SUFFIX"
   ]
  },
  {
   "cell_type": "code",
   "execution_count": 3,
   "id": "785c6494-a488-40ab-8a3a-2e4a602fa0f0",
   "metadata": {},
   "outputs": [],
   "source": [
    "# Load data\n",
    "amplitudes = []\n",
    "phases = []\n",
    "\n",
    "for file_number in TRAIN_FILE_SUFFIXES + [VAL_AMP_PHASE_FILE_SUFFIX] + [TEST_AMP_PHASE_FILE_SUFFIX]:\n",
    "    amp_filename = f\"{ORIGINAL_SLM_FOLDER}{file_number}/{ORIGINAL_AMPLITUDE_FILENAME}\"\n",
    "    amplitudes.append(np.float32(np.load(amp_filename)))\n",
    "\n",
    "amplitudes = np.concatenate(amplitudes, axis=0)"
   ]
  },
  {
   "cell_type": "markdown",
   "id": "28af15f3-b52e-4d93-9aed-5b7ee09ac328",
   "metadata": {},
   "source": [
    "Process data"
   ]
  },
  {
   "cell_type": "markdown",
   "id": "40dc25c6-355c-4042-bf81-5fe447ea4c8f",
   "metadata": {},
   "source": [
    "First amplitudes"
   ]
  },
  {
   "cell_type": "code",
   "execution_count": 4,
   "id": "79717a0c-10e9-4d53-9c90-1ec0b0a96070",
   "metadata": {},
   "outputs": [],
   "source": [
    "# Add padding\n",
    "amplitudes = add_row_padding(amplitudes, top_rows=8, bottom_rows=8)"
   ]
  },
  {
   "cell_type": "code",
   "execution_count": 5,
   "id": "f32c48e9-7811-4780-b504-432cc488b9e5",
   "metadata": {},
   "outputs": [],
   "source": [
    "# Normalize data\n",
    "normalized_amplitudes, autoencoder_amplitude_scaler = normalize_data(amplitudes)"
   ]
  },
  {
   "cell_type": "code",
   "execution_count": 6,
   "id": "c649658a-5824-4da9-92ee-fdf54285974f",
   "metadata": {},
   "outputs": [],
   "source": [
    "from constants import AUTOENCODER_AMP_SCALER_PATH\n",
    "save_numpy_array(normalized_amplitudes, \"temp_amp.npy\")\n",
    "save_scaler(autoencoder_amplitude_scaler, AUTOENCODER_AMP_SCALER_PATH)"
   ]
  },
  {
   "cell_type": "markdown",
   "id": "6b7d3dc6-a36b-4ae6-8db7-8a43c2666f31",
   "metadata": {},
   "source": [
    "Now phases"
   ]
  },
  {
   "cell_type": "code",
   "execution_count": 3,
   "id": "47fdbc9f-6f89-4d33-ab70-245e3f9f97f0",
   "metadata": {},
   "outputs": [],
   "source": [
    "# Load data\n",
    "phases = []\n",
    "\n",
    "for file_number in TRAIN_FILE_SUFFIXES + [VAL_AMP_PHASE_FILE_SUFFIX] + [TEST_AMP_PHASE_FILE_SUFFIX]:\n",
    "    phase_filename = f\"{ORIGINAL_SLM_FOLDER}{file_number}/{ORIGINAL_PHASE_FILENAME}\"\n",
    "    phases.append(np.float32(np.load(phase_filename)))\n",
    "    \n",
    "phases = np.concatenate(phases, axis=0)"
   ]
  },
  {
   "cell_type": "code",
   "execution_count": 4,
   "id": "f3d10060-b50e-49c1-b008-487d73cef42b",
   "metadata": {},
   "outputs": [],
   "source": [
    "phases = add_row_padding(phases, top_rows=8, bottom_rows=8)"
   ]
  },
  {
   "cell_type": "code",
   "execution_count": 5,
   "id": "890bb72c-9d47-4a6d-a9f2-4b821d58de75",
   "metadata": {},
   "outputs": [],
   "source": [
    "normalized_phases, autoencoder_phase_scaler = normalize_data(phases)"
   ]
  },
  {
   "cell_type": "code",
   "execution_count": 6,
   "id": "f81a58ca-4d26-4a08-a513-9934913328d1",
   "metadata": {},
   "outputs": [],
   "source": [
    "from constants import AUTOENCODER_PHASE_SCALER_PATH\n",
    "save_numpy_array(normalized_phases, \"temp_phase.npy\")\n",
    "save_scaler(autoencoder_phase_scaler, AUTOENCODER_PHASE_SCALER_PATH)"
   ]
  },
  {
   "cell_type": "code",
   "execution_count": 7,
   "id": "cd1f7a85-ab73-4578-87e6-5fdcfbb0ee22",
   "metadata": {},
   "outputs": [
    {
     "data": {
      "text/plain": [
       "(90000, 112, 96)"
      ]
     },
     "execution_count": 7,
     "metadata": {},
     "output_type": "execute_result"
    }
   ],
   "source": [
    "normalized_phases.shape"
   ]
  },
  {
   "cell_type": "markdown",
   "id": "135a82ad-f602-4cc8-a9d3-af979b6bb236",
   "metadata": {},
   "source": [
    "Second part: Stack amplitude and phase"
   ]
  },
  {
   "cell_type": "code",
   "execution_count": 3,
   "id": "c1b31241-0497-4319-a5ed-dd8bc336a568",
   "metadata": {},
   "outputs": [],
   "source": [
    "# Stack amplitude and phase\n",
    "amplitudes = np.load(\"temp_amp.npy\")[0:70000]\n",
    "phases = np.load(\"temp_phase.npy\")[0:70000]\n",
    "\n",
    "amp_phase_array = fuse_amplitude_and_phase(amplitudes, phases)\n",
    "amp_phase_array.shape\n",
    "\n",
    "amp_phase_array = np.swapaxes(amp_phase_array, 1, 3)\n",
    "amp_phase_array = np.swapaxes(amp_phase_array, 1, 2)"
   ]
  },
  {
   "cell_type": "code",
   "execution_count": 4,
   "id": "6a1f2272-2985-4667-8812-0e2ef5537aa7",
   "metadata": {},
   "outputs": [
    {
     "data": {
      "text/plain": [
       "(70000, 112, 96, 2)"
      ]
     },
     "execution_count": 4,
     "metadata": {},
     "output_type": "execute_result"
    }
   ],
   "source": [
    "amp_phase_array.shape"
   ]
  },
  {
   "cell_type": "markdown",
   "id": "25fe638f-590c-4339-9020-550929a87807",
   "metadata": {},
   "source": [
    "Save data"
   ]
  },
  {
   "cell_type": "code",
   "execution_count": 3,
   "id": "ed02219c-0a59-4d91-ba0c-91a0fc8e79a9",
   "metadata": {},
   "outputs": [],
   "source": [
    "from constants import TRAIN_AUTOENCODER_AMP_PHASE_PATH, \\\n",
    "                      VALIDATION_AUTOENCODER_AMP_PHASE_PATH, \\\n",
    "                      TEST_AUTOENCODER_AMP_PHASE_PATH"
   ]
  },
  {
   "cell_type": "code",
   "execution_count": 6,
   "id": "aea4c452-8b58-4042-9f64-5179730ba5b8",
   "metadata": {},
   "outputs": [],
   "source": [
    "start = 0\n",
    "end = 10000\n",
    "# Save train data\n",
    "for train_file in TRAIN_FILE_SUFFIXES:\n",
    "    filename = f\"{TRAIN_AUTOENCODER_AMP_PHASE_PATH}{train_file}{NUMPY_SUFFIX}\"\n",
    "    save_numpy_array(amp_phase_array[start:end], filename)\n",
    "    start += 10000\n",
    "    end += 10000"
   ]
  },
  {
   "cell_type": "code",
   "execution_count": 4,
   "id": "53fb9c21-280c-4295-881e-0dda6225334a",
   "metadata": {},
   "outputs": [
    {
     "name": "stdout",
     "output_type": "stream",
     "text": [
      "(20000, 2, 112, 96)\n"
     ]
    }
   ],
   "source": [
    "# Stack amplitude and phase\n",
    "amplitudes = np.load(\"temp_amp.npy\")[70000:]\n",
    "phases = np.load(\"temp_phase.npy\")[70000:]\n",
    "\n",
    "amp_phase_array = fuse_amplitude_and_phase(amplitudes, phases)\n",
    "print(amp_phase_array.shape)\n",
    "\n",
    "amp_phase_array = np.swapaxes(amp_phase_array, 1, 3)\n",
    "amp_phase_array = np.swapaxes(amp_phase_array, 1, 2)"
   ]
  },
  {
   "cell_type": "code",
   "execution_count": 5,
   "id": "7db62b85-435d-4c04-b208-19ed22c314c3",
   "metadata": {},
   "outputs": [
    {
     "name": "stdout",
     "output_type": "stream",
     "text": [
      "(20000, 112, 96, 2)\n"
     ]
    }
   ],
   "source": [
    "print(amp_phase_array.shape)"
   ]
  },
  {
   "cell_type": "code",
   "execution_count": 7,
   "id": "78b6082e-b13f-4fec-bcdf-c9cd649f8fd4",
   "metadata": {},
   "outputs": [],
   "source": [
    "# Save validation data\n",
    "save_numpy_array(amp_phase_array[0:10000], VALIDATION_AUTOENCODER_AMP_PHASE_PATH)\n",
    "# Save test data\n",
    "save_numpy_array(amp_phase_array[10000:20000], TEST_AUTOENCODER_AMP_PHASE_PATH)"
   ]
  }
 ],
 "metadata": {
  "kernelspec": {
   "display_name": "sail-env",
   "language": "python",
   "name": "sail-env"
  },
  "language_info": {
   "codemirror_mode": {
    "name": "ipython",
    "version": 3
   },
   "file_extension": ".py",
   "mimetype": "text/x-python",
   "name": "python",
   "nbconvert_exporter": "python",
   "pygments_lexer": "ipython3",
   "version": "3.9.18"
  }
 },
 "nbformat": 4,
 "nbformat_minor": 5
}
