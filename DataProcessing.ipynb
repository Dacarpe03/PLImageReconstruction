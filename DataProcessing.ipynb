{
 "cells": [
  {
   "cell_type": "code",
   "execution_count": 1,
   "id": "e9c4e6bc-4af5-40fb-b4c8-b648b9e8bcb0",
   "metadata": {},
   "outputs": [],
   "source": [
    "import numpy as np\n",
    "\n",
    "from data_utils import normalize_data, \\\n",
    "                       flatten_data, \\\n",
    "                       save_numpy_array, \\\n",
    "                       save_scaler\n",
    "                      "
   ]
  },
  {
   "cell_type": "markdown",
   "id": "8a33e0ad-efbc-48f2-8719-afb1399865b4",
   "metadata": {},
   "source": [
    "# 0. Objective"
   ]
  },
  {
   "cell_type": "markdown",
   "id": "4997323f-4daf-401a-9ebe-b47a326b1f0a",
   "metadata": {},
   "source": [
    "With this notebook we will process and save the flux, amplitude and phase data, dividing them into train, validation and test datasets.\n",
    "The dataset sizes are the following:\n",
    "- Train: 70000\n",
    "- Validation: 10000\n",
    "- Test: 10000"
   ]
  },
  {
   "cell_type": "markdown",
   "id": "e9b8def7-7920-4fa5-ada6-254e6591299d",
   "metadata": {},
   "source": [
    "# 1. Flux Data"
   ]
  },
  {
   "cell_type": "code",
   "execution_count": 22,
   "id": "348bdb9f-97f9-40f1-b91d-172e7d62bbda",
   "metadata": {},
   "outputs": [],
   "source": [
    "from constants import ORIGINAL_FLUXES_FILE"
   ]
  },
  {
   "cell_type": "code",
   "execution_count": null,
   "id": "7de30464-9d6e-4c62-91db-3b1b8e9c1ecc",
   "metadata": {},
   "outputs": [],
   "source": [
    "TRAIN_SIZE = 70000\n",
    "VALIDATION_SIZE = 10000\n",
    "TEST_SIZE = 10000"
   ]
  },
  {
   "cell_type": "markdown",
   "id": "a6859748-906e-42b4-b107-8e1b6b4171c6",
   "metadata": {},
   "source": [
    "## 1.1 Flux Data for Fully Connected Architectures\n",
    "For the FC Architectures we need to:\n",
    " - Normalize\n",
    " - Flatten"
   ]
  },
  {
   "cell_type": "code",
   "execution_count": 2,
   "id": "75ba34e0-7942-4f96-945d-eba3ab159354",
   "metadata": {},
   "outputs": [],
   "source": [
    "# Load flux data\n",
    "fluxes_array = np.load(ORIGINAL_FLUXES_FILE)"
   ]
  },
  {
   "cell_type": "markdown",
   "id": "6474d7e4-db25-42ba-a370-f14edf05c7e6",
   "metadata": {},
   "source": [
    "Check the shape of the data, there should be 90000 data points"
   ]
  },
  {
   "cell_type": "code",
   "execution_count": 3,
   "id": "9246128e-c84b-484e-9fc7-5276949db8b8",
   "metadata": {},
   "outputs": [
    {
     "data": {
      "text/plain": [
       "(90000, 55, 24)"
      ]
     },
     "execution_count": 3,
     "metadata": {},
     "output_type": "execute_result"
    }
   ],
   "source": [
    "fluxes_array.shape"
   ]
  },
  {
   "cell_type": "markdown",
   "id": "027697ac-2ebc-4585-ac41-504641ab70a8",
   "metadata": {},
   "source": [
    "Now process the data"
   ]
  },
  {
   "cell_type": "code",
   "execution_count": 4,
   "id": "92f85a92-3700-4e7a-b35c-83ad29361144",
   "metadata": {},
   "outputs": [],
   "source": [
    "# Normalize data\n",
    "fc_normalized_fluxes_array, fc_flux_scaler = normalize_data(fluxes_array)"
   ]
  },
  {
   "cell_type": "code",
   "execution_count": 6,
   "id": "994ede3e-890c-4776-8a20-92e6b1f07397",
   "metadata": {},
   "outputs": [],
   "source": [
    "# Flatten data\n",
    "fc_flattened_normalized_fluxes_array = flatten_data(fc_normalized_fluxes_array)"
   ]
  },
  {
   "cell_type": "code",
   "execution_count": 23,
   "id": "931da1cb-2ab6-46a4-b344-6e5f8cd32828",
   "metadata": {},
   "outputs": [],
   "source": [
    "# Split data\n",
    "train_fc_fluxes, val_fc_fluxes, test_fc_fluxes = split_flux(fc_flattened_normalized_fluxes_array,\n",
    "                                                            TRAIN_SIZE,\n",
    "                                                            VALIDATION_SIZE,\n",
    "                                                            TEST_SIZE)"
   ]
  },
  {
   "cell_type": "markdown",
   "id": "bc0e124d-71e5-43c1-a250-39afabda8ed0",
   "metadata": {},
   "source": [
    "Save data and scalers"
   ]
  },
  {
   "cell_type": "code",
   "execution_count": null,
   "id": "4f46a144-65f4-4d20-9bee-c1b4bb413333",
   "metadata": {},
   "outputs": [],
   "source": [
    "# Load data paths\n",
    "from constants import TRAIN_FC_FLUXES_PATH, \\\n",
    "                      VALIDATION_FC_FLUXES_PATH, \\\n",
    "                      TEST_FC_FLUXES_PATH, \\\n",
    "                      FC_FLUX_SCALER_PATH\n",
    "\n",
    "# Save train fluxes\n",
    "save_numpy_array(train_fc_fluxes, TRAIN_FC_FLUXES_PATH)\n",
    "# Save validation fluxes\n",
    "save_numpy_array(val_fc_fluxes, VALIDATION_FC_FLUXES_PATH)\n",
    "# Save test fluxes\n",
    "save_numpy_array(test_fc_fluxes, TEST_FC_FLUXES_PATH)\n",
    "# Save fully connected flux scaler\n",
    "save_scaler(fc_flux_scaler, FC_FLUX_SCALER_PATH)"
   ]
  }
 ],
 "metadata": {
  "kernelspec": {
   "display_name": "sail-env",
   "language": "python",
   "name": "sail-env"
  },
  "language_info": {
   "codemirror_mode": {
    "name": "ipython",
    "version": 3
   },
   "file_extension": ".py",
   "mimetype": "text/x-python",
   "name": "python",
   "nbconvert_exporter": "python",
   "pygments_lexer": "ipython3",
   "version": "3.9.18"
  }
 },
 "nbformat": 4,
 "nbformat_minor": 5
}
