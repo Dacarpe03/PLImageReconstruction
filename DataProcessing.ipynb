{
 "cells": [
  {
   "cell_type": "code",
   "execution_count": null,
   "id": "e9c4e6bc-4af5-40fb-b4c8-b648b9e8bcb0",
   "metadata": {},
   "outputs": [],
   "source": [
    "from data_utils import load_flux_data"
   ]
  },
  {
   "cell_type": "code",
   "execution_count": 1,
   "id": "77b7c2cb-7730-4bdb-984e-01b9c958016d",
   "metadata": {},
   "outputs": [],
   "source": [
    "AMPLITUDE_RECONSTRUCTION_DATA_PATH = \"../Data/\"\n",
    "\n",
    "ORIGINAL_FOLDER_DATA_PATH = f\"{AMPLITUDE_RECONSTRUCTION_DATA_PATH}/OriginalData\"\n",
    "ORIGINAL_FLUXES_FOLDER = f\"{ORIGINAL_FOLDER_DATA_PATH}/plfluxes_simplepoly__pllabdata_20230625a_superK_slmcube_20230625_complsines-01sp_04\"\n",
    "ORIGINAL_FLUXES_FILE = f\"{ORIGINAL_FLUXES_FOLDER}/\"\n",
    "ORIGINAL_SLM_FOLDER = f\"{ORIGINAL_FOLDER_DATA_PATH}/slmcube_20230625_complsines-01sp_04_PSFWFs_file\""
   ]
  },
  {
   "cell_type": "code",
   "execution_count": 2,
   "id": "1a3de517-e0a0-40f0-ab40-ab67971258b2",
   "metadata": {},
   "outputs": [],
   "source": [
    "import numpy as np"
   ]
  },
  {
   "cell_type": "code",
   "execution_count": 3,
   "id": "75ba34e0-7942-4f96-945d-eba3ab159354",
   "metadata": {},
   "outputs": [],
   "source": [
    "array = np.load(f\"{ORIGINAL_FLUXES_FILE}/combined_coeffs.npy\")"
   ]
  },
  {
   "cell_type": "code",
   "execution_count": 4,
   "id": "4d64cbbe-7985-43b8-a2f2-601c18ef9d64",
   "metadata": {},
   "outputs": [
    {
     "data": {
      "text/plain": [
       "(900000, 4)"
      ]
     },
     "execution_count": 4,
     "metadata": {},
     "output_type": "execute_result"
    }
   ],
   "source": [
    "array.shape"
   ]
  },
  {
   "cell_type": "code",
   "execution_count": null,
   "id": "1967f58c-5abf-4d25-90eb-571e25daf066",
   "metadata": {},
   "outputs": [],
   "source": []
  }
 ],
 "metadata": {
  "kernelspec": {
   "display_name": "sail-env",
   "language": "python",
   "name": "sail-env"
  },
  "language_info": {
   "codemirror_mode": {
    "name": "ipython",
    "version": 3
   },
   "file_extension": ".py",
   "mimetype": "text/x-python",
   "name": "python",
   "nbconvert_exporter": "python",
   "pygments_lexer": "ipython3",
   "version": "3.9.18"
  }
 },
 "nbformat": 4,
 "nbformat_minor": 5
}
