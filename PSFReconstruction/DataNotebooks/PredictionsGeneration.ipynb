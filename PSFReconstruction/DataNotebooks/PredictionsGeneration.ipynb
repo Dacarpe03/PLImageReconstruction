{
 "cells": [
  {
   "cell_type": "code",
   "execution_count": 1,
   "id": "0ce8ecbf-7a29-4589-a40d-3d86cba5fff3",
   "metadata": {},
   "outputs": [
    {
     "name": "stderr",
     "output_type": "stream",
     "text": [
      "2024-04-26 08:56:57.693564: I tensorflow/core/util/port.cc:113] oneDNN custom operations are on. You may see slightly different numerical results due to floating-point round-off errors from different computation orders. To turn them off, set the environment variable `TF_ENABLE_ONEDNN_OPTS=0`.\n",
      "2024-04-26 08:56:58.271759: E external/local_xla/xla/stream_executor/cuda/cuda_dnn.cc:9261] Unable to register cuDNN factory: Attempting to register factory for plugin cuDNN when one has already been registered\n",
      "2024-04-26 08:56:58.271971: E external/local_xla/xla/stream_executor/cuda/cuda_fft.cc:607] Unable to register cuFFT factory: Attempting to register factory for plugin cuFFT when one has already been registered\n",
      "2024-04-26 08:56:58.333367: E external/local_xla/xla/stream_executor/cuda/cuda_blas.cc:1515] Unable to register cuBLAS factory: Attempting to register factory for plugin cuBLAS when one has already been registered\n",
      "2024-04-26 08:56:58.484195: I tensorflow/core/platform/cpu_feature_guard.cc:182] This TensorFlow binary is optimized to use available CPU instructions in performance-critical operations.\n",
      "To enable the following instructions: AVX2 AVX_VNNI FMA, in other operations, rebuild TensorFlow with the appropriate compiler flags.\n",
      "2024-04-26 08:57:01.830568: W tensorflow/compiler/tf2tensorrt/utils/py_utils.cc:38] TF-TRT Warning: Could not find TensorRT\n"
     ]
    }
   ],
   "source": [
    "import numpy as np\n",
    "\n",
    "from modeling_utils import load_model\n",
    "\n",
    "from plot_utils import plot_amplitude_phase_fully_connected_prediction_from_electric_field\n",
    "\n",
    "from data_utils import load_validation_data, load_numpy_data, save_numpy_array\n",
    "\n",
    "from psf_constants import PROCESSED_TRAIN_20M_ZERNIKE_OUTPUT_FLUXES_FILE_PREFIX, \\\n",
    "                          FC_PREDICTED_TRAIN_20M_ZERNIKE_COMPLEX_FIELDS_FILE_PREFIX, \\\n",
    "                          FC_PREDICTED_CROPPED_TRAIN_20M_ZERNIKE_COMPLEX_FIELDS_FILE_PREFIX, \\\n",
    "                          PSF_TRAIN_FILE_SUFFIXES, \\\n",
    "                          NUMPY_SUFFIX"
   ]
  },
  {
   "cell_type": "code",
   "execution_count": 2,
   "id": "802d4e48-1836-4e70-86fc-b6c790f44f2a",
   "metadata": {},
   "outputs": [],
   "source": [
    "model_name = \"SuperBigZernike20MFC70000-1\"\n",
    "model_name_cropped = \"SuperBigCroppedZernike20MFC70000-1\""
   ]
  },
  {
   "cell_type": "code",
   "execution_count": 3,
   "id": "c168eb89-1583-4f69-8f6a-b60eb84c3efb",
   "metadata": {},
   "outputs": [
    {
     "name": "stderr",
     "output_type": "stream",
     "text": [
      "2024-04-26 08:57:09.792073: I external/local_xla/xla/stream_executor/cuda/cuda_executor.cc:901] successful NUMA node read from SysFS had negative value (-1), but there must be at least one NUMA node, so returning NUMA node zero. See more at https://github.com/torvalds/linux/blob/v6.0/Documentation/ABI/testing/sysfs-bus-pci#L344-L355\n",
      "2024-04-26 08:57:10.208317: I external/local_xla/xla/stream_executor/cuda/cuda_executor.cc:901] successful NUMA node read from SysFS had negative value (-1), but there must be at least one NUMA node, so returning NUMA node zero. See more at https://github.com/torvalds/linux/blob/v6.0/Documentation/ABI/testing/sysfs-bus-pci#L344-L355\n",
      "2024-04-26 08:57:10.209151: I external/local_xla/xla/stream_executor/cuda/cuda_executor.cc:901] successful NUMA node read from SysFS had negative value (-1), but there must be at least one NUMA node, so returning NUMA node zero. See more at https://github.com/torvalds/linux/blob/v6.0/Documentation/ABI/testing/sysfs-bus-pci#L344-L355\n",
      "2024-04-26 08:57:10.217735: I external/local_xla/xla/stream_executor/cuda/cuda_executor.cc:901] successful NUMA node read from SysFS had negative value (-1), but there must be at least one NUMA node, so returning NUMA node zero. See more at https://github.com/torvalds/linux/blob/v6.0/Documentation/ABI/testing/sysfs-bus-pci#L344-L355\n",
      "2024-04-26 08:57:10.218490: I external/local_xla/xla/stream_executor/cuda/cuda_executor.cc:901] successful NUMA node read from SysFS had negative value (-1), but there must be at least one NUMA node, so returning NUMA node zero. See more at https://github.com/torvalds/linux/blob/v6.0/Documentation/ABI/testing/sysfs-bus-pci#L344-L355\n",
      "2024-04-26 08:57:10.218979: I external/local_xla/xla/stream_executor/cuda/cuda_executor.cc:901] successful NUMA node read from SysFS had negative value (-1), but there must be at least one NUMA node, so returning NUMA node zero. See more at https://github.com/torvalds/linux/blob/v6.0/Documentation/ABI/testing/sysfs-bus-pci#L344-L355\n",
      "2024-04-26 08:57:10.461874: I external/local_xla/xla/stream_executor/cuda/cuda_executor.cc:901] successful NUMA node read from SysFS had negative value (-1), but there must be at least one NUMA node, so returning NUMA node zero. See more at https://github.com/torvalds/linux/blob/v6.0/Documentation/ABI/testing/sysfs-bus-pci#L344-L355\n",
      "2024-04-26 08:57:10.462684: I external/local_xla/xla/stream_executor/cuda/cuda_executor.cc:901] successful NUMA node read from SysFS had negative value (-1), but there must be at least one NUMA node, so returning NUMA node zero. See more at https://github.com/torvalds/linux/blob/v6.0/Documentation/ABI/testing/sysfs-bus-pci#L344-L355\n",
      "2024-04-26 08:57:10.463267: I external/local_xla/xla/stream_executor/cuda/cuda_executor.cc:901] successful NUMA node read from SysFS had negative value (-1), but there must be at least one NUMA node, so returning NUMA node zero. See more at https://github.com/torvalds/linux/blob/v6.0/Documentation/ABI/testing/sysfs-bus-pci#L344-L355\n",
      "2024-04-26 08:57:10.463675: I tensorflow/core/common_runtime/gpu/gpu_device.cc:1929] Created device /job:localhost/replica:0/task:0/device:GPU:0 with 6219 MB memory:  -> device: 0, name: NVIDIA GeForce RTX 4070 Laptop GPU, pci bus id: 0000:01:00.0, compute capability: 8.9\n",
      "2024-04-26 08:57:35.867137: I external/local_tsl/tsl/platform/default/subprocess.cc:304] Start cannot spawn child process: No such file or directory\n"
     ]
    },
    {
     "name": "stdout",
     "output_type": "stream",
     "text": [
      "313/313 [==============================] - 3s 6ms/step\n",
      "ERROR: /home/dani/DaniProjects/SAIL/PhotonicLanternProjects/Data/PSFReconstruction/PredictedComplexFields/TrainData/fc_predicted_20M_zernike_complex_fields00.npy already exists.\n",
      "313/313 [==============================] - 2s 7ms/step\n",
      "ERROR: /home/dani/DaniProjects/SAIL/PhotonicLanternProjects/Data/PSFReconstruction/PredictedComplexFields/TrainData/fc_predicted_20M_zernike_complex_fields01.npy already exists.\n",
      "313/313 [==============================] - 2s 7ms/step\n",
      "ERROR: /home/dani/DaniProjects/SAIL/PhotonicLanternProjects/Data/PSFReconstruction/PredictedComplexFields/TrainData/fc_predicted_20M_zernike_complex_fields02.npy already exists.\n",
      "313/313 [==============================] - 2s 7ms/step\n",
      "ERROR: /home/dani/DaniProjects/SAIL/PhotonicLanternProjects/Data/PSFReconstruction/PredictedComplexFields/TrainData/fc_predicted_20M_zernike_complex_fields03.npy already exists.\n",
      "313/313 [==============================] - 2s 7ms/step\n",
      "ERROR: /home/dani/DaniProjects/SAIL/PhotonicLanternProjects/Data/PSFReconstruction/PredictedComplexFields/TrainData/fc_predicted_20M_zernike_complex_fields04.npy already exists.\n",
      "313/313 [==============================] - 2s 7ms/step\n",
      "ERROR: /home/dani/DaniProjects/SAIL/PhotonicLanternProjects/Data/PSFReconstruction/PredictedComplexFields/TrainData/fc_predicted_20M_zernike_complex_fields05.npy already exists.\n",
      "313/313 [==============================] - 2s 7ms/step\n",
      "ERROR: /home/dani/DaniProjects/SAIL/PhotonicLanternProjects/Data/PSFReconstruction/PredictedComplexFields/TrainData/fc_predicted_20M_zernike_complex_fields06.npy already exists.\n"
     ]
    }
   ],
   "source": [
    "model = load_model(model_name, psf_model=True)\n",
    "for suffix in PSF_TRAIN_FILE_SUFFIXES:\n",
    "    fluxes = np.load(f\"{PROCESSED_TRAIN_20M_ZERNIKE_OUTPUT_FLUXES_FILE_PREFIX}{suffix}{NUMPY_SUFFIX}\")\n",
    "    predicted_complex_fields = model.predict(fluxes)\n",
    "    filepath = f\"{FC_PREDICTED_TRAIN_20M_ZERNIKE_COMPLEX_FIELDS_FILE_PREFIX}{suffix}{NUMPY_SUFFIX}\"\n",
    "    save_numpy_array(predicted_complex_fields, filepath)"
   ]
  },
  {
   "cell_type": "code",
   "execution_count": 4,
   "id": "8b5a78d3-9b7f-4211-8025-b595d0d3e713",
   "metadata": {},
   "outputs": [
    {
     "name": "stdout",
     "output_type": "stream",
     "text": [
      "313/313 [==============================] - 2s 6ms/step\n",
      "313/313 [==============================] - 2s 6ms/step\n",
      "313/313 [==============================] - 2s 7ms/step\n",
      "313/313 [==============================] - 2s 7ms/step\n",
      "313/313 [==============================] - 2s 7ms/step\n",
      "313/313 [==============================] - 2s 7ms/step\n",
      "313/313 [==============================] - 2s 6ms/step\n"
     ]
    }
   ],
   "source": [
    "model = load_model(model_name_cropped, psf_model=True)\n",
    "for suffix in PSF_TRAIN_FILE_SUFFIXES:\n",
    "    fluxes = np.load(f\"{PROCESSED_TRAIN_20M_ZERNIKE_OUTPUT_FLUXES_FILE_PREFIX}{suffix}{NUMPY_SUFFIX}\")\n",
    "    predicted_complex_fields = model.predict(fluxes)\n",
    "    filepath = f\"{FC_PREDICTED_CROPPED_TRAIN_20M_ZERNIKE_COMPLEX_FIELDS_FILE_PREFIX}{suffix}{NUMPY_SUFFIX}\"\n",
    "    save_numpy_array(predicted_complex_fields, filepath)"
   ]
  }
 ],
 "metadata": {
  "kernelspec": {
   "display_name": "sail-env",
   "language": "python",
   "name": "sail-env"
  },
  "language_info": {
   "codemirror_mode": {
    "name": "ipython",
    "version": 3
   },
   "file_extension": ".py",
   "mimetype": "text/x-python",
   "name": "python",
   "nbconvert_exporter": "python",
   "pygments_lexer": "ipython3",
   "version": "3.9.18"
  }
 },
 "nbformat": 4,
 "nbformat_minor": 5
}
