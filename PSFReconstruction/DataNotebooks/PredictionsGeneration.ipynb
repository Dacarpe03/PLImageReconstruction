{
 "cells": [
  {
   "cell_type": "code",
   "execution_count": 2,
   "id": "0ce8ecbf-7a29-4589-a40d-3d86cba5fff3",
   "metadata": {},
   "outputs": [],
   "source": [
    "import numpy as np\n",
    "\n",
    "from modeling_utils import load_model\n",
    "\n",
    "from plot_utils import plot_amplitude_phase_fully_connected_prediction_from_electric_field\n",
    "\n",
    "from data_utils import load_validation_data, load_numpy_data, save_numpy_array\n",
    "\n",
    "from psf_constants import FC_PROCESSED_TRAIN_OUTPUT_FLUXES_PREFIX, \\\n",
    "                          FC_PREDICTED_TRAIN_COMPLEX_FIELDS_PREFIX, \\\n",
    "                          FC_PREDICTED_CROPPED_TRAIN_COMPLEX_FIELDS_PREFIX, \\\n",
    "                          PSF_TRAIN_FILE_SUFFIXES, \\\n",
    "                          NUMPY_SUFFIX"
   ]
  },
  {
   "cell_type": "code",
   "execution_count": 3,
   "id": "802d4e48-1836-4e70-86fc-b6c790f44f2a",
   "metadata": {},
   "outputs": [],
   "source": [
    "model_name = \"PSFRecontructorSuperBigFC70000-1\""
   ]
  },
  {
   "cell_type": "code",
   "execution_count": 4,
   "id": "24126192-471f-416b-9e05-d0bbb7531415",
   "metadata": {},
   "outputs": [
    {
     "name": "stderr",
     "output_type": "stream",
     "text": [
      "2024-04-08 15:31:34.258779: I external/local_xla/xla/stream_executor/cuda/cuda_executor.cc:901] successful NUMA node read from SysFS had negative value (-1), but there must be at least one NUMA node, so returning NUMA node zero. See more at https://github.com/torvalds/linux/blob/v6.0/Documentation/ABI/testing/sysfs-bus-pci#L344-L355\n",
      "2024-04-08 15:31:34.412248: I external/local_xla/xla/stream_executor/cuda/cuda_executor.cc:901] successful NUMA node read from SysFS had negative value (-1), but there must be at least one NUMA node, so returning NUMA node zero. See more at https://github.com/torvalds/linux/blob/v6.0/Documentation/ABI/testing/sysfs-bus-pci#L344-L355\n",
      "2024-04-08 15:31:34.413264: I external/local_xla/xla/stream_executor/cuda/cuda_executor.cc:901] successful NUMA node read from SysFS had negative value (-1), but there must be at least one NUMA node, so returning NUMA node zero. See more at https://github.com/torvalds/linux/blob/v6.0/Documentation/ABI/testing/sysfs-bus-pci#L344-L355\n",
      "2024-04-08 15:31:34.420903: I external/local_xla/xla/stream_executor/cuda/cuda_executor.cc:901] successful NUMA node read from SysFS had negative value (-1), but there must be at least one NUMA node, so returning NUMA node zero. See more at https://github.com/torvalds/linux/blob/v6.0/Documentation/ABI/testing/sysfs-bus-pci#L344-L355\n",
      "2024-04-08 15:31:34.421723: I external/local_xla/xla/stream_executor/cuda/cuda_executor.cc:901] successful NUMA node read from SysFS had negative value (-1), but there must be at least one NUMA node, so returning NUMA node zero. See more at https://github.com/torvalds/linux/blob/v6.0/Documentation/ABI/testing/sysfs-bus-pci#L344-L355\n",
      "2024-04-08 15:31:34.422238: I external/local_xla/xla/stream_executor/cuda/cuda_executor.cc:901] successful NUMA node read from SysFS had negative value (-1), but there must be at least one NUMA node, so returning NUMA node zero. See more at https://github.com/torvalds/linux/blob/v6.0/Documentation/ABI/testing/sysfs-bus-pci#L344-L355\n",
      "2024-04-08 15:31:34.633737: I external/local_xla/xla/stream_executor/cuda/cuda_executor.cc:901] successful NUMA node read from SysFS had negative value (-1), but there must be at least one NUMA node, so returning NUMA node zero. See more at https://github.com/torvalds/linux/blob/v6.0/Documentation/ABI/testing/sysfs-bus-pci#L344-L355\n",
      "2024-04-08 15:31:34.634549: I external/local_xla/xla/stream_executor/cuda/cuda_executor.cc:901] successful NUMA node read from SysFS had negative value (-1), but there must be at least one NUMA node, so returning NUMA node zero. See more at https://github.com/torvalds/linux/blob/v6.0/Documentation/ABI/testing/sysfs-bus-pci#L344-L355\n",
      "2024-04-08 15:31:34.635986: I external/local_xla/xla/stream_executor/cuda/cuda_executor.cc:901] successful NUMA node read from SysFS had negative value (-1), but there must be at least one NUMA node, so returning NUMA node zero. See more at https://github.com/torvalds/linux/blob/v6.0/Documentation/ABI/testing/sysfs-bus-pci#L344-L355\n",
      "2024-04-08 15:31:34.636450: I tensorflow/core/common_runtime/gpu/gpu_device.cc:1929] Created device /job:localhost/replica:0/task:0/device:GPU:0 with 6267 MB memory:  -> device: 0, name: NVIDIA GeForce RTX 4070 Laptop GPU, pci bus id: 0000:01:00.0, compute capability: 8.9\n"
     ]
    }
   ],
   "source": [
    "model = load_model(model_name, psf_model=True)"
   ]
  },
  {
   "cell_type": "code",
   "execution_count": 5,
   "id": "c168eb89-1583-4f69-8f6a-b60eb84c3efb",
   "metadata": {},
   "outputs": [
    {
     "name": "stderr",
     "output_type": "stream",
     "text": [
      "2024-04-08 15:31:59.781953: I external/local_tsl/tsl/platform/default/subprocess.cc:304] Start cannot spawn child process: No such file or directory\n"
     ]
    },
    {
     "name": "stdout",
     "output_type": "stream",
     "text": [
      "313/313 [==============================] - 4s 8ms/step\n",
      "313/313 [==============================] - 2s 7ms/step\n",
      "313/313 [==============================] - 2s 8ms/step\n",
      "313/313 [==============================] - 2s 7ms/step\n",
      "313/313 [==============================] - 2s 8ms/step\n",
      "313/313 [==============================] - 2s 7ms/step\n",
      "313/313 [==============================] - 2s 7ms/step\n"
     ]
    }
   ],
   "source": [
    "for suffix in PSF_TRAIN_FILE_SUFFIXES:\n",
    "    fluxes = np.load(f\"{FC_PROCESSED_TRAIN_OUTPUT_FLUXES_PREFIX}{suffix}{NUMPY_SUFFIX}\")\n",
    "    predicted_complex_fields = model.predict(fluxes)\n",
    "    filepath = f\"{FC_PREDICTED_TRAIN_COMPLEX_FIELDS_PREFIX}{suffix}{NUMPY_SUFFIX}\"\n",
    "    save_numpy_array(predicted_complex_fields, filepath)"
   ]
  },
  {
   "cell_type": "code",
   "execution_count": 6,
   "id": "8b5a78d3-9b7f-4211-8025-b595d0d3e713",
   "metadata": {},
   "outputs": [
    {
     "name": "stdout",
     "output_type": "stream",
     "text": [
      "313/313 [==============================] - 3s 9ms/step\n",
      "313/313 [==============================] - 3s 9ms/step\n",
      "313/313 [==============================] - 3s 9ms/step\n",
      "313/313 [==============================] - 3s 8ms/step\n",
      "313/313 [==============================] - 3s 8ms/step\n",
      "313/313 [==============================] - 3s 8ms/step\n",
      "313/313 [==============================] - 3s 8ms/step\n"
     ]
    }
   ],
   "source": [
    "model_name = \"CroppedBNFC70000-1\"\n",
    "model = load_model(model_name, psf_model=True)\n",
    "for suffix in PSF_TRAIN_FILE_SUFFIXES:\n",
    "    fluxes = np.load(f\"{FC_PROCESSED_TRAIN_OUTPUT_FLUXES_PREFIX}{suffix}{NUMPY_SUFFIX}\")\n",
    "    predicted_complex_fields = model.predict(fluxes)\n",
    "    filepath = f\"{FC_PREDICTED_CROPPED_TRAIN_COMPLEX_FIELDS_PREFIX}{suffix}{NUMPY_SUFFIX}\"\n",
    "    save_numpy_array(predicted_complex_fields, filepath)"
   ]
  }
 ],
 "metadata": {
  "kernelspec": {
   "display_name": "sail-env",
   "language": "python",
   "name": "sail-env"
  },
  "language_info": {
   "codemirror_mode": {
    "name": "ipython",
    "version": 3
   },
   "file_extension": ".py",
   "mimetype": "text/x-python",
   "name": "python",
   "nbconvert_exporter": "python",
   "pygments_lexer": "ipython3",
   "version": "3.9.18"
  }
 },
 "nbformat": 4,
 "nbformat_minor": 5
}
