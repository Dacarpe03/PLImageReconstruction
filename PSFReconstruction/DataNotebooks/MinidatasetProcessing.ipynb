{
 "cells": [
  {
   "cell_type": "code",
   "execution_count": 1,
   "id": "6b89fdc0-47bd-4657-91a1-5deaf054d43a",
   "metadata": {},
   "outputs": [],
   "source": [
    "from minidataset_constants import PATHS_DICTIONARY\n",
    "from psf_constants import COMPLEX_NUMBER_NORMALIZATION_CONSTANT\n",
    "import numpy as np"
   ]
  },
  {
   "cell_type": "code",
   "execution_count": 2,
   "id": "230e28c6-2bd2-4760-a2c0-ae4b7f42325d",
   "metadata": {},
   "outputs": [],
   "source": [
    "def process_fc_complex_field_intensity(filepath):\n",
    "    \n",
    "    complex_arrays = np.load(filepath)\n",
    "\n",
    "    complex_arrays = complex_arrays/COMPLEX_NUMBER_NORMALIZATION_CONSTANT\n",
    "    intensities_arrays = np.abs(complex_arrays)**2\n",
    "\n",
    "    start_row = (128 - 64) // 2\n",
    "    end_row = start_row + 64\n",
    "    start_col = (128 - 64) // 2\n",
    "    end_col = start_col + 64\n",
    "\n",
    "    cropped_intensities_array = intensities_arrays[:, start_row:end_row, start_col:end_col]\n",
    "\n",
    "    intensities_arrays = intensities_arrays.reshape(1000, 128*128) \n",
    "    \n",
    "    return intensities_arrays"
   ]
  },
  {
   "cell_type": "code",
   "execution_count": 3,
   "id": "a6baf1e7-20e9-494f-bb5d-f95178ca051c",
   "metadata": {},
   "outputs": [],
   "source": [
    "minidataset_2m_dictionary = PATHS_DICTIONARY['MINI_2M']"
   ]
  },
  {
   "cell_type": "code",
   "execution_count": 4,
   "id": "5a49305c-290e-452b-aac0-5b7d0fc5d612",
   "metadata": {},
   "outputs": [],
   "source": [
    "intensities = process_fc_complex_field_intensity(minidataset_2m_dictionary['complex_field_path'])"
   ]
  },
  {
   "cell_type": "code",
   "execution_count": 5,
   "id": "95a7b8b3-a1bb-419b-966b-c7fb2300c7b4",
   "metadata": {},
   "outputs": [
    {
     "data": {
      "text/plain": [
       "(1000, 16384)"
      ]
     },
     "execution_count": 5,
     "metadata": {},
     "output_type": "execute_result"
    }
   ],
   "source": [
    "intensities.shape"
   ]
  },
  {
   "cell_type": "code",
   "execution_count": 6,
   "id": "b44309cd-99c7-423b-b858-67f5e7df44df",
   "metadata": {},
   "outputs": [],
   "source": [
    "np.save(minidataset_2m_dictionary['intensities_file_path'], intensities)"
   ]
  }
 ],
 "metadata": {
  "kernelspec": {
   "display_name": "sail-env",
   "language": "python",
   "name": "sail-env"
  },
  "language_info": {
   "codemirror_mode": {
    "name": "ipython",
    "version": 3
   },
   "file_extension": ".py",
   "mimetype": "text/x-python",
   "name": "python",
   "nbconvert_exporter": "python",
   "pygments_lexer": "ipython3",
   "version": "3.9.18"
  }
 },
 "nbformat": 4,
 "nbformat_minor": 5
}
