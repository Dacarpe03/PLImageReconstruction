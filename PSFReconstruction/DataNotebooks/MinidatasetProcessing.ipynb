{
 "cells": [
  {
   "cell_type": "code",
   "execution_count": 2,
   "id": "6b89fdc0-47bd-4657-91a1-5deaf054d43a",
   "metadata": {},
   "outputs": [],
   "source": [
    "from minidataset_constants import PATHS_DICTIONARY\n",
    "from psf_constants import COMPLEX_NUMBER_NORMALIZATION_CONSTANT\n",
    "import numpy as np"
   ]
  },
  {
   "cell_type": "code",
   "execution_count": 6,
   "id": "230e28c6-2bd2-4760-a2c0-ae4b7f42325d",
   "metadata": {},
   "outputs": [],
   "source": [
    "def process_fc_complex_field_intensity(filepath):\n",
    "    \n",
    "    complex_arrays = np.load(filepath)\n",
    "\n",
    "    complex_arrays = complex_arrays/COMPLEX_NUMBER_NORMALIZATION_CONSTANT\n",
    "    intensities_arrays = np.abs(complex_arrays)**2\n",
    "    print(intensities_arrays.shape)\n",
    "    start_row = (128 - 64) // 2\n",
    "    end_row = start_row + 64\n",
    "    start_col = (128 - 64) // 2\n",
    "    end_col = start_col + 64\n",
    "\n",
    "    cropped_intensities_array = intensities_arrays[:, start_row:end_row, start_col:end_col]\n",
    "\n",
    "    intensities_arrays = intensities_arrays.reshape(12800, 128*128) \n",
    "    \n",
    "    return intensities_arrays"
   ]
  },
  {
   "cell_type": "code",
   "execution_count": 7,
   "id": "c1458526-056c-4701-827c-bc5a538284f4",
   "metadata": {},
   "outputs": [],
   "source": [
    "minidataset_5m_dictionary = PATHS_DICTIONARY['MINI_14M']"
   ]
  },
  {
   "cell_type": "code",
   "execution_count": 8,
   "id": "b49f67fd-4a3b-44f5-baed-38fbcb52020d",
   "metadata": {},
   "outputs": [
    {
     "name": "stdout",
     "output_type": "stream",
     "text": [
      "(12800, 128, 128)\n"
     ]
    }
   ],
   "source": [
    "intensities = process_fc_complex_field_intensity(minidataset_5m_dictionary['complex_field_path'])"
   ]
  },
  {
   "cell_type": "code",
   "execution_count": 9,
   "id": "2bd08712-00e6-4082-a2e4-5c33fcddab29",
   "metadata": {},
   "outputs": [
    {
     "data": {
      "text/plain": [
       "(12800, 16384)"
      ]
     },
     "execution_count": 9,
     "metadata": {},
     "output_type": "execute_result"
    }
   ],
   "source": [
    "intensities.shape"
   ]
  },
  {
   "cell_type": "code",
   "execution_count": 10,
   "id": "df787970-fbf4-4025-a560-ea92fefce8bf",
   "metadata": {},
   "outputs": [],
   "source": [
    "np.save(minidataset_5m_dictionary['intensities_file_path'], intensities)"
   ]
  }
 ],
 "metadata": {
  "kernelspec": {
   "display_name": "sail-env",
   "language": "python",
   "name": "sail-env"
  },
  "language_info": {
   "codemirror_mode": {
    "name": "ipython",
    "version": 3
   },
   "file_extension": ".py",
   "mimetype": "text/x-python",
   "name": "python",
   "nbconvert_exporter": "python",
   "pygments_lexer": "ipython3",
   "version": "3.9.18"
  }
 },
 "nbformat": 4,
 "nbformat_minor": 5
}
