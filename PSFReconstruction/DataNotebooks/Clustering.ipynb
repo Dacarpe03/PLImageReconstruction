{
 "cells": [
  {
   "cell_type": "markdown",
   "id": "09a895c7-e69a-4c91-8fa5-f52cf6ac8fc9",
   "metadata": {},
   "source": [
    "# Cluster Low Dimensionality Output fluxes"
   ]
  },
  {
   "cell_type": "code",
   "execution_count": 3,
   "id": "3352787f-c45c-4628-9812-3565504fd3e7",
   "metadata": {},
   "outputs": [],
   "source": [
    "from psf_constants import LOW_DIMENSIONALITY_TRAIN_2M_ZERNIKE_PSF_LP_MODES_FILE_PATH, \\\n",
    "                          LOW_DIMENSIONALITY_TRAIN_5M_ZERNIKE_PSF_LP_MODES_FILE_PATH, \\\n",
    "                          LOW_DIMENSIONALITY_TRAIN_9M_ZERNIKE_PSF_LP_MODES_FILE_PATH, \\\n",
    "                          LOW_DIMENSIONALITY_TRAIN_14M_ZERNIKE_PSF_LP_MODES_FILE_PATH, \\\n",
    "                          LOW_DIMENSIONALITY_TRAIN_20M_ZERNIKE_PSF_LP_MODES_FILE_PATH, \\\n",
    "                          CLUSTER_DBSCAN_TRAIN_2M_ZERNIKE_OUTPUT_FLUXES_FILE_PATH, \\\n",
    "                          CLUSTER_DBSCAN_TRAIN_5M_ZERNIKE_OUTPUT_FLUXES_FILE_PATH, \\\n",
    "                          CLUSTER_DBSCAN_TRAIN_9M_ZERNIKE_OUTPUT_FLUXES_FILE_PATH, \\\n",
    "                          CLUSTER_DBSCAN_TRAIN_14M_ZERNIKE_OUTPUT_FLUXES_FILE_PATH, \\\n",
    "                          CLUSTER_DBSCAN_TRAIN_20M_ZERNIKE_OUTPUT_FLUXES_FILE_PATH\n",
    "\n",
    "from sklearn.cluster import DBSCAN"
   ]
  },
  {
   "cell_type": "code",
   "execution_count": null,
   "id": "c4ed383d-3c07-40d4-8d07-42afbe19f708",
   "metadata": {},
   "outputs": [],
   "source": [
    "PATHS_DICTIONARY = {}"
   ]
  },
  {
   "cell_type": "code",
   "execution_count": null,
   "id": "223aa753-ce5b-45ec-9bc4-c8012a3eee92",
   "metadata": {},
   "outputs": [],
   "source": []
  }
 ],
 "metadata": {
  "kernelspec": {
   "display_name": "sail-env",
   "language": "python",
   "name": "sail-env"
  },
  "language_info": {
   "codemirror_mode": {
    "name": "ipython",
    "version": 3
   },
   "file_extension": ".py",
   "mimetype": "text/x-python",
   "name": "python",
   "nbconvert_exporter": "python",
   "pygments_lexer": "ipython3",
   "version": "3.9.18"
  }
 },
 "nbformat": 4,
 "nbformat_minor": 5
}
