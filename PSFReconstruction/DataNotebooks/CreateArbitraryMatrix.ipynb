{
 "cells": [
  {
   "cell_type": "code",
   "execution_count": 7,
   "id": "c3b87713-8fe9-4d02-82e4-34973c64a5c1",
   "metadata": {},
   "outputs": [],
   "source": [
    "from data_utils import create_and_save_arbitrary_matrix, load_arbitrary_transfer_matrix\n",
    "from psf_constants import ARBITRARY_MATRIX"
   ]
  },
  {
   "cell_type": "code",
   "execution_count": 3,
   "id": "ae6c7917-2378-4288-874d-a4ebc23c375c",
   "metadata": {},
   "outputs": [
    {
     "name": "stdout",
     "output_type": "stream",
     "text": [
      "Matrix condition number: 1.0000000000000009\n",
      "Shape: (19, 19)\n"
     ]
    }
   ],
   "source": [
    "create_and_save_arbitrary_matrix(19,\n",
    "                                 ARBITRARY_MATRIX,\n",
    "                                 overwrite=True)\n",
    "                                 "
   ]
  },
  {
   "cell_type": "code",
   "execution_count": 8,
   "id": "807e737f-3b5e-4d0c-b8f1-05edc031d726",
   "metadata": {},
   "outputs": [],
   "source": [
    "a = load_arbitrary_transfer_matrix(ARBITRARY_MATRIX)"
   ]
  },
  {
   "cell_type": "code",
   "execution_count": 10,
   "id": "d366c2eb-8a88-48b1-8c05-76c64f95b820",
   "metadata": {},
   "outputs": [
    {
     "data": {
      "text/plain": [
       "(19, 19)"
      ]
     },
     "execution_count": 10,
     "metadata": {},
     "output_type": "execute_result"
    }
   ],
   "source": [
    "a.shape"
   ]
  }
 ],
 "metadata": {
  "kernelspec": {
   "display_name": "sail-env",
   "language": "python",
   "name": "sail-env"
  },
  "language_info": {
   "codemirror_mode": {
    "name": "ipython",
    "version": 3
   },
   "file_extension": ".py",
   "mimetype": "text/x-python",
   "name": "python",
   "nbconvert_exporter": "python",
   "pygments_lexer": "ipython3",
   "version": "3.9.18"
  }
 },
 "nbformat": 4,
 "nbformat_minor": 5
}
