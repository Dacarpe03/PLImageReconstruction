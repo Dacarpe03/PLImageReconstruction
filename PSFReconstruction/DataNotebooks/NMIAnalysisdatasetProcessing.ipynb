{
 "cells": [
  {
   "cell_type": "code",
   "execution_count": 1,
   "id": "6b89fdc0-47bd-4657-91a1-5deaf054d43a",
   "metadata": {},
   "outputs": [],
   "source": [
    "from nmi_analysis_constants import PATHS_DICTIONARY\n",
    "from psf_constants import COMPLEX_NUMBER_NORMALIZATION_CONSTANT\n",
    "import numpy as np\n",
    "from data_utils import save_numpy_array"
   ]
  },
  {
   "cell_type": "code",
   "execution_count": 2,
   "id": "230e28c6-2bd2-4760-a2c0-ae4b7f42325d",
   "metadata": {},
   "outputs": [],
   "source": [
    "def process_fc_complex_field_intensity(filepath):\n",
    "    \n",
    "    complex_arrays = np.load(filepath)\n",
    "\n",
    "    complex_arrays = complex_arrays/COMPLEX_NUMBER_NORMALIZATION_CONSTANT\n",
    "    intensities_arrays = np.abs(complex_arrays)**2\n",
    "    print(intensities_arrays.shape)\n",
    "    start_row = (128 - 64) // 2\n",
    "    end_row = start_row + 64\n",
    "    start_col = (128 - 64) // 2\n",
    "    end_col = start_col + 64\n",
    "\n",
    "    intensities_arrays = intensities_arrays.reshape(5000, 128*128)\n",
    "    return intensities_arrays"
   ]
  },
  {
   "cell_type": "code",
   "execution_count": 3,
   "id": "c1458526-056c-4701-827c-bc5a538284f4",
   "metadata": {},
   "outputs": [
    {
     "name": "stdout",
     "output_type": "stream",
     "text": [
      "NMI_ANALYSIS_2M\n",
      "(5000, 128, 128)\n",
      "NMI_ANALYSIS_5M\n",
      "(5000, 128, 128)\n",
      "NMI_ANALYSIS_9M\n",
      "(5000, 128, 128)\n",
      "NMI_ANALYSIS_14M\n",
      "(5000, 128, 128)\n",
      "NMI_ANALYSIS_20M\n",
      "(5000, 128, 128)\n"
     ]
    }
   ],
   "source": [
    "for key, minidataset_dict in PATHS_DICTIONARY.items():\n",
    "    print(key)\n",
    "    intensities = process_fc_complex_field_intensity(minidataset_dict['complex_fields_path'])\n",
    "    save_numpy_array(intensities, minidataset_dict['intensities_file_path'])"
   ]
  }
 ],
 "metadata": {
  "kernelspec": {
   "display_name": "sail-env",
   "language": "python",
   "name": "sail-env"
  },
  "language_info": {
   "codemirror_mode": {
    "name": "ipython",
    "version": 3
   },
   "file_extension": ".py",
   "mimetype": "text/x-python",
   "name": "python",
   "nbconvert_exporter": "python",
   "pygments_lexer": "ipython3",
   "version": "3.9.18"
  }
 },
 "nbformat": 4,
 "nbformat_minor": 5
}
