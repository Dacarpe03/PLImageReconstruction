{
 "cells": [
  {
   "cell_type": "code",
   "execution_count": 7,
   "id": "81387707-9486-4259-aae3-1fb0efbfc976",
   "metadata": {},
   "outputs": [
    {
     "data": {
      "application/vnd.plotly.v1+json": {
       "config": {
        "plotlyServerURL": "https://plot.ly"
       },
       "data": [
        {
         "type": "scatter",
         "x": [
          1,
          2,
          3
         ],
         "xaxis": "x",
         "y": [
          4,
          5,
          6
         ],
         "yaxis": "y"
        },
        {
         "type": "scatter",
         "x": [
          1,
          2,
          3
         ],
         "xaxis": "x2",
         "y": [
          6,
          5,
          4
         ],
         "yaxis": "y2"
        },
        {
         "type": "scatter",
         "x": [
          1,
          2,
          3
         ],
         "xaxis": "x3",
         "y": [
          2,
          3,
          4
         ],
         "yaxis": "y3"
        },
        {
         "type": "scatter",
         "x": [
          1,
          2,
          3
         ],
         "xaxis": "x4",
         "y": [
          4,
          2,
          3
         ],
         "yaxis": "y4"
        }
       ],
       "layout": {
        "annotations": [
         {
          "font": {
           "size": 16
          },
          "showarrow": false,
          "text": "Plot 1",
          "x": 0.225,
          "xanchor": "center",
          "xref": "paper",
          "y": 1,
          "yanchor": "bottom",
          "yref": "paper"
         },
         {
          "font": {
           "size": 16
          },
          "showarrow": false,
          "text": "Plot 2",
          "x": 0.775,
          "xanchor": "center",
          "xref": "paper",
          "y": 1,
          "yanchor": "bottom",
          "yref": "paper"
         },
         {
          "font": {
           "size": 16
          },
          "showarrow": false,
          "text": "Plot 3",
          "x": 0.225,
          "xanchor": "center",
          "xref": "paper",
          "y": 0.375,
          "yanchor": "bottom",
          "yref": "paper"
         },
         {
          "font": {
           "size": 16
          },
          "showarrow": false,
          "text": "Plot 4",
          "x": 0.775,
          "xanchor": "center",
          "xref": "paper",
          "y": 0.375,
          "yanchor": "bottom",
          "yref": "paper"
         }
        ],
        "autosize": true,
        "template": {
         "data": {
          "bar": [
           {
            "error_x": {
             "color": "#2a3f5f"
            },
            "error_y": {
             "color": "#2a3f5f"
            },
            "marker": {
             "line": {
              "color": "#E5ECF6",
              "width": 0.5
             },
             "pattern": {
              "fillmode": "overlay",
              "size": 10,
              "solidity": 0.2
             }
            },
            "type": "bar"
           }
          ],
          "barpolar": [
           {
            "marker": {
             "line": {
              "color": "#E5ECF6",
              "width": 0.5
             },
             "pattern": {
              "fillmode": "overlay",
              "size": 10,
              "solidity": 0.2
             }
            },
            "type": "barpolar"
           }
          ],
          "carpet": [
           {
            "aaxis": {
             "endlinecolor": "#2a3f5f",
             "gridcolor": "white",
             "linecolor": "white",
             "minorgridcolor": "white",
             "startlinecolor": "#2a3f5f"
            },
            "baxis": {
             "endlinecolor": "#2a3f5f",
             "gridcolor": "white",
             "linecolor": "white",
             "minorgridcolor": "white",
             "startlinecolor": "#2a3f5f"
            },
            "type": "carpet"
           }
          ],
          "choropleth": [
           {
            "colorbar": {
             "outlinewidth": 0,
             "ticks": ""
            },
            "type": "choropleth"
           }
          ],
          "contour": [
           {
            "colorbar": {
             "outlinewidth": 0,
             "ticks": ""
            },
            "colorscale": [
             [
              0,
              "#0d0887"
             ],
             [
              0.1111111111111111,
              "#46039f"
             ],
             [
              0.2222222222222222,
              "#7201a8"
             ],
             [
              0.3333333333333333,
              "#9c179e"
             ],
             [
              0.4444444444444444,
              "#bd3786"
             ],
             [
              0.5555555555555556,
              "#d8576b"
             ],
             [
              0.6666666666666666,
              "#ed7953"
             ],
             [
              0.7777777777777778,
              "#fb9f3a"
             ],
             [
              0.8888888888888888,
              "#fdca26"
             ],
             [
              1,
              "#f0f921"
             ]
            ],
            "type": "contour"
           }
          ],
          "contourcarpet": [
           {
            "colorbar": {
             "outlinewidth": 0,
             "ticks": ""
            },
            "type": "contourcarpet"
           }
          ],
          "heatmap": [
           {
            "colorbar": {
             "outlinewidth": 0,
             "ticks": ""
            },
            "colorscale": [
             [
              0,
              "#0d0887"
             ],
             [
              0.1111111111111111,
              "#46039f"
             ],
             [
              0.2222222222222222,
              "#7201a8"
             ],
             [
              0.3333333333333333,
              "#9c179e"
             ],
             [
              0.4444444444444444,
              "#bd3786"
             ],
             [
              0.5555555555555556,
              "#d8576b"
             ],
             [
              0.6666666666666666,
              "#ed7953"
             ],
             [
              0.7777777777777778,
              "#fb9f3a"
             ],
             [
              0.8888888888888888,
              "#fdca26"
             ],
             [
              1,
              "#f0f921"
             ]
            ],
            "type": "heatmap"
           }
          ],
          "heatmapgl": [
           {
            "colorbar": {
             "outlinewidth": 0,
             "ticks": ""
            },
            "colorscale": [
             [
              0,
              "#0d0887"
             ],
             [
              0.1111111111111111,
              "#46039f"
             ],
             [
              0.2222222222222222,
              "#7201a8"
             ],
             [
              0.3333333333333333,
              "#9c179e"
             ],
             [
              0.4444444444444444,
              "#bd3786"
             ],
             [
              0.5555555555555556,
              "#d8576b"
             ],
             [
              0.6666666666666666,
              "#ed7953"
             ],
             [
              0.7777777777777778,
              "#fb9f3a"
             ],
             [
              0.8888888888888888,
              "#fdca26"
             ],
             [
              1,
              "#f0f921"
             ]
            ],
            "type": "heatmapgl"
           }
          ],
          "histogram": [
           {
            "marker": {
             "pattern": {
              "fillmode": "overlay",
              "size": 10,
              "solidity": 0.2
             }
            },
            "type": "histogram"
           }
          ],
          "histogram2d": [
           {
            "colorbar": {
             "outlinewidth": 0,
             "ticks": ""
            },
            "colorscale": [
             [
              0,
              "#0d0887"
             ],
             [
              0.1111111111111111,
              "#46039f"
             ],
             [
              0.2222222222222222,
              "#7201a8"
             ],
             [
              0.3333333333333333,
              "#9c179e"
             ],
             [
              0.4444444444444444,
              "#bd3786"
             ],
             [
              0.5555555555555556,
              "#d8576b"
             ],
             [
              0.6666666666666666,
              "#ed7953"
             ],
             [
              0.7777777777777778,
              "#fb9f3a"
             ],
             [
              0.8888888888888888,
              "#fdca26"
             ],
             [
              1,
              "#f0f921"
             ]
            ],
            "type": "histogram2d"
           }
          ],
          "histogram2dcontour": [
           {
            "colorbar": {
             "outlinewidth": 0,
             "ticks": ""
            },
            "colorscale": [
             [
              0,
              "#0d0887"
             ],
             [
              0.1111111111111111,
              "#46039f"
             ],
             [
              0.2222222222222222,
              "#7201a8"
             ],
             [
              0.3333333333333333,
              "#9c179e"
             ],
             [
              0.4444444444444444,
              "#bd3786"
             ],
             [
              0.5555555555555556,
              "#d8576b"
             ],
             [
              0.6666666666666666,
              "#ed7953"
             ],
             [
              0.7777777777777778,
              "#fb9f3a"
             ],
             [
              0.8888888888888888,
              "#fdca26"
             ],
             [
              1,
              "#f0f921"
             ]
            ],
            "type": "histogram2dcontour"
           }
          ],
          "mesh3d": [
           {
            "colorbar": {
             "outlinewidth": 0,
             "ticks": ""
            },
            "type": "mesh3d"
           }
          ],
          "parcoords": [
           {
            "line": {
             "colorbar": {
              "outlinewidth": 0,
              "ticks": ""
             }
            },
            "type": "parcoords"
           }
          ],
          "pie": [
           {
            "automargin": true,
            "type": "pie"
           }
          ],
          "scatter": [
           {
            "fillpattern": {
             "fillmode": "overlay",
             "size": 10,
             "solidity": 0.2
            },
            "type": "scatter"
           }
          ],
          "scatter3d": [
           {
            "line": {
             "colorbar": {
              "outlinewidth": 0,
              "ticks": ""
             }
            },
            "marker": {
             "colorbar": {
              "outlinewidth": 0,
              "ticks": ""
             }
            },
            "type": "scatter3d"
           }
          ],
          "scattercarpet": [
           {
            "marker": {
             "colorbar": {
              "outlinewidth": 0,
              "ticks": ""
             }
            },
            "type": "scattercarpet"
           }
          ],
          "scattergeo": [
           {
            "marker": {
             "colorbar": {
              "outlinewidth": 0,
              "ticks": ""
             }
            },
            "type": "scattergeo"
           }
          ],
          "scattergl": [
           {
            "marker": {
             "colorbar": {
              "outlinewidth": 0,
              "ticks": ""
             }
            },
            "type": "scattergl"
           }
          ],
          "scattermapbox": [
           {
            "marker": {
             "colorbar": {
              "outlinewidth": 0,
              "ticks": ""
             }
            },
            "type": "scattermapbox"
           }
          ],
          "scatterpolar": [
           {
            "marker": {
             "colorbar": {
              "outlinewidth": 0,
              "ticks": ""
             }
            },
            "type": "scatterpolar"
           }
          ],
          "scatterpolargl": [
           {
            "marker": {
             "colorbar": {
              "outlinewidth": 0,
              "ticks": ""
             }
            },
            "type": "scatterpolargl"
           }
          ],
          "scatterternary": [
           {
            "marker": {
             "colorbar": {
              "outlinewidth": 0,
              "ticks": ""
             }
            },
            "type": "scatterternary"
           }
          ],
          "surface": [
           {
            "colorbar": {
             "outlinewidth": 0,
             "ticks": ""
            },
            "colorscale": [
             [
              0,
              "#0d0887"
             ],
             [
              0.1111111111111111,
              "#46039f"
             ],
             [
              0.2222222222222222,
              "#7201a8"
             ],
             [
              0.3333333333333333,
              "#9c179e"
             ],
             [
              0.4444444444444444,
              "#bd3786"
             ],
             [
              0.5555555555555556,
              "#d8576b"
             ],
             [
              0.6666666666666666,
              "#ed7953"
             ],
             [
              0.7777777777777778,
              "#fb9f3a"
             ],
             [
              0.8888888888888888,
              "#fdca26"
             ],
             [
              1,
              "#f0f921"
             ]
            ],
            "type": "surface"
           }
          ],
          "table": [
           {
            "cells": {
             "fill": {
              "color": "#EBF0F8"
             },
             "line": {
              "color": "white"
             }
            },
            "header": {
             "fill": {
              "color": "#C8D4E3"
             },
             "line": {
              "color": "white"
             }
            },
            "type": "table"
           }
          ]
         },
         "layout": {
          "annotationdefaults": {
           "arrowcolor": "#2a3f5f",
           "arrowhead": 0,
           "arrowwidth": 1
          },
          "autotypenumbers": "strict",
          "coloraxis": {
           "colorbar": {
            "outlinewidth": 0,
            "ticks": ""
           }
          },
          "colorscale": {
           "diverging": [
            [
             0,
             "#8e0152"
            ],
            [
             0.1,
             "#c51b7d"
            ],
            [
             0.2,
             "#de77ae"
            ],
            [
             0.3,
             "#f1b6da"
            ],
            [
             0.4,
             "#fde0ef"
            ],
            [
             0.5,
             "#f7f7f7"
            ],
            [
             0.6,
             "#e6f5d0"
            ],
            [
             0.7,
             "#b8e186"
            ],
            [
             0.8,
             "#7fbc41"
            ],
            [
             0.9,
             "#4d9221"
            ],
            [
             1,
             "#276419"
            ]
           ],
           "sequential": [
            [
             0,
             "#0d0887"
            ],
            [
             0.1111111111111111,
             "#46039f"
            ],
            [
             0.2222222222222222,
             "#7201a8"
            ],
            [
             0.3333333333333333,
             "#9c179e"
            ],
            [
             0.4444444444444444,
             "#bd3786"
            ],
            [
             0.5555555555555556,
             "#d8576b"
            ],
            [
             0.6666666666666666,
             "#ed7953"
            ],
            [
             0.7777777777777778,
             "#fb9f3a"
            ],
            [
             0.8888888888888888,
             "#fdca26"
            ],
            [
             1,
             "#f0f921"
            ]
           ],
           "sequentialminus": [
            [
             0,
             "#0d0887"
            ],
            [
             0.1111111111111111,
             "#46039f"
            ],
            [
             0.2222222222222222,
             "#7201a8"
            ],
            [
             0.3333333333333333,
             "#9c179e"
            ],
            [
             0.4444444444444444,
             "#bd3786"
            ],
            [
             0.5555555555555556,
             "#d8576b"
            ],
            [
             0.6666666666666666,
             "#ed7953"
            ],
            [
             0.7777777777777778,
             "#fb9f3a"
            ],
            [
             0.8888888888888888,
             "#fdca26"
            ],
            [
             1,
             "#f0f921"
            ]
           ]
          },
          "colorway": [
           "#636efa",
           "#EF553B",
           "#00cc96",
           "#ab63fa",
           "#FFA15A",
           "#19d3f3",
           "#FF6692",
           "#B6E880",
           "#FF97FF",
           "#FECB52"
          ],
          "font": {
           "color": "#2a3f5f"
          },
          "geo": {
           "bgcolor": "white",
           "lakecolor": "white",
           "landcolor": "#E5ECF6",
           "showlakes": true,
           "showland": true,
           "subunitcolor": "white"
          },
          "hoverlabel": {
           "align": "left"
          },
          "hovermode": "closest",
          "mapbox": {
           "style": "light"
          },
          "paper_bgcolor": "white",
          "plot_bgcolor": "#E5ECF6",
          "polar": {
           "angularaxis": {
            "gridcolor": "white",
            "linecolor": "white",
            "ticks": ""
           },
           "bgcolor": "#E5ECF6",
           "radialaxis": {
            "gridcolor": "white",
            "linecolor": "white",
            "ticks": ""
           }
          },
          "scene": {
           "xaxis": {
            "backgroundcolor": "#E5ECF6",
            "gridcolor": "white",
            "gridwidth": 2,
            "linecolor": "white",
            "showbackground": true,
            "ticks": "",
            "zerolinecolor": "white"
           },
           "yaxis": {
            "backgroundcolor": "#E5ECF6",
            "gridcolor": "white",
            "gridwidth": 2,
            "linecolor": "white",
            "showbackground": true,
            "ticks": "",
            "zerolinecolor": "white"
           },
           "zaxis": {
            "backgroundcolor": "#E5ECF6",
            "gridcolor": "white",
            "gridwidth": 2,
            "linecolor": "white",
            "showbackground": true,
            "ticks": "",
            "zerolinecolor": "white"
           }
          },
          "shapedefaults": {
           "line": {
            "color": "#2a3f5f"
           }
          },
          "ternary": {
           "aaxis": {
            "gridcolor": "white",
            "linecolor": "white",
            "ticks": ""
           },
           "baxis": {
            "gridcolor": "white",
            "linecolor": "white",
            "ticks": ""
           },
           "bgcolor": "#E5ECF6",
           "caxis": {
            "gridcolor": "white",
            "linecolor": "white",
            "ticks": ""
           }
          },
          "title": {
           "x": 0.05
          },
          "xaxis": {
           "automargin": true,
           "gridcolor": "white",
           "linecolor": "white",
           "ticks": "",
           "title": {
            "standoff": 15
           },
           "zerolinecolor": "white",
           "zerolinewidth": 2
          },
          "yaxis": {
           "automargin": true,
           "gridcolor": "white",
           "linecolor": "white",
           "ticks": "",
           "title": {
            "standoff": 15
           },
           "zerolinecolor": "white",
           "zerolinewidth": 2
          }
         }
        },
        "xaxis": {
         "anchor": "y",
         "autorange": true,
         "domain": [
          0,
          0.45
         ],
         "range": [
          0.8660133410195174,
          3.133986658980483
         ],
         "title": {
          "font": {
           "size": 9
          },
          "standoff": 10,
          "text": "X Axis Title 1"
         },
         "type": "linear"
        },
        "xaxis2": {
         "anchor": "y2",
         "autorange": true,
         "domain": [
          0.55,
          1
         ],
         "range": [
          0.8660133410195174,
          3.133986658980483
         ],
         "title": {
          "font": {
           "size": 9
          },
          "standoff": 10,
          "text": "X Axis Title 2"
         },
         "type": "linear"
        },
        "xaxis3": {
         "anchor": "y3",
         "autorange": true,
         "domain": [
          0,
          0.45
         ],
         "range": [
          0.8660133410195174,
          3.133986658980483
         ],
         "title": {
          "font": {
           "size": 9
          },
          "standoff": 10,
          "text": "X Axis Title 3"
         },
         "type": "linear"
        },
        "xaxis4": {
         "anchor": "y4",
         "autorange": true,
         "domain": [
          0.55,
          1
         ],
         "range": [
          0.8660133410195174,
          3.133986658980483
         ],
         "title": {
          "font": {
           "size": 9
          },
          "standoff": 10,
          "text": "X Axis Title 4"
         },
         "type": "linear"
        },
        "yaxis": {
         "anchor": "x",
         "autorange": true,
         "domain": [
          0.625,
          1
         ],
         "range": [
          3.732394366197183,
          6.267605633802817
         ],
         "title": {
          "font": {
           "size": 9
          },
          "standoff": 10,
          "text": "Y Axis Title 1"
         },
         "type": "linear"
        },
        "yaxis2": {
         "anchor": "x2",
         "autorange": true,
         "domain": [
          0.625,
          1
         ],
         "range": [
          3.732394366197183,
          6.267605633802817
         ],
         "title": {
          "font": {
           "size": 9
          },
          "standoff": 10,
          "text": "Y Axis Title 2"
         },
         "type": "linear"
        },
        "yaxis3": {
         "anchor": "x3",
         "autorange": true,
         "domain": [
          0,
          0.375
         ],
         "range": [
          1.732394366197183,
          4.267605633802817
         ],
         "title": {
          "font": {
           "size": 9
          },
          "standoff": 10,
          "text": "Y Axis Title 3"
         },
         "type": "linear"
        },
        "yaxis4": {
         "anchor": "x4",
         "autorange": true,
         "domain": [
          0,
          0.375
         ],
         "range": [
          1.732394366197183,
          4.267605633802817
         ],
         "title": {
          "font": {
           "size": 9
          },
          "standoff": 10,
          "text": "Y Axis Title 4"
         },
         "type": "linear"
        }
       }
      },
      "image/png": "[encoded data removed]",
      "text/html": [
       "<div>                            <div id=\"2e06f267-7d1b-489e-a11f-3067e59847d9\" class=\"plotly-graph-div\" style=\"height:525px; width:100%;\"></div>            <script type=\"text/javascript\">                require([\"plotly\"], function(Plotly) {                    window.PLOTLYENV=window.PLOTLYENV || {};                                    if (document.getElementById(\"2e06f267-7d1b-489e-a11f-3067e59847d9\")) {                    Plotly.newPlot(                        \"2e06f267-7d1b-489e-a11f-3067e59847d9\",                        [{\"x\":[1,2,3],\"y\":[4,5,6],\"type\":\"scatter\",\"xaxis\":\"x\",\"yaxis\":\"y\"},{\"x\":[1,2,3],\"y\":[6,5,4],\"type\":\"scatter\",\"xaxis\":\"x2\",\"yaxis\":\"y2\"},{\"x\":[1,2,3],\"y\":[2,3,4],\"type\":\"scatter\",\"xaxis\":\"x3\",\"yaxis\":\"y3\"},{\"x\":[1,2,3],\"y\":[4,2,3],\"type\":\"scatter\",\"xaxis\":\"x4\",\"yaxis\":\"y4\"}],                        {\"template\":{\"data\":{\"histogram2dcontour\":[{\"type\":\"histogram2dcontour\",\"colorbar\":{\"outlinewidth\":0,\"ticks\":\"\"},\"colorscale\":[[0.0,\"#0d0887\"],[0.1111111111111111,\"#46039f\"],[0.2222222222222222,\"#7201a8\"],[0.3333333333333333,\"#9c179e\"],[0.4444444444444444,\"#bd3786\"],[0.5555555555555556,\"#d8576b\"],[0.6666666666666666,\"#ed7953\"],[0.7777777777777778,\"#fb9f3a\"],[0.8888888888888888,\"#fdca26\"],[1.0,\"#f0f921\"]]}],\"choropleth\":[{\"type\":\"choropleth\",\"colorbar\":{\"outlinewidth\":0,\"ticks\":\"\"}}],\"histogram2d\":[{\"type\":\"histogram2d\",\"colorbar\":{\"outlinewidth\":0,\"ticks\":\"\"},\"colorscale\":[[0.0,\"#0d0887\"],[0.1111111111111111,\"#46039f\"],[0.2222222222222222,\"#7201a8\"],[0.3333333333333333,\"#9c179e\"],[0.4444444444444444,\"#bd3786\"],[0.5555555555555556,\"#d8576b\"],[0.6666666666666666,\"#ed7953\"],[0.7777777777777778,\"#fb9f3a\"],[0.8888888888888888,\"#fdca26\"],[1.0,\"#f0f921\"]]}],\"heatmap\":[{\"type\":\"heatmap\",\"colorbar\":{\"outlinewidth\":0,\"ticks\":\"\"},\"colorscale\":[[0.0,\"#0d0887\"],[0.1111111111111111,\"#46039f\"],[0.2222222222222222,\"#7201a8\"],[0.3333333333333333,\"#9c179e\"],[0.4444444444444444,\"#bd3786\"],[0.5555555555555556,\"#d8576b\"],[0.6666666666666666,\"#ed7953\"],[0.7777777777777778,\"#fb9f3a\"],[0.8888888888888888,\"#fdca26\"],[1.0,\"#f0f921\"]]}],\"heatmapgl\":[{\"type\":\"heatmapgl\",\"colorbar\":{\"outlinewidth\":0,\"ticks\":\"\"},\"colorscale\":[[0.0,\"#0d0887\"],[0.1111111111111111,\"#46039f\"],[0.2222222222222222,\"#7201a8\"],[0.3333333333333333,\"#9c179e\"],[0.4444444444444444,\"#bd3786\"],[0.5555555555555556,\"#d8576b\"],[0.6666666666666666,\"#ed7953\"],[0.7777777777777778,\"#fb9f3a\"],[0.8888888888888888,\"#fdca26\"],[1.0,\"#f0f921\"]]}],\"contourcarpet\":[{\"type\":\"contourcarpet\",\"colorbar\":{\"outlinewidth\":0,\"ticks\":\"\"}}],\"contour\":[{\"type\":\"contour\",\"colorbar\":{\"outlinewidth\":0,\"ticks\":\"\"},\"colorscale\":[[0.0,\"#0d0887\"],[0.1111111111111111,\"#46039f\"],[0.2222222222222222,\"#7201a8\"],[0.3333333333333333,\"#9c179e\"],[0.4444444444444444,\"#bd3786\"],[0.5555555555555556,\"#d8576b\"],[0.6666666666666666,\"#ed7953\"],[0.7777777777777778,\"#fb9f3a\"],[0.8888888888888888,\"#fdca26\"],[1.0,\"#f0f921\"]]}],\"surface\":[{\"type\":\"surface\",\"colorbar\":{\"outlinewidth\":0,\"ticks\":\"\"},\"colorscale\":[[0.0,\"#0d0887\"],[0.1111111111111111,\"#46039f\"],[0.2222222222222222,\"#7201a8\"],[0.3333333333333333,\"#9c179e\"],[0.4444444444444444,\"#bd3786\"],[0.5555555555555556,\"#d8576b\"],[0.6666666666666666,\"#ed7953\"],[0.7777777777777778,\"#fb9f3a\"],[0.8888888888888888,\"#fdca26\"],[1.0,\"#f0f921\"]]}],\"mesh3d\":[{\"type\":\"mesh3d\",\"colorbar\":{\"outlinewidth\":0,\"ticks\":\"\"}}],\"scatter\":[{\"fillpattern\":{\"fillmode\":\"overlay\",\"size\":10,\"solidity\":0.2},\"type\":\"scatter\"}],\"parcoords\":[{\"type\":\"parcoords\",\"line\":{\"colorbar\":{\"outlinewidth\":0,\"ticks\":\"\"}}}],\"scatterpolargl\":[{\"type\":\"scatterpolargl\",\"marker\":{\"colorbar\":{\"outlinewidth\":0,\"ticks\":\"\"}}}],\"bar\":[{\"error_x\":{\"color\":\"#2a3f5f\"},\"error_y\":{\"color\":\"#2a3f5f\"},\"marker\":{\"line\":{\"color\":\"#E5ECF6\",\"width\":0.5},\"pattern\":{\"fillmode\":\"overlay\",\"size\":10,\"solidity\":0.2}},\"type\":\"bar\"}],\"scattergeo\":[{\"type\":\"scattergeo\",\"marker\":{\"colorbar\":{\"outlinewidth\":0,\"ticks\":\"\"}}}],\"scatterpolar\":[{\"type\":\"scatterpolar\",\"marker\":{\"colorbar\":{\"outlinewidth\":0,\"ticks\":\"\"}}}],\"histogram\":[{\"marker\":{\"pattern\":{\"fillmode\":\"overlay\",\"size\":10,\"solidity\":0.2}},\"type\":\"histogram\"}],\"scattergl\":[{\"type\":\"scattergl\",\"marker\":{\"colorbar\":{\"outlinewidth\":0,\"ticks\":\"\"}}}],\"scatter3d\":[{\"type\":\"scatter3d\",\"line\":{\"colorbar\":{\"outlinewidth\":0,\"ticks\":\"\"}},\"marker\":{\"colorbar\":{\"outlinewidth\":0,\"ticks\":\"\"}}}],\"scattermapbox\":[{\"type\":\"scattermapbox\",\"marker\":{\"colorbar\":{\"outlinewidth\":0,\"ticks\":\"\"}}}],\"scatterternary\":[{\"type\":\"scatterternary\",\"marker\":{\"colorbar\":{\"outlinewidth\":0,\"ticks\":\"\"}}}],\"scattercarpet\":[{\"type\":\"scattercarpet\",\"marker\":{\"colorbar\":{\"outlinewidth\":0,\"ticks\":\"\"}}}],\"carpet\":[{\"aaxis\":{\"endlinecolor\":\"#2a3f5f\",\"gridcolor\":\"white\",\"linecolor\":\"white\",\"minorgridcolor\":\"white\",\"startlinecolor\":\"#2a3f5f\"},\"baxis\":{\"endlinecolor\":\"#2a3f5f\",\"gridcolor\":\"white\",\"linecolor\":\"white\",\"minorgridcolor\":\"white\",\"startlinecolor\":\"#2a3f5f\"},\"type\":\"carpet\"}],\"table\":[{\"cells\":{\"fill\":{\"color\":\"#EBF0F8\"},\"line\":{\"color\":\"white\"}},\"header\":{\"fill\":{\"color\":\"#C8D4E3\"},\"line\":{\"color\":\"white\"}},\"type\":\"table\"}],\"barpolar\":[{\"marker\":{\"line\":{\"color\":\"#E5ECF6\",\"width\":0.5},\"pattern\":{\"fillmode\":\"overlay\",\"size\":10,\"solidity\":0.2}},\"type\":\"barpolar\"}],\"pie\":[{\"automargin\":true,\"type\":\"pie\"}]},\"layout\":{\"autotypenumbers\":\"strict\",\"colorway\":[\"#636efa\",\"#EF553B\",\"#00cc96\",\"#ab63fa\",\"#FFA15A\",\"#19d3f3\",\"#FF6692\",\"#B6E880\",\"#FF97FF\",\"#FECB52\"],\"font\":{\"color\":\"#2a3f5f\"},\"hovermode\":\"closest\",\"hoverlabel\":{\"align\":\"left\"},\"paper_bgcolor\":\"white\",\"plot_bgcolor\":\"#E5ECF6\",\"polar\":{\"bgcolor\":\"#E5ECF6\",\"angularaxis\":{\"gridcolor\":\"white\",\"linecolor\":\"white\",\"ticks\":\"\"},\"radialaxis\":{\"gridcolor\":\"white\",\"linecolor\":\"white\",\"ticks\":\"\"}},\"ternary\":{\"bgcolor\":\"#E5ECF6\",\"aaxis\":{\"gridcolor\":\"white\",\"linecolor\":\"white\",\"ticks\":\"\"},\"baxis\":{\"gridcolor\":\"white\",\"linecolor\":\"white\",\"ticks\":\"\"},\"caxis\":{\"gridcolor\":\"white\",\"linecolor\":\"white\",\"ticks\":\"\"}},\"coloraxis\":{\"colorbar\":{\"outlinewidth\":0,\"ticks\":\"\"}},\"colorscale\":{\"sequential\":[[0.0,\"#0d0887\"],[0.1111111111111111,\"#46039f\"],[0.2222222222222222,\"#7201a8\"],[0.3333333333333333,\"#9c179e\"],[0.4444444444444444,\"#bd3786\"],[0.5555555555555556,\"#d8576b\"],[0.6666666666666666,\"#ed7953\"],[0.7777777777777778,\"#fb9f3a\"],[0.8888888888888888,\"#fdca26\"],[1.0,\"#f0f921\"]],\"sequentialminus\":[[0.0,\"#0d0887\"],[0.1111111111111111,\"#46039f\"],[0.2222222222222222,\"#7201a8\"],[0.3333333333333333,\"#9c179e\"],[0.4444444444444444,\"#bd3786\"],[0.5555555555555556,\"#d8576b\"],[0.6666666666666666,\"#ed7953\"],[0.7777777777777778,\"#fb9f3a\"],[0.8888888888888888,\"#fdca26\"],[1.0,\"#f0f921\"]],\"diverging\":[[0,\"#8e0152\"],[0.1,\"#c51b7d\"],[0.2,\"#de77ae\"],[0.3,\"#f1b6da\"],[0.4,\"#fde0ef\"],[0.5,\"#f7f7f7\"],[0.6,\"#e6f5d0\"],[0.7,\"#b8e186\"],[0.8,\"#7fbc41\"],[0.9,\"#4d9221\"],[1,\"#276419\"]]},\"xaxis\":{\"gridcolor\":\"white\",\"linecolor\":\"white\",\"ticks\":\"\",\"title\":{\"standoff\":15},\"zerolinecolor\":\"white\",\"automargin\":true,\"zerolinewidth\":2},\"yaxis\":{\"gridcolor\":\"white\",\"linecolor\":\"white\",\"ticks\":\"\",\"title\":{\"standoff\":15},\"zerolinecolor\":\"white\",\"automargin\":true,\"zerolinewidth\":2},\"scene\":{\"xaxis\":{\"backgroundcolor\":\"#E5ECF6\",\"gridcolor\":\"white\",\"linecolor\":\"white\",\"showbackground\":true,\"ticks\":\"\",\"zerolinecolor\":\"white\",\"gridwidth\":2},\"yaxis\":{\"backgroundcolor\":\"#E5ECF6\",\"gridcolor\":\"white\",\"linecolor\":\"white\",\"showbackground\":true,\"ticks\":\"\",\"zerolinecolor\":\"white\",\"gridwidth\":2},\"zaxis\":{\"backgroundcolor\":\"#E5ECF6\",\"gridcolor\":\"white\",\"linecolor\":\"white\",\"showbackground\":true,\"ticks\":\"\",\"zerolinecolor\":\"white\",\"gridwidth\":2}},\"shapedefaults\":{\"line\":{\"color\":\"#2a3f5f\"}},\"annotationdefaults\":{\"arrowcolor\":\"#2a3f5f\",\"arrowhead\":0,\"arrowwidth\":1},\"geo\":{\"bgcolor\":\"white\",\"landcolor\":\"#E5ECF6\",\"subunitcolor\":\"white\",\"showland\":true,\"showlakes\":true,\"lakecolor\":\"white\"},\"title\":{\"x\":0.05},\"mapbox\":{\"style\":\"light\"}}},\"xaxis\":{\"anchor\":\"y\",\"domain\":[0.0,0.45],\"title\":{\"font\":{\"size\":9},\"text\":\"X Axis Title 1\",\"standoff\":10}},\"yaxis\":{\"anchor\":\"x\",\"domain\":[0.625,1.0],\"title\":{\"font\":{\"size\":9},\"text\":\"Y Axis Title 1\",\"standoff\":10}},\"xaxis2\":{\"anchor\":\"y2\",\"domain\":[0.55,1.0],\"title\":{\"font\":{\"size\":9},\"text\":\"X Axis Title 2\",\"standoff\":10}},\"yaxis2\":{\"anchor\":\"x2\",\"domain\":[0.625,1.0],\"title\":{\"font\":{\"size\":9},\"text\":\"Y Axis Title 2\",\"standoff\":10}},\"xaxis3\":{\"anchor\":\"y3\",\"domain\":[0.0,0.45],\"title\":{\"font\":{\"size\":9},\"text\":\"X Axis Title 3\",\"standoff\":10}},\"yaxis3\":{\"anchor\":\"x3\",\"domain\":[0.0,0.375],\"title\":{\"font\":{\"size\":9},\"text\":\"Y Axis Title 3\",\"standoff\":10}},\"xaxis4\":{\"anchor\":\"y4\",\"domain\":[0.55,1.0],\"title\":{\"font\":{\"size\":9},\"text\":\"X Axis Title 4\",\"standoff\":10}},\"yaxis4\":{\"anchor\":\"x4\",\"domain\":[0.0,0.375],\"title\":{\"font\":{\"size\":9},\"text\":\"Y Axis Title 4\",\"standoff\":10}},\"annotations\":[{\"font\":{\"size\":16},\"showarrow\":false,\"text\":\"Plot 1\",\"x\":0.225,\"xanchor\":\"center\",\"xref\":\"paper\",\"y\":1.0,\"yanchor\":\"bottom\",\"yref\":\"paper\"},{\"font\":{\"size\":16},\"showarrow\":false,\"text\":\"Plot 2\",\"x\":0.775,\"xanchor\":\"center\",\"xref\":\"paper\",\"y\":1.0,\"yanchor\":\"bottom\",\"yref\":\"paper\"},{\"font\":{\"size\":16},\"showarrow\":false,\"text\":\"Plot 3\",\"x\":0.225,\"xanchor\":\"center\",\"xref\":\"paper\",\"y\":0.375,\"yanchor\":\"bottom\",\"yref\":\"paper\"},{\"font\":{\"size\":16},\"showarrow\":false,\"text\":\"Plot 4\",\"x\":0.775,\"xanchor\":\"center\",\"xref\":\"paper\",\"y\":0.375,\"yanchor\":\"bottom\",\"yref\":\"paper\"}]},                        {\"responsive\": true}                    ).then(function(){\n",
       "                            \n",
       "var gd = document.getElementById('2e06f267-7d1b-489e-a11f-3067e59847d9');\n",
       "var x = new MutationObserver(function (mutations, observer) {{\n",
       "        var display = window.getComputedStyle(gd).display;\n",
       "        if (!display || display === 'none') {{\n",
       "            console.log([gd, 'removed!']);\n",
       "            Plotly.purge(gd);\n",
       "            observer.disconnect();\n",
       "        }}\n",
       "}});\n",
       "\n",
       "// Listen for the removal of the full notebook cells\n",
       "var notebookContainer = gd.closest('#notebook-container');\n",
       "if (notebookContainer) {{\n",
       "    x.observe(notebookContainer, {childList: true});\n",
       "}}\n",
       "\n",
       "// Listen for the clearing of the current output cell\n",
       "var outputEl = gd.closest('.output');\n",
       "if (outputEl) {{\n",
       "    x.observe(outputEl, {childList: true});\n",
       "}}\n",
       "\n",
       "                        })                };                });            </script>        </div>"
      ]
     },
     "metadata": {},
     "output_type": "display_data"
    }
   ],
   "source": [
    "import plotly.graph_objects as go\n",
    "from plotly.subplots import make_subplots\n",
    "\n",
    "# Create a subplot figure\n",
    "fig = make_subplots(\n",
    "    rows=2, cols=2,\n",
    "    subplot_titles=(\"Plot 1\", \"Plot 2\", \"Plot 3\", \"Plot 4\")\n",
    ")\n",
    "\n",
    "# Add traces to the subplots\n",
    "fig.add_trace(go.Scatter(x=[1, 2, 3], y=[4, 5, 6]), row=1, col=1)\n",
    "fig.add_trace(go.Scatter(x=[1, 2, 3], y=[6, 5, 4]), row=1, col=2)\n",
    "fig.add_trace(go.Scatter(x=[1, 2, 3], y=[2, 3, 4]), row=2, col=1)\n",
    "fig.add_trace(go.Scatter(x=[1, 2, 3], y=[4, 2, 3]), row=2, col=2)\n",
    "\n",
    "# Update x-axes with custom standoff and font size\n",
    "fig.update_xaxes(title_text=\"X Axis Title 1\", title_standoff=10, title_font=dict(size=9), row=1, col=1)\n",
    "fig.update_xaxes(title_text=\"X Axis Title 2\", title_standoff=10, title_font=dict(size=9), row=1, col=2)\n",
    "fig.update_xaxes(title_text=\"X Axis Title 3\", title_standoff=10, title_font=dict(size=9), row=2, col=1)\n",
    "fig.update_xaxes(title_text=\"X Axis Title 4\", title_standoff=10, title_font=dict(size=9), row=2, col=2)\n",
    "\n",
    "# Update y-axes with custom standoff and font size\n",
    "fig.update_yaxes(title_text=\"Y Axis Title 1\", title_standoff=10, title_font=dict(size=9), row=1, col=1)\n",
    "fig.update_yaxes(title_text=\"Y Axis Title 2\", title_standoff=10, title_font=dict(size=9), row=1, col=2)\n",
    "fig.update_yaxes(title_text=\"Y Axis Title 3\", title_standoff=10, title_font=dict(size=9), row=2, col=1)\n",
    "fig.update_yaxes(title_text=\"Y Axis Title 4\", title_standoff=10, title_font=dict(size=9), row=2, col=2)\n",
    "\n",
    "# Show the figure\n",
    "fig.show()\n"
   ]
  },
  {
   "cell_type": "code",
   "execution_count": 2,
   "id": "dc3663b9-e922-4bd9-819a-29a352409587",
   "metadata": {},
   "outputs": [],
   "source": [
    "import numpy as np\n",
    "\n",
    "from data_utils import compute_pairs_euclidean_distances, load_numpy_data, save_numpy_array\n",
    "\n",
    "from psf_constants import PROCESSED_TRAIN_2M_ZERNIKE_COMPLEX_FIELDS_FILE_PREFIX, \\\n",
    "                          PROCESSED_TRAIN_5M_ZERNIKE_COMPLEX_FIELDS_FILE_PREFIX, \\\n",
    "                          PROCESSED_TRAIN_9M_ZERNIKE_COMPLEX_FIELDS_FILE_PREFIX, \\\n",
    "                          PROCESSED_TRAIN_14M_ZERNIKE_COMPLEX_FIELDS_FILE_PREFIX, \\\n",
    "                          PROCESSED_TRAIN_20M_ZERNIKE_COMPLEX_FIELDS_FILE_PREFIX, \\\n",
    "                          CROPPED_TRAIN_2M_ZERNIKE_COMPLEX_FIELDS_FILE_PREFIX, \\\n",
    "                          CROPPED_TRAIN_5M_ZERNIKE_COMPLEX_FIELDS_FILE_PREFIX, \\\n",
    "                          CROPPED_TRAIN_9M_ZERNIKE_COMPLEX_FIELDS_FILE_PREFIX, \\\n",
    "                          CROPPED_TRAIN_14M_ZERNIKE_COMPLEX_FIELDS_FILE_PREFIX, \\\n",
    "                          CROPPED_TRAIN_20M_ZERNIKE_COMPLEX_FIELDS_FILE_PREFIX, \\\n",
    "                          FC_PREDICTED_TRAIN_2M_ZERNIKE_COMPLEX_FIELDS_FILE_PREFIX, \\\n",
    "                          FC_PREDICTED_TRAIN_5M_ZERNIKE_COMPLEX_FIELDS_FILE_PREFIX, \\\n",
    "                          FC_PREDICTED_TRAIN_9M_ZERNIKE_COMPLEX_FIELDS_FILE_PREFIX, \\\n",
    "                          FC_PREDICTED_TRAIN_14M_ZERNIKE_COMPLEX_FIELDS_FILE_PREFIX, \\\n",
    "                          FC_PREDICTED_TRAIN_20M_ZERNIKE_COMPLEX_FIELDS_FILE_PREFIX, \\\n",
    "                          FC_PREDICTED_CROPPED_TRAIN_2M_ZERNIKE_COMPLEX_FIELDS_FILE_PREFIX, \\\n",
    "                          FC_PREDICTED_CROPPED_TRAIN_5M_ZERNIKE_COMPLEX_FIELDS_FILE_PREFIX, \\\n",
    "                          FC_PREDICTED_CROPPED_TRAIN_9M_ZERNIKE_COMPLEX_FIELDS_FILE_PREFIX, \\\n",
    "                          FC_PREDICTED_CROPPED_TRAIN_14M_ZERNIKE_COMPLEX_FIELDS_FILE_PREFIX, \\\n",
    "                          FC_PREDICTED_CROPPED_TRAIN_20M_ZERNIKE_COMPLEX_FIELDS_FILE_PREFIX, \\\n",
    "                          TRAIN_2M_ZERNIKE_OUTPUT_FLUXES_FILE_PREFIX, \\\n",
    "                          TRAIN_5M_ZERNIKE_OUTPUT_FLUXES_FILE_PREFIX, \\\n",
    "                          TRAIN_9M_ZERNIKE_OUTPUT_FLUXES_FILE_PREFIX, \\\n",
    "                          TRAIN_14M_ZERNIKE_OUTPUT_FLUXES_FILE_PREFIX, \\\n",
    "                          TRAIN_20M_ZERNIKE_OUTPUT_FLUXES_FILE_PREFIX, \\\n",
    "                          TRAIN_2M_ZERNIKE_PSF_LP_MODES_FILE_PREFIX, \\\n",
    "                          TRAIN_5M_ZERNIKE_PSF_LP_MODES_FILE_PREFIX, \\\n",
    "                          TRAIN_9M_ZERNIKE_PSF_LP_MODES_FILE_PREFIX, \\\n",
    "                          TRAIN_14M_ZERNIKE_PSF_LP_MODES_FILE_PREFIX, \\\n",
    "                          TRAIN_20M_ZERNIKE_PSF_LP_MODES_FILE_PREFIX, \\\n",
    "                          ZERNIKE_TRAIN_EUCLIDEAN_DISTANCES_PREFIX, \\\n",
    "                          ZERNIKE_TRAIN_EUCLIDEAN_DISTANCES_PREFIX, \\\n",
    "                          ZERNIKE_TRAIN_EUCLIDEAN_DISTANCES_PAIRS_PREFIX, \\\n",
    "                          PL42_TRAIN_2M_ZERNIKE_OUTPUT_FLUXES_FILE_PREFIX, \\\n",
    "                          PL42_TRAIN_5M_ZERNIKE_OUTPUT_FLUXES_FILE_PREFIX, \\\n",
    "                          PL42_TRAIN_9M_ZERNIKE_OUTPUT_FLUXES_FILE_PREFIX, \\\n",
    "                          PL42_TRAIN_14M_ZERNIKE_OUTPUT_FLUXES_FILE_PREFIX, \\\n",
    "                          PL42_TRAIN_20M_ZERNIKE_OUTPUT_FLUXES_FILE_PREFIX, \\\n",
    "                          PL42_TRAIN_2M_ZERNIKE_PSF_LP_MODES_FILE_PREFIX, \\\n",
    "                          PL42_TRAIN_5M_ZERNIKE_PSF_LP_MODES_FILE_PREFIX, \\\n",
    "                          PL42_TRAIN_9M_ZERNIKE_PSF_LP_MODES_FILE_PREFIX, \\\n",
    "                          PL42_TRAIN_14M_ZERNIKE_PSF_LP_MODES_FILE_PREFIX, \\\n",
    "                          PL42_TRAIN_20M_ZERNIKE_PSF_LP_MODES_FILE_PREFIX, \\\n",
    "                          PL42_ZERNIKE_TRAIN_EUCLIDEAN_DISTANCES_PREFIX, \\\n",
    "                          PL42_ZERNIKE_TRAIN_EUCLIDEAN_DISTANCES_PAIRS_PREFIX, \\\n",
    "                          PSF_TRAIN_FILE_SUFFIXES, \\\n",
    "                          NUMPY_SUFFIX"
   ]
  },
  {
   "cell_type": "code",
   "execution_count": 3,
   "id": "396feb2d-8f25-4177-9f0f-49b5c31348ee",
   "metadata": {},
   "outputs": [],
   "source": [
    "PATHS_DICTIONARY = {\n",
    "    \"TR2\": [PROCESSED_TRAIN_2M_ZERNIKE_COMPLEX_FIELDS_FILE_PREFIX,\n",
    "            FC_PREDICTED_TRAIN_2M_ZERNIKE_COMPLEX_FIELDS_FILE_PREFIX,\n",
    "            CROPPED_TRAIN_2M_ZERNIKE_COMPLEX_FIELDS_FILE_PREFIX,\n",
    "            FC_PREDICTED_CROPPED_TRAIN_2M_ZERNIKE_COMPLEX_FIELDS_FILE_PREFIX,\n",
    "            TRAIN_2M_ZERNIKE_OUTPUT_FLUXES_FILE_PREFIX,\n",
    "            TRAIN_2M_ZERNIKE_PSF_LP_MODES_FILE_PREFIX,\n",
    "            [2,3]],\n",
    "    \n",
    "    \"TR5\": [PROCESSED_TRAIN_5M_ZERNIKE_COMPLEX_FIELDS_FILE_PREFIX, \n",
    "            FC_PREDICTED_TRAIN_5M_ZERNIKE_COMPLEX_FIELDS_FILE_PREFIX,\n",
    "            CROPPED_TRAIN_5M_ZERNIKE_COMPLEX_FIELDS_FILE_PREFIX,\n",
    "            FC_PREDICTED_CROPPED_TRAIN_5M_ZERNIKE_COMPLEX_FIELDS_FILE_PREFIX,\n",
    "            TRAIN_5M_ZERNIKE_OUTPUT_FLUXES_FILE_PREFIX,\n",
    "            TRAIN_5M_ZERNIKE_PSF_LP_MODES_FILE_PREFIX,\n",
    "            [2, 3, 4, 5, 6]],\n",
    "    \n",
    "    \"TR9\": [PROCESSED_TRAIN_9M_ZERNIKE_COMPLEX_FIELDS_FILE_PREFIX,\n",
    "            FC_PREDICTED_TRAIN_9M_ZERNIKE_COMPLEX_FIELDS_FILE_PREFIX,\n",
    "            CROPPED_TRAIN_9M_ZERNIKE_COMPLEX_FIELDS_FILE_PREFIX,\n",
    "            FC_PREDICTED_CROPPED_TRAIN_9M_ZERNIKE_COMPLEX_FIELDS_FILE_PREFIX,\n",
    "            TRAIN_9M_ZERNIKE_OUTPUT_FLUXES_FILE_PREFIX,\n",
    "            TRAIN_9M_ZERNIKE_PSF_LP_MODES_FILE_PREFIX,\n",
    "            [2, 3, 4, 5, 6, 7, 8, 9, 10]],\n",
    "    \n",
    "    \"TR14\": [PROCESSED_TRAIN_14M_ZERNIKE_COMPLEX_FIELDS_FILE_PREFIX,\n",
    "             FC_PREDICTED_TRAIN_14M_ZERNIKE_COMPLEX_FIELDS_FILE_PREFIX,\n",
    "             CROPPED_TRAIN_14M_ZERNIKE_COMPLEX_FIELDS_FILE_PREFIX,\n",
    "             FC_PREDICTED_CROPPED_TRAIN_14M_ZERNIKE_COMPLEX_FIELDS_FILE_PREFIX,\n",
    "             TRAIN_14M_ZERNIKE_OUTPUT_FLUXES_FILE_PREFIX,\n",
    "             TRAIN_14M_ZERNIKE_PSF_LP_MODES_FILE_PREFIX,\n",
    "             [2, 3, 4, 5, 6, 7, 8, 9, 10, 11, 12, 13, 14, 15]],\n",
    "    \n",
    "    \"TR20\": [PROCESSED_TRAIN_20M_ZERNIKE_COMPLEX_FIELDS_FILE_PREFIX,\n",
    "             FC_PREDICTED_TRAIN_20M_ZERNIKE_COMPLEX_FIELDS_FILE_PREFIX,\n",
    "             CROPPED_TRAIN_20M_ZERNIKE_COMPLEX_FIELDS_FILE_PREFIX,\n",
    "             FC_PREDICTED_CROPPED_TRAIN_20M_ZERNIKE_COMPLEX_FIELDS_FILE_PREFIX,\n",
    "             TRAIN_20M_ZERNIKE_OUTPUT_FLUXES_FILE_PREFIX,\n",
    "             TRAIN_20M_ZERNIKE_PSF_LP_MODES_FILE_PREFIX,\n",
    "             [2, 3, 4, 5, 6, 7, 8, 9, 10, 11, 12, 13, 14, 15, 16, 17 , 18, 19, 20, 21]],\n",
    "}"
   ]
  },
  {
   "cell_type": "code",
   "execution_count": 4,
   "id": "93843fd2-e5d0-4703-a0ff-dd1d779d9b6c",
   "metadata": {},
   "outputs": [],
   "source": [
    "def create_path(prefix, suffix):\n",
    "    data_path = f\"{prefix}{suffix}{NUMPY_SUFFIX}\"\n",
    "    return data_path\n",
    "\n",
    "def create_random_pair_indexes(array_n_points, pairs_per_subset=10000):\n",
    "    selected_pairs = np.random.randint(0, array_n_points, size=(pairs_per_subset, 2))\n",
    "    selected_pairs = selected_pairs[selected_pairs[:, 0] != selected_pairs[:, 1]]\n",
    "    \n",
    "    while selected_pairs.shape[0] < pairs_per_subset:\n",
    "        more_pairs = np.random.randint(0, 100, size=(pairs_per_subset, 2))\n",
    "        more_pairs = more_pairs[more_pairs[:, 0] != more_pairs[:, 1]]\n",
    "        selected_pairs = np.concatenate((selected_pairs, more_pairs))\n",
    "        \n",
    "    return selected_pairs[:pairs_per_subset]"
   ]
  },
  {
   "cell_type": "markdown",
   "id": "1c332722-19cc-4c34-9933-bf03912aeeac",
   "metadata": {},
   "source": [
    "# 1. Brute Force"
   ]
  },
  {
   "cell_type": "code",
   "execution_count": 5,
   "id": "668c2aec-f6b2-4aaf-92b1-f7747747acb4",
   "metadata": {},
   "outputs": [
    {
     "name": "stdout",
     "output_type": "stream",
     "text": [
      "(10000, 2, 19)\n",
      "(10000, 2, 19)\n",
      "(10000, 2, 19)\n",
      "(10000, 2, 19)\n",
      "(10000, 2, 19)\n",
      "(10000, 2, 19)\n",
      "(10000, 2, 19)\n",
      "(10000, 2, 19)\n",
      "(10000, 2, 19)\n",
      "(10000, 2, 19)\n",
      "(10000, 2, 19)\n",
      "(10000, 2, 19)\n",
      "(10000, 2, 19)\n",
      "(10000, 2, 19)\n",
      "(10000, 2, 19)\n",
      "(10000, 2, 19)\n",
      "(10000, 2, 19)\n",
      "(10000, 2, 19)\n",
      "(10000, 2, 19)\n",
      "(10000, 2, 19)\n",
      "(10000, 2, 19)\n",
      "(10000, 2, 19)\n",
      "(10000, 2, 19)\n",
      "(10000, 2, 19)\n",
      "(10000, 2, 19)\n",
      "(10000, 2, 19)\n",
      "(10000, 2, 19)\n",
      "(10000, 2, 19)\n",
      "(10000, 2, 19)\n",
      "(10000, 2, 19)\n",
      "(10000, 2, 19)\n",
      "(10000, 2, 19)\n",
      "(10000, 2, 19)\n",
      "(10000, 2, 19)\n",
      "(10000, 2, 19)\n"
     ]
    }
   ],
   "source": [
    "for suffix in PSF_TRAIN_FILE_SUFFIXES:\n",
    "    distances = []\n",
    "    \n",
    "    # Select pairs to compute euclidean distances\n",
    "    n_points = 10000\n",
    "    pairs_path = create_path(ZERNIKE_TRAIN_EUCLIDEAN_DISTANCES_PAIRS_PREFIX, suffix)\n",
    "    selected_pairs = np.load(pairs_path)\n",
    "    #selected_pairs = create_random_pair_indexes(n_points, pairs_per_subset=10000)\n",
    "    \n",
    "    for dataset_name, dataset_info in PATHS_DICTIONARY.items():\n",
    "        cf_path_prefix = dataset_info[0]\n",
    "        pred_cf_path_prefix = dataset_info[1]\n",
    "        cropped_cf_path_prefix = dataset_info[2]\n",
    "        predicted_cropped_cf_path_prefix = dataset_info[3]\n",
    "        flux_prefix = dataset_info[4]\n",
    "        lp_modes_prefix = dataset_info[5]\n",
    "\n",
    "        # Define data paths\n",
    "        fluxes_path = create_path(flux_prefix, suffix)\n",
    "        complex_fields_path = create_path(cf_path_prefix, suffix)\n",
    "        predicted_complex_fields_path = create_path(pred_cf_path_prefix, suffix)\n",
    "        cropped_complex_fields_path = create_path(cropped_cf_path_prefix, suffix)\n",
    "        predicted_cropped_complex_fields_path = create_path(predicted_cropped_cf_path_prefix, suffix)\n",
    "        lp_modes_path = create_path(lp_modes_prefix, suffix)\n",
    "        \n",
    "    \n",
    "        # Load data\n",
    "        fluxes = load_numpy_data(fluxes_path)\n",
    "        complex_fields = load_numpy_data(complex_fields_path)\n",
    "        predicted_complex_fields = load_numpy_data(predicted_complex_fields_path)\n",
    "        cropped_complex_fields = load_numpy_data(cropped_complex_fields_path)\n",
    "        predicted_cropped_complex_fields = load_numpy_data(predicted_cropped_complex_fields_path)\n",
    "        lp_modes = load_numpy_data(lp_modes_path)\n",
    "        print(lp_modes.shape)\n",
    "    \n",
    "    \n",
    "        # Compute fluxes euclidean distances\n",
    "        fluxes_euclidean_distances = compute_pairs_euclidean_distances(fluxes,\n",
    "                                                                       selected_pairs)\n",
    "        distances.append(fluxes_euclidean_distances.reshape(-1, 1))\n",
    "\n",
    "        # Compute lp modes euclidean distances\n",
    "        lp_modes_euclidean_distances = compute_pairs_euclidean_distances(lp_modes,\n",
    "                                                                         selected_pairs,\n",
    "                                                                         is_lp_coefficients=True)\n",
    "        distances.append(lp_modes_euclidean_distances.reshape(-1, 1))\n",
    "\n",
    "        # Compute complex_fields euclidean distances\n",
    "        complex_fields_euclidean_distances = compute_pairs_euclidean_distances(complex_fields,\n",
    "                                                                               selected_pairs,\n",
    "                                                                               is_complex_field=True)\n",
    "        distances.append(complex_fields_euclidean_distances.reshape(-1, 1))\n",
    "\n",
    "        # Compute predicted complex fields euclidean distances\n",
    "        predicted_complex_fields_euclidean_distances = compute_pairs_euclidean_distances(predicted_complex_fields,\n",
    "                                                                                         selected_pairs,\n",
    "                                                                                         is_complex_field=True)\n",
    "        distances.append(predicted_complex_fields_euclidean_distances.reshape(-1, 1))\n",
    "\n",
    "        # Compute cropped complex fields euclidean distances\n",
    "        cropped_complex_fields_euclidean_distances = compute_pairs_euclidean_distances(cropped_complex_fields,\n",
    "                                                                                       selected_pairs,\n",
    "                                                                                       is_complex_field=True)\n",
    "        distances.append(cropped_complex_fields_euclidean_distances.reshape(-1, 1))\n",
    "\n",
    "        # Compute predictd cropped complex fields euclidean distances\n",
    "        predicted_cropped_complex_fields_euclidean_distances = compute_pairs_euclidean_distances(predicted_cropped_complex_fields,\n",
    "                                                                                                 selected_pairs,\n",
    "                                                                                                 is_complex_field=True)\n",
    "        distances.append(predicted_cropped_complex_fields_euclidean_distances.reshape(-1, 1))\n",
    "        \n",
    "    # Merge in columns\n",
    "    euclidean_distances = np.concatenate(distances, \n",
    "                                         axis=1)\n",
    "\n",
    "    # Save arrays\n",
    "    pairs_path = create_path(ZERNIKE_TRAIN_EUCLIDEAN_DISTANCES_PAIRS_PREFIX, suffix)\n",
    "    euclidean_distances_path = create_path(ZERNIKE_TRAIN_EUCLIDEAN_DISTANCES_PREFIX, suffix)\n",
    "    #save_numpy_array(selected_pairs, pairs_path, single_precision=False)\n",
    "    save_numpy_array(euclidean_distances, euclidean_distances_path)"
   ]
  },
  {
   "cell_type": "markdown",
   "id": "bb18e0a0-f716-4e6e-9717-963ab40733f2",
   "metadata": {},
   "source": [
    "### For 42 waveguide PL"
   ]
  },
  {
   "cell_type": "code",
   "execution_count": 3,
   "id": "df8b83d2-40ce-4b2f-b97d-f2639dc3859d",
   "metadata": {},
   "outputs": [],
   "source": [
    "PATHS_DICTIONARY = {\n",
    "    \"TR2\": [PROCESSED_TRAIN_2M_ZERNIKE_COMPLEX_FIELDS_FILE_PREFIX,\n",
    "            PL42_TRAIN_2M_ZERNIKE_OUTPUT_FLUXES_FILE_PREFIX,\n",
    "            PL42_TRAIN_2M_ZERNIKE_PSF_LP_MODES_FILE_PREFIX,\n",
    "            [2,3]],\n",
    "    \n",
    "    \"TR5\": [PROCESSED_TRAIN_5M_ZERNIKE_COMPLEX_FIELDS_FILE_PREFIX,\n",
    "            PL42_TRAIN_5M_ZERNIKE_OUTPUT_FLUXES_FILE_PREFIX,\n",
    "            PL42_TRAIN_5M_ZERNIKE_PSF_LP_MODES_FILE_PREFIX,\n",
    "            [2, 3, 4, 5, 6]],\n",
    "    \n",
    "    \"TR9\": [PROCESSED_TRAIN_9M_ZERNIKE_COMPLEX_FIELDS_FILE_PREFIX,\n",
    "            PL42_TRAIN_9M_ZERNIKE_OUTPUT_FLUXES_FILE_PREFIX,\n",
    "            PL42_TRAIN_9M_ZERNIKE_PSF_LP_MODES_FILE_PREFIX,\n",
    "            [2, 3, 4, 5, 6, 7, 8, 9, 10]],\n",
    "    \n",
    "    \"TR14\": [PROCESSED_TRAIN_14M_ZERNIKE_COMPLEX_FIELDS_FILE_PREFIX,\n",
    "             PL42_TRAIN_14M_ZERNIKE_OUTPUT_FLUXES_FILE_PREFIX,\n",
    "             PL42_TRAIN_14M_ZERNIKE_PSF_LP_MODES_FILE_PREFIX,\n",
    "             [2, 3, 4, 5, 6, 7, 8, 9, 10, 11, 12, 13, 14, 15]],\n",
    "    \n",
    "    \"TR20\": [PROCESSED_TRAIN_20M_ZERNIKE_COMPLEX_FIELDS_FILE_PREFIX,\n",
    "             PL42_TRAIN_20M_ZERNIKE_OUTPUT_FLUXES_FILE_PREFIX,\n",
    "             PL42_TRAIN_20M_ZERNIKE_PSF_LP_MODES_FILE_PREFIX,\n",
    "             [2, 3, 4, 5, 6, 7, 8, 9, 10, 11, 12, 13, 14, 15, 16, 17 , 18, 19, 20, 21]],\n",
    "}"
   ]
  },
  {
   "cell_type": "code",
   "execution_count": 5,
   "id": "42283766-ef25-4076-ba14-1222291a550e",
   "metadata": {},
   "outputs": [],
   "source": [
    "for suffix in PSF_TRAIN_FILE_SUFFIXES:\n",
    "    distances = []\n",
    "    \n",
    "    # Select pairs to compute euclidean distances\n",
    "    n_points = 10000\n",
    "    selected_pairs = create_random_pair_indexes(n_points, pairs_per_subset=10000)\n",
    "    \n",
    "    for dataset_name, dataset_info in PATHS_DICTIONARY.items():\n",
    "        cf_path_prefix = dataset_info[0]\n",
    "        flux_prefix = dataset_info[1]\n",
    "        lp_modes_prefix = dataset_info[2]\n",
    "\n",
    "        # Define data paths\n",
    "        fluxes_path = create_path(flux_prefix, suffix)\n",
    "        complex_fields_path = create_path(cf_path_prefix, suffix)\n",
    "        lp_modes_path = create_path(lp_modes_prefix, suffix)\n",
    "        \n",
    "    \n",
    "        # Load data\n",
    "        fluxes = load_numpy_data(fluxes_path)\n",
    "        complex_fields = load_numpy_data(complex_fields_path)\n",
    "        lp_modes = load_numpy_data(lp_modes_path)\n",
    "    \n",
    "    \n",
    "        # Compute fluxes euclidean distances\n",
    "        fluxes_euclidean_distances = compute_pairs_euclidean_distances(fluxes,\n",
    "                                                                       selected_pairs)\n",
    "        distances.append(fluxes_euclidean_distances.reshape(-1, 1))\n",
    "\n",
    "        # Compute lp modes euclidean distances\n",
    "        lp_modes_euclidean_distances = compute_pairs_euclidean_distances(lp_modes,\n",
    "                                                                         selected_pairs)\n",
    "        distances.append(lp_modes_euclidean_distances.reshape(-1, 1))\n",
    "\n",
    "        # Compute complex_fields euclidean distances\n",
    "        complex_fields_euclidean_distances = compute_pairs_euclidean_distances(complex_fields,\n",
    "                                                                               selected_pairs,\n",
    "                                                                               is_complex_field=True)\n",
    "        distances.append(complex_fields_euclidean_distances.reshape(-1, 1))\n",
    "        \n",
    "    # Merge in columns\n",
    "    euclidean_distances = np.concatenate(distances, \n",
    "                                         axis=1)\n",
    "\n",
    "    # Save arrays\n",
    "    pairs_path = create_path(PL42_ZERNIKE_TRAIN_EUCLIDEAN_DISTANCES_PAIRS_PREFIX, suffix)\n",
    "    euclidean_distances_path = create_path(PL42_ZERNIKE_TRAIN_EUCLIDEAN_DISTANCES_PREFIX, suffix)\n",
    "    save_numpy_array(selected_pairs, pairs_path, single_precision=False)\n",
    "    save_numpy_array(euclidean_distances, euclidean_distances_path)"
   ]
  },
  {
   "cell_type": "code",
   "execution_count": null,
   "id": "18b87bc4-33e8-48a0-8442-b30ae002534d",
   "metadata": {},
   "outputs": [],
   "source": []
  }
 ],
 "metadata": {
  "kernelspec": {
   "display_name": "sail-env",
   "language": "python",
   "name": "sail-env"
  },
  "language_info": {
   "codemirror_mode": {
    "name": "ipython",
    "version": 3
   },
   "file_extension": ".py",
   "mimetype": "text/x-python",
   "name": "python",
   "nbconvert_exporter": "python",
   "pygments_lexer": "ipython3",
   "version": "3.9.18"
  }
 },
 "nbformat": 4,
 "nbformat_minor": 5
}
