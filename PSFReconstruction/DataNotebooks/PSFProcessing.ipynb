{
 "cells": [
  {
   "cell_type": "code",
   "execution_count": 1,
   "id": "9fbc3203-ad7a-480b-8ec7-a92a94d4cbfd",
   "metadata": {},
   "outputs": [],
   "source": [
    "from psf_constants import NUMPY_SUFFIX, \\\n",
    "                          PSF_TRAIN_FILE_SUFFIXES, \\\n",
    "                          TRAIN_COMPLEX_FIELDS_PREFIX, \\\n",
    "                          VALIDATION_COMPLEX_FIELDS_PATH, \\\n",
    "                          TEST_COMPLEX_FIELDS_PATH, \\\n",
    "                          FC_PROCESSED_TRAIN_COMPLEX_FIELDS_PREFIX, \\\n",
    "                          FC_PROCESSED_VALIDATION_COMPLEX_FIELDS_FILE_PATH, \\\n",
    "                          FC_PROCESSED_TEST_COMPLEX_FIELDS_FILE_PATH, \\\n",
    "                          TRAIN_OUTPUT_FLUXES_FILE_PREFIX, \\\n",
    "                          VALIDATION_OUTPUT_FLUXES_FILE_PATH, \\\n",
    "                          TEST_OUTPUT_FLUXES_FILE_PATH, \\\n",
    "                          FC_PROCESSED_TRAIN_OUTPUT_FLUXES_PREFIX, \\\n",
    "                          FC_PROCESSED_VALIDATION_OUTPUT_FLUXES_FILE_PATH, \\\n",
    "                          FC_PROCESSED_TEST_OUTPUT_FLUXES_FILE_PATH, \\\n",
    "                          SUBFILE_SAMPLES, \\\n",
    "                          COMPLEX_NUMBER_NORMALIZATION_CONSTANT\n",
    "\n",
    "from data_utils import normalize_data, \\\n",
    "                       save_numpy_array\n",
    "\n",
    "import numpy as np\n",
    "\n",
    "from plot_utils import plot_amplitude_phase_intensity_from_complex_field"
   ]
  },
  {
   "cell_type": "code",
   "execution_count": 3,
   "id": "dbd8abdd-f4ae-4680-b4bb-20a792b72f7b",
   "metadata": {},
   "outputs": [],
   "source": [
    "def process_fc_complex_field(filepath):\n",
    "    \n",
    "    complex_arrays = np.load(filepath)\n",
    "    \n",
    "    real_part = np.real(complex_arrays).astype(np.float32)\n",
    "    imaginary_part = np.imag(complex_arrays).astype(np.float32)\n",
    "    \n",
    "    processed_complex_field_arrays = np.stack((real_part, imaginary_part), axis=1)\n",
    "    processed_complex_field_arrays = processed_complex_field_arrays.reshape((SUBFILE_SAMPLES, 128*128*2))    \n",
    "    return processed_complex_field_arrays\n",
    "\n",
    "\n",
    "def process_output_fuxess(filepath):\n",
    "    output_fluxes = np.load(filepath)\n",
    "    norm_fluxes, scaler = normalize_data(output_fluxes)\n",
    "    \n",
    "    return norm_fluxes"
   ]
  },
  {
   "cell_type": "code",
   "execution_count": 17,
   "id": "ecde315a-071e-48d6-988a-37a020f15676",
   "metadata": {},
   "outputs": [
    {
     "name": "stdout",
     "output_type": "stream",
     "text": [
      "(10000, 2, 128, 128)\n",
      "(10000, 2, 128, 128)\n",
      "(10000, 2, 128, 128)\n",
      "(10000, 2, 128, 128)\n",
      "(10000, 2, 128, 128)\n",
      "(10000, 2, 128, 128)\n",
      "(10000, 2, 128, 128)\n"
     ]
    }
   ],
   "source": [
    "for train_file in PSF_TRAIN_FILE_SUFFIXES:\n",
    "    filepath = f\"{TRAIN_COMPLEX_FIELDS_PREFIX}{train_file}{NUMPY_SUFFIX}\"\n",
    "    processed_complex_field_arrays = process_fc_complex_field(filepath)\n",
    "\n",
    "    save_numpy_array(processed_complex_field_arrays,\n",
    "                    f\"{FC_PROCESSED_TRAIN_COMPLEX_FIELDS_PREFIX}{train_file}{NUMPY_SUFFIX}\")\n"
   ]
  },
  {
   "cell_type": "code",
   "execution_count": 3,
   "id": "16fd4f6e-288b-4457-8c35-08ba7d175310",
   "metadata": {},
   "outputs": [
    {
     "name": "stdout",
     "output_type": "stream",
     "text": [
      "(10000, 2, 128, 128)\n"
     ]
    }
   ],
   "source": [
    "processed_complex_field_arrays = process_fc_complex_field(VALIDATION_COMPLEX_FIELDS_PATH)\n",
    "\n",
    "save_numpy_array(processed_complex_field_arrays,\n",
    "                 FC_PROCESSED_VALIDATION_COMPLEX_FIELDS_FILE_PATH)"
   ]
  },
  {
   "cell_type": "code",
   "execution_count": 4,
   "id": "989fbddd-9d13-4fe3-8c5a-a16582bcf77c",
   "metadata": {},
   "outputs": [
    {
     "name": "stdout",
     "output_type": "stream",
     "text": [
      "(10000, 2, 128, 128)\n"
     ]
    }
   ],
   "source": [
    "processed_complex_field_arrays = process_fc_complex_field(TEST_COMPLEX_FIELDS_PATH)\n",
    "\n",
    "save_numpy_array(processed_complex_field_arrays,\n",
    "                 FC_PROCESSED_TEST_COMPLEX_FIELDS_FILE_PATH)"
   ]
  },
  {
   "cell_type": "code",
   "execution_count": 5,
   "id": "552fe75d-09dd-4941-b460-817de622639a",
   "metadata": {},
   "outputs": [],
   "source": [
    "for train_file in PSF_TRAIN_FILE_SUFFIXES:\n",
    "    filepath = f\"{TRAIN_OUTPUT_FLUXES_FILE_PREFIX}{train_file}{NUMPY_SUFFIX}\"\n",
    "    processed_output_fluxes_arrays = process_output_fuxess(filepath)\n",
    "\n",
    "    save_numpy_array(processed_output_fluxes_arrays,\n",
    "                    f\"{FC_PROCESSED_TRAIN_OUTPUT_FLUXES_PREFIX}{train_file}{NUMPY_SUFFIX}\")"
   ]
  },
  {
   "cell_type": "code",
   "execution_count": 8,
   "id": "85a0985b-8de5-43b7-896e-5d9280685edd",
   "metadata": {},
   "outputs": [],
   "source": [
    "processed_output_fluxes_arrays = process_output_fuxess(VALIDATION_OUTPUT_FLUXES_FILE_PATH)\n",
    "\n",
    "save_numpy_array(processed_output_fluxes_arrays,\n",
    "                 FC_PROCESSED_VALIDATION_OUTPUT_FLUXES_FILE_PATH)"
   ]
  },
  {
   "cell_type": "code",
   "execution_count": 9,
   "id": "240c2405-f36a-478d-8ef9-77facce10c1b",
   "metadata": {},
   "outputs": [],
   "source": [
    "processed_output_fluxes_arrays = process_output_fuxess(TEST_OUTPUT_FLUXES_FILE_PATH)\n",
    "\n",
    "save_numpy_array(processed_output_fluxes_arrays,\n",
    "                 FC_PROCESSED_TEST_OUTPUT_FLUXES_FILE_PATH)"
   ]
  }
 ],
 "metadata": {
  "kernelspec": {
   "display_name": "sail-env",
   "language": "python",
   "name": "sail-env"
  },
  "language_info": {
   "codemirror_mode": {
    "name": "ipython",
    "version": 3
   },
   "file_extension": ".py",
   "mimetype": "text/x-python",
   "name": "python",
   "nbconvert_exporter": "python",
   "pygments_lexer": "ipython3",
   "version": "3.9.18"
  }
 },
 "nbformat": 4,
 "nbformat_minor": 5
}
