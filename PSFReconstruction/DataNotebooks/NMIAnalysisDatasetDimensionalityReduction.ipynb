{
 "cells": [
  {
   "cell_type": "code",
   "execution_count": 1,
   "id": "a73c9f5a-26f5-49fb-a439-5dea51ce6c36",
   "metadata": {},
   "outputs": [],
   "source": [
    "from nmi_analysis_constants import PATHS_DICTIONARY\n",
    "from data_utils import save_numpy_array\n",
    "from sklearn.decomposition import PCA\n",
    "import numpy as np\n",
    "import matplotlib.pyplot as plt"
   ]
  },
  {
   "cell_type": "markdown",
   "id": "9cb3ef83-351d-4da6-b072-0fe448ffe6bc",
   "metadata": {},
   "source": [
    "# UMAP"
   ]
  },
  {
   "cell_type": "code",
   "execution_count": 3,
   "id": "7e9df6ee-6109-482e-af10-380132c09349",
   "metadata": {},
   "outputs": [
    {
     "name": "stderr",
     "output_type": "stream",
     "text": [
      "2024-07-04 12:19:33.806532: I tensorflow/core/util/port.cc:113] oneDNN custom operations are on. You may see slightly different numerical results due to floating-point round-off errors from different computation orders. To turn them off, set the environment variable `TF_ENABLE_ONEDNN_OPTS=0`.\n",
      "2024-07-04 12:19:33.856885: E external/local_xla/xla/stream_executor/cuda/cuda_dnn.cc:9261] Unable to register cuDNN factory: Attempting to register factory for plugin cuDNN when one has already been registered\n",
      "2024-07-04 12:19:33.856917: E external/local_xla/xla/stream_executor/cuda/cuda_fft.cc:607] Unable to register cuFFT factory: Attempting to register factory for plugin cuFFT when one has already been registered\n",
      "2024-07-04 12:19:33.858084: E external/local_xla/xla/stream_executor/cuda/cuda_blas.cc:1515] Unable to register cuBLAS factory: Attempting to register factory for plugin cuBLAS when one has already been registered\n",
      "2024-07-04 12:19:33.865975: I tensorflow/core/platform/cpu_feature_guard.cc:182] This TensorFlow binary is optimized to use available CPU instructions in performance-critical operations.\n",
      "To enable the following instructions: AVX2 AVX_VNNI FMA, in other operations, rebuild TensorFlow with the appropriate compiler flags.\n",
      "2024-07-04 12:19:34.834213: W tensorflow/compiler/tf2tensorrt/utils/py_utils.cc:38] TF-TRT Warning: Could not find TensorRT\n"
     ]
    }
   ],
   "source": [
    "import umap"
   ]
  },
  {
   "cell_type": "markdown",
   "id": "972b46f7-b5c1-4e7a-a82a-d0213b64f7d3",
   "metadata": {},
   "source": [
    "### Intensities"
   ]
  },
  {
   "cell_type": "code",
   "execution_count": 4,
   "id": "171660e2-ba9e-43a9-b059-73c26b317e5f",
   "metadata": {},
   "outputs": [],
   "source": [
    "for key, minidataset_dict in PATHS_DICTIONARY.items():\n",
    "    intensities = np.load(minidataset_dict['intensities_file_path'])\n",
    "    umap_reducer = umap.UMAP(n_neighbors=15,\n",
    "                             min_dist=0.3,\n",
    "                             n_components=19,\n",
    "                             metric='euclidean')\n",
    "    umap_intensities = umap_reducer.fit_transform(intensities)\n",
    "    save_numpy_array(umap_intensities, minidataset_dict[\"umap_intensities_path\"])"
   ]
  }
 ],
 "metadata": {
  "kernelspec": {
   "display_name": "sail-env",
   "language": "python",
   "name": "sail-env"
  },
  "language_info": {
   "codemirror_mode": {
    "name": "ipython",
    "version": 3
   },
   "file_extension": ".py",
   "mimetype": "text/x-python",
   "name": "python",
   "nbconvert_exporter": "python",
   "pygments_lexer": "ipython3",
   "version": "3.9.18"
  }
 },
 "nbformat": 4,
 "nbformat_minor": 5
}
