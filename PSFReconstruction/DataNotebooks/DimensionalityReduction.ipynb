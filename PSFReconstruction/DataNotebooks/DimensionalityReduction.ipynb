{
 "cells": [
  {
   "cell_type": "markdown",
   "id": "5601d2be-9b46-436e-9084-37f043324bb3",
   "metadata": {},
   "source": [
    "# Dimensionality reduction for PSF"
   ]
  },
  {
   "cell_type": "code",
   "execution_count": 19,
   "id": "4f49427a-242e-4049-823f-b234c3dbc0f3",
   "metadata": {},
   "outputs": [],
   "source": [
    "from psf_constants import PROCESSED_VALIDATION_2M_ZERNIKE_COMPLEX_FIELDS_FILE_PATH, \\\n",
    "                          LOW_DIMENSION_VALIDATION_2M_ZERNIKE_COMPLEX_FIELDS_FILE_PATH\n",
    "\n",
    "import umap\n",
    "import numpy as np"
   ]
  },
  {
   "cell_type": "code",
   "execution_count": 20,
   "id": "09aabc9b-597d-40fe-b845-2cd5b5eb566f",
   "metadata": {},
   "outputs": [],
   "source": [
    "reducer = umap.UMAP(n_neighbors=500,\n",
    "                    min_dist=0.1,\n",
    "                    n_components=3,\n",
    "                    metric='euclidean')"
   ]
  },
  {
   "cell_type": "code",
   "execution_count": 25,
   "id": "68ac5efc-0a8b-4e48-9cbe-7c422d1b8a0b",
   "metadata": {},
   "outputs": [],
   "source": [
    "data = np.load(PROCESSED_VALIDATION_2M_ZERNIKE_COMPLEX_FIELDS_FILE_PATH)\n",
    "data = np.tile(data, 7)"
   ]
  },
  {
   "cell_type": "code",
   "execution_count": null,
   "id": "10f498c5-ea29-439d-9922-e95ec28c6fa5",
   "metadata": {},
   "outputs": [],
   "source": [
    "embedding = reducer.fit_transform(data)"
   ]
  },
  {
   "cell_type": "code",
   "execution_count": 24,
   "id": "32f26754-6a23-41f9-b9c0-dbe53316ba06",
   "metadata": {},
   "outputs": [
    {
     "data": {
      "text/plain": [
       "(10000, 3)"
      ]
     },
     "execution_count": 24,
     "metadata": {},
     "output_type": "execute_result"
    }
   ],
   "source": [
    "embedding.shape"
   ]
  }
 ],
 "metadata": {
  "kernelspec": {
   "display_name": "sail-env",
   "language": "python",
   "name": "sail-env"
  },
  "language_info": {
   "codemirror_mode": {
    "name": "ipython",
    "version": 3
   },
   "file_extension": ".py",
   "mimetype": "text/x-python",
   "name": "python",
   "nbconvert_exporter": "python",
   "pygments_lexer": "ipython3",
   "version": "3.9.18"
  }
 },
 "nbformat": 4,
 "nbformat_minor": 5
}
