{
 "cells": [
  {
   "cell_type": "code",
   "execution_count": 1,
   "id": "a73c9f5a-26f5-49fb-a439-5dea51ce6c36",
   "metadata": {},
   "outputs": [],
   "source": [
    "from minidataset_constants import PATHS_DICTIONARY\n",
    "from sklearn.decomposition import PCA\n",
    "import numpy as np\n",
    "import matplotlib.pyplot as plt"
   ]
  },
  {
   "cell_type": "code",
   "execution_count": 2,
   "id": "8da9b50e-87b1-45eb-a137-5215230ad6e5",
   "metadata": {},
   "outputs": [],
   "source": [
    "minidataset_paths_dictionary = PATHS_DICTIONARY['MINI_14M']"
   ]
  },
  {
   "cell_type": "markdown",
   "id": "39e9ce7f-7240-4653-8645-e66379391a5c",
   "metadata": {},
   "source": [
    "# PCA"
   ]
  },
  {
   "cell_type": "markdown",
   "id": "3b0a09ba-d116-49ba-893a-4a7a33ea3ce1",
   "metadata": {},
   "source": [
    "### Zernike coefficients"
   ]
  },
  {
   "cell_type": "code",
   "execution_count": 3,
   "id": "6ea3ea78-fc40-44f2-88d9-9e9fc17a2ffb",
   "metadata": {},
   "outputs": [],
   "source": [
    "zernike_coefficients = np.load(minidataset_paths_dictionary[\"zernike_mode_coefficients_path\"])"
   ]
  },
  {
   "cell_type": "code",
   "execution_count": 4,
   "id": "1d20d177-a5a3-468b-8e9d-2002e2766a3b",
   "metadata": {},
   "outputs": [
    {
     "data": {
      "text/plain": [
       "(3200, 5)"
      ]
     },
     "execution_count": 4,
     "metadata": {},
     "output_type": "execute_result"
    }
   ],
   "source": [
    "zernike_coefficients.shape"
   ]
  },
  {
   "cell_type": "code",
   "execution_count": 5,
   "id": "876ac13b-41e6-4625-b7a7-71933c02e5f7",
   "metadata": {},
   "outputs": [],
   "source": [
    "pca = PCA(n_components=2)\n",
    "pca_zernike_coefficients = pca.fit_transform(zernike_coefficients)"
   ]
  },
  {
   "cell_type": "code",
   "execution_count": 6,
   "id": "c674f2be-d94f-47ea-8784-67faf0cd4da3",
   "metadata": {},
   "outputs": [
    {
     "data": {
      "text/plain": [
       "(3200, 2)"
      ]
     },
     "execution_count": 6,
     "metadata": {},
     "output_type": "execute_result"
    }
   ],
   "source": [
    "pca_zernike_coefficients.shape"
   ]
  },
  {
   "cell_type": "code",
   "execution_count": 7,
   "id": "dce1fa62-b8cf-4da9-b9ad-ec2a9db017ff",
   "metadata": {},
   "outputs": [],
   "source": [
    "np.save(minidataset_paths_dictionary[\"pca_zernike_mode_coefficients_path\"], pca_zernike_coefficients)"
   ]
  },
  {
   "cell_type": "markdown",
   "id": "c3262f64-8c3f-4a78-ad31-1ef0bf545a68",
   "metadata": {},
   "source": [
    "### Output fluxes"
   ]
  },
  {
   "cell_type": "code",
   "execution_count": 8,
   "id": "5ce7a212-8692-458e-894b-64ddb75fc929",
   "metadata": {},
   "outputs": [],
   "source": [
    "output_fluxes = np.load(minidataset_paths_dictionary[\"output_fluxes\"])"
   ]
  },
  {
   "cell_type": "code",
   "execution_count": 9,
   "id": "b89f673f-bae3-4098-b9c3-b531d3e7c935",
   "metadata": {},
   "outputs": [
    {
     "data": {
      "text/plain": [
       "(1000, 19)"
      ]
     },
     "execution_count": 9,
     "metadata": {},
     "output_type": "execute_result"
    }
   ],
   "source": [
    "output_fluxes.shape"
   ]
  },
  {
   "cell_type": "code",
   "execution_count": 10,
   "id": "01bced21-6a7f-4f66-8d61-884178b64f20",
   "metadata": {},
   "outputs": [],
   "source": [
    "pca = PCA(n_components=2)\n",
    "pca_output_fluxes = pca.fit_transform(output_fluxes)"
   ]
  },
  {
   "cell_type": "code",
   "execution_count": 11,
   "id": "929f3157-8c97-4f53-8ecc-c11a0461336d",
   "metadata": {},
   "outputs": [
    {
     "data": {
      "text/plain": [
       "(1000, 2)"
      ]
     },
     "execution_count": 11,
     "metadata": {},
     "output_type": "execute_result"
    }
   ],
   "source": [
    "pca_output_fluxes.shape"
   ]
  },
  {
   "cell_type": "code",
   "execution_count": 13,
   "id": "648780fa-823e-48c9-8251-637f1b9478a4",
   "metadata": {},
   "outputs": [],
   "source": [
    "np.save(minidataset_paths_dictionary[\"pca_output_fluxes_path\"], pca_output_fluxes)"
   ]
  },
  {
   "cell_type": "markdown",
   "id": "aec5e26b-77f1-4102-846b-d8e0a1aec22b",
   "metadata": {
    "jp-MarkdownHeadingCollapsed": true
   },
   "source": [
    "### LP coefficients"
   ]
  },
  {
   "cell_type": "code",
   "execution_count": 3,
   "id": "6695f5c3-8608-4829-ae32-45c101fcb981",
   "metadata": {},
   "outputs": [],
   "source": [
    "lp_coefficients = np.load(minidataset_paths_dictionary[\"lp_modes_path\"]).reshape(1000, -1)"
   ]
  },
  {
   "cell_type": "code",
   "execution_count": 4,
   "id": "452bf2a1-553d-4211-8249-459a34a80e84",
   "metadata": {},
   "outputs": [
    {
     "data": {
      "text/plain": [
       "(1000, 38)"
      ]
     },
     "execution_count": 4,
     "metadata": {},
     "output_type": "execute_result"
    }
   ],
   "source": [
    "lp_coefficients.shape"
   ]
  },
  {
   "cell_type": "code",
   "execution_count": 5,
   "id": "31fb5edf-394f-44d1-bfa0-d50df33a42ff",
   "metadata": {},
   "outputs": [],
   "source": [
    "pca = PCA(n_components=2)\n",
    "pca_lp_coefficients = pca.fit_transform(lp_coefficients)"
   ]
  },
  {
   "cell_type": "code",
   "execution_count": 6,
   "id": "facc00c8-8477-4e1b-a100-30a615981b94",
   "metadata": {},
   "outputs": [
    {
     "data": {
      "text/plain": [
       "(1000, 2)"
      ]
     },
     "execution_count": 6,
     "metadata": {},
     "output_type": "execute_result"
    }
   ],
   "source": [
    "pca_lp_coefficients.shape"
   ]
  },
  {
   "cell_type": "code",
   "execution_count": 7,
   "id": "a2404e32-2425-4b78-96b1-9ad12b75175b",
   "metadata": {},
   "outputs": [],
   "source": [
    "np.save(minidataset_paths_dictionary[\"pca_lp_modes_path\"], pca_lp_coefficients)"
   ]
  },
  {
   "cell_type": "markdown",
   "id": "ed703746-bcf9-4382-9458-2e47a05dbaa4",
   "metadata": {},
   "source": [
    "### Output fluxes"
   ]
  },
  {
   "cell_type": "code",
   "execution_count": 3,
   "id": "8daba697-3185-4f62-8284-32b1b77f9096",
   "metadata": {},
   "outputs": [],
   "source": [
    "output_fluxes = np.load(minidataset_paths_dictionary[\"output_fluxes\"])"
   ]
  },
  {
   "cell_type": "code",
   "execution_count": 4,
   "id": "ce8214d4-0d72-45f7-b027-74f6acd140a2",
   "metadata": {},
   "outputs": [
    {
     "data": {
      "text/plain": [
       "(12800, 19)"
      ]
     },
     "execution_count": 4,
     "metadata": {},
     "output_type": "execute_result"
    }
   ],
   "source": [
    "output_fluxes.shape"
   ]
  },
  {
   "cell_type": "code",
   "execution_count": 10,
   "id": "31c065b6-258f-4760-8348-a72f95d9d48a",
   "metadata": {},
   "outputs": [],
   "source": [
    "pca = PCA(n_components=2)\n",
    "pca_output_fluxes = pca.fit_transform(output_fluxes)"
   ]
  },
  {
   "cell_type": "code",
   "execution_count": 11,
   "id": "7f4f7df4-a659-4954-882c-574e7294f220",
   "metadata": {},
   "outputs": [
    {
     "data": {
      "text/plain": [
       "(1000, 2)"
      ]
     },
     "execution_count": 11,
     "metadata": {},
     "output_type": "execute_result"
    }
   ],
   "source": [
    "pca_output_fluxes.shape"
   ]
  },
  {
   "cell_type": "code",
   "execution_count": 13,
   "id": "9b61a28a-541b-4990-b94a-2229c3c9c124",
   "metadata": {},
   "outputs": [],
   "source": [
    "np.save(minidataset_paths_dictionary[\"pca_output_fluxes_path\"], pca_output_fluxes)"
   ]
  },
  {
   "cell_type": "markdown",
   "id": "64f5d37a-524d-4e45-a4bb-a5f93f8a07d6",
   "metadata": {},
   "source": [
    "### PSF Intensities"
   ]
  },
  {
   "cell_type": "code",
   "execution_count": 8,
   "id": "358886b0-7479-48d2-8558-a2edc7b9073c",
   "metadata": {},
   "outputs": [],
   "source": [
    "intensities = np.load(minidataset_paths_dictionary['intensities_file_path'])"
   ]
  },
  {
   "cell_type": "code",
   "execution_count": 9,
   "id": "48a9a0fa-c50b-4dd0-835d-9db7ab24e9df",
   "metadata": {},
   "outputs": [
    {
     "data": {
      "text/plain": [
       "(12800, 16384)"
      ]
     },
     "execution_count": 9,
     "metadata": {},
     "output_type": "execute_result"
    }
   ],
   "source": [
    "intensities.shape"
   ]
  },
  {
   "cell_type": "code",
   "execution_count": 10,
   "id": "818d5e8d-7188-4c4b-94d2-632791e6159c",
   "metadata": {},
   "outputs": [],
   "source": [
    "pca = PCA(n_components=19)\n",
    "pca_intensities = pca.fit_transform(intensities)"
   ]
  },
  {
   "cell_type": "code",
   "execution_count": 11,
   "id": "2e715917-dd47-4128-a729-b1b192cd7283",
   "metadata": {},
   "outputs": [
    {
     "data": {
      "text/plain": [
       "(12800, 19)"
      ]
     },
     "execution_count": 11,
     "metadata": {},
     "output_type": "execute_result"
    }
   ],
   "source": [
    "pca_intensities.shape"
   ]
  },
  {
   "cell_type": "code",
   "execution_count": 12,
   "id": "2ed0db23-8014-4363-a2de-398e35da599f",
   "metadata": {},
   "outputs": [],
   "source": [
    "np.save(minidataset_paths_dictionary['pca_intensities_path'], pca_intensities)"
   ]
  },
  {
   "cell_type": "markdown",
   "id": "9cb3ef83-351d-4da6-b072-0fe448ffe6bc",
   "metadata": {},
   "source": [
    "# UMAP"
   ]
  },
  {
   "cell_type": "code",
   "execution_count": 9,
   "id": "7e9df6ee-6109-482e-af10-380132c09349",
   "metadata": {},
   "outputs": [
    {
     "name": "stderr",
     "output_type": "stream",
     "text": [
      "2024-06-23 08:18:43.254019: I tensorflow/core/util/port.cc:113] oneDNN custom operations are on. You may see slightly different numerical results due to floating-point round-off errors from different computation orders. To turn them off, set the environment variable `TF_ENABLE_ONEDNN_OPTS=0`.\n",
      "2024-06-23 08:18:43.870325: E external/local_xla/xla/stream_executor/cuda/cuda_dnn.cc:9261] Unable to register cuDNN factory: Attempting to register factory for plugin cuDNN when one has already been registered\n",
      "2024-06-23 08:18:43.870662: E external/local_xla/xla/stream_executor/cuda/cuda_fft.cc:607] Unable to register cuFFT factory: Attempting to register factory for plugin cuFFT when one has already been registered\n",
      "2024-06-23 08:18:43.946246: E external/local_xla/xla/stream_executor/cuda/cuda_blas.cc:1515] Unable to register cuBLAS factory: Attempting to register factory for plugin cuBLAS when one has already been registered\n",
      "2024-06-23 08:18:44.121961: I tensorflow/core/platform/cpu_feature_guard.cc:182] This TensorFlow binary is optimized to use available CPU instructions in performance-critical operations.\n",
      "To enable the following instructions: AVX2 AVX_VNNI FMA, in other operations, rebuild TensorFlow with the appropriate compiler flags.\n",
      "2024-06-23 08:18:47.989766: W tensorflow/compiler/tf2tensorrt/utils/py_utils.cc:38] TF-TRT Warning: Could not find TensorRT\n"
     ]
    }
   ],
   "source": [
    "import umap"
   ]
  },
  {
   "cell_type": "markdown",
   "id": "a4eae970-d52f-46d9-80ee-03787e7121ba",
   "metadata": {},
   "source": [
    "### LP coefficients"
   ]
  },
  {
   "cell_type": "code",
   "execution_count": 15,
   "id": "a5e22762-643e-4700-9858-d58db23bfb98",
   "metadata": {},
   "outputs": [],
   "source": [
    "lp_coefficients = np.load(minidataset_paths_dictionary[\"lp_modes_path\"]).reshape(1000, -1)"
   ]
  },
  {
   "cell_type": "code",
   "execution_count": 16,
   "id": "ca37a625-3659-4820-a73b-7e6519c59c23",
   "metadata": {},
   "outputs": [],
   "source": [
    "umap_reducer = umap.UMAP(n_neighbors=15,\n",
    "                         min_dist=0.1,\n",
    "                         n_components=2,\n",
    "                         metric='euclidean')"
   ]
  },
  {
   "cell_type": "code",
   "execution_count": 17,
   "id": "e76b2922-7852-41fb-b675-fcd2c7e5224a",
   "metadata": {},
   "outputs": [],
   "source": [
    "umap_lp_coefficients = umap_reducer.fit_transform(lp_coefficients)"
   ]
  },
  {
   "cell_type": "code",
   "execution_count": 18,
   "id": "b34e37ef-abbf-4da8-b8b3-c6e981819679",
   "metadata": {},
   "outputs": [],
   "source": [
    "np.save(minidataset_paths_dictionary[\"umap_lp_modes_path\"], umap_lp_coefficients)"
   ]
  },
  {
   "cell_type": "markdown",
   "id": "07eb7da4-ba58-4720-9884-9336249663f7",
   "metadata": {},
   "source": [
    "### Output fluxes"
   ]
  },
  {
   "cell_type": "code",
   "execution_count": 22,
   "id": "e29d390e-d7df-4d4c-ba1e-8a4afc5d7010",
   "metadata": {},
   "outputs": [],
   "source": [
    "output_fluxes = np.load(minidataset_paths_dictionary[\"output_fluxes\"])"
   ]
  },
  {
   "cell_type": "code",
   "execution_count": 23,
   "id": "aff000cc-506f-47e3-a6d4-f00df2e34d5e",
   "metadata": {},
   "outputs": [],
   "source": [
    "umap_reducer = umap.UMAP(n_neighbors=15,\n",
    "                         min_dist=0.1,\n",
    "                         n_components=2,\n",
    "                         metric='euclidean')"
   ]
  },
  {
   "cell_type": "code",
   "execution_count": 24,
   "id": "081d52cc-da7e-449a-93d4-230b840943b6",
   "metadata": {},
   "outputs": [],
   "source": [
    "umap_output_fluxes = umap_reducer.fit_transform(output_fluxes)"
   ]
  },
  {
   "cell_type": "code",
   "execution_count": 25,
   "id": "bf1c0567-7a23-4133-ac79-f43b3f2d8f3b",
   "metadata": {},
   "outputs": [],
   "source": [
    "np.save(minidataset_paths_dictionary[\"umap_output_fluxes_path\"], umap_output_fluxes)"
   ]
  },
  {
   "cell_type": "markdown",
   "id": "972b46f7-b5c1-4e7a-a82a-d0213b64f7d3",
   "metadata": {},
   "source": [
    "### Intensities"
   ]
  },
  {
   "cell_type": "code",
   "execution_count": 10,
   "id": "c7bed7f8-753d-4bc5-983c-a9689916dd07",
   "metadata": {},
   "outputs": [],
   "source": [
    "intensities = np.load(minidataset_paths_dictionary['intensities_file_path'])"
   ]
  },
  {
   "cell_type": "code",
   "execution_count": 11,
   "id": "ffb6e3ac-5502-4a92-ae42-dba0d17a2b98",
   "metadata": {},
   "outputs": [],
   "source": [
    "umap_reducer = umap.UMAP(n_neighbors=15,\n",
    "                         min_dist=0.3,\n",
    "                         n_components=19,\n",
    "                         metric='euclidean')"
   ]
  },
  {
   "cell_type": "code",
   "execution_count": 12,
   "id": "e9aeebb9-0645-4e2c-abf7-a1e93b5864d4",
   "metadata": {},
   "outputs": [],
   "source": [
    "umap_intensities = umap_reducer.fit_transform(intensities)"
   ]
  },
  {
   "cell_type": "code",
   "execution_count": 13,
   "id": "4d82966d-ce9e-43e7-ba4b-2f993f4b90bf",
   "metadata": {},
   "outputs": [],
   "source": [
    "np.save(minidataset_paths_dictionary[\"umap_intensities_path\"], umap_intensities)"
   ]
  }
 ],
 "metadata": {
  "kernelspec": {
   "display_name": "sail-env",
   "language": "python",
   "name": "sail-env"
  },
  "language_info": {
   "codemirror_mode": {
    "name": "ipython",
    "version": 3
   },
   "file_extension": ".py",
   "mimetype": "text/x-python",
   "name": "python",
   "nbconvert_exporter": "python",
   "pygments_lexer": "ipython3",
   "version": "3.9.18"
  }
 },
 "nbformat": 4,
 "nbformat_minor": 5
}
