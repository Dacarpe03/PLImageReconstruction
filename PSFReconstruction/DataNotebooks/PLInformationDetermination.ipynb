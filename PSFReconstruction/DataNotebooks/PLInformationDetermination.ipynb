{
 "cells": [
  {
   "cell_type": "code",
   "execution_count": null,
   "id": "dc3663b9-e922-4bd9-819a-29a352409587",
   "metadata": {},
   "outputs": [],
   "source": [
    "import numpy as np\n",
    "\n",
    "from data_utils import compute_euclidean_distance, load_numpy_data, save_numpy_array\n",
    "\n",
    "from constants import FC_PROCESSED_TRAIN_COMPLEX_FIELDS_PREFIX, \\\n",
    "                      FC_CROPPED_TRAIN_COMPLEX_FIELDS_PREFIX, \\\n",
    "                      FC_PREDICTED_TRAIN_COMPLEX_FIELDS_PREFIX, \\\n",
    "                      FC_PREDICTED_CROPPED_TRAIN_COMPLEX_FIELDS_PREFIX, \\\n",
    "                      FC_PROCESSED_TRAIN_OUTPUT_FLUXES_PREFIX, \\\n",
    "                      PSF_TRAIN_FILE_SUFFIXES, \\\n",
    "                      NUMPY_SUFFIX"
   ]
  },
  {
   "cell_type": "markdown",
   "id": "1c332722-19cc-4c34-9933-bf03912aeeac",
   "metadata": {},
   "source": [
    "# 1. Brute Force"
   ]
  },
  {
   "cell_type": "code",
   "execution_count": 2,
   "id": "93843fd2-e5d0-4703-a0ff-dd1d779d9b6c",
   "metadata": {},
   "outputs": [],
   "source": [
    "def create_path(prefix):\n",
    "    data_path = f\"{prefix}{suffix}{NUMPY_SUFFIX}\"\n",
    "    return data_path"
   ]
  },
  {
   "cell_type": "code",
   "execution_count": null,
   "id": "668c2aec-f6b2-4aaf-92b1-f7747747acb4",
   "metadata": {},
   "outputs": [],
   "source": [
    "for suffix in PSF_TRAIN_FILE_SUFFIXES:\n",
    "    fluxes_path = create_path(FC_PROCESSED_TRAIN_OUTPUT_FLUXES_PREFIX)\n",
    "    og_complex_fields_path = create_path(FC_PROCESSED_TRAIN_COMPLEX_FIELDS_PREFIX)\n",
    "    og_cropped_complex_fields_path = create_path(FC_CROPPED_TRAIN_COMPLEX_FIELDS_PREFIX)\n",
    "    predicted_complex_fields_path = create_path(FC_PREDICTED_TRAIN_COMPLEX_FIELDS_PREFIX)\n",
    "    predicted_cropped_complex_fields_path = create_path(FC_PREDICTED_CROPPED_TRAIN_COMPLEX_FIELDS_PREFIX)\n",
    "    \n",
    "    fluxes = load_numpy_data(f\"{}{suffix}{NUMPY_SUFFIX}\")"
   ]
  }
 ],
 "metadata": {
  "kernelspec": {
   "display_name": "sail-env",
   "language": "python",
   "name": "sail-env"
  },
  "language_info": {
   "codemirror_mode": {
    "name": "ipython",
    "version": 3
   },
   "file_extension": ".py",
   "mimetype": "text/x-python",
   "name": "python",
   "nbconvert_exporter": "python",
   "pygments_lexer": "ipython3",
   "version": "3.9.18"
  }
 },
 "nbformat": 4,
 "nbformat_minor": 5
}
