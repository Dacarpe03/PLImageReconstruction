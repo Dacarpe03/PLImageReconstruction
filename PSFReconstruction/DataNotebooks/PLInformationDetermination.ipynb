{
 "cells": [
  {
   "cell_type": "code",
   "execution_count": 1,
   "id": "dc3663b9-e922-4bd9-819a-29a352409587",
   "metadata": {},
   "outputs": [],
   "source": [
    "import numpy as np\n",
    "\n",
    "from data_utils import compute_pairs_euclidean_distances, load_numpy_data, save_numpy_array\n",
    "\n",
    "from psf_constants import FC_PROCESSED_TRAIN_COMPLEX_FIELDS_PREFIX, \\\n",
    "                          FC_CROPPED_TRAIN_COMPLEX_FIELDS_PREFIX, \\\n",
    "                          FC_PREDICTED_TRAIN_COMPLEX_FIELDS_PREFIX, \\\n",
    "                          FC_PREDICTED_CROPPED_TRAIN_COMPLEX_FIELDS_PREFIX, \\\n",
    "                          FC_PROCESSED_TRAIN_OUTPUT_FLUXES_PREFIX, \\\n",
    "                          TRAIN_EUCLIDEAN_DISTANCES_PREFIX, \\\n",
    "                          TRAIN_EUCLIDEAN_DISTANCES_PAIRS_PREFIX, \\\n",
    "                          PSF_TRAIN_FILE_SUFFIXES, \\\n",
    "                          NUMPY_SUFFIX"
   ]
  },
  {
   "cell_type": "code",
   "execution_count": 2,
   "id": "93843fd2-e5d0-4703-a0ff-dd1d779d9b6c",
   "metadata": {},
   "outputs": [],
   "source": [
    "def create_path(prefix, suffix):\n",
    "    data_path = f\"{prefix}{suffix}{NUMPY_SUFFIX}\"\n",
    "    return data_path\n",
    "\n",
    "def create_random_pair_indexes(array_n_points, pairs_per_subset=10000):\n",
    "    selected_pairs = np.random.randint(0, array_n_points, size=(pairs_per_subset, 2))\n",
    "    selected_pairs = selected_pairs[selected_pairs[:, 0] != selected_pairs[:, 1]]\n",
    "    \n",
    "    while selected_pairs.shape[0] < pairs_per_subset:\n",
    "        more_pairs = np.random.randint(0, 100, size=(pairs_per_subset, 2))\n",
    "        more_pairs = more_pairs[more_pairs[:, 0] != more_pairs[:, 1]]\n",
    "        selected_pairs = np.concatenate((selected_pairs, more_pairs))\n",
    "        \n",
    "    return selected_pairs[:pairs_per_subset]"
   ]
  },
  {
   "cell_type": "markdown",
   "id": "1c332722-19cc-4c34-9933-bf03912aeeac",
   "metadata": {},
   "source": [
    "# 1. Brute Force"
   ]
  },
  {
   "cell_type": "code",
   "execution_count": 3,
   "id": "668c2aec-f6b2-4aaf-92b1-f7747747acb4",
   "metadata": {},
   "outputs": [],
   "source": [
    "for suffix in PSF_TRAIN_FILE_SUFFIXES:\n",
    "\n",
    "    # Define data paths\n",
    "    fluxes_path = create_path(FC_PROCESSED_TRAIN_OUTPUT_FLUXES_PREFIX, suffix)\n",
    "    og_complex_fields_path = create_path(FC_PROCESSED_TRAIN_COMPLEX_FIELDS_PREFIX, suffix)\n",
    "    og_cropped_complex_fields_path = create_path(FC_CROPPED_TRAIN_COMPLEX_FIELDS_PREFIX, suffix)\n",
    "    predicted_complex_fields_path = create_path(FC_PREDICTED_TRAIN_COMPLEX_FIELDS_PREFIX, suffix)\n",
    "    predicted_cropped_complex_fields_path = create_path(FC_PREDICTED_CROPPED_TRAIN_COMPLEX_FIELDS_PREFIX, suffix)\n",
    "\n",
    "    # Load data\n",
    "    psf_fluxes = load_numpy_data(fluxes_path)\n",
    "    og_complex_fields = load_numpy_data(og_complex_fields_path)\n",
    "    og_cropped_complex_fields = load_numpy_data(og_cropped_complex_fields_path)\n",
    "    predicted_complex_fields = load_numpy_data(predicted_complex_fields_path)\n",
    "    predicted_cropped_complex_fields = load_numpy_data(predicted_cropped_complex_fields_path)\n",
    "\n",
    "    # Select pairs to compute euclidean distances\n",
    "    n_points = psf_fluxes.shape[0]\n",
    "    selected_pairs = create_random_pair_indexes(n_points, pairs_per_subset=10000)\n",
    "\n",
    "    # Compute euclidean distances\n",
    "    psf_fluxes_euclidean_distances = compute_pairs_euclidean_distances(psf_fluxes,\n",
    "                                                                       selected_pairs)\n",
    "    \n",
    "    og_euclidean_distances = compute_pairs_euclidean_distances(og_complex_fields,\n",
    "                                                               selected_pairs,\n",
    "                                                               is_complex_field=True)\n",
    "    \n",
    "    og_cropped_euclidean_distances = compute_pairs_euclidean_distances(og_cropped_complex_fields,\n",
    "                                                                       selected_pairs,\n",
    "                                                                       is_complex_field=True)\n",
    "    \n",
    "    predicted_euclidean_distances = compute_pairs_euclidean_distances(predicted_complex_fields, \n",
    "                                                                      selected_pairs,\n",
    "                                                                      is_complex_field=True)\n",
    "    \n",
    "    predicted_cropped_euclidean_distances = compute_pairs_euclidean_distances(predicted_cropped_complex_fields,\n",
    "                                                                              selected_pairs,\n",
    "                                                                              is_complex_field=True)\n",
    "\n",
    "    # Merge in columns\n",
    "    euclidean_distances = np.concatenate((psf_fluxes_euclidean_distances.reshape(-1, 1),\n",
    "                                          og_euclidean_distances.reshape(-1, 1),\n",
    "                                          og_cropped_euclidean_distances.reshape(-1, 1),\n",
    "                                          predicted_euclidean_distances.reshape(-1, 1),\n",
    "                                          predicted_cropped_euclidean_distances.reshape(-1, 1)), \n",
    "                                          axis=1)\n",
    "\n",
    "    # Save arrays\n",
    "    pairs_path = create_path(TRAIN_EUCLIDEAN_DISTANCES_PAIRS_PREFIX, suffix)\n",
    "    euclidean_distances_path = create_path(TRAIN_EUCLIDEAN_DISTANCES_PREFIX, suffix)\n",
    "    save_numpy_array(selected_pairs, pairs_path, single_precision=False)\n",
    "    save_numpy_array(euclidean_distances, euclidean_distances_path)"
   ]
  },
  {
   "cell_type": "code",
   "execution_count": 7,
   "id": "6b4e8310-b2d2-4006-a886-78dee5b9634a",
   "metadata": {},
   "outputs": [
    {
     "data": {
      "text/plain": [
       "11.103067398071289"
      ]
     },
     "execution_count": 7,
     "metadata": {},
     "output_type": "execute_result"
    }
   ],
   "source": [
    "og_cropped_euclidean_distances.min()"
   ]
  },
  {
   "cell_type": "code",
   "execution_count": null,
   "id": "0a2e0ef2-68e6-4032-810e-29ed402e51f3",
   "metadata": {},
   "outputs": [],
   "source": []
  }
 ],
 "metadata": {
  "kernelspec": {
   "display_name": "sail-env",
   "language": "python",
   "name": "sail-env"
  },
  "language_info": {
   "codemirror_mode": {
    "name": "ipython",
    "version": 3
   },
   "file_extension": ".py",
   "mimetype": "text/x-python",
   "name": "python",
   "nbconvert_exporter": "python",
   "pygments_lexer": "ipython3",
   "version": "3.9.18"
  }
 },
 "nbformat": 4,
 "nbformat_minor": 5
}
