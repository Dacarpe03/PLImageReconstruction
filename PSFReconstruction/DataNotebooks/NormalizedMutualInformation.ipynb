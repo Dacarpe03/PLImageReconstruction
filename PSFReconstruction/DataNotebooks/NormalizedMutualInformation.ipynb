{
 "cells": [
  {
   "cell_type": "code",
   "execution_count": 7,
   "id": "767bcc27-a89a-4e00-832c-a976e536f390",
   "metadata": {},
   "outputs": [],
   "source": [
    "from psf_constants import CLUSTER_DBSCAN_TRAIN_2M_ZERNIKE_OUTPUT_FLUXES_FILE_PATH, \\\n",
    "                          CLUSTER_DBSCAN_TRAIN_5M_ZERNIKE_OUTPUT_FLUXES_FILE_PATH, \\\n",
    "                          CLUSTER_DBSCAN_TRAIN_9M_ZERNIKE_OUTPUT_FLUXES_FILE_PATH, \\\n",
    "                          CLUSTER_DBSCAN_TRAIN_14M_ZERNIKE_OUTPUT_FLUXES_FILE_PATH, \\\n",
    "                          CLUSTER_DBSCAN_TRAIN_20M_ZERNIKE_OUTPUT_FLUXES_FILE_PATH, \\\n",
    "                          CLUSTER_DBSCAN_TRAIN_2M_ZERNIKE_LP_COEFFS_FILE_PATH, \\\n",
    "                          CLUSTER_DBSCAN_TRAIN_5M_ZERNIKE_LP_COEFFS_FILE_PATH, \\\n",
    "                          CLUSTER_DBSCAN_TRAIN_9M_ZERNIKE_LP_COEFFS_FILE_PATH, \\\n",
    "                          CLUSTER_DBSCAN_TRAIN_14M_ZERNIKE_LP_COEFFS_FILE_PATH, \\\n",
    "                          CLUSTER_DBSCAN_TRAIN_20M_ZERNIKE_LP_COEFFS_FILE_PATH\n",
    "\n",
    "from sklearn.metrics import normalized_mutual_info_score\n",
    "import numpy as np"
   ]
  },
  {
   "cell_type": "code",
   "execution_count": 8,
   "id": "141d858d-0ef0-44cb-a2bd-bd411025e869",
   "metadata": {},
   "outputs": [],
   "source": [
    "PATHS_DICTIONARY = {\n",
    "    \"2 Zernike Modes\":[CLUSTER_DBSCAN_TRAIN_2M_ZERNIKE_OUTPUT_FLUXES_FILE_PATH,\n",
    "                       CLUSTER_DBSCAN_TRAIN_2M_ZERNIKE_LP_COEFFS_FILE_PATH],\n",
    "    \"5 Zernike Modes\":[CLUSTER_DBSCAN_TRAIN_5M_ZERNIKE_OUTPUT_FLUXES_FILE_PATH,\n",
    "                       CLUSTER_DBSCAN_TRAIN_5M_ZERNIKE_LP_COEFFS_FILE_PATH],\n",
    "    \"9 Zernike Modes\":[CLUSTER_DBSCAN_TRAIN_9M_ZERNIKE_OUTPUT_FLUXES_FILE_PATH,\n",
    "                       CLUSTER_DBSCAN_TRAIN_9M_ZERNIKE_LP_COEFFS_FILE_PATH],\n",
    "    \"14 Zernike Modes\":[CLUSTER_DBSCAN_TRAIN_14M_ZERNIKE_OUTPUT_FLUXES_FILE_PATH,\n",
    "                        CLUSTER_DBSCAN_TRAIN_14M_ZERNIKE_LP_COEFFS_FILE_PATH],\n",
    "    \"20 Zernike Modes\":[CLUSTER_DBSCAN_TRAIN_20M_ZERNIKE_OUTPUT_FLUXES_FILE_PATH,\n",
    "                        CLUSTER_DBSCAN_TRAIN_20M_ZERNIKE_LP_COEFFS_FILE_PATH],\n",
    "}"
   ]
  },
  {
   "cell_type": "code",
   "execution_count": 10,
   "id": "870b5dcc-9d8b-4668-a1f3-9680452541da",
   "metadata": {},
   "outputs": [
    {
     "name": "stdout",
     "output_type": "stream",
     "text": [
      "PSF created with 2 Zernike Modes\n",
      "    -NMI between LP coeffs and PL output intensities: 0.8219524719004785\n",
      "PSF created with 5 Zernike Modes\n",
      "    -NMI between LP coeffs and PL output intensities: 0.42285255296107516\n",
      "PSF created with 9 Zernike Modes\n",
      "    -NMI between LP coeffs and PL output intensities: 0.38776580755209583\n",
      "PSF created with 14 Zernike Modes\n",
      "    -NMI between LP coeffs and PL output intensities: 0.3384222807204235\n",
      "PSF created with 20 Zernike Modes\n",
      "    -NMI between LP coeffs and PL output intensities: 0.3349100276934313\n"
     ]
    }
   ],
   "source": [
    "for dataset_name, clusters_paths in PATHS_DICTIONARY.items():\n",
    "    output_flux_cluster_path = clusters_paths[0]\n",
    "    lp_coeffs_cluster_path = clusters_paths[1]\n",
    "\n",
    "    output_flux_cluster = np.load(output_flux_cluster_path)\n",
    "    lp_coeffs_cluster_path = np.load(lp_coeffs_cluster_path)\n",
    "\n",
    "    nmi_pl_of = normalized_mutual_info_score(output_flux_cluster, lp_coeffs_cluster_path)\n",
    "    print(f\"PSF created with {dataset_name}\")\n",
    "    print(\"    -NMI between LP coeffs and PL output intensities:\", nmi_pl_of)"
   ]
  },
  {
   "cell_type": "code",
   "execution_count": null,
   "id": "f3fc8106-d081-4a38-b14a-61ed4d0b93cc",
   "metadata": {},
   "outputs": [],
   "source": []
  }
 ],
 "metadata": {
  "kernelspec": {
   "display_name": "sail-env",
   "language": "python",
   "name": "sail-env"
  },
  "language_info": {
   "codemirror_mode": {
    "name": "ipython",
    "version": 3
   },
   "file_extension": ".py",
   "mimetype": "text/x-python",
   "name": "python",
   "nbconvert_exporter": "python",
   "pygments_lexer": "ipython3",
   "version": "3.9.18"
  }
 },
 "nbformat": 4,
 "nbformat_minor": 5
}
