{
 "cells": [
  {
   "cell_type": "code",
   "execution_count": 1,
   "id": "8aad68ef-95ce-4fe6-a258-00788cde098e",
   "metadata": {},
   "outputs": [],
   "source": [
    "from data_utils import generate_psf_complex_fields\n",
    "from constants import TRAIN_FILE_SUFFIXES, \\\n",
    "                      TRAIN_COMPLEX_FIELD_PREFIX, \\\n",
    "                      VALIDATION_COMPLEX_FIELD_PATH, \\\n",
    "                      TEST_COMPLEX_FIELD_PATH, \\\n",
    "                      NUMPY_SUFFIX"
   ]
  },
  {
   "cell_type": "markdown",
   "id": "e11fdb04-5b16-4f10-bc85-9960fed01468",
   "metadata": {},
   "source": [
    "# Generate Train data labels"
   ]
  },
  {
   "cell_type": "code",
   "execution_count": null,
   "id": "f0ed7cdb-8d08-4442-904f-08ff6b80494f",
   "metadata": {},
   "outputs": [],
   "source": [
    "for fnumber in TRAIN_FILE_SUFFIXES:\n",
    "    filepath = f\"{TRAIN_COMPLEX_FIELD_PREFIX}{fnumber}{NUMPY_SUFFIX}\"\n",
    "    generate_psf_complex_fields(filepath)"
   ]
  },
  {
   "cell_type": "markdown",
   "id": "618a35f8-b7aa-4cae-b1d2-433cc0567483",
   "metadata": {},
   "source": [
    "# Generate Validation data labels"
   ]
  },
  {
   "cell_type": "code",
   "execution_count": null,
   "id": "5517c08f-0fbf-4e4d-9bde-4e2f17c21e8b",
   "metadata": {},
   "outputs": [],
   "source": [
    "generate_psf_complex(VALIDATION_COMPLEX_FIELD_PATH)"
   ]
  },
  {
   "cell_type": "markdown",
   "id": "45259131-365d-4354-9288-ba231b9d5d46",
   "metadata": {},
   "source": [
    "# Generate Test data labels"
   ]
  },
  {
   "cell_type": "code",
   "execution_count": null,
   "id": "e9fa5ce8-9244-4951-8074-7d63cd852d94",
   "metadata": {},
   "outputs": [],
   "source": [
    "generate_psf_complex(TEST_COMPLEX_FIELD_PATH)"
   ]
  }
 ],
 "metadata": {
  "kernelspec": {
   "display_name": "sail-pytorch-env",
   "language": "python",
   "name": "sail-pytorch-env"
  },
  "language_info": {
   "codemirror_mode": {
    "name": "ipython",
    "version": 3
   },
   "file_extension": ".py",
   "mimetype": "text/x-python",
   "name": "python",
   "nbconvert_exporter": "python",
   "pygments_lexer": "ipython3",
   "version": "3.9.18"
  }
 },
 "nbformat": 4,
 "nbformat_minor": 5
}
