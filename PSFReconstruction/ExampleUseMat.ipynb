{
 "cells": [
  {
   "cell_type": "code",
   "execution_count": 1,
   "id": "e19a39ad-d535-4ccb-a249-b231d9ad5320",
   "metadata": {},
   "outputs": [],
   "source": [
    "import matplotlib.pyplot as plt\n",
    "import numpy as np\n",
    "from lantern_fiber_utils import LanternFiber\n",
    "from skimage.transform import resize, rescale\n",
    "inp_pix_scale = 4\n",
    "\n",
    "from constants import VALIDATION_COMPLEX_FIELDS_PATH"
   ]
  },
  {
   "cell_type": "code",
   "execution_count": 2,
   "id": "fac06278-d4af-4822-bdc0-0359eee86d00",
   "metadata": {},
   "outputs": [
    {
     "name": "stderr",
     "output_type": "stream",
     "text": [
      "/home/dani/DaniProjects/SAIL/PhotonicLanternProjects/PLImageReconstruction/Utils/lantern_fiber_utils.py:344: SyntaxWarning: \"is\" with a literal. Did you mean \"==\"?\n",
      "  if field_type is 'gaussian':\n",
      "/home/dani/DaniProjects/SAIL/PhotonicLanternProjects/PLImageReconstruction/Utils/lantern_fiber_utils.py:1705: SyntaxWarning: \"is\" with a literal. Did you mean \"==\"?\n",
      "  if set_type is 'probe':\n",
      "/home/dani/DaniProjects/SAIL/PhotonicLanternProjects/PLImageReconstruction/Utils/lantern_fiber_utils.py:1715: SyntaxWarning: \"is\" with a literal. Did you mean \"==\"?\n",
      "  elif set_type is 'randampphase':\n",
      "/home/dani/DaniProjects/SAIL/PhotonicLanternProjects/PLImageReconstruction/Utils/lantern_fiber_utils.py:344: SyntaxWarning: \"is\" with a literal. Did you mean \"==\"?\n",
      "  if field_type is 'gaussian':\n",
      "/home/dani/DaniProjects/SAIL/PhotonicLanternProjects/PLImageReconstruction/Utils/lantern_fiber_utils.py:1705: SyntaxWarning: \"is\" with a literal. Did you mean \"==\"?\n",
      "  if set_type is 'probe':\n",
      "/home/dani/DaniProjects/SAIL/PhotonicLanternProjects/PLImageReconstruction/Utils/lantern_fiber_utils.py:1715: SyntaxWarning: \"is\" with a literal. Did you mean \"==\"?\n",
      "  elif set_type is 'randampphase':\n"
     ]
    },
    {
     "ename": "FileNotFoundError",
     "evalue": "[Errno 2] No such file or directory: './extractedvals_probeset_19LP__Good202107.npz'",
     "output_type": "error",
     "traceback": [
      "\u001b[0;31m---------------------------------------------------------------------------\u001b[0m",
      "\u001b[0;31mFileNotFoundError\u001b[0m                         Traceback (most recent call last)",
      "Cell \u001b[0;32mIn[2], line 5\u001b[0m\n\u001b[1;32m      2\u001b[0m probedata_filename \u001b[38;5;241m=\u001b[39m \u001b[38;5;124m'\u001b[39m\u001b[38;5;124mextractedvals_probeset_19LP__Good202107.npz\u001b[39m\u001b[38;5;124m'\u001b[39m\n\u001b[1;32m      4\u001b[0m f \u001b[38;5;241m=\u001b[39m LanternFiber(datadir\u001b[38;5;241m=\u001b[39mdatadir, nmodes\u001b[38;5;241m=\u001b[39m\u001b[38;5;241m19\u001b[39m, nwgs\u001b[38;5;241m=\u001b[39m\u001b[38;5;241m19\u001b[39m)\n\u001b[0;32m----> 5\u001b[0m \u001b[43mf\u001b[49m\u001b[38;5;241;43m.\u001b[39;49m\u001b[43mload_savedvalues\u001b[49m\u001b[43m(\u001b[49m\u001b[43mprobedata_filename\u001b[49m\u001b[43m)\u001b[49m\n\u001b[1;32m      6\u001b[0m f\u001b[38;5;241m.\u001b[39mmake_transfer_matrix_mm2sm(show_plots\u001b[38;5;241m=\u001b[39m\u001b[38;5;28;01mTrue\u001b[39;00m)\n\u001b[1;32m      8\u001b[0m transfer_matrix \u001b[38;5;241m=\u001b[39m f\u001b[38;5;241m.\u001b[39mCmat \u001b[38;5;66;03m# This is the complex transfer matrix\u001b[39;00m\n",
      "File \u001b[0;32m~/DaniProjects/SAIL/PhotonicLanternProjects/PLImageReconstruction/Utils/lantern_fiber_utils.py:1056\u001b[0m, in \u001b[0;36mLanternFiber.load_savedvalues\u001b[0;34m(self, filename)\u001b[0m\n\u001b[1;32m   1045\u001b[0m \u001b[38;5;28;01mdef\u001b[39;00m \u001b[38;5;21mload_savedvalues\u001b[39m(\n\u001b[1;32m   1046\u001b[0m     \u001b[38;5;28mself\u001b[39m,\n\u001b[1;32m   1047\u001b[0m     filename):\n\u001b[1;32m   1048\u001b[0m \u001b[38;5;250m    \u001b[39m\u001b[38;5;124;03m\"\"\"\u001b[39;00m\n\u001b[1;32m   1049\u001b[0m \u001b[38;5;124;03m    Load previously saved powers and phases from npz file\u001b[39;00m\n\u001b[1;32m   1050\u001b[0m \n\u001b[0;32m   (...)\u001b[0m\n\u001b[1;32m   1053\u001b[0m \u001b[38;5;124;03m    filename\u001b[39;00m\n\u001b[1;32m   1054\u001b[0m \u001b[38;5;124;03m    \"\"\"\u001b[39;00m\n\u001b[0;32m-> 1056\u001b[0m     f \u001b[38;5;241m=\u001b[39m \u001b[43mnp\u001b[49m\u001b[38;5;241;43m.\u001b[39;49m\u001b[43mload\u001b[49m\u001b[43m(\u001b[49m\u001b[38;5;28;43mself\u001b[39;49m\u001b[38;5;241;43m.\u001b[39;49m\u001b[43mdatadir\u001b[49m\u001b[38;5;241;43m+\u001b[39;49m\u001b[43mfilename\u001b[49m\u001b[43m)\u001b[49m\n\u001b[1;32m   1057\u001b[0m     \u001b[38;5;28mself\u001b[39m\u001b[38;5;241m.\u001b[39mall_smpowers \u001b[38;5;241m=\u001b[39m f[\u001b[38;5;124m'\u001b[39m\u001b[38;5;124mall_smpowers\u001b[39m\u001b[38;5;124m'\u001b[39m]\n\u001b[1;32m   1058\u001b[0m     \u001b[38;5;28mself\u001b[39m\u001b[38;5;241m.\u001b[39mall_mmpowers \u001b[38;5;241m=\u001b[39m f[\u001b[38;5;124m'\u001b[39m\u001b[38;5;124mall_mmpowers\u001b[39m\u001b[38;5;124m'\u001b[39m]\n",
      "File \u001b[0;32m~/miniconda3/envs/sail-env/lib/python3.9/site-packages/numpy/lib/npyio.py:427\u001b[0m, in \u001b[0;36mload\u001b[0;34m(file, mmap_mode, allow_pickle, fix_imports, encoding, max_header_size)\u001b[0m\n\u001b[1;32m    425\u001b[0m     own_fid \u001b[38;5;241m=\u001b[39m \u001b[38;5;28;01mFalse\u001b[39;00m\n\u001b[1;32m    426\u001b[0m \u001b[38;5;28;01melse\u001b[39;00m:\n\u001b[0;32m--> 427\u001b[0m     fid \u001b[38;5;241m=\u001b[39m stack\u001b[38;5;241m.\u001b[39menter_context(\u001b[38;5;28;43mopen\u001b[39;49m\u001b[43m(\u001b[49m\u001b[43mos_fspath\u001b[49m\u001b[43m(\u001b[49m\u001b[43mfile\u001b[49m\u001b[43m)\u001b[49m\u001b[43m,\u001b[49m\u001b[43m \u001b[49m\u001b[38;5;124;43m\"\u001b[39;49m\u001b[38;5;124;43mrb\u001b[39;49m\u001b[38;5;124;43m\"\u001b[39;49m\u001b[43m)\u001b[49m)\n\u001b[1;32m    428\u001b[0m     own_fid \u001b[38;5;241m=\u001b[39m \u001b[38;5;28;01mTrue\u001b[39;00m\n\u001b[1;32m    430\u001b[0m \u001b[38;5;66;03m# Code to distinguish from NumPy binary files and pickles.\u001b[39;00m\n",
      "\u001b[0;31mFileNotFoundError\u001b[0m: [Errno 2] No such file or directory: './extractedvals_probeset_19LP__Good202107.npz'"
     ]
    }
   ],
   "source": [
    "datadir = './'\n",
    "probedata_filename = 'extractedvals_probeset_19LP__Good202107.npz'\n",
    "\n",
    "f = LanternFiber(datadir=datadir, nmodes=19, nwgs=19)\n",
    "f.load_savedvalues(probedata_filename)\n",
    "f.make_transfer_matrix_mm2sm(show_plots=True)\n",
    "\n",
    "transfer_matrix = f.Cmat # This is the complex transfer matrix\n",
    "\n",
    "# These are the coefficients of the LP modes at the input. Here, just pick some random ones.\n",
    "input_modecoeffs = np.random.uniform(-1, 1, f.nmodes) + 1j*np.random.uniform(-1, 1, f.nmodes)\n",
    "\n",
    "# Now get the complex amplitudes of the PL outputs:\n",
    "pl_outputs = transfer_matrix @ input_modecoeffs\n",
    "\n",
    "# In real life, we just measure the intensities of the outputs:\n",
    "pl_output_fluxes = np.abs(pl_outputs)**2\n",
    "\n",
    "\n",
    "\n",
    "# Plot input mode coefficients and output fluxes\n",
    "xlabels = np.arange(f.nmodes)\n",
    "plt.figure(1)\n",
    "plt.clf()\n",
    "plt.subplot(311)\n",
    "plt.bar(xlabels, np.abs(input_modecoeffs))\n",
    "plt.title('Input mode amplitudes')\n",
    "plt.subplot(312)\n",
    "plt.bar(xlabels, np.angle(input_modecoeffs))\n",
    "plt.title('Input mode phases')\n",
    "plt.subplot(313)\n",
    "plt.bar(xlabels, pl_output_fluxes)\n",
    "plt.title('Output fluxes')\n",
    "plt.tight_layout()"
   ]
  },
  {
   "cell_type": "code",
   "execution_count": 4,
   "id": "dab5a7c2-07e6-4b4e-877b-142b0d2ba442",
   "metadata": {},
   "outputs": [
    {
     "name": "stdout",
     "output_type": "stream",
     "text": [
      "(100000, 19, 2)\n",
      "(100000, 19)\n",
      "[[ 0.67131468 -0.22483464]\n",
      " [ 1.0775399   2.53867328]\n",
      " [ 0.53145831  0.97519614]\n",
      " [ 0.27756747 -2.06767127]\n",
      " [ 0.6851973  -1.58031094]\n",
      " [ 0.8500389  -0.43235318]\n",
      " [ 0.68336253  0.40607657]\n",
      " [ 0.55282394  1.77276105]\n",
      " [ 1.03281787 -2.4254411 ]\n",
      " [ 0.68768885  2.34633228]\n",
      " [ 0.91656256 -0.47962513]\n",
      " [ 0.73294546 -2.34394846]\n",
      " [ 0.93641903 -1.58161693]\n",
      " [ 1.29366719  2.28761213]\n",
      " [ 1.10121808 -0.61382438]\n",
      " [ 0.43184729 -0.96513781]\n",
      " [ 1.16967404  2.18638637]\n",
      " [ 0.80425246  0.73830689]\n",
      " [ 0.88918136 -1.9129636 ]]\n",
      "[0.07136646 2.76173761 0.44538403 0.26226862 0.28303534 0.0168434\n",
      " 0.96860557 0.02707414 0.23458928 0.65537522 0.0102895  1.93106664\n",
      " 0.96066346 1.08091279 1.18424886 0.0473706  0.54433301 0.29406866\n",
      " 0.55925384]\n"
     ]
    }
   ],
   "source": [
    "from data_utils import fuse_amplitude_and_phase, save_numpy_array\n",
    "\n",
    "n_data_points = 100000\n",
    "\n",
    "inputs = np.zeros((n_data_points, f.nmodes, 2))\n",
    "outputs = np.zeros((n_data_points, pl_outputs.shape[0]))\n",
    "\n",
    "for i in range(n_data_points):\n",
    "    input_modecoeffs = np.random.uniform(-1, 1, f.nmodes) + 1j*np.random.uniform(-1, 1, f.nmodes)\n",
    "    input_mode_amplitude = np.abs(input_modecoeffs)\n",
    "    input_mode_phase = np.angle(input_modecoeffs)\n",
    "    input_mode_amp_phase = fuse_amplitude_and_phase(input_mode_amplitude, input_mode_phase)\n",
    "    inputs[i] = input_mode_amp_phase\n",
    "    pl_outputs = transfer_matrix @ input_modecoeffs\n",
    "    outputs[i] = np.abs(pl_outputs)**2\n",
    "\n",
    "print(inputs.shape)\n",
    "print(outputs.shape)\n",
    "print(inputs[0])\n",
    "print(outputs[0])\n",
    "\n",
    "pl_outputs_filename = \"../../Data/PSFReconstruction/outputflux.npy\"\n",
    "pl_inputs_filename = \"../../Data/PSFReconstruction/inputs.npy\"\n",
    "\n",
    "save_numpy_array(inputs, pl_inputs_filename)\n",
    "save_numpy_array(outputs, pl_outputs_filename)"
   ]
  }
 ],
 "metadata": {
  "kernelspec": {
   "display_name": "sail-env",
   "language": "python",
   "name": "sail-env"
  },
  "language_info": {
   "codemirror_mode": {
    "name": "ipython",
    "version": 3
   },
   "file_extension": ".py",
   "mimetype": "text/x-python",
   "name": "python",
   "nbconvert_exporter": "python",
   "pygments_lexer": "ipython3",
   "version": "3.9.18"
  }
 },
 "nbformat": 4,
 "nbformat_minor": 5
}
