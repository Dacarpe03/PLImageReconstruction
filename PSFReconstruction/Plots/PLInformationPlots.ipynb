{
 "cells": [
  {
   "cell_type": "code",
   "execution_count": 1,
   "id": "83d8521d-e8f9-4091-bdfb-35cee21b5d40",
   "metadata": {},
   "outputs": [],
   "source": [
    "from psf_constants import NUMPY_SUFFIX, \\\n",
    "                          PSF_TRAIN_FILE_SUFFIXES, \\\n",
    "                          TRAIN_EUCLIDEAN_DISTANCES_PREFIX\n",
    "\n",
    "from data_utils import load_numpy_data, separate_distances, compute_ratio\n",
    "\n",
    "from plot_utils import plot_euclidean_distances, plot_boxplot_euclidean_distances\n",
    "\n",
    "import numpy as np"
   ]
  },
  {
   "cell_type": "code",
   "execution_count": 2,
   "id": "218684d3-a46f-4cda-9e4a-3d0d15152eee",
   "metadata": {},
   "outputs": [],
   "source": [
    "def create_path(prefix, suffix):\n",
    "    data_path = f\"{prefix}{suffix}{NUMPY_SUFFIX}\"\n",
    "    return data_path\n"
   ]
  },
  {
   "cell_type": "code",
   "execution_count": 3,
   "id": "621414c0-7f4d-48db-a61f-2a6b657d78bc",
   "metadata": {},
   "outputs": [],
   "source": [
    "fluxes = np.array([])\n",
    "original_psf = np.array([])\n",
    "cropped_psf = np.array([])\n",
    "predicted_psf = np.array([])\n",
    "predicted_cropped_psf = np.array([])\n",
    "\n",
    "for suffix in PSF_TRAIN_FILE_SUFFIXES[0:1]:\n",
    "    euclidean_distances_path = create_path(TRAIN_EUCLIDEAN_DISTANCES_PREFIX, suffix)\n",
    "    euclidean_distances = load_numpy_data(euclidean_distances_path)\n",
    "    plf, og_psf, cr_psf, pr_psf, pr_cr_psf = separate_distances(euclidean_distances)\n",
    "    \n",
    "    fluxes = np.concatenate((fluxes, plf))\n",
    "    original_psf = np.concatenate((original_psf, og_psf))\n",
    "    cropped_psf = np.concatenate((cropped_psf, cr_psf)) \n",
    "    predicted_psf = np.concatenate((predicted_psf, pr_psf))\n",
    "    predicted_cropped_psf = np.concatenate((predicted_cropped_psf, pr_cr_psf))\n"
   ]
  },
  {
   "cell_type": "code",
   "execution_count": 4,
   "id": "2fe9659e-ffc4-4594-80b5-b2f8f45f72bc",
   "metadata": {},
   "outputs": [],
   "source": [
    "plot_boxplot_euclidean_distances(fluxes,\n",
    "                                 original_psf,\n",
    "                                 cropped_psf,\n",
    "                                 predicted_psf,\n",
    "                                 predicted_cropped_psf)"
   ]
  },
  {
   "cell_type": "code",
   "execution_count": 5,
   "id": "8dcb41e0-592b-4ef7-8716-7e3d815c41b0",
   "metadata": {},
   "outputs": [],
   "source": [
    "plot_euclidean_distances(fluxes,\n",
    "                         original_psf,\n",
    "                         cropped_psf,\n",
    "                         predicted_psf,\n",
    "                         predicted_cropped_psf)"
   ]
  }
 ],
 "metadata": {
  "kernelspec": {
   "display_name": "sail-env",
   "language": "python",
   "name": "sail-env"
  },
  "language_info": {
   "codemirror_mode": {
    "name": "ipython",
    "version": 3
   },
   "file_extension": ".py",
   "mimetype": "text/x-python",
   "name": "python",
   "nbconvert_exporter": "python",
   "pygments_lexer": "ipython3",
   "version": "3.9.18"
  }
 },
 "nbformat": 4,
 "nbformat_minor": 5
}
