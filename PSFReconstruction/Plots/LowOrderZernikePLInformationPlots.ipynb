{
 "cells": [
  {
   "cell_type": "code",
   "execution_count": 1,
   "id": "83d8521d-e8f9-4091-bdfb-35cee21b5d40",
   "metadata": {
    "scrolled": true
   },
   "outputs": [],
   "source": [
    "from psf_constants import NUMPY_SUFFIX, \\\n",
    "                          PSF_TRAIN_FILE_SUFFIXES, \\\n",
    "                          ZERNIKE_TRAIN_EUCLIDEAN_DISTANCES_PREFIX\n",
    "\n",
    "from data_utils import load_numpy_data, separate_zernike_distances, compute_ratio, compute_anova_test_5_sets\n",
    "\n",
    "from plot_utils import plot_zernike_euclidean_distances, plot_boxplot_zernike_euclidean_distances\n",
    "\n",
    "import numpy as np"
   ]
  },
  {
   "cell_type": "code",
   "execution_count": 2,
   "id": "218684d3-a46f-4cda-9e4a-3d0d15152eee",
   "metadata": {},
   "outputs": [],
   "source": [
    "def create_path(prefix, suffix):\n",
    "    data_path = f\"{prefix}{suffix}{NUMPY_SUFFIX}\"\n",
    "    return data_path\n"
   ]
  },
  {
   "cell_type": "code",
   "execution_count": 3,
   "id": "621414c0-7f4d-48db-a61f-2a6b657d78bc",
   "metadata": {},
   "outputs": [],
   "source": [
    "m2_fluxes_distances = np.array([])\n",
    "m2_psf_distances = np.array([])\n",
    "m5_fluxes_distances = np.array([])\n",
    "m5_psf_distances = np.array([])\n",
    "m9_fluxes_distances = np.array([])\n",
    "m9_psf_distances = np.array([])\n",
    "m14_fluxes_distances = np.array([])\n",
    "m14_psf_distances = np.array([])\n",
    "m20_fluxes_distances = np.array([])\n",
    "m20_psf_distances = np.array([])\n",
    "\n",
    "for suffix in PSF_TRAIN_FILE_SUFFIXES[0:1]:\n",
    "    euclidean_distances_path = create_path(f\"{ZERNIKE_TRAIN_EUCLIDEAN_DISTANCES_PREFIX}\", suffix)\n",
    "    euclidean_distances = load_numpy_data(euclidean_distances_path)\n",
    "    m2_fl, m2_psf, m5_fl, m5_psf, m9_fl, m9_psf, m14_fl, m14_psf, m20_fl, m20_psf= separate_zernike_distances(euclidean_distances)\n",
    "    \n",
    "    m2_fluxes_distances = np.concatenate((m2_fluxes_distances, m2_fl))\n",
    "    m2_psf_distances = np.concatenate((m2_psf_distances, m2_psf))\n",
    "    m5_fluxes_distances = np.concatenate((m5_fluxes_distances, m5_fl))\n",
    "    m5_psf_distances = np.concatenate((m5_psf_distances, m5_psf))\n",
    "    m9_fluxes_distances = np.concatenate((m9_fluxes_distances, m9_fl))\n",
    "    m9_psf_distances = np.concatenate((m9_psf_distances, m9_psf))\n",
    "    m14_fluxes_distances = np.concatenate((m14_fluxes_distances, m14_fl))\n",
    "    m14_psf_distances = np.concatenate((m14_psf_distances, m14_psf))\n",
    "    m20_fluxes_distances = np.concatenate((m20_fluxes_distances, m20_fl))\n",
    "    m20_psf_distances = np.concatenate((m20_psf_distances, m20_psf))\n"
   ]
  },
  {
   "cell_type": "code",
   "execution_count": 4,
   "id": "8dcb41e0-592b-4ef7-8716-7e3d815c41b0",
   "metadata": {},
   "outputs": [],
   "source": [
    "plot_zernike_euclidean_distances(m2_fluxes_distances,\n",
    "                                 m2_psf_distances,\n",
    "                                 m5_fluxes_distances,\n",
    "                                 m5_psf_distances,\n",
    "                                 m9_fluxes_distances,\n",
    "                                 m9_psf_distances,\n",
    "                                 m14_fluxes_distances,\n",
    "                                 m14_psf_distances,\n",
    "                                 m20_fluxes_distances,\n",
    "                                 m20_psf_distances)"
   ]
  },
  {
   "cell_type": "code",
   "execution_count": 5,
   "id": "2fe9659e-ffc4-4594-80b5-b2f8f45f72bc",
   "metadata": {},
   "outputs": [],
   "source": [
    "plot_boxplot_zernike_euclidean_distances(m2_fluxes_distances,\n",
    "                                         m2_psf_distances,\n",
    "                                         m5_fluxes_distances,\n",
    "                                         m5_psf_distances,\n",
    "                                         m9_fluxes_distances,\n",
    "                                         m9_psf_distances,\n",
    "                                         m14_fluxes_distances,\n",
    "                                         m14_psf_distances,\n",
    "                                         m20_fluxes_distances,\n",
    "                                         m20_psf_distances)"
   ]
  },
  {
   "cell_type": "code",
   "execution_count": 6,
   "id": "34c0e468-ed2e-469c-8ef4-9041516997b7",
   "metadata": {},
   "outputs": [],
   "source": [
    "m2_ratio = compute_ratio(m2_psf_distances, m2_fluxes_distances)\n",
    "m5_ratio = compute_ratio(m5_psf_distances, m5_fluxes_distances)\n",
    "m9_ratio = compute_ratio(m9_psf_distances, m9_fluxes_distances)\n",
    "m14_ratio = compute_ratio(m14_psf_distances, m14_fluxes_distances)\n",
    "m20_ratio = compute_ratio(m20_psf_distances, m20_fluxes_distances)\n",
    "\n",
    "f_statistic, p_value = compute_anova_test_5_sets(m2_ratio,\n",
    "                                                 m5_ratio,\n",
    "                                                 m9_ratio,\n",
    "                                                 m14_ratio,\n",
    "                                                 m20_ratio)"
   ]
  },
  {
   "cell_type": "code",
   "execution_count": 7,
   "id": "3372e9ed-17f5-4db3-a80b-ba9d3922390c",
   "metadata": {},
   "outputs": [
    {
     "data": {
      "text/plain": [
       "13460.973281092105"
      ]
     },
     "execution_count": 7,
     "metadata": {},
     "output_type": "execute_result"
    }
   ],
   "source": [
    "f_statistic"
   ]
  },
  {
   "cell_type": "code",
   "execution_count": 8,
   "id": "44fc18cc-0767-4c62-a188-1a0fcb618afc",
   "metadata": {},
   "outputs": [
    {
     "data": {
      "text/plain": [
       "0.0"
      ]
     },
     "execution_count": 8,
     "metadata": {},
     "output_type": "execute_result"
    }
   ],
   "source": [
    "p_value"
   ]
  },
  {
   "cell_type": "code",
   "execution_count": null,
   "id": "c7d94ed2-ca9e-45df-8fdd-3bf876c5921a",
   "metadata": {},
   "outputs": [],
   "source": []
  }
 ],
 "metadata": {
  "kernelspec": {
   "display_name": "sail-env",
   "language": "python",
   "name": "sail-env"
  },
  "language_info": {
   "codemirror_mode": {
    "name": "ipython",
    "version": 3
   },
   "file_extension": ".py",
   "mimetype": "text/x-python",
   "name": "python",
   "nbconvert_exporter": "python",
   "pygments_lexer": "ipython3",
   "version": "3.9.18"
  }
 },
 "nbformat": 4,
 "nbformat_minor": 5
}
