{
 "cells": [
  {
   "cell_type": "code",
   "execution_count": 1,
   "id": "83d8521d-e8f9-4091-bdfb-35cee21b5d40",
   "metadata": {
    "scrolled": true
   },
   "outputs": [],
   "source": [
    "from psf_constants import NUMPY_SUFFIX, \\\n",
    "                          PSF_TRAIN_FILE_SUFFIXES, \\\n",
    "                          ZERNIKE_TRAIN_EUCLIDEAN_DISTANCES_PREFIX\n",
    "\n",
    "from data_utils import load_numpy_data, separate_zernike_distances, compute_ratio, compute_anova_test_5_sets\n",
    "\n",
    "from plot_utils import plot_psf_vs_pl_lp_zc_euclidean_distances_histogram, \\\n",
    "                       plot_zernike_euclidean_distances, \\\n",
    "                       plot_one_dataset_zernike_euclidean_distances, \\\n",
    "                       plot_boxplot_zernike_euclidean_distances, \\\n",
    "                       create_scatters_for_zernike_dataset, \\\n",
    "                       plot_psf_vs_pl_lp_zc_euclidean_distances, \\\n",
    "                       plot_pl_lp_zc_euclidean_distances\n",
    "\n",
    "import numpy as np"
   ]
  },
  {
   "cell_type": "code",
   "execution_count": 2,
   "id": "218684d3-a46f-4cda-9e4a-3d0d15152eee",
   "metadata": {},
   "outputs": [],
   "source": [
    "def create_path(prefix, suffix):\n",
    "    data_path = f\"{prefix}{suffix}{NUMPY_SUFFIX}\"\n",
    "    return data_path\n"
   ]
  },
  {
   "cell_type": "code",
   "execution_count": 3,
   "id": "621414c0-7f4d-48db-a61f-2a6b657d78bc",
   "metadata": {},
   "outputs": [],
   "source": [
    "all_distances = []\n",
    "\n",
    "\n",
    "for suffix in PSF_TRAIN_FILE_SUFFIXES:\n",
    "    euclidean_distances_path = create_path(f\"{ZERNIKE_TRAIN_EUCLIDEAN_DISTANCES_PREFIX}\", suffix)\n",
    "    euclidean_distances = load_numpy_data(euclidean_distances_path)\n",
    "    all_distances.append(euclidean_distances)\n",
    "\n",
    "all_distances = np.concatenate(all_distances)\n"
   ]
  },
  {
   "cell_type": "code",
   "execution_count": 4,
   "id": "30790b16-dc98-4aae-a0d2-e976aeea3cd4",
   "metadata": {},
   "outputs": [],
   "source": [
    "m2_distances = all_distances[:, 0:7]\n",
    "m5_distances = all_distances[:, 7:14]\n",
    "m9_distances = all_distances[:, 14:21]\n",
    "m14_distances = all_distances[:, 21:28]\n",
    "m20_distances = all_distances[:, 28:]"
   ]
  },
  {
   "cell_type": "code",
   "execution_count": 13,
   "id": "05dd0347-0aad-4286-8009-404143917818",
   "metadata": {},
   "outputs": [],
   "source": [
    "separated_distances = separate_zernike_distances(m14_distances)"
   ]
  },
  {
   "cell_type": "code",
   "execution_count": 14,
   "id": "4e48af04-da4e-4d26-b639-df76a37812cc",
   "metadata": {},
   "outputs": [
    {
     "name": "stdout",
     "output_type": "stream",
     "text": [
      "Row 1\n",
      "Row 1\n",
      "Row 1\n",
      "Saving image\n"
     ]
    }
   ],
   "source": [
    "titles = [\n",
    "    [\"Original\", 3],\n",
    "    [\"Predicted\", 4],\n",
    "    [\"Cropped\", 5],\n",
    "    [\"Predicted Cropped\", 6],\n",
    "]\n",
    "title_index = 0\n",
    "\n",
    "plot_psf_vs_pl_lp_zc_euclidean_distances_histogram(separated_distances[titles[title_index][1]],\n",
    "                                         separated_distances[0],\n",
    "                                         separated_distances[1],\n",
    "                                         separated_distances[2],\n",
    "                                         14,\n",
    "                                         titles[title_index][0]\n",
    "                                         )"
   ]
  },
  {
   "cell_type": "code",
   "execution_count": 7,
   "id": "b69d4a9c-e8fb-480a-b8fb-9e1c04cd35cd",
   "metadata": {},
   "outputs": [
    {
     "name": "stdout",
     "output_type": "stream",
     "text": [
      "Row 1\n",
      "Row 1\n",
      "Row 1\n",
      "Saving image\n"
     ]
    }
   ],
   "source": [
    "plot_pl_lp_zc_euclidean_distances(separated_distances[0],\n",
    "                                  separated_distances[1],\n",
    "                                  separated_distances[2],\n",
    "                                  20)"
   ]
  },
  {
   "cell_type": "code",
   "execution_count": 5,
   "id": "8dcb41e0-592b-4ef7-8716-7e3d815c41b0",
   "metadata": {
    "scrolled": true
   },
   "outputs": [
    {
     "name": "stdout",
     "output_type": "stream",
     "text": [
      "Row 1\n",
      "Row 2\n",
      "Row 3\n",
      "Row 4\n",
      "Row 5\n",
      "Row 6\n",
      "Row 7\n",
      "Row 8\n",
      "Row 9\n",
      "Saving image\n"
     ]
    }
   ],
   "source": [
    "#plot_one_dataset_zernike_euclidean_distances(m2_distances, 2, show=False)\n",
    "#plot_one_dataset_zernike_euclidean_distances(m5_distances, 5, show=False)\n",
    "#plot_one_dataset_zernike_euclidean_distances(m9_distances, 9, show=False)\n",
    "#plot_one_dataset_zernike_euclidean_distances(m14_distances, 14, show=False)\n",
    "plot_one_dataset_zernike_euclidean_distances(m20_distances, 20, show=False)"
   ]
  },
  {
   "cell_type": "code",
   "execution_count": 13,
   "id": "2fe9659e-ffc4-4594-80b5-b2f8f45f72bc",
   "metadata": {},
   "outputs": [
    {
     "ename": "NameError",
     "evalue": "name 'm2_fluxes_distances' is not defined",
     "output_type": "error",
     "traceback": [
      "\u001b[0;31m---------------------------------------------------------------------------\u001b[0m",
      "\u001b[0;31mNameError\u001b[0m                                 Traceback (most recent call last)",
      "Cell \u001b[0;32mIn[13], line 1\u001b[0m\n\u001b[0;32m----> 1\u001b[0m plot_boxplot_zernike_euclidean_distances(\u001b[43mm2_fluxes_distances\u001b[49m,\n\u001b[1;32m      2\u001b[0m                                          m2_psf_distances,\n\u001b[1;32m      3\u001b[0m                                          m5_fluxes_distances,\n\u001b[1;32m      4\u001b[0m                                          m5_psf_distances,\n\u001b[1;32m      5\u001b[0m                                          m9_fluxes_distances,\n\u001b[1;32m      6\u001b[0m                                          m9_psf_distances,\n\u001b[1;32m      7\u001b[0m                                          m14_fluxes_distances,\n\u001b[1;32m      8\u001b[0m                                          m14_psf_distances,\n\u001b[1;32m      9\u001b[0m                                          m20_fluxes_distances,\n\u001b[1;32m     10\u001b[0m                                          m20_psf_distances)\n",
      "\u001b[0;31mNameError\u001b[0m: name 'm2_fluxes_distances' is not defined"
     ]
    }
   ],
   "source": [
    "plot_boxplot_zernike_euclidean_distances(m2_fluxes_distances,\n",
    "                                         m2_psf_distances,\n",
    "                                         m5_fluxes_distances,\n",
    "                                         m5_psf_distances,\n",
    "                                         m9_fluxes_distances,\n",
    "                                         m9_psf_distances,\n",
    "                                         m14_fluxes_distances,\n",
    "                                         m14_psf_distances,\n",
    "                                         m20_fluxes_distances,\n",
    "                                         m20_psf_distances)"
   ]
  },
  {
   "cell_type": "code",
   "execution_count": 6,
   "id": "34c0e468-ed2e-469c-8ef4-9041516997b7",
   "metadata": {},
   "outputs": [],
   "source": [
    "m2_ratio = compute_ratio(m2_psf_distances, m2_fluxes_distances)\n",
    "m5_ratio = compute_ratio(m5_psf_distances, m5_fluxes_distances)\n",
    "m9_ratio = compute_ratio(m9_psf_distances, m9_fluxes_distances)\n",
    "m14_ratio = compute_ratio(m14_psf_distances, m14_fluxes_distances)\n",
    "m20_ratio = compute_ratio(m20_psf_distances, m20_fluxes_distances)\n",
    "\n",
    "f_statistic, p_value = compute_anova_test_5_sets(m2_ratio,\n",
    "                                                 m5_ratio,\n",
    "                                                 m9_ratio,\n",
    "                                                 m14_ratio,\n",
    "                                                 m20_ratio)"
   ]
  },
  {
   "cell_type": "code",
   "execution_count": 7,
   "id": "3372e9ed-17f5-4db3-a80b-ba9d3922390c",
   "metadata": {},
   "outputs": [
    {
     "data": {
      "text/plain": [
       "13460.973281092105"
      ]
     },
     "execution_count": 7,
     "metadata": {},
     "output_type": "execute_result"
    }
   ],
   "source": [
    "f_statistic"
   ]
  },
  {
   "cell_type": "code",
   "execution_count": 8,
   "id": "44fc18cc-0767-4c62-a188-1a0fcb618afc",
   "metadata": {},
   "outputs": [
    {
     "data": {
      "text/plain": [
       "0.0"
      ]
     },
     "execution_count": 8,
     "metadata": {},
     "output_type": "execute_result"
    }
   ],
   "source": [
    "p_value"
   ]
  },
  {
   "cell_type": "markdown",
   "id": "3407662e-38b1-4eb3-a137-2ddc8cc76c4f",
   "metadata": {},
   "source": [
    "### 42 mode PL"
   ]
  },
  {
   "cell_type": "code",
   "execution_count": 1,
   "id": "aa93a3ee-bcf4-49f1-9844-ca856cc79f1d",
   "metadata": {},
   "outputs": [],
   "source": [
    "from psf_constants import NUMPY_SUFFIX, \\\n",
    "                          PSF_TRAIN_FILE_SUFFIXES, \\\n",
    "                          PL42_ZERNIKE_TRAIN_EUCLIDEAN_DISTANCES_PREFIX\n",
    "\n",
    "from data_utils import load_numpy_data, separate_zernike_distances, compute_ratio, compute_anova_test_5_sets\n",
    "\n",
    "from plot_utils import plot_pl42_euclidean_distances\n",
    "\n",
    "import numpy as np"
   ]
  },
  {
   "cell_type": "code",
   "execution_count": 2,
   "id": "fa8a3aba-0c7e-49a5-95e6-4b98d6aa1911",
   "metadata": {},
   "outputs": [],
   "source": [
    "def create_path(prefix, suffix):\n",
    "    data_path = f\"{prefix}{suffix}{NUMPY_SUFFIX}\"\n",
    "    return data_path\n"
   ]
  },
  {
   "cell_type": "code",
   "execution_count": 3,
   "id": "a872246a-a771-4d5b-8791-b0723405f5f2",
   "metadata": {},
   "outputs": [],
   "source": [
    "all_distances = []\n",
    "\n",
    "\n",
    "for suffix in PSF_TRAIN_FILE_SUFFIXES:\n",
    "    euclidean_distances_path = create_path(f\"{PL42_ZERNIKE_TRAIN_EUCLIDEAN_DISTANCES_PREFIX}\", suffix)\n",
    "    euclidean_distances = load_numpy_data(euclidean_distances_path)\n",
    "    all_distances.append(euclidean_distances)\n",
    "\n",
    "all_distances = np.concatenate(all_distances)"
   ]
  },
  {
   "cell_type": "code",
   "execution_count": 4,
   "id": "739f7fa5-1417-4eca-b3c8-0630cb048cfb",
   "metadata": {},
   "outputs": [],
   "source": [
    "m2_distances = all_distances[:, 0:3]\n",
    "m5_distances = all_distances[:, 3:6]\n",
    "m9_distances = all_distances[::, 6:9]\n",
    "m14_distances = all_distances[:, 9:12]\n",
    "m20_distances = all_distances[:, 12:15]"
   ]
  },
  {
   "cell_type": "code",
   "execution_count": 5,
   "id": "73ca10c5-c9be-4e7f-aa34-602a67cf31a4",
   "metadata": {},
   "outputs": [],
   "source": [
    "plot_pl42_euclidean_distances(m2_distances[:,0:1], m2_distances[:,1:2], m2_distances[:,2:3], suffix=\"2 zernike terms PSF\")"
   ]
  },
  {
   "cell_type": "code",
   "execution_count": 6,
   "id": "544f9647-5e91-4439-9b0f-bf7e52d4ff5d",
   "metadata": {},
   "outputs": [],
   "source": [
    "plot_pl42_euclidean_distances(m5_distances[:,0:1], m5_distances[:,1:2], m5_distances[:,2:3], suffix=\"5 zernike terms PSF\")\n"
   ]
  },
  {
   "cell_type": "code",
   "execution_count": 7,
   "id": "bc38ee7c-b60a-47b5-8a30-a686d1f934e3",
   "metadata": {},
   "outputs": [],
   "source": [
    "plot_pl42_euclidean_distances(m9_distances[:,0:1], m9_distances[:,1:2], m9_distances[:,2:3], suffix=\"9 zernike terms PSF\")\n"
   ]
  },
  {
   "cell_type": "code",
   "execution_count": 8,
   "id": "0dbdf200-5001-47ae-8d67-e701d4d346ff",
   "metadata": {},
   "outputs": [],
   "source": [
    "plot_pl42_euclidean_distances(m14_distances[:,0:1], m14_distances[:,1:2], m14_distances[:,2:3], suffix=\"14 zernike terms PSF\")\n"
   ]
  },
  {
   "cell_type": "code",
   "execution_count": 9,
   "id": "6c4d7fc3-e6a8-4fcc-999c-e1d493cfe963",
   "metadata": {},
   "outputs": [],
   "source": [
    "plot_pl42_euclidean_distances(m20_distances[:,0:1], m20_distances[:,1:2], m20_distances[:,2:3], suffix=\"20 zernike terms PSF\")"
   ]
  }
 ],
 "metadata": {
  "kernelspec": {
   "display_name": "sail-env",
   "language": "python",
   "name": "sail-env"
  },
  "language_info": {
   "codemirror_mode": {
    "name": "ipython",
    "version": 3
   },
   "file_extension": ".py",
   "mimetype": "text/x-python",
   "name": "python",
   "nbconvert_exporter": "python",
   "pygments_lexer": "ipython3",
   "version": "3.9.18"
  }
 },
 "nbformat": 4,
 "nbformat_minor": 5
}
