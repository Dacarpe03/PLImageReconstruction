{
 "cells": [
  {
   "cell_type": "markdown",
   "id": "b2cfd2a7-a52d-47f5-b31d-dfd9e23e9961",
   "metadata": {},
   "source": [
    "# 1. Coordinates,  Grids and Fields"
   ]
  },
  {
   "cell_type": "markdown",
   "id": "6d12389e-f761-478c-9381-6228eb8a57a1",
   "metadata": {},
   "source": [
    "Hcipy is a Python library for high-contrat imaging simulations. It uses the concept of a ```Field``` to simplify sintax and avoid user error. The concept of ```Field``` and their corresponding ```Grid``` and ```Coords``` is an integral part of HCIPY and is used thoughout the codebase. This first chapter will focus on ways to create, modify and use Fields"
   ]
  },
  {
   "cell_type": "markdown",
   "id": "01c0e053-716d-4672-9fd2-ae8b3cfe5d34",
   "metadata": {},
   "source": [
    "First let's import HCIPy and a few supporting libraries"
   ]
  },
  {
   "cell_type": "code",
   "execution_count": null,
   "id": "3e602441-654f-44c4-8bcb-d24946ee5d05",
   "metadata": {},
   "outputs": [],
   "source": [
    "from hcipy import *\n",
    "\n",
    "import numpy as np\n",
    "import matplotlib.pyplot as plt\n",
    "\n",
    "%matplotlib inline"
   ]
  },
  {
   "cell_type": "markdown",
   "id": "c70bace5-980c-4896-a18c-1634bd5c0292",
   "metadata": {},
   "source": [
    "A ```Grid``` defines a set of points in space. There are many functions available for creating a ```Field``` from scratch. One of these is ```make_unifom_grid()```. This function creates a regularly-spaced grid of points in N-dimensions in Cartesian space. The following code creates a ```Grid``` and plots the set of points using Matplotlib"
   ]
  },
  {
   "cell_type": "code",
   "execution_count": null,
   "id": "0b983ba5-efb5-40d2-a4d7-7267a2dc9877",
   "metadata": {},
   "outputs": [],
   "source": [
    "grid = make_uniform_grid([64,64], [2,1])\n",
    "\n",
    "plt.plot(grid.x, grid.y, '+')\n",
    "plt.axis('equal')\n",
    "plt.xlabel('x')\n",
    "plt.ylabel('y')\n",
    "plt.show()"
   ]
  },
  {
   "cell_type": "markdown",
   "id": "529a5a76-cc47-4709-8d7a-bdf29b91bb8e",
   "metadata": {},
   "source": [
    "Depending on the coordinate system of the ```Grid```, it exposes the arguments x, y, z for Cartesian coordinates or r, theta for polar coordinates. The grid facilitates the conversion between an index and a point in N-dimensional space."
   ]
  },
  {
   "cell_type": "markdown",
   "id": "c6b62dc2-200a-4d30-8968-5d9ffca1adda",
   "metadata": {},
   "source": [
    "The coordinate values ofr each dimension are stored internally in a ```Coords``` object. There exist some variants of this type of object. Each of these derived classes indicates a struture in the coordinate values. For instance, in the case above>"
   ]
  },
  {
   "cell_type": "code",
   "execution_count": null,
   "id": "c8a3b170-5583-46f3-b2cd-94ceec18a667",
   "metadata": {},
   "outputs": [],
   "source": [
    "print('Class of grid:', grid.coords.__class__)\n",
    "print('Distance between points:', grid.delta)\n",
    "print('Number of points on each dimension:', grid.dims)\n",
    "print('Zero-point of the grid:', grid.zero)"
   ]
  },
  {
   "cell_type": "markdown",
   "id": "ee89dc34-dad9-498a-b16c-47b0214ccf24",
   "metadata": {},
   "source": [
    "A ```RegularCoords``` object doesn't store the values of eachpoint explicitly, but rather calculates those on the fly from three parameters:\n",
    "1. The distance between points.\n",
    "2. The number of points on each dimension\n",
    "3. The zero point"
   ]
  },
  {
   "cell_type": "markdown",
   "id": "0f1dbf8c-cab6-471a-b847-147b106f74e8",
   "metadata": {},
   "source": [
    "Let's use another coordinate system, and differently structured coordinates. We explicitly show how a ```Grid``` is constructed."
   ]
  },
  {
   "cell_type": "code",
   "execution_count": null,
   "id": "db32db85-27f9-4a1c-aa40-b472bfe6f142",
   "metadata": {},
   "outputs": [],
   "source": [
    "r = np.logspace(-1, 1, 11)\n",
    "theta = np.linspace(0.2*np.pi, 11, endpoint=False)\n",
    "coords = SeparatedCoords((r, theta))\n",
    "\n",
    "polar_grid = PolarGrid(coords)\n",
    "cart_grid = polar_grid.as_('cartesian')\n",
    "\n",
    "plt.plot(cart_grid.x, cart_grid.y, '+')\n",
    "plt.axis('equal')\n",
    "plt.show()"
   ]
  },
  {
   "cell_type": "markdown",
   "id": "dd73e9bd-2fda-4df8-8ab0-761f4c489049",
   "metadata": {},
   "source": [
    "Note that to plot the points of this polar grid, we have converte the polar grid to a Cartesian grid. Accessing the Cartesian coordinates on a polar grid is not allowed:"
   ]
  },
  {
   "cell_type": "code",
   "execution_count": null,
   "id": "eb13828b-77e5-4243-ad3d-91efa948fac3",
   "metadata": {},
   "outputs": [],
   "source": [
    "try:\n",
    "    print(polar_grid.x)\n",
    "except AttributeError as err:\n",
    "    print(err)"
   ]
  },
  {
   "cell_type": "markdown",
   "id": "f7ddc33c-afaa-4340-be20-4e43a0657f57",
   "metadata": {},
   "source": [
    "Each ```Grid``` also stores the weight of each point, that is, the interval, area, volume or hyper-volume that a point subtends in its space. The can be used to simplify doing integrations or taking derivatives on a ```Grid```. In some cases, the weights can be calculated automaticaly, for example when the grid has regular or separated coordinates. For other coordinate structures, the weights must be supplied by the user, for example for an UnstructuredCoords."
   ]
  },
  {
   "cell_type": "markdown",
   "id": "a6900066-daae-4bb0-af52-c7a71defbbd2",
   "metadata": {},
   "source": [
    "A ```Field``` is a sampled function on a Grid. The an be thought of as a physical ield, sampled on each point of a ```Grid```. We can simply construct a field by:"
   ]
  },
  {
   "cell_type": "code",
   "execution_count": null,
   "id": "37094f86-d8d8-42d6-9bbf-2f0d5862256a",
   "metadata": {},
   "outputs": [],
   "source": [
    "values = np.exp(-(grid.x**2 * 10)) * np.sin(20*grid.y)\n",
    "field = Field(values, grid)\n",
    "\n",
    "imshow_field(field)\n",
    "plt.colorbar()\n",
    "plt.show()"
   ]
  },
  {
   "cell_type": "markdown",
   "id": "6bc0e813-418f-4a63-b0d4-f7d8c1d4046f",
   "metadata": {},
   "source": [
    "A field can be shown by using ```imshow_field()```, which acts very similar to the standard Matplotlib ```pyplot.imshow()``` function. It however does some thing in the background. The axes are set to the correct values, according to the ```Grid``` of the ```Field```. Additionally, it supports many other features. For instance, a complex valued field is automatically converted to a two-dimensional colorscale."
   ]
  },
  {
   "cell_type": "code",
   "execution_count": null,
   "id": "03b41a9c-110d-4f1e-b47f-aeb786ba610c",
   "metadata": {},
   "outputs": [],
   "source": [
    "values2 = np.exp(1j * grid.x * 20) * np.sqrt(np.abs(np.sinc(5*grid.y)))\n",
    "field2 = Field(values2, grid)\n",
    "\n",
    "imshow_field(field2)\n",
    "plt.show()"
   ]
  },
  {
   "cell_type": "markdown",
   "id": "a6555d8f-211e-40bf-bc3e-a92056008ac8",
   "metadata": {},
   "source": [
    "This images can be extremely useful for viewing both phase and amplitude of a coplex speckle field at the same time. Additionally, it supports masking out parts of the array during plotting:"
   ]
  },
  {
   "cell_type": "code",
   "execution_count": null,
   "id": "272e1a1d-6e58-4eb4-9bcb-f1c4cb2039ff",
   "metadata": {},
   "outputs": [],
   "source": [
    "mask = make_circular_aperture(0.7)(grid)\n",
    "\n",
    "imshow_field(field2, mask=mask)\n",
    "plt.show()"
   ]
  },
  {
   "cell_type": "markdown",
   "id": "ad93743b-2d56-44cd-b344-841501575a73",
   "metadata": {},
   "source": [
    "This function ```make_circular_aperture(0.7)``` here constructs a so-called ```Field``` genertor. These are functions that take a grid as their sole parameter, and spit out a Field on that grid. Essentially, this can be used to calculate any analytical function at a set of points. Some classes and functions in HCIPy take ```Field``` generators as arguments, and they are used as output in some cases as well. An important class of ```Field``` generators are those generated by aperture unctions. These include the above mentioned circular_aperture, but also ```rectangular_aperture```, ```hexagon_aperture```, or even complete telescopes, such as ```make_magellan_perture```:"
   ]
  },
  {
   "cell_type": "code",
   "execution_count": null,
   "id": "097a1dba-6204-487b-8b2e-298c6831f772",
   "metadata": {
    "scrolled": true
   },
   "outputs": [],
   "source": [
    "pupil_grid = make_pupil_grid(128)\n",
    "aperture = make_magellan_aperture(True)\n",
    "\n",
    "imshow_field(aperture(pupil_grid), cmap='gray')\n",
    "plt.show()"
   ]
  },
  {
   "cell_type": "markdown",
   "id": "8ad0b96e-8450-427d-85e2-5ad26cc68b3b",
   "metadata": {},
   "source": [
    "As the spiders for the Magellan aperture are very small, we have some aliasing effets. This can be avoided using supersampling during the evaluation. HCIPy implements standard functions for these:"
   ]
  },
  {
   "cell_type": "code",
   "execution_count": null,
   "id": "4a956984-be0e-4380-b81d-2308c2f43789",
   "metadata": {},
   "outputs": [],
   "source": [
    "pupil = evaluate_supersampled(aperture, pupil_grid, 8)\n",
    "imshow_field(pupil, cmap='gray')\n",
    "plt.show()"
   ]
  },
  {
   "cell_type": "markdown",
   "id": "6e8614e2-5422-40f3-9443-e68e2680c74c",
   "metadata": {},
   "source": [
    "# 2.Wavefronts and optical systems"
   ]
  },
  {
   "cell_type": "markdown",
   "id": "f9eeca17-3434-4024-aeb3-92443d71be53",
   "metadata": {},
   "source": [
    "Wavefronts in HCIPy are monochromatica. They consist ofan electric field (as an HCIP Field), and a wavelength. If broadband images are needed, multiple ```Wavefront```s must be constructed and propagated through the optical system, sampling the required wavelength range. Lete us construct a ```Wavefront```."
   ]
  },
  {
   "cell_type": "code",
   "execution_count": null,
   "id": "d4259b2d-df32-4a87-8ed5-546a23fa33b5",
   "metadata": {},
   "outputs": [],
   "source": [
    "pupil_grid = make_pupil_grid(1024)\n",
    "aperture = make_circular_aperture(1)(pupil_grid)\n",
    "\n",
    "wavefront = Wavefront(aperture, 1)"
   ]
  },
  {
   "cell_type": "markdown",
   "id": "76a8f3ea-3608-4a5a-8692-15f2eebe4528",
   "metadata": {},
   "source": [
    "A note must be made at this point regarding units. HCIPy is averse w.r.t. the used units. If the user fills in all quantitites in SI, then all calculations in HCIPy will be returned in SI units. This allows the user to use any unit he wants, while still being abel to seamlessly use dimensionless quantities. Ie. the convention that is used in this docuemnte, is that if the diameter of the aperture is 1, the wavelength is 1, and the focal length is 1 as well, the the focal-plane will be given in $\\lambda$/D"
   ]
  },
  {
   "cell_type": "markdown",
   "id": "5ad86e42-f3a0-4652-8f14-072c53f4e089",
   "metadata": {},
   "source": [
    "To propagate this wavefront to the foal plane, we first need to construct a grid on which the focal plane will be sampled"
   ]
  },
  {
   "cell_type": "code",
   "execution_count": null,
   "id": "e9f97e3a-2a3a-479c-b1ba-42ce381ccd66",
   "metadata": {},
   "outputs": [],
   "source": [
    "focal_grid = make_focal_grid(8, 16)"
   ]
  },
  {
   "cell_type": "markdown",
   "id": "cd7d16dd-db39-4814-8c16-21c877a29b6b",
   "metadata": {},
   "source": [
    "This construcs a ```Grid``` with 8 samplers per $\\lambda$/D and a 16 $\\lambda$/D radius field of view. Now we can construct a Fraunhofer propagator that can actually propagate the lght to the focal plane"
   ]
  },
  {
   "cell_type": "code",
   "execution_count": null,
   "id": "cccde09e-162b-48f1-bd22-2e9febf5b1df",
   "metadata": {},
   "outputs": [],
   "source": [
    "prop = FraunhoferPropagator(pupil_grid, focal_grid)\n",
    "\n",
    "img = prop.forward(wavefront)\n",
    "\n",
    "imshow_field(np.log10(img.intensity / img.intensity.max()), vmin=-5)\n",
    "plt.colorbar()\n",
    "plt.show()"
   ]
  },
  {
   "cell_type": "markdown",
   "id": "459a5c06-fd38-4005-b983-a18ed013911b",
   "metadata": {},
   "source": [
    "All Fourier transforms concerning the propagation are done internally. In ths case a Matrix Fourier transform was used as it was deemed quicker than a Fast FOurier transform in this case. Alos note that when defiing the propagaor, we didn't pass the wavelength of the wavefront. This wavelength is taken form the Wavefront object durig the propagation"
   ]
  },
  {
   "cell_type": "markdown",
   "id": "bb581aed-8821-4c96-8963-2dd1ceb8e9ad",
   "metadata": {},
   "source": [
    "Also note that a ```Wavefront``` supports many properties to make it easier to use One that we used aboe is Wavefront.intensity, but othersexist as well: for example Wavefront.phase and ```Wavefront.amplitude```, which yield the phase and amplitude of the electric field respectively. All these properties are returned as ```Field```s and can therefore be shown using ```imshow_field()```"
   ]
  },
  {
   "cell_type": "markdown",
   "id": "8c6d22bd-4440-4b72-956d-45e13c610666",
   "metadata": {},
   "source": [
    "For a more interesting result, let's do a propagation with pyhsical quantities. We calculate the intensity pattern of a circular aperture with a diameter of 1cm, after a free-space propagation of 2m, at a wavelength of 500nm."
   ]
  },
  {
   "cell_type": "code",
   "execution_count": null,
   "id": "3daec41b-3e62-458e-b665-1a6eac66a7b1",
   "metadata": {},
   "outputs": [],
   "source": [
    "pupil_grid_2 = make_pupil_grid(1024, 0.015)\n",
    "aperture_2 = make_circular_aperture(0.01)(pupil_grid_2)\n",
    "\n",
    "fresnel_prop = FresnelPropagator(pupil_grid_2, 2)\n",
    "\n",
    "wf = Wavefront(aperture_2, 500e-9)\n",
    "img = fresnel_prop.forward(wf)\n",
    "\n",
    "imshow_field(img.intensity)\n",
    "plt.show()"
   ]
  },
  {
   "cell_type": "markdown",
   "id": "68b7012c-b935-4daf-987e-166bcf71a781",
   "metadata": {},
   "source": [
    "The proagators shown previously are part of a larger group of optical elemetns. All ```OpticalElements``` can proagate a ```Wavefront``` through them. Examples include simple ```Apodizer```s, which act as an infinitel-thin screen with a (complex) transmission. A little more complicated example is ```SurfaceAberration```, which simulates a surface error with a power-law PSD (power spectral density). Optical elements can be linked to represent more complicated optical systems."
   ]
  },
  {
   "cell_type": "code",
   "execution_count": null,
   "id": "91ae1060-ca1b-448b-ba5a-f6015be6eeaa",
   "metadata": {},
   "outputs": [],
   "source": [
    "aberration = SurfaceAberration(pupil_grid, 0.25, 1)\n",
    "\n",
    "wf = Wavefront(aperture)\n",
    "img = prop(aberration(wf))\n",
    "\n",
    "imshow_field(np.log10(img.intensity / img.intensity.max()), vmin=-5)\n",
    "plt.colorbar()\n",
    "plt.show()"
   ]
  },
  {
   "cell_type": "code",
   "execution_count": null,
   "id": "467e7000-737a-4f09-af22-76653d60576d",
   "metadata": {},
   "outputs": [],
   "source": [
    "aberration = SurfaceAberration(pupil_grid, 0.25, 1)\n",
    "\n",
    "wf = Wavefront(aperture)\n",
    "img = prop(aberration(wf))\n",
    "\n",
    "imshow_field(np.log10(img.intensity / img.intensity.max()), vmin=-5)\n",
    "plt.colorbar()\n",
    "plt.show()"
   ]
  },
  {
   "cell_type": "markdown",
   "id": "8c5f88be-c8dc-44d5-afec-aa55f19d4a6e",
   "metadata": {},
   "source": [
    "These simple optical elements can be combined into more complicated optical systems. These include full wavefront sensor implementations and coronagraphs. Both of these will be handled in later sections."
   ]
  },
  {
   "cell_type": "markdown",
   "id": "2e5b69e4-3651-4ac4-a3c1-8519c64bd4b1",
   "metadata": {},
   "source": [
    "To convert a ```Wavefront``` into an observed image, once can simply use the ```Wavefront.power``` attribute, which is the ```Wavefront.intensity``` multiplied by the weight at each pixel. If one wants to use a more complicated detector model, HCIPy supplies a ```Detector``` class, and its derivatives. A detector uses an integration/readout scheme"
   ]
  },
  {
   "cell_type": "code",
   "execution_count": null,
   "id": "967ad7e6-d77a-4139-89ed-550ac5410c47",
   "metadata": {},
   "outputs": [],
   "source": [
    "flat_field = 0.01\n",
    "dark = 10\n",
    "detector = NoisyDetector(focal_grid, dark_current_rate=dark, flat_field=flat_field)\n",
    "\n",
    "wf.total_power = 5000\n",
    "img = prop(aberration(wf))\n",
    "\n",
    "detector.integrate(img, 0.5)\n",
    "image = detector.read_out()\n",
    "\n",
    "imshow_field(np.log10(image), vmax=np.log10(image).max(), vmin=0)\n",
    "plt.colorbar()\n",
    "plt.show()"
   ]
  },
  {
   "cell_type": "markdown",
   "id": "c9cac52e-3c71-4d3f-bc3e-e8639db31fd0",
   "metadata": {},
   "source": [
    "# 3. Atmosphere and adaptive optics"
   ]
  },
  {
   "cell_type": "markdown",
   "id": "0650f6bc-062a-49dd-a0cf-7f38b13101c4",
   "metadata": {},
   "source": [
    "HCIPy implements a multi-layer atmospheric model. Each layer derives from tmosphericLayer. This allows for multiple implementations of phase-screen calculation. One of the implemented methods is an infinite phase-screen extrusion method by ssemat et al. 2006. We first do some setup work."
   ]
  },
  {
   "cell_type": "code",
   "execution_count": null,
   "id": "79148a53-f526-4793-afb5-a0acb0dd9c2d",
   "metadata": {},
   "outputs": [],
   "source": [
    "D_tel = 8.2\n",
    "wavelength = 1e-6\n",
    "\n",
    "pupil_grid = make_pupil_grid(512, D_tel)\n",
    "focal_grid = make_focal_grid(8, 16)\n",
    "prop = FraunhoferPropagator(pupil_grid, focal_grid)\n",
    "\n",
    "aperture = circular_aperture(D_tel)(pupil_grid)"
   ]
  },
  {
   "cell_type": "markdown",
   "id": "2061598f-fd7b-48a9-a3ac-858fde617614",
   "metadata": {},
   "source": [
    "We can now construct the layer"
   ]
  },
  {
   "cell_type": "code",
   "execution_count": null,
   "id": "0bf2a8e9-71d6-4811-8831-9c7bf891a104",
   "metadata": {},
   "outputs": [],
   "source": [
    "fried_parameter = 0.2 # meter\n",
    "outer_scale = 20 # meter\n",
    "velocity = 10 # meter/sec\n",
    "\n",
    "Cn_squared = Cn_squared_from_fried_parameter(fried_parameter, 500e-9)\n",
    "layer = InfiniteAtmosphericLayer(pupil_grid, Cn_squared, outer_scale, velocity)"
   ]
  },
  {
   "cell_type": "markdown",
   "id": "dc87c3fe-81bb-41b1-84d2-cf2fc13f092f",
   "metadata": {},
   "source": [
    "For each layer, its strength ($C^2_n$ value), outer scale ($L_0$) and velocity can be changed. The InfiniteAtmosphericLaer class even supports on-the-fly changes to these values, allowing for non-stationary turbulence simulations. We can retrieve teh phase at a certai wavelength as:"
   ]
  },
  {
   "cell_type": "code",
   "execution_count": null,
   "id": "e875121c-ef18-4ccb-87c3-fd622c60d380",
   "metadata": {},
   "outputs": [],
   "source": [
    "imshow_field(layer.phase_for(wavelength), cmap='RdBu')\n",
    "plt.colorbar()\n",
    "plt.show()"
   ]
  },
  {
   "cell_type": "markdown",
   "id": "fd72fb45-20da-4a24-90b6-805ffe2f1a88",
   "metadata": {},
   "source": [
    "And we can propagate light through the atmospheric layer as usual."
   ]
  },
  {
   "cell_type": "code",
   "execution_count": null,
   "id": "24f1bdd8-8480-43ee-b6f8-fa9a6131baef",
   "metadata": {},
   "outputs": [],
   "source": [
    "wf = Wavefront(aperture, wavelength)\n",
    "img = prop(layer(wf))\n",
    "\n",
    "imshow_field(np.log10(img.intensity / img.intensity.max()), vmin=-3, extent=img.grid.extent)\n",
    "plt.colorbar()\n",
    "plt.show()"
   ]
  },
  {
   "cell_type": "code",
   "execution_count": null,
   "id": "fea24d00-b3d4-4944-aa0b-a1da294717dd",
   "metadata": {},
   "outputs": [],
   "source": [
    "layer.t = 0.1 # sec\n",
    "\n",
    "img = prop(layer(wf))\n",
    "\n",
    "imshow_field(np.log10(img.intensity / img.intensity.max()), vmin=-3)\n",
    "plt.colorbar()\n",
    "plt.show()"
   ]
  },
  {
   "cell_type": "markdown",
   "id": "0ac2d887-5664-4ae7-acb6-9db2772c9452",
   "metadata": {},
   "source": [
    "These sinle layers can be combined into a multi-layer atmoshperic model. Here we standard atmospheric model. Here we have a standard atmospheric model. Any layer structure can be implemented. The altitude of each layer is indicated by the height parameter of the AtmosphericLayer objects themselves.\n",
    "\n",
    "As we want to do Fresnel diffraction and avoid edge effects, we have to redefine our grids to be slightly oversized. Afterwards we make the atmospheric layers, and add the to a multi-layer atmospheric model."
   ]
  },
  {
   "cell_type": "code",
   "execution_count": null,
   "id": "fd836e67-2191-4b5b-9bfa-0961124354a6",
   "metadata": {},
   "outputs": [],
   "source": [
    "pupil_grid = make_pupil_grid(256, 1.5)\n",
    "focal_grid = make_focal_grid(2, 64)\n",
    "prop = FraunhoferPropagator(pupil_grid, focal_grid)\n",
    "\n",
    "pup = make_circular_aperture(1)(pupil_grid)\n",
    "\n",
    "# Make multi-layer atmosphere\n",
    "layers = make_standard_atmospheric_layers(pupil_grid, outer_scale)\n",
    "\n",
    "atmos = MultiLayerAtmosphere(layers, scintillation=True)"
   ]
  },
  {
   "cell_type": "markdown",
   "id": "e3800605-d865-4e0d-9f50-88845a55a0b9",
   "metadata": {},
   "source": [
    "Now we can set the right seeing parameter and propagate through it to show the scintillation. To avoid edge efects during the Fresnel propagation, we use a super-Gaussian as an amplitude mask. This makes the edges of the field more continous and therefore lessens edge effects."
   ]
  },
  {
   "cell_type": "code",
   "execution_count": null,
   "id": "c5f3493d-5f46-4ce7-ba1f-58d3550ca643",
   "metadata": {},
   "outputs": [],
   "source": [
    "# Set the seeing parameters and reset\n",
    "atmos.Cn_squared = Cn_squared_from_fried_parameter(0.1, 550e-9)\n",
    "atmos.reset()\n",
    "\n",
    "# Use super-Gaussian to avoid edge effects\n",
    "p = np.exp(-(pupil_grid.as_('polar').r/0.68)**20)\n",
    "wf = atmos(Wavefront(Field(p, pupil_grid), 2e-6))\n",
    "\n",
    "# Show scintillation field\n",
    "imshow_field(wf.intensity * pup, cmap='gray')\n",
    "plt.show()"
   ]
  },
  {
   "cell_type": "code",
   "execution_count": null,
   "id": "156b6dee-fc4c-42ea-b048-f688a6fb76a2",
   "metadata": {},
   "outputs": [],
   "source": [
    "import hcipy\n",
    "import numpy as np\n",
    "import matplotlib.pyplot as plt\n",
    "\n",
    "# Define parameters\n",
    "telescope_diameter = 4.0  # meters\n",
    "wavelength = 0.6e-6  # meters (wavelength of light)\n",
    "grid_size = 256  # size of the simulation grid\n",
    "r0 = 0.2  # Fried parameter in meters\n",
    "\n",
    "# Create aperture and wavefront\n",
    "aperture = hcipy.CircularAperture(telescope_diameter)\n",
    "telescope = hcipy.OpticalSystem([hcipy.CompoundApodizer([aperture])])\n",
    "wavefront = hcipy.Wavefront(hcipy.Field(np.zeros((grid_size, grid_size)), aperture.grid))\n",
    "\n",
    "# Generate atmospheric turbulence\n",
    "turbulence = hcipy.AtmosphericTurbulence(telescope, r0)\n",
    "wf_after_turbulence = turbulence(wavefront)\n",
    "\n",
    "# Visualize Results\n",
    "plt.figure(figsize=(8, 4))\n",
    "\n",
    "plt.subplot(1, 2, 1)\n",
    "hcipy.imshow_field(wavefront.phase, cmap='RdBu', extent=wavefront.grid.extent)\n",
    "plt.title('Original Wavefront')\n",
    "\n",
    "plt.subplot(1, 2, 2)\n",
    "hcipy.imshow_field(wf_after_turbulence.phase, cmap='RdBu', extent=wf_after_turbulence.grid.extent)\n",
    "plt.title('Wavefront After Turbulence')\n",
    "\n",
    "plt.show()"
   ]
  },
  {
   "cell_type": "code",
   "execution_count": null,
   "id": "618aa7f0-76c8-465e-b3dd-3f1393f58e4d",
   "metadata": {},
   "outputs": [],
   "source": [
    "from hcipy import *\n",
    "import numpy as np\n",
    "import matplotlib.pyplot as plt\n",
    "import time\n",
    "\n",
    "from hcipy.atmosphere import *\n",
    "\n",
    "pupil_grid = make_pupil_grid(256, 1)\n",
    "focal_grid = make_focal_grid_from_pupil_grid(pupil_grid, 8, 16)\n",
    "\n",
    "r0 = 0.3\n",
    "wavelength = 500e-9\n",
    "L0 = 10\n",
    "velocity = 3\n",
    "height = 0\n",
    "stencil_length = 2\n",
    "oversampling = 128\n",
    "\n",
    "layers = []\n",
    "layer = InfiniteAtmosphericLayer(pupil_grid, Cn_squared_from_fried_parameter(r0, wavelength), L0, velocity, 0, stencil_length)\n",
    "layers.append(layer)\n",
    "\n",
    "atmosphere = MultiLayerAtmosphere(layers, False)\n",
    "atmosphere.Cn_squared = Cn_squared_from_fried_parameter(1/40, wavelength)\n",
    "prop = FraunhoferPropagator(pupil_grid, focal_grid.scaled(wavelength))\n",
    "\n",
    "aperture = make_circular_aperture(1)(pupil_grid)\n",
    "wf = Wavefront(Field(np.ones(pupil_grid.size), pupil_grid), wavelength)\n",
    "\n",
    "focal_wf = prop.forward(wf)\n",
    "\n",
    "for t in np.linspace(0, 100, 5001):\n",
    "    atmosphere.evolve_until(t)\n",
    "\n",
    "    wf2 = atmosphere.forward(wf)\n",
    "    wf2.electric_field *= aperture\n",
    "    img = Field(prop(wf2).intensity, focal_grid)\n",
    "\n",
    "    plt.clf()\n",
    "    plt.subplot(1,3,1)\n",
    "    imshow_field(wf2.phase, cmap='RdBu')\n",
    "    plt.subplot(1,3,2)\n",
    "    imshow_field(np.log10(img / img.max()), vmin=-6)\n",
    "    plt.subplot(1,3,3)\n",
    "    imshow_field(np.log10(focal_wf.intensity/ focal_wf.intensity.max()), vmin=-6)\n",
    "    plt.draw()\n",
    "    plt.pause(0.00001)"
   ]
  }
 ],
 "metadata": {
  "kernelspec": {
   "display_name": "sail-env",
   "language": "python",
   "name": "sail-env"
  },
  "language_info": {
   "codemirror_mode": {
    "name": "ipython",
    "version": 3
   },
   "file_extension": ".py",
   "mimetype": "text/x-python",
   "name": "python",
   "nbconvert_exporter": "python",
   "pygments_lexer": "ipython3",
   "version": "3.9.18"
  }
 },
 "nbformat": 4,
 "nbformat_minor": 5
}
