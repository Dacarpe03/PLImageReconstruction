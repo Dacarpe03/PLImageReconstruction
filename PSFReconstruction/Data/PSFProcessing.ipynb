{
 "cells": [
  {
   "cell_type": "code",
   "execution_count": 7,
   "id": "9fbc3203-ad7a-480b-8ec7-a92a94d4cbfd",
   "metadata": {},
   "outputs": [
    {
     "ename": "SyntaxError",
     "evalue": "trailing comma not allowed without surrounding parentheses (1444291503.py, line 10)",
     "output_type": "error",
     "traceback": [
      "\u001b[0;36m  Cell \u001b[0;32mIn[7], line 10\u001b[0;36m\u001b[0m\n\u001b[0;31m    # A\u001b[0m\n\u001b[0m    ^\u001b[0m\n\u001b[0;31mSyntaxError\u001b[0m\u001b[0;31m:\u001b[0m trailing comma not allowed without surrounding parentheses\n"
     ]
    }
   ],
   "source": [
    "from psf_constants import PROCESSED_COMPLEX_FIELDS_DATA_PATH, \\\n",
    "                          NUMPY_SUFFIX, \\\n",
    "                          PSF_TRAIN_FILE_SUFFIXES, \\\n",
    "                          TRAIN_COMPLEX_FIELDS_PREFIX, \\\n",
    "                          VALIDATION_COMPLEX_FIELDS_PATH, \\\n",
    "                          TEST_COMPLEX_FIELDS_PATH, \\\n",
    "                          FC_PROCESSED_TRAIN_COMPLEX_FIELDS_PREFIX, \\\n",
    "                          FC_PROCESSED_VALIDATION_COMPLEX_FIELDS_FILE_PATH, \\\n",
    "                          FC_PROCESSED_TEST_COMPLEX_FIELDS_FILE_PATH, \\\n",
    "                          TRAIN_OUTPUT_FLUXES_FILE_PREFIX, \\\n",
    "                          VALIDATION_OUTPUT_FLUXES_FILE_PATH, \\\n",
    "                          TRAIN_OUTPUT_FLUXES_FILE_PREFIX, \\\n",
    "                          TRAIN_OUTPUT_FLUXES_FILE_PREFIX, \\\n",
    "                          TRAIN_OUTPUT_FLUXES_FILE_PREFIX, \\\n",
    "                          TRAIN_OUTPUT_FLUXES_FILE_PREFIX\n",
    "                          SUBFILE_SAMPLES\n",
    "\n",
    "from data_utils import normalize_data, \\\n",
    "                       save_numpy_array\n",
    "\n",
    "import numpy as np"
   ]
  },
  {
   "cell_type": "code",
   "execution_count": 2,
   "id": "dbd8abdd-f4ae-4680-b4bb-20a792b72f7b",
   "metadata": {},
   "outputs": [],
   "source": [
    "def process_fc_complex_field(filepath):\n",
    "    \n",
    "    complex_arrays = np.load(filepath)\n",
    "    real_part = np.real(complex_arrays).astype(np.float32)\n",
    "    norm_real_part, scaler = normalize_data(real_part)\n",
    "    imaginary_part = np.imag(complex_arrays).astype(np.float32)\n",
    "    norm_imaginary_part, scaler = normalize_data(imaginary_part)\n",
    "    \n",
    "    processed_complex_field_arrays = np.stack((norm_real_part, norm_imaginary_part), axis=1)\n",
    "    print(processed_complex_field_arrays.shape)\n",
    "    processed_complex_field_arrays = processed_complex_field_arrays.reshape((SUBFILE_SAMPLES, 128*128*2))\n",
    "    \n",
    "    return processed_complex_field_arrays"
   ]
  },
  {
   "cell_type": "code",
   "execution_count": 17,
   "id": "ecde315a-071e-48d6-988a-37a020f15676",
   "metadata": {},
   "outputs": [
    {
     "name": "stdout",
     "output_type": "stream",
     "text": [
      "(10000, 2, 128, 128)\n",
      "(10000, 2, 128, 128)\n",
      "(10000, 2, 128, 128)\n",
      "(10000, 2, 128, 128)\n",
      "(10000, 2, 128, 128)\n",
      "(10000, 2, 128, 128)\n",
      "(10000, 2, 128, 128)\n"
     ]
    }
   ],
   "source": [
    "for train_file in PSF_TRAIN_FILE_SUFFIXES:\n",
    "    filepath = f\"{TRAIN_COMPLEX_FIELDS_PREFIX}{train_file}{NUMPY_SUFFIX}\"\n",
    "    processed_complex_field_arrays = process_fc_complex_field(filepath)\n",
    "\n",
    "    save_numpy_array(processed_complex_field_arrays,\n",
    "                    f\"{FC_PROCESSED_TRAIN_COMPLEX_FIELDS_PREFIX}{train_file}{NUMPY_SUFFIX}\")\n"
   ]
  },
  {
   "cell_type": "code",
   "execution_count": 3,
   "id": "16fd4f6e-288b-4457-8c35-08ba7d175310",
   "metadata": {},
   "outputs": [
    {
     "name": "stdout",
     "output_type": "stream",
     "text": [
      "(10000, 2, 128, 128)\n"
     ]
    }
   ],
   "source": [
    "processed_complex_field_arrays = process_fc_complex_field(VALIDATION_COMPLEX_FIELDS_PATH)\n",
    "\n",
    "save_numpy_array(processed_complex_field_arrays,\n",
    "                 FC_PROCESSED_VALIDATION_COMPLEX_FIELDS_FILE_PATH)"
   ]
  },
  {
   "cell_type": "code",
   "execution_count": 4,
   "id": "989fbddd-9d13-4fe3-8c5a-a16582bcf77c",
   "metadata": {},
   "outputs": [
    {
     "name": "stdout",
     "output_type": "stream",
     "text": [
      "(10000, 2, 128, 128)\n"
     ]
    }
   ],
   "source": [
    "processed_complex_field_arrays = process_fc_complex_field(TEST_COMPLEX_FIELDS_PATH)\n",
    "\n",
    "save_numpy_array(processed_complex_field_arrays,\n",
    "                 FC_PROCESSED_TEST_COMPLEX_FIELDS_FILE_PATH)"
   ]
  },
  {
   "cell_type": "code",
   "execution_count": null,
   "id": "552fe75d-09dd-4941-b460-817de622639a",
   "metadata": {},
   "outputs": [],
   "source": []
  }
 ],
 "metadata": {
  "kernelspec": {
   "display_name": "sail-env",
   "language": "python",
   "name": "sail-env"
  },
  "language_info": {
   "codemirror_mode": {
    "name": "ipython",
    "version": 3
   },
   "file_extension": ".py",
   "mimetype": "text/x-python",
   "name": "python",
   "nbconvert_exporter": "python",
   "pygments_lexer": "ipython3",
   "version": "3.9.18"
  }
 },
 "nbformat": 4,
 "nbformat_minor": 5
}
