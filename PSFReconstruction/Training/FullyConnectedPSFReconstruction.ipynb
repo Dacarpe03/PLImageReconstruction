{
 "cells": [
  {
   "cell_type": "code",
   "execution_count": 1,
   "id": "c80da421-cc0b-4377-9cf8-98009fcf8d2e",
   "metadata": {},
   "outputs": [],
   "source": [
    "import torch\n",
    "import torch.nn as nn\n",
    "\n",
    "from pytorch_data_utils import instantiate_flux_psf_dataloader\n",
    "from pytorch_modeling_utils import SimpleFullyConnectedNN, \\\n",
    "                                   train_model"
   ]
  },
  {
   "cell_type": "code",
   "execution_count": 2,
   "id": "c860ea05-3b4b-41b4-a20a-ff97c2787704",
   "metadata": {},
   "outputs": [],
   "source": [
    "train_data_loader = instantiate_flux_psf_dataloader(64)\n",
    "validation_data_loader = instantiate_flux_psf_dataloader(64, validation=True)"
   ]
  },
  {
   "cell_type": "code",
   "execution_count": 3,
   "id": "fafe2705-24ed-41b9-809c-664eb878aa6d",
   "metadata": {},
   "outputs": [],
   "source": [
    "input_size = 19\n",
    "output_shape = (1, 2, 128, 128)\n",
    "model = SimpleFullyConnectedNN(\n",
    "    input_size,\n",
    "    output_shape,\n",
    "    [1000, 1000, 1000]\n",
    ")"
   ]
  },
  {
   "cell_type": "code",
   "execution_count": 4,
   "id": "e60173fe-c1cd-442c-a315-3cf68d5c3b8b",
   "metadata": {},
   "outputs": [],
   "source": [
    "loss_mse = torch.nn.MSELoss()"
   ]
  },
  {
   "cell_type": "code",
   "execution_count": 5,
   "id": "88ee9146-f370-473b-bc59-a35250e7e170",
   "metadata": {},
   "outputs": [],
   "source": [
    "optimizer = torch.optim.Adam(model.parameters(), lr=0.0001)"
   ]
  },
  {
   "cell_type": "code",
   "execution_count": null,
   "id": "569f116b-0670-4d44-a507-a702c06ce1be",
   "metadata": {},
   "outputs": [],
   "source": [
    "for epoch in range(10):\n",
    "    for step, data in enumerate(train_data_loader):\n",
    "        optimizer.zero_grad()\n",
    "        outputs = model(data[0])\n",
    "        loss = loss_mse(outputs, data[1])\n",
    "        loss.backward()\n",
    "        optimizer.step()\n",
    "        print(f'Epoch [{epoch+1}/10], Loss: {loss.item():.4f}')"
   ]
  },
  {
   "cell_type": "code",
   "execution_count": null,
   "id": "78ee7062-4d5f-4ae2-889c-aeca04ab1d22",
   "metadata": {},
   "outputs": [
    {
     "name": "stdout",
     "output_type": "stream",
     "text": [
      "Epoch 0\n",
      " batch 1 loss:0.0\n",
      "LOSS train 0 validation 1.0034922361373901\n",
      "Epoch 1\n",
      " batch 1 loss:0.0\n",
      "LOSS train 0 validation 1.0034922361373901\n",
      "Epoch 2\n",
      " batch 1 loss:0.0\n",
      "LOSS train 0 validation 1.0034922361373901\n",
      "Epoch 3\n",
      " batch 1 loss:0.0\n",
      "LOSS train 0 validation 1.0034922361373901\n",
      "Epoch 4\n",
      " batch 1 loss:0.0\n",
      "LOSS train 0 validation 1.0034922361373901\n",
      "Epoch 5\n",
      " batch 1 loss:0.0\n",
      "LOSS train 0 validation 1.0034922361373901\n",
      "Epoch 6\n",
      " batch 1 loss:0.0\n",
      "LOSS train 0 validation 1.0034922361373901\n",
      "Epoch 7\n",
      " batch 1 loss:0.0\n",
      "LOSS train 0 validation 1.0034922361373901\n",
      "Epoch 8\n",
      " batch 1 loss:0.0\n"
     ]
    }
   ],
   "source": [
    "train_model(model,\n",
    "            \"model_name\",\n",
    "            10,\n",
    "            optimizer,\n",
    "            loss_mse,\n",
    "            train_data_loader,\n",
    "            validation_data_loader)"
   ]
  }
 ],
 "metadata": {
  "kernelspec": {
   "display_name": "sail-pytorch-env",
   "language": "python",
   "name": "sail-pytorch-env"
  },
  "language_info": {
   "codemirror_mode": {
    "name": "ipython",
    "version": 3
   },
   "file_extension": ".py",
   "mimetype": "text/x-python",
   "name": "python",
   "nbconvert_exporter": "python",
   "pygments_lexer": "ipython3",
   "version": "3.9.18"
  }
 },
 "nbformat": 4,
 "nbformat_minor": 5
}
