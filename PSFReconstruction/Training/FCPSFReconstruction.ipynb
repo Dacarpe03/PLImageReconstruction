{
 "cells": [
  {
   "cell_type": "code",
   "execution_count": 1,
   "id": "328f8733-692b-4943-928d-7c7d7eb219f3",
   "metadata": {},
   "outputs": [
    {
     "name": "stderr",
     "output_type": "stream",
     "text": [
      "2024-02-26 10:58:04.393154: I tensorflow/core/util/port.cc:113] oneDNN custom operations are on. You may see slightly different numerical results due to floating-point round-off errors from different computation orders. To turn them off, set the environment variable `TF_ENABLE_ONEDNN_OPTS=0`.\n",
      "2024-02-26 10:58:04.439548: E external/local_xla/xla/stream_executor/cuda/cuda_dnn.cc:9261] Unable to register cuDNN factory: Attempting to register factory for plugin cuDNN when one has already been registered\n",
      "2024-02-26 10:58:04.439579: E external/local_xla/xla/stream_executor/cuda/cuda_fft.cc:607] Unable to register cuFFT factory: Attempting to register factory for plugin cuFFT when one has already been registered\n",
      "2024-02-26 10:58:04.440760: E external/local_xla/xla/stream_executor/cuda/cuda_blas.cc:1515] Unable to register cuBLAS factory: Attempting to register factory for plugin cuBLAS when one has already been registered\n",
      "2024-02-26 10:58:04.448115: I tensorflow/core/platform/cpu_feature_guard.cc:182] This TensorFlow binary is optimized to use available CPU instructions in performance-critical operations.\n",
      "To enable the following instructions: AVX2 AVX_VNNI FMA, in other operations, rebuild TensorFlow with the appropriate compiler flags.\n",
      "2024-02-26 10:58:05.573367: W tensorflow/compiler/tf2tensorrt/utils/py_utils.cc:38] TF-TRT Warning: Could not find TensorRT\n"
     ]
    }
   ],
   "source": [
    "from psf_constants import FC_PROCESSED_TRAIN_OUTPUT_FLUXES_PREFIX, \\\n",
    "                          FC_PROCESSED_TRAIN_COMPLEX_FIELDS_PREFIX, \\\n",
    "                          FC_PROCESSED_VALIDATION_OUTPUT_FLUXES_FILE_PATH, \\\n",
    "                          FC_PROCESSED_VALIDATION_COMPLEX_FIELDS_FILE_PATH\n",
    "\n",
    "from data_utils import load_numpy_data\n",
    "\n",
    "\n",
    "from modeling_utils import create_fully_connected_architecture_for_amplitude_and_phase_reconstruction, \\\n",
    "                           compile_model, \\\n",
    "                           train_model, \\\n",
    "                           train_model_with_generator, \\\n",
    "                           store_model\n",
    "\n",
    "from configurations import SimpleFCModel as ModelConfig"
   ]
  },
  {
   "cell_type": "code",
   "execution_count": 2,
   "id": "3b5695ce-e868-41f7-8978-9c7a2be20aa4",
   "metadata": {},
   "outputs": [],
   "source": [
    "validation_fluxes_array = load_numpy_data(FC_PROCESSED_VALIDATION_OUTPUT_FLUXES_FILE_PATH)\n",
    "validation_complex_fields_array = load_numpy_data(FC_PROCESSED_VALIDATION_COMPLEX_FIELDS_FILE_PATH)"
   ]
  },
  {
   "cell_type": "code",
   "execution_count": 3,
   "id": "aeab44a8-6b64-4661-9623-d128a4fdd50d",
   "metadata": {},
   "outputs": [
    {
     "data": {
      "text/plain": [
       "(10000, 19)"
      ]
     },
     "execution_count": 3,
     "metadata": {},
     "output_type": "execute_result"
    }
   ],
   "source": [
    "validation_fluxes_array.shape"
   ]
  },
  {
   "cell_type": "code",
   "execution_count": 4,
   "id": "1d308fb0-66d5-49fc-a359-6cf0ff97bbf7",
   "metadata": {},
   "outputs": [
    {
     "data": {
      "text/plain": [
       "(10000, 32768)"
      ]
     },
     "execution_count": 4,
     "metadata": {},
     "output_type": "execute_result"
    }
   ],
   "source": [
    "validation_complex_fields_array.shape"
   ]
  },
  {
   "cell_type": "code",
   "execution_count": 5,
   "id": "d99981af-0eff-44f1-88be-4e39df292eae",
   "metadata": {},
   "outputs": [
    {
     "name": "stdout",
     "output_type": "stream",
     "text": [
      "\n",
      "\t=== PSF-FC-Reconstructor ===\n",
      "\t*ARCHITECTURE HYPERPARAMETERS:\n",
      "\t\t-Fully Connected\n",
      "\t\t-Input shape: 19\n",
      "\t\t-Output shape: 32768\n",
      "\t\t-Hidden layers: [2000, 2000, 2000, 2000]\n",
      "\t\t-Regularizer: None\n",
      "\t\t-Hidden Layers Activation: relu\n",
      "\t\t-Output Layer Activation: linear\n",
      "\t\t-Batch Normalization: False\n",
      "\t\t-Dropout: False, 0.2\n",
      "\t\n",
      "\t*COMPILATION HYPERPARAMETERS:\n",
      "\t\t-Optimizer: ADAM lr=0.001, beta_1=0.9, beta_2=0.999\n",
      "\t\t-Loss Function: MSE\n",
      "\t\t-Metric: MSE\n",
      "\t\n",
      "\t*TRAINING HYPERPARAMETERS:\n",
      "\t\t-Epochs: 200\n",
      "\t\t-Batch size: 64\n",
      "\t\t-Callbacks: \n",
      "\t\t\t-ReduceLROnPlateau: MSE 10 x0.1\n",
      "\t\t\t-Early Stop: MSE 25\n",
      "\t\n"
     ]
    },
    {
     "name": "stderr",
     "output_type": "stream",
     "text": [
      "2024-02-26 10:58:07.824787: I external/local_xla/xla/stream_executor/cuda/cuda_executor.cc:901] successful NUMA node read from SysFS had negative value (-1), but there must be at least one NUMA node, so returning NUMA node zero. See more at https://github.com/torvalds/linux/blob/v6.0/Documentation/ABI/testing/sysfs-bus-pci#L344-L355\n",
      "2024-02-26 10:58:07.937617: I external/local_xla/xla/stream_executor/cuda/cuda_executor.cc:901] successful NUMA node read from SysFS had negative value (-1), but there must be at least one NUMA node, so returning NUMA node zero. See more at https://github.com/torvalds/linux/blob/v6.0/Documentation/ABI/testing/sysfs-bus-pci#L344-L355\n",
      "2024-02-26 10:58:07.937985: I external/local_xla/xla/stream_executor/cuda/cuda_executor.cc:901] successful NUMA node read from SysFS had negative value (-1), but there must be at least one NUMA node, so returning NUMA node zero. See more at https://github.com/torvalds/linux/blob/v6.0/Documentation/ABI/testing/sysfs-bus-pci#L344-L355\n",
      "2024-02-26 10:58:07.943306: I external/local_xla/xla/stream_executor/cuda/cuda_executor.cc:901] successful NUMA node read from SysFS had negative value (-1), but there must be at least one NUMA node, so returning NUMA node zero. See more at https://github.com/torvalds/linux/blob/v6.0/Documentation/ABI/testing/sysfs-bus-pci#L344-L355\n",
      "2024-02-26 10:58:07.943752: I external/local_xla/xla/stream_executor/cuda/cuda_executor.cc:901] successful NUMA node read from SysFS had negative value (-1), but there must be at least one NUMA node, so returning NUMA node zero. See more at https://github.com/torvalds/linux/blob/v6.0/Documentation/ABI/testing/sysfs-bus-pci#L344-L355\n",
      "2024-02-26 10:58:07.943992: I external/local_xla/xla/stream_executor/cuda/cuda_executor.cc:901] successful NUMA node read from SysFS had negative value (-1), but there must be at least one NUMA node, so returning NUMA node zero. See more at https://github.com/torvalds/linux/blob/v6.0/Documentation/ABI/testing/sysfs-bus-pci#L344-L355\n",
      "2024-02-26 10:58:08.145065: I external/local_xla/xla/stream_executor/cuda/cuda_executor.cc:901] successful NUMA node read from SysFS had negative value (-1), but there must be at least one NUMA node, so returning NUMA node zero. See more at https://github.com/torvalds/linux/blob/v6.0/Documentation/ABI/testing/sysfs-bus-pci#L344-L355\n",
      "2024-02-26 10:58:08.145699: I external/local_xla/xla/stream_executor/cuda/cuda_executor.cc:901] successful NUMA node read from SysFS had negative value (-1), but there must be at least one NUMA node, so returning NUMA node zero. See more at https://github.com/torvalds/linux/blob/v6.0/Documentation/ABI/testing/sysfs-bus-pci#L344-L355\n",
      "2024-02-26 10:58:08.146135: I external/local_xla/xla/stream_executor/cuda/cuda_executor.cc:901] successful NUMA node read from SysFS had negative value (-1), but there must be at least one NUMA node, so returning NUMA node zero. See more at https://github.com/torvalds/linux/blob/v6.0/Documentation/ABI/testing/sysfs-bus-pci#L344-L355\n",
      "2024-02-26 10:58:08.146439: I tensorflow/core/common_runtime/gpu/gpu_device.cc:1929] Created device /job:localhost/replica:0/task:0/device:GPU:0 with 6264 MB memory:  -> device: 0, name: NVIDIA GeForce RTX 4070 Laptop GPU, pci bus id: 0000:01:00.0, compute capability: 8.9\n"
     ]
    }
   ],
   "source": [
    "model_configuration = ModelConfig()\n",
    "print(model_configuration.get_description())"
   ]
  },
  {
   "cell_type": "code",
   "execution_count": 6,
   "id": "31102a06-e5ea-4219-b079-f1e09925527e",
   "metadata": {},
   "outputs": [
    {
     "name": "stdout",
     "output_type": "stream",
     "text": [
      "Model: \"PSF-FC-Reconstructor\"\n",
      "_________________________________________________________________\n",
      " Layer (type)                Output Shape              Param #   \n",
      "=================================================================\n",
      " dense (Dense)               (None, 2000)              38000     \n",
      "                                                                 \n",
      " activation (Activation)     (None, 2000)              0         \n",
      "                                                                 \n",
      " dense_1 (Dense)             (None, 2000)              4000000   \n",
      "                                                                 \n",
      " activation_1 (Activation)   (None, 2000)              0         \n",
      "                                                                 \n",
      " dense_2 (Dense)             (None, 2000)              4000000   \n",
      "                                                                 \n",
      " activation_2 (Activation)   (None, 2000)              0         \n",
      "                                                                 \n",
      " dense_3 (Dense)             (None, 2000)              4000000   \n",
      "                                                                 \n",
      " activation_3 (Activation)   (None, 2000)              0         \n",
      "                                                                 \n",
      " dense_4 (Dense)             (None, 32768)             65568768  \n",
      "                                                                 \n",
      "=================================================================\n",
      "Total params: 77606768 (296.05 MB)\n",
      "Trainable params: 77606768 (296.05 MB)\n",
      "Non-trainable params: 0 (0.00 Byte)\n",
      "_________________________________________________________________\n"
     ]
    }
   ],
   "source": [
    "model = create_fully_connected_architecture_for_amplitude_and_phase_reconstruction(\n",
    "    *model_configuration.unpack_architecture_hyperparameters()\n",
    ")\n"
   ]
  },
  {
   "cell_type": "code",
   "execution_count": 7,
   "id": "d472a521-07d5-4fc1-ac13-0c358814bf9d",
   "metadata": {},
   "outputs": [],
   "source": [
    "compile_model(\n",
    "    model,\n",
    "    *model_configuration.unpack_compilation_hyperparameters()\n",
    ")"
   ]
  },
  {
   "cell_type": "code",
   "execution_count": 8,
   "id": "efc033eb-b750-438b-b1f2-4bc1d7ee0adc",
   "metadata": {},
   "outputs": [
    {
     "name": "stdout",
     "output_type": "stream",
     "text": [
      "Epoch 1/200\n"
     ]
    },
    {
     "name": "stderr",
     "output_type": "stream",
     "text": [
      "2024-02-26 10:58:10.426693: I external/local_tsl/tsl/platform/default/subprocess.cc:304] Start cannot spawn child process: No such file or directory\n",
      "2024-02-26 10:58:11.260320: I external/local_xla/xla/service/service.cc:168] XLA service 0x7fa450e8d610 initialized for platform CUDA (this does not guarantee that XLA will be used). Devices:\n",
      "2024-02-26 10:58:11.260355: I external/local_xla/xla/service/service.cc:176]   StreamExecutor device (0): NVIDIA GeForce RTX 4070 Laptop GPU, Compute Capability 8.9\n",
      "2024-02-26 10:58:11.266976: I tensorflow/compiler/mlir/tensorflow/utils/dump_mlir_util.cc:269] disabling MLIR crash reproducer, set env var `MLIR_CRASH_REPRODUCER_DIRECTORY` to enable.\n",
      "2024-02-26 10:58:11.288270: I external/local_xla/xla/stream_executor/cuda/cuda_dnn.cc:454] Loaded cuDNN version 8904\n",
      "WARNING: All log messages before absl::InitializeLog() is called are written to STDERR\n",
      "I0000 00:00:1708905491.742104 1130606 device_compiler.h:186] Compiled cluster using XLA!  This line is logged at most once for the lifetime of the process.\n"
     ]
    },
    {
     "name": "stdout",
     "output_type": "stream",
     "text": [
      "313/313 [==============================] - 21s 57ms/step - loss: 1.0001 - mean_squared_error: 1.0001 - val_loss: 1.0000 - val_mean_squared_error: 1.0000 - lr: 0.0010\n",
      "Epoch 2/200\n",
      "313/313 [==============================] - 15s 47ms/step - loss: 1.0001 - mean_squared_error: 1.0001 - val_loss: 1.0001 - val_mean_squared_error: 1.0001 - lr: 0.0010\n",
      "Epoch 3/200\n",
      "313/313 [==============================] - 16s 51ms/step - loss: 1.0001 - mean_squared_error: 1.0001 - val_loss: 1.0000 - val_mean_squared_error: 1.0000 - lr: 0.0010\n",
      "Epoch 4/200\n",
      "313/313 [==============================] - 13s 43ms/step - loss: 1.0001 - mean_squared_error: 1.0001 - val_loss: 1.0000 - val_mean_squared_error: 1.0000 - lr: 0.0010\n",
      "Epoch 5/200\n",
      "313/313 [==============================] - 13s 43ms/step - loss: 1.0000 - mean_squared_error: 1.0000 - val_loss: 1.0000 - val_mean_squared_error: 1.0000 - lr: 0.0010\n",
      "Epoch 6/200\n",
      "313/313 [==============================] - 13s 43ms/step - loss: 1.0000 - mean_squared_error: 1.0000 - val_loss: 1.0001 - val_mean_squared_error: 1.0001 - lr: 0.0010\n",
      "Epoch 7/200\n",
      "313/313 [==============================] - 13s 43ms/step - loss: 1.0001 - mean_squared_error: 1.0001 - val_loss: 1.0001 - val_mean_squared_error: 1.0001 - lr: 0.0010\n",
      "Epoch 8/200\n",
      "313/313 [==============================] - 14s 44ms/step - loss: 1.0001 - mean_squared_error: 1.0001 - val_loss: 1.0000 - val_mean_squared_error: 1.0000 - lr: 0.0010\n",
      "Epoch 9/200\n",
      "313/313 [==============================] - 13s 43ms/step - loss: 1.0000 - mean_squared_error: 1.0000 - val_loss: 1.0002 - val_mean_squared_error: 1.0002 - lr: 0.0010\n",
      "Epoch 10/200\n",
      "313/313 [==============================] - 13s 43ms/step - loss: 1.0000 - mean_squared_error: 1.0000 - val_loss: 1.0022 - val_mean_squared_error: 1.0022 - lr: 0.0010\n",
      "Epoch 11/200\n",
      "313/313 [==============================] - ETA: 0s - loss: 1.0001 - mean_squared_error: 1.0001\n",
      "Epoch 11: ReduceLROnPlateau reducing learning rate to 0.00010000000474974513.\n",
      "313/313 [==============================] - 13s 43ms/step - loss: 1.0001 - mean_squared_error: 1.0001 - val_loss: 1.0002 - val_mean_squared_error: 1.0002 - lr: 0.0010\n",
      "Epoch 12/200\n",
      "313/313 [==============================] - 13s 42ms/step - loss: 0.9998 - mean_squared_error: 0.9998 - val_loss: 1.0001 - val_mean_squared_error: 1.0001 - lr: 1.0000e-04\n",
      "Epoch 13/200\n",
      "313/313 [==============================] - 13s 42ms/step - loss: 0.9996 - mean_squared_error: 0.9996 - val_loss: 1.0002 - val_mean_squared_error: 1.0002 - lr: 1.0000e-04\n",
      "Epoch 14/200\n",
      "313/313 [==============================] - 13s 42ms/step - loss: 0.9992 - mean_squared_error: 0.9992 - val_loss: 1.0004 - val_mean_squared_error: 1.0004 - lr: 1.0000e-04\n",
      "Epoch 15/200\n",
      "313/313 [==============================] - 13s 42ms/step - loss: 0.9987 - mean_squared_error: 0.9987 - val_loss: 1.0007 - val_mean_squared_error: 1.0007 - lr: 1.0000e-04\n",
      "Epoch 16/200\n",
      "313/313 [==============================] - 13s 42ms/step - loss: 0.9981 - mean_squared_error: 0.9981 - val_loss: 1.0012 - val_mean_squared_error: 1.0012 - lr: 1.0000e-04\n",
      "Epoch 17/200\n",
      "313/313 [==============================] - 13s 42ms/step - loss: 0.9972 - mean_squared_error: 0.9972 - val_loss: 1.0018 - val_mean_squared_error: 1.0018 - lr: 1.0000e-04\n",
      "Epoch 18/200\n",
      "313/313 [==============================] - 13s 43ms/step - loss: 0.9961 - mean_squared_error: 0.9961 - val_loss: 1.0025 - val_mean_squared_error: 1.0025 - lr: 1.0000e-04\n",
      "Epoch 19/200\n",
      "313/313 [==============================] - 13s 42ms/step - loss: 0.9947 - mean_squared_error: 0.9947 - val_loss: 1.0035 - val_mean_squared_error: 1.0035 - lr: 1.0000e-04\n",
      "Epoch 20/200\n",
      "313/313 [==============================] - 13s 42ms/step - loss: 0.9930 - mean_squared_error: 0.9930 - val_loss: 1.0047 - val_mean_squared_error: 1.0047 - lr: 1.0000e-04\n",
      "Epoch 21/200\n",
      "313/313 [==============================] - ETA: 0s - loss: 0.9909 - mean_squared_error: 0.9909\n",
      "Epoch 21: ReduceLROnPlateau reducing learning rate to 1.0000000474974514e-05.\n",
      "313/313 [==============================] - 13s 42ms/step - loss: 0.9909 - mean_squared_error: 0.9909 - val_loss: 1.0062 - val_mean_squared_error: 1.0062 - lr: 1.0000e-04\n",
      "Epoch 22/200\n",
      "313/313 [==============================] - 13s 42ms/step - loss: 0.9880 - mean_squared_error: 0.9880 - val_loss: 1.0064 - val_mean_squared_error: 1.0064 - lr: 1.0000e-05\n",
      "Epoch 23/200\n",
      "313/313 [==============================] - 13s 42ms/step - loss: 0.9875 - mean_squared_error: 0.9875 - val_loss: 1.0067 - val_mean_squared_error: 1.0067 - lr: 1.0000e-05\n",
      "Epoch 24/200\n",
      "313/313 [==============================] - 13s 42ms/step - loss: 0.9871 - mean_squared_error: 0.9871 - val_loss: 1.0069 - val_mean_squared_error: 1.0069 - lr: 1.0000e-05\n",
      "Epoch 25/200\n",
      "313/313 [==============================] - 13s 42ms/step - loss: 0.9868 - mean_squared_error: 0.9868 - val_loss: 1.0072 - val_mean_squared_error: 1.0072 - lr: 1.0000e-05\n",
      "Epoch 26/200\n",
      "313/313 [==============================] - 13s 42ms/step - loss: 0.9864 - mean_squared_error: 0.9864 - val_loss: 1.0074 - val_mean_squared_error: 1.0074 - lr: 1.0000e-05\n",
      "Epoch 27/200\n",
      "313/313 [==============================] - 13s 42ms/step - loss: 0.9861 - mean_squared_error: 0.9861 - val_loss: 1.0076 - val_mean_squared_error: 1.0076 - lr: 1.0000e-05\n",
      "Epoch 28/200\n",
      "313/313 [==============================] - 13s 42ms/step - loss: 0.9858 - mean_squared_error: 0.9858 - val_loss: 1.0078 - val_mean_squared_error: 1.0078 - lr: 1.0000e-05\n",
      "Epoch 29/200\n",
      "313/313 [==============================] - 13s 42ms/step - loss: 0.9855 - mean_squared_error: 0.9855 - val_loss: 1.0080 - val_mean_squared_error: 1.0080 - lr: 1.0000e-05\n",
      "Epoch 30/200\n",
      "313/313 [==============================] - 13s 42ms/step - loss: 0.9852 - mean_squared_error: 0.9852 - val_loss: 1.0082 - val_mean_squared_error: 1.0082 - lr: 1.0000e-05\n",
      "Epoch 31/200\n",
      "313/313 [==============================] - ETA: 0s - loss: 0.9849 - mean_squared_error: 0.9849\n",
      "Epoch 31: ReduceLROnPlateau reducing learning rate to 1.0000000656873453e-06.\n",
      "313/313 [==============================] - 13s 42ms/step - loss: 0.9849 - mean_squared_error: 0.9849 - val_loss: 1.0084 - val_mean_squared_error: 1.0084 - lr: 1.0000e-05\n",
      "Epoch 32/200\n",
      "313/313 [==============================] - 13s 42ms/step - loss: 0.9845 - mean_squared_error: 0.9845 - val_loss: 1.0084 - val_mean_squared_error: 1.0084 - lr: 1.0000e-06\n",
      "Epoch 33/200\n",
      "313/313 [==============================] - 13s 42ms/step - loss: 0.9845 - mean_squared_error: 0.9845 - val_loss: 1.0084 - val_mean_squared_error: 1.0084 - lr: 1.0000e-06\n",
      "Epoch 33: early stopping\n"
     ]
    }
   ],
   "source": [
    "history = train_model_with_generator(\n",
    "    model,\n",
    "    FC_PROCESSED_TRAIN_OUTPUT_FLUXES_PREFIX,\n",
    "    FC_PROCESSED_TRAIN_COMPLEX_FIELDS_PREFIX,\n",
    "    validation_fluxes_array,\n",
    "    validation_complex_fields_array,\n",
    "    *model_configuration.unpack_training_hyperparameters(),\n",
    "    n_samples=20000\n",
    ")"
   ]
  },
  {
   "cell_type": "code",
   "execution_count": 9,
   "id": "28279069-0d71-465f-b568-374a5b85ffda",
   "metadata": {},
   "outputs": [],
   "source": [
    "from plot_utils import plot_model_history"
   ]
  },
  {
   "cell_type": "code",
   "execution_count": 10,
   "id": "de373992-d449-481e-848e-c4a2107c115b",
   "metadata": {},
   "outputs": [
    {
     "data": {
      "image/png": "[encoded data removed]",
      "text/plain": [
       "<Figure size 800x500 with 1 Axes>"
      ]
     },
     "metadata": {},
     "output_type": "display_data"
    }
   ],
   "source": [
    "plot_model_history(history)"
   ]
  },
  {
   "cell_type": "code",
   "execution_count": null,
   "id": "3fc9fc1b-5726-40dd-9eb2-54c42e51f2ed",
   "metadata": {},
   "outputs": [],
   "source": []
  }
 ],
 "metadata": {
  "kernelspec": {
   "display_name": "sail-env",
   "language": "python",
   "name": "sail-env"
  },
  "language_info": {
   "codemirror_mode": {
    "name": "ipython",
    "version": 3
   },
   "file_extension": ".py",
   "mimetype": "text/x-python",
   "name": "python",
   "nbconvert_exporter": "python",
   "pygments_lexer": "ipython3",
   "version": "3.9.18"
  }
 },
 "nbformat": 4,
 "nbformat_minor": 5
}
