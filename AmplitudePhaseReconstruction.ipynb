{
 "cells": [
  {
   "cell_type": "code",
   "execution_count": null,
   "id": "0d5b3b19",
   "metadata": {},
   "outputs": [],
   "source": [
    "from constants import FLUXES_FOLDER, SLM_FOLDER\n",
    "from data_utils import load_numpy_data, flatten_data, shuffle_arrays\n",
    "from plot_utils import plot_map\n",
    "from modeling_utils import create_linear_architecture_for_amplitude_reconstruction, \\\n",
    "                           compile_linear_model_for_amplitude_reconstruction, \\\n",
    "                           train_linear_model_for_amplitude_reconstruction"
   ]
  },
  {
   "cell_type": "code",
   "execution_count": null,
   "id": "b46c95fa",
   "metadata": {},
   "outputs": [],
   "source": [
    "fluxes_filename = \"all_fluxes.npy\"\n",
    "amplitudes_filename = \"complexsine_pupamp.npy\"\n",
    "phases_filename = \"complexsine_pupphase.npy\"\n",
    "\n",
    "fluxes_path = f\"{FLUXES_FOLDER}/{fluxes_filename}\"\n",
    "amplitudes_path = f\"{SLM_FOLDER}/{amplitudes_filename}\"\n",
    "phases_path = f\"{SLM_FOLDER}/{phases_filename}\"\n",
    "\n"
   ]
  }
 ],
 "metadata": {
  "kernelspec": {
   "display_name": "Python 3 (ipykernel)",
   "language": "python",
   "name": "python3"
  },
  "language_info": {
   "codemirror_mode": {
    "name": "ipython",
    "version": 3
   },
   "file_extension": ".py",
   "mimetype": "text/x-python",
   "name": "python",
   "nbconvert_exporter": "python",
   "pygments_lexer": "ipython3",
   "version": "3.9.18"
  }
 },
 "nbformat": 4,
 "nbformat_minor": 5
}
