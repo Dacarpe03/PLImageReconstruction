{
 "cells": [
  {
   "cell_type": "markdown",
   "id": "6c6f3390",
   "metadata": {},
   "source": [
    "## Imports"
   ]
  },
  {
   "cell_type": "code",
   "execution_count": 1,
   "id": "b7e12292",
   "metadata": {},
   "outputs": [
    {
     "name": "stderr",
     "output_type": "stream",
     "text": [
      "2023-11-27 11:43:18.622373: I tensorflow/core/platform/cpu_feature_guard.cc:182] This TensorFlow binary is optimized to use available CPU instructions in performance-critical operations.\n",
      "To enable the following instructions: AVX2 FMA, in other operations, rebuild TensorFlow with the appropriate compiler flags.\n",
      "2023-11-27 11:43:19.491268: W tensorflow/compiler/tf2tensorrt/utils/py_utils.cc:38] TF-TRT Warning: Could not find TensorRT\n"
     ]
    }
   ],
   "source": [
    "from constants import FLUXES_FOLDER, SLM_FOLDER\n",
    "\n",
    "from data_utils import load_numpy_data, \\\n",
    "                       flatten_data, \\\n",
    "                       shuffle_arrays, \\\n",
    "                       fuse_amplitude_and_phase, \\\n",
    "                       split_data, \\\n",
    "                       normalize_data\n",
    "\n",
    "from plot_utils import plot_map, \\\n",
    "                       plot_model_history\n",
    "\n",
    "from modeling_utils import create_fully_connected_architecture_for_amplitude_and_phase_reconstruction, \\\n",
    "                           compile_linear_model_for_amplitude_reconstruction, \\\n",
    "                           train_linear_model_for_amplitude_reconstruction"
   ]
  },
  {
   "cell_type": "markdown",
   "id": "fe49c6dd",
   "metadata": {},
   "source": [
    "## Load data"
   ]
  },
  {
   "cell_type": "markdown",
   "id": "c72e529b",
   "metadata": {},
   "source": [
    "In the first place, define the data paths"
   ]
  },
  {
   "cell_type": "code",
   "execution_count": 2,
   "id": "52991673",
   "metadata": {},
   "outputs": [],
   "source": [
    "fluxes_filename = \"all_fluxes.npy\"\n",
    "amplitudes_filename = \"complexsine_pupamp.npy\"\n",
    "phases_filename = \"complexsine_pupphase.npy\"\n",
    "\n",
    "fluxes_path = f\"{FLUXES_FOLDER}/{fluxes_filename}\"\n",
    "amplitudes_path = f\"{SLM_FOLDER}/{amplitudes_filename}\"\n",
    "phases_path = f\"{SLM_FOLDER}/{phases_filename}\""
   ]
  },
  {
   "cell_type": "markdown",
   "id": "2011ad95",
   "metadata": {},
   "source": [
    "Read the numpy raw files"
   ]
  },
  {
   "cell_type": "code",
   "execution_count": 3,
   "id": "d39070e7",
   "metadata": {},
   "outputs": [],
   "source": [
    "n_points = 10000\n",
    "fluxes_array = load_numpy_data(fluxes_path,\n",
    "                               n_points)\n",
    "\n",
    "amplitudes_array = load_numpy_data(amplitudes_path,\n",
    "                                   n_points)\n",
    "\n",
    "phases_array = load_numpy_data(phases_path,\n",
    "                               n_points)"
   ]
  },
  {
   "cell_type": "markdown",
   "id": "833dfe26",
   "metadata": {},
   "source": [
    "Normalize data"
   ]
  },
  {
   "cell_type": "code",
   "execution_count": 4,
   "id": "63917141",
   "metadata": {},
   "outputs": [],
   "source": [
    "fluxes_array, fluxes_scaler = normalize_data(fluxes_array)\n",
    "amplitudes_array, amplitudes_scaler = normalize_data(amplitudes_array)\n",
    "phases_array, phases_scaler = normalize_data(phases_array)"
   ]
  },
  {
   "cell_type": "markdown",
   "id": "ab685943",
   "metadata": {},
   "source": [
    "Shuffle the data"
   ]
  },
  {
   "cell_type": "code",
   "execution_count": 5,
   "id": "4eda1330",
   "metadata": {},
   "outputs": [],
   "source": [
    "fluxes_array, amplitudes_array, phases_array = shuffle_arrays([fluxes_array,\n",
    "                                                               amplitudes_array,\n",
    "                                                               phases_array])"
   ]
  },
  {
   "cell_type": "markdown",
   "id": "a96a8901",
   "metadata": {},
   "source": [
    "Merge phase and amplitude"
   ]
  },
  {
   "cell_type": "code",
   "execution_count": 6,
   "id": "0e87b7eb",
   "metadata": {},
   "outputs": [],
   "source": [
    "amp_phase_array = fuse_amplitude_and_phase(amplitudes_array,\n",
    "                                           phases_array)"
   ]
  },
  {
   "cell_type": "markdown",
   "id": "46cd0f2a",
   "metadata": {},
   "source": [
    "Flatten input fluxes"
   ]
  },
  {
   "cell_type": "code",
   "execution_count": 7,
   "id": "9da468c7",
   "metadata": {},
   "outputs": [
    {
     "data": {
      "text/plain": [
       "(10000, 1320)"
      ]
     },
     "execution_count": 7,
     "metadata": {},
     "output_type": "execute_result"
    }
   ],
   "source": [
    "flattened_fluxes_array = flatten_data(fluxes_array)\n",
    "flattened_fluxes_array.shape"
   ]
  },
  {
   "cell_type": "markdown",
   "id": "8d3b6bd6",
   "metadata": {},
   "source": [
    "Split data in train and validation set"
   ]
  },
  {
   "cell_type": "code",
   "execution_count": 8,
   "id": "50625f10",
   "metadata": {},
   "outputs": [],
   "source": [
    "val_ratio = 0.1\n",
    "train_flattened_fluxes_array, val_flattened_fluxes_array = split_data(flattened_fluxes_array,\n",
    "                                                                      val_ratio)\n",
    "\n",
    "train_amp_phase_array, val_amp_phase_array = split_data(amp_phase_array,\n",
    "                                                        val_ratio)"
   ]
  },
  {
   "cell_type": "code",
   "execution_count": 9,
   "id": "5c0486fa",
   "metadata": {},
   "outputs": [
    {
     "data": {
      "text/plain": [
       "(10000, 2, 96, 96)"
      ]
     },
     "execution_count": 9,
     "metadata": {},
     "output_type": "execute_result"
    }
   ],
   "source": [
    "amp_phase_array.shape"
   ]
  },
  {
   "cell_type": "code",
   "execution_count": 10,
   "id": "d0eb4138",
   "metadata": {},
   "outputs": [
    {
     "data": {
      "text/plain": [
       "(9000, 2, 96, 96)"
      ]
     },
     "execution_count": 10,
     "metadata": {},
     "output_type": "execute_result"
    }
   ],
   "source": [
    "train_amp_phase_array.shape"
   ]
  },
  {
   "cell_type": "code",
   "execution_count": 11,
   "id": "cb71870f",
   "metadata": {},
   "outputs": [
    {
     "data": {
      "text/plain": [
       "(9000, 1320)"
      ]
     },
     "execution_count": 11,
     "metadata": {},
     "output_type": "execute_result"
    }
   ],
   "source": [
    "train_flattened_fluxes_array.shape"
   ]
  },
  {
   "cell_type": "markdown",
   "id": "cffb215d",
   "metadata": {},
   "source": [
    "## Define the model"
   ]
  },
  {
   "cell_type": "code",
   "execution_count": 12,
   "id": "aac88554",
   "metadata": {},
   "outputs": [],
   "source": [
    "from tensorflow import keras\n",
    "\n",
    "input_shape = train_flattened_fluxes_array[0].shape\n",
    "output_shape = train_amp_phase_array[0].shape\n",
    "hidden_layer_sizes = [1024, 2048, 2048]\n",
    "regularizer = keras.regularizers.L1L2(l1=0.001,l2=0.1)\n",
    "hidden_activation = 'relu'\n",
    "output_activation = 'linear'\n",
    "use_batch_normalization = False\n",
    "model_name = \"AmplitudePhaseReconstructor1\""
   ]
  },
  {
   "cell_type": "code",
   "execution_count": 13,
   "id": "2d80492e",
   "metadata": {
    "scrolled": true
   },
   "outputs": [
    {
     "name": "stdout",
     "output_type": "stream",
     "text": [
      "18432\n",
      "18432\n"
     ]
    },
    {
     "name": "stderr",
     "output_type": "stream",
     "text": [
      "2023-11-27 11:43:29.413424: I tensorflow/compiler/xla/stream_executor/cuda/cuda_gpu_executor.cc:995] successful NUMA node read from SysFS had negative value (-1), but there must be at least one NUMA node, so returning NUMA node zero. See more at https://github.com/torvalds/linux/blob/v6.0/Documentation/ABI/testing/sysfs-bus-pci#L344-L355\n",
      "2023-11-27 11:43:29.509307: I tensorflow/compiler/xla/stream_executor/cuda/cuda_gpu_executor.cc:995] successful NUMA node read from SysFS had negative value (-1), but there must be at least one NUMA node, so returning NUMA node zero. See more at https://github.com/torvalds/linux/blob/v6.0/Documentation/ABI/testing/sysfs-bus-pci#L344-L355\n",
      "2023-11-27 11:43:29.509566: I tensorflow/compiler/xla/stream_executor/cuda/cuda_gpu_executor.cc:995] successful NUMA node read from SysFS had negative value (-1), but there must be at least one NUMA node, so returning NUMA node zero. See more at https://github.com/torvalds/linux/blob/v6.0/Documentation/ABI/testing/sysfs-bus-pci#L344-L355\n",
      "2023-11-27 11:43:29.512248: I tensorflow/compiler/xla/stream_executor/cuda/cuda_gpu_executor.cc:995] successful NUMA node read from SysFS had negative value (-1), but there must be at least one NUMA node, so returning NUMA node zero. See more at https://github.com/torvalds/linux/blob/v6.0/Documentation/ABI/testing/sysfs-bus-pci#L344-L355\n",
      "2023-11-27 11:43:29.512547: I tensorflow/compiler/xla/stream_executor/cuda/cuda_gpu_executor.cc:995] successful NUMA node read from SysFS had negative value (-1), but there must be at least one NUMA node, so returning NUMA node zero. See more at https://github.com/torvalds/linux/blob/v6.0/Documentation/ABI/testing/sysfs-bus-pci#L344-L355\n",
      "2023-11-27 11:43:29.512747: I tensorflow/compiler/xla/stream_executor/cuda/cuda_gpu_executor.cc:995] successful NUMA node read from SysFS had negative value (-1), but there must be at least one NUMA node, so returning NUMA node zero. See more at https://github.com/torvalds/linux/blob/v6.0/Documentation/ABI/testing/sysfs-bus-pci#L344-L355\n",
      "2023-11-27 11:43:30.338377: I tensorflow/compiler/xla/stream_executor/cuda/cuda_gpu_executor.cc:995] successful NUMA node read from SysFS had negative value (-1), but there must be at least one NUMA node, so returning NUMA node zero. See more at https://github.com/torvalds/linux/blob/v6.0/Documentation/ABI/testing/sysfs-bus-pci#L344-L355\n",
      "2023-11-27 11:43:30.338630: I tensorflow/compiler/xla/stream_executor/cuda/cuda_gpu_executor.cc:995] successful NUMA node read from SysFS had negative value (-1), but there must be at least one NUMA node, so returning NUMA node zero. See more at https://github.com/torvalds/linux/blob/v6.0/Documentation/ABI/testing/sysfs-bus-pci#L344-L355\n",
      "2023-11-27 11:43:30.338837: I tensorflow/compiler/xla/stream_executor/cuda/cuda_gpu_executor.cc:995] successful NUMA node read from SysFS had negative value (-1), but there must be at least one NUMA node, so returning NUMA node zero. See more at https://github.com/torvalds/linux/blob/v6.0/Documentation/ABI/testing/sysfs-bus-pci#L344-L355\n",
      "2023-11-27 11:43:30.339037: I tensorflow/core/common_runtime/gpu/gpu_device.cc:1639] Created device /job:localhost/replica:0/task:0/device:GPU:0 with 2103 MB memory:  -> device: 0, name: NVIDIA GeForce RTX 3050 Laptop GPU, pci bus id: 0000:01:00.0, compute capability: 8.6\n"
     ]
    }
   ],
   "source": [
    "model = create_fully_connected_architecture_for_amplitude_and_phase_reconstruction(\n",
    "    input_shape,\n",
    "    output_shape,\n",
    "    hidden_layer_sizes,\n",
    "    regularizer,\n",
    "    hidden_activation,\n",
    "    output_activation,\n",
    "    use_batch_normalization,\n",
    "    model_name\n",
    ")"
   ]
  },
  {
   "cell_type": "markdown",
   "id": "c2098004",
   "metadata": {},
   "source": [
    "## Compile model"
   ]
  },
  {
   "cell_type": "code",
   "execution_count": 14,
   "id": "b2ea24b4",
   "metadata": {},
   "outputs": [],
   "source": [
    "from keras.optimizers import Adam\n",
    "from keras.callbacks import ReduceLROnPlateau, EarlyStopping\n",
    "import tensorflow as tf\n",
    "\n",
    "loss_function = tf.keras.losses.MeanSquaredError()\n",
    "learning_rate = 0.001\n",
    "optimizer = Adam(learning_rate=learning_rate, beta_1=0.9, beta_2=0.999)\n",
    "metric = tf.keras.metrics.MeanSquaredError()\n",
    "\n",
    "compile_linear_model_for_amplitude_reconstruction(\n",
    "    model,\n",
    "    loss_function,\n",
    "    optimizer,\n",
    "    metric\n",
    ")"
   ]
  },
  {
   "cell_type": "markdown",
   "id": "37493d26",
   "metadata": {},
   "source": [
    "## Train model"
   ]
  },
  {
   "cell_type": "code",
   "execution_count": null,
   "id": "f3821502",
   "metadata": {},
   "outputs": [
    {
     "name": "stderr",
     "output_type": "stream",
     "text": [
      "2023-11-27 11:43:31.333156: W tensorflow/tsl/framework/cpu_allocator_impl.cc:83] Allocation of 663552000 exceeds 10% of free system memory.\n",
      "2023-11-27 11:43:31.899633: W tensorflow/tsl/framework/cpu_allocator_impl.cc:83] Allocation of 663552000 exceeds 10% of free system memory.\n"
     ]
    },
    {
     "name": "stdout",
     "output_type": "stream",
     "text": [
      "Epoch 1/50\n"
     ]
    },
    {
     "name": "stderr",
     "output_type": "stream",
     "text": [
      "2023-11-27 11:43:34.129783: I tensorflow/compiler/xla/stream_executor/cuda/cuda_blas.cc:606] TensorFloat-32 will be used for the matrix multiplication. This will only be logged once.\n",
      "2023-11-27 11:43:34.153635: I tensorflow/compiler/xla/service/service.cc:168] XLA service 0x7f28702e6fb0 initialized for platform CUDA (this does not guarantee that XLA will be used). Devices:\n",
      "2023-11-27 11:43:34.153662: I tensorflow/compiler/xla/service/service.cc:176]   StreamExecutor device (0): NVIDIA GeForce RTX 3050 Laptop GPU, Compute Capability 8.6\n",
      "2023-11-27 11:43:34.186519: I tensorflow/compiler/mlir/tensorflow/utils/dump_mlir_util.cc:255] disabling MLIR crash reproducer, set env var `MLIR_CRASH_REPRODUCER_DIRECTORY` to enable.\n",
      "2023-11-27 11:43:34.432397: I tensorflow/compiler/xla/stream_executor/cuda/cuda_dnn.cc:432] Loaded cuDNN version 8600\n",
      "2023-11-27 11:43:34.654446: I ./tensorflow/compiler/jit/device_compiler.h:186] Compiled cluster using XLA!  This line is logged at most once for the lifetime of the process.\n"
     ]
    },
    {
     "name": "stdout",
     "output_type": "stream",
     "text": [
      "71/71 [==============================] - 5s 26ms/step - loss: 378.6199 - mean_squared_error: 0.8607 - val_loss: 38.6900 - val_mean_squared_error: 0.8458 - lr: 0.0010\n",
      "Epoch 2/50\n",
      "71/71 [==============================] - 1s 19ms/step - loss: 10.8882 - mean_squared_error: 0.8394 - val_loss: 1.8462 - val_mean_squared_error: 0.8327 - lr: 0.0010\n",
      "Epoch 3/50\n",
      "71/71 [==============================] - 1s 20ms/step - loss: 1.4895 - mean_squared_error: 0.8334 - val_loss: 1.4318 - val_mean_squared_error: 0.8300 - lr: 0.0010\n",
      "Epoch 4/50\n",
      "71/71 [==============================] - 1s 19ms/step - loss: 1.4538 - mean_squared_error: 0.8329 - val_loss: 1.4505 - val_mean_squared_error: 0.8288 - lr: 0.0010\n",
      "Epoch 5/50\n",
      "71/71 [==============================] - 1s 19ms/step - loss: 1.4839 - mean_squared_error: 0.8325 - val_loss: 1.4947 - val_mean_squared_error: 0.8300 - lr: 0.0010\n",
      "Epoch 6/50\n",
      "71/71 [==============================] - 1s 19ms/step - loss: 1.5082 - mean_squared_error: 0.8322 - val_loss: 1.5264 - val_mean_squared_error: 0.8289 - lr: 0.0010\n",
      "Epoch 7/50\n",
      "71/71 [==============================] - 1s 19ms/step - loss: 1.5284 - mean_squared_error: 0.8319 - val_loss: 1.5403 - val_mean_squared_error: 0.8302 - lr: 0.0010\n",
      "Epoch 8/50\n",
      "71/71 [==============================] - 1s 19ms/step - loss: 1.5455 - mean_squared_error: 0.8318 - val_loss: 1.5520 - val_mean_squared_error: 0.8290 - lr: 0.0010\n",
      "Epoch 9/50\n",
      "71/71 [==============================] - 1s 19ms/step - loss: 1.5612 - mean_squared_error: 0.8317 - val_loss: 1.5717 - val_mean_squared_error: 0.8284 - lr: 0.0010\n",
      "Epoch 10/50\n",
      "71/71 [==============================] - 1s 19ms/step - loss: 1.5760 - mean_squared_error: 0.8316 - val_loss: 1.5838 - val_mean_squared_error: 0.8285 - lr: 0.0010\n",
      "Epoch 11/50\n",
      "71/71 [==============================] - 1s 20ms/step - loss: 1.5897 - mean_squared_error: 0.8314 - val_loss: 1.5758 - val_mean_squared_error: 0.8293 - lr: 0.0010\n",
      "Epoch 12/50\n",
      "71/71 [==============================] - 1s 20ms/step - loss: 1.6022 - mean_squared_error: 0.8314 - val_loss: 1.5954 - val_mean_squared_error: 0.8285 - lr: 0.0010\n",
      "Epoch 13/50\n",
      "71/71 [==============================] - 1s 19ms/step - loss: 1.6143 - mean_squared_error: 0.8313 - val_loss: 1.6187 - val_mean_squared_error: 0.8279 - lr: 0.0010\n",
      "Epoch 14/50\n",
      "13/71 [====>.........................] - ETA: 1s - loss: 1.6191 - mean_squared_error: 0.8294"
     ]
    }
   ],
   "source": [
    "epochs = 50\n",
    "batch_size = 128\n",
    "reduce_lr = ReduceLROnPlateau('mean_squared_error', factor=0.1, patience=15, verbose=1)\n",
    "early_stop = EarlyStopping('mean_squared_error', patience=50, verbose=1)\n",
    "callbacks = [reduce_lr, early_stop]\n",
    "\n",
    "history = train_linear_model_for_amplitude_reconstruction(\n",
    "    model,\n",
    "    train_flattened_fluxes_array,\n",
    "    train_amp_phase_array,\n",
    "    batch_size,\n",
    "    epochs,\n",
    "    val_flattened_fluxes_array,\n",
    "    val_amp_phase_array,\n",
    "    callbacks\n",
    ")"
   ]
  },
  {
   "cell_type": "code",
   "execution_count": null,
   "id": "c88c1332",
   "metadata": {},
   "outputs": [],
   "source": [
    "n = 10\n",
    "plot_map(amplitudes_array[n])\n",
    "plot_map(phases_array[n])\n",
    "im = model.predict(train_flattened_fluxes_array[n].reshape(1,1320))\n",
    "plot_map(im[0][0])\n",
    "plot_map(im[0][1])\n",
    "plot_map(train_flattened_fluxes_array[n].reshape(fluxes_array[n].shape))"
   ]
  }
 ],
 "metadata": {
  "kernelspec": {
   "display_name": "Python 3 (ipykernel)",
   "language": "python",
   "name": "python3"
  },
  "language_info": {
   "codemirror_mode": {
    "name": "ipython",
    "version": 3
   },
   "file_extension": ".py",
   "mimetype": "text/x-python",
   "name": "python",
   "nbconvert_exporter": "python",
   "pygments_lexer": "ipython3",
   "version": "3.9.18"
  }
 },
 "nbformat": 4,
 "nbformat_minor": 5
}
