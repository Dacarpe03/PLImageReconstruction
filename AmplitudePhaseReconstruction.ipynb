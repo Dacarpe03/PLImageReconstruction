{
 "cells": [
  {
   "cell_type": "markdown",
   "id": "8ad4546b",
   "metadata": {},
   "source": [
    "## Imports"
   ]
  },
  {
   "cell_type": "code",
   "execution_count": 2,
   "id": "00dbe038",
   "metadata": {},
   "outputs": [
    {
     "name": "stderr",
     "output_type": "stream",
     "text": [
      "2023-11-23 10:17:58.381617: I tensorflow/core/platform/cpu_feature_guard.cc:182] This TensorFlow binary is optimized to use available CPU instructions in performance-critical operations.\n",
      "To enable the following instructions: AVX2 FMA, in other operations, rebuild TensorFlow with the appropriate compiler flags.\n",
      "2023-11-23 10:17:59.011156: W tensorflow/compiler/tf2tensorrt/utils/py_utils.cc:38] TF-TRT Warning: Could not find TensorRT\n"
     ]
    }
   ],
   "source": [
    "from constants import FLUXES_FOLDER, SLM_FOLDER\n",
    "\n",
    "from data_utils import load_numpy_data, \\\n",
    "                       flatten_data, \\\n",
    "                       shuffle_arrays\n",
    "\n",
    "from plot_utils import plot_map, \\\n",
    "                       plot_model_history\n",
    "\n",
    "from modeling_utils import create_linear_architecture_for_amplitude_reconstruction, \\\n",
    "                           compile_linear_model_for_amplitude_reconstruction, \\\n",
    "                           train_linear_model_for_amplitude_reconstruction"
   ]
  },
  {
   "cell_type": "markdown",
   "id": "5e87dd78",
   "metadata": {},
   "source": [
    "## Load data"
   ]
  },
  {
   "cell_type": "markdown",
   "id": "af554599",
   "metadata": {},
   "source": [
    "In the first place, define the data paths"
   ]
  },
  {
   "cell_type": "code",
   "execution_count": 3,
   "id": "c56e77e0",
   "metadata": {},
   "outputs": [],
   "source": [
    "fluxes_filename = \"all_fluxes.npy\"\n",
    "amplitudes_filename = \"complexsine_pupamp.npy\"\n",
    "phases_filename = \"complexsine_pupphase.npy\"\n",
    "\n",
    "fluxes_path = f\"{FLUXES_FOLDER}/{fluxes_filename}\"\n",
    "amplitudes_path = f\"{SLM_FOLDER}/{amplitudes_filename}\"\n",
    "phases_path = f\"{SLM_FOLDER}/{phases_filename}\""
   ]
  },
  {
   "cell_type": "markdown",
   "id": "0715ce96",
   "metadata": {},
   "source": [
    "Read the numpy raw files"
   ]
  },
  {
   "cell_type": "code",
   "execution_count": 5,
   "id": "de7fc86e",
   "metadata": {},
   "outputs": [],
   "source": [
    "n_points = 10000\n",
    "fluxes_array = load_numpy_data(fluxes_path,\n",
    "                               n_points)\n",
    "\n",
    "amplitudes_array = load_numpy_data(amplitudes_path,\n",
    "                                   n_points)\n",
    "\n",
    "phases_array = load_numpy_data(phases_path,\n",
    "                               n_points)"
   ]
  },
  {
   "cell_type": "markdown",
   "id": "4136c776",
   "metadata": {},
   "source": [
    "Shuffle the data"
   ]
  },
  {
   "cell_type": "code",
   "execution_count": null,
   "id": "bc2d3a7a",
   "metadata": {},
   "outputs": [],
   "source": [
    "fluxes_array, amplitudes_array, phases_array = "
   ]
  }
 ],
 "metadata": {
  "kernelspec": {
   "display_name": "Python 3 (ipykernel)",
   "language": "python",
   "name": "python3"
  },
  "language_info": {
   "codemirror_mode": {
    "name": "ipython",
    "version": 3
   },
   "file_extension": ".py",
   "mimetype": "text/x-python",
   "name": "python",
   "nbconvert_exporter": "python",
   "pygments_lexer": "ipython3",
   "version": "3.9.18"
  }
 },
 "nbformat": 4,
 "nbformat_minor": 5
}
