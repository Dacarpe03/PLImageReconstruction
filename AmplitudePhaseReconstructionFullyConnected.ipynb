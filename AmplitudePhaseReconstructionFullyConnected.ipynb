{
 "cells": [
  {
   "cell_type": "markdown",
   "id": "6c6f3390",
   "metadata": {},
   "source": [
    "## Imports"
   ]
  },
  {
   "cell_type": "code",
   "execution_count": 1,
   "id": "b7e12292",
   "metadata": {},
   "outputs": [
    {
     "name": "stderr",
     "output_type": "stream",
     "text": [
      "2023-11-30 11:43:07.660423: I tensorflow/core/platform/cpu_feature_guard.cc:182] This TensorFlow binary is optimized to use available CPU instructions in performance-critical operations.\n",
      "To enable the following instructions: AVX2 FMA, in other operations, rebuild TensorFlow with the appropriate compiler flags.\n",
      "2023-11-30 11:43:08.276424: W tensorflow/compiler/tf2tensorrt/utils/py_utils.cc:38] TF-TRT Warning: Could not find TensorRT\n"
     ]
    }
   ],
   "source": [
    "from constants import FLUXES_FOLDER, SLM_FOLDER\n",
    "\n",
    "from data_utils import process_amp_phase_data\n",
    "\n",
    "from plot_utils import plot_map, \\\n",
    "                       plot_model_history, \\\n",
    "                       plot_fully_connected_amp_phase_prediction, \\\n",
    "                       plot_conv_amp_phase_prediction\n",
    "\n",
    "from modeling_utils import create_fully_connected_architecture_for_amplitude_and_phase_reconstruction, \\\n",
    "                           create_convolutional_architecture_for_amplitude_and_phase_reconstruction, \\\n",
    "                           compile_model, \\\n",
    "                           train_model\n",
    "\n",
    "from configurations import FCDropoutL2 as ModelConfig"
   ]
  },
  {
   "cell_type": "markdown",
   "id": "fe49c6dd",
   "metadata": {},
   "source": [
    "## Load data"
   ]
  },
  {
   "cell_type": "markdown",
   "id": "c72e529b",
   "metadata": {},
   "source": [
    "In the first place, define the data paths"
   ]
  },
  {
   "cell_type": "code",
   "execution_count": 2,
   "id": "52991673",
   "metadata": {},
   "outputs": [],
   "source": [
    "fluxes_filename = \"all_fluxes.npy\"\n",
    "amplitudes_filename = \"complexsine_pupamp.npy\"\n",
    "phases_filename = \"complexsine_pupphase.npy\"\n",
    "\n",
    "fluxes_path = f\"{FLUXES_FOLDER}/{fluxes_filename}\"\n",
    "amplitudes_path = f\"{SLM_FOLDER}/{amplitudes_filename}\"\n",
    "phases_path = f\"{SLM_FOLDER}/{phases_filename}\""
   ]
  },
  {
   "cell_type": "code",
   "execution_count": 3,
   "id": "759d1fbc",
   "metadata": {},
   "outputs": [],
   "source": [
    "train_fluxes_array, val_fluxes_array, train_amp_phase_array, val_amp_phase_array, scalers = \\\n",
    "    process_amp_phase_data(\n",
    "        fluxes_path,\n",
    "        amplitudes_path,\n",
    "        phases_path,\n",
    "        n_points=10000,\n",
    "        normalize_flux=True,\n",
    "        normalize_amplitude=True,\n",
    "        shuffle=False,\n",
    "        flatten_fluxes=True,\n",
    "        split=True,\n",
    "        val_ratio=0.1\n",
    "    )"
   ]
  },
  {
   "cell_type": "markdown",
   "id": "ed3e4d33",
   "metadata": {},
   "source": [
    "## FULLY CONNECTED"
   ]
  },
  {
   "cell_type": "markdown",
   "id": "f10975ec",
   "metadata": {},
   "source": [
    "## Define configuration"
   ]
  },
  {
   "cell_type": "code",
   "execution_count": 4,
   "id": "aac88554",
   "metadata": {},
   "outputs": [
    {
     "name": "stdout",
     "output_type": "stream",
     "text": [
      "\n",
      "\t=== FCDropoutL2 ===\n",
      "\t*ARCHITECTURE HYPERPARAMETERS:\n",
      "\t\t-Fully Connected\n",
      "\t\t-Input shape: (1320,)\n",
      "\t\t-Output shape: (2, 96, 96)\n",
      "\t\t-Hidden layers: [1024, 2048, 2048, 2048]\n",
      "\t\t-Regularizer: L1 (0.05)\n",
      "\t\t-Hidden Layers Activation: relu\n",
      "\t\t-Output Layer Activation: linear\n",
      "\t\t-Batch Normalization: False\n",
      "\t\t-Dropout: True 0.1\n",
      "\t\n",
      "\t*COMPILATION HYPERPARAMETERS:\n",
      "\t\t-Optimizer: ADAM lr=0.01, beta_1=0.9, beta_2=0.999\n",
      "\t\t-Loss Function: MSE\n",
      "\t\t-Metric: MSE\n",
      "\t\n",
      "\t* TRAINING HYPERPARAMETERS:\n",
      "\t\t-Epochs: 500\n",
      "\t\t-Batch size: 128\n",
      "\t\t-Callbacks:\n",
      "\t\t\t-ReduceLROnPlateau: MSE 30 x0.1\n",
      "\t\t\t-Early Stop: MSE 100\n",
      "\t\n"
     ]
    },
    {
     "name": "stderr",
     "output_type": "stream",
     "text": [
      "2023-11-30 11:43:12.513649: I tensorflow/compiler/xla/stream_executor/cuda/cuda_gpu_executor.cc:995] successful NUMA node read from SysFS had negative value (-1), but there must be at least one NUMA node, so returning NUMA node zero. See more at https://github.com/torvalds/linux/blob/v6.0/Documentation/ABI/testing/sysfs-bus-pci#L344-L355\n",
      "2023-11-30 11:43:12.544147: I tensorflow/compiler/xla/stream_executor/cuda/cuda_gpu_executor.cc:995] successful NUMA node read from SysFS had negative value (-1), but there must be at least one NUMA node, so returning NUMA node zero. See more at https://github.com/torvalds/linux/blob/v6.0/Documentation/ABI/testing/sysfs-bus-pci#L344-L355\n",
      "2023-11-30 11:43:12.544409: I tensorflow/compiler/xla/stream_executor/cuda/cuda_gpu_executor.cc:995] successful NUMA node read from SysFS had negative value (-1), but there must be at least one NUMA node, so returning NUMA node zero. See more at https://github.com/torvalds/linux/blob/v6.0/Documentation/ABI/testing/sysfs-bus-pci#L344-L355\n",
      "2023-11-30 11:43:12.547165: I tensorflow/compiler/xla/stream_executor/cuda/cuda_gpu_executor.cc:995] successful NUMA node read from SysFS had negative value (-1), but there must be at least one NUMA node, so returning NUMA node zero. See more at https://github.com/torvalds/linux/blob/v6.0/Documentation/ABI/testing/sysfs-bus-pci#L344-L355\n",
      "2023-11-30 11:43:12.547589: I tensorflow/compiler/xla/stream_executor/cuda/cuda_gpu_executor.cc:995] successful NUMA node read from SysFS had negative value (-1), but there must be at least one NUMA node, so returning NUMA node zero. See more at https://github.com/torvalds/linux/blob/v6.0/Documentation/ABI/testing/sysfs-bus-pci#L344-L355\n",
      "2023-11-30 11:43:12.547857: I tensorflow/compiler/xla/stream_executor/cuda/cuda_gpu_executor.cc:995] successful NUMA node read from SysFS had negative value (-1), but there must be at least one NUMA node, so returning NUMA node zero. See more at https://github.com/torvalds/linux/blob/v6.0/Documentation/ABI/testing/sysfs-bus-pci#L344-L355\n",
      "2023-11-30 11:43:13.097611: I tensorflow/compiler/xla/stream_executor/cuda/cuda_gpu_executor.cc:995] successful NUMA node read from SysFS had negative value (-1), but there must be at least one NUMA node, so returning NUMA node zero. See more at https://github.com/torvalds/linux/blob/v6.0/Documentation/ABI/testing/sysfs-bus-pci#L344-L355\n",
      "2023-11-30 11:43:13.097891: I tensorflow/compiler/xla/stream_executor/cuda/cuda_gpu_executor.cc:995] successful NUMA node read from SysFS had negative value (-1), but there must be at least one NUMA node, so returning NUMA node zero. See more at https://github.com/torvalds/linux/blob/v6.0/Documentation/ABI/testing/sysfs-bus-pci#L344-L355\n",
      "2023-11-30 11:43:13.098106: I tensorflow/compiler/xla/stream_executor/cuda/cuda_gpu_executor.cc:995] successful NUMA node read from SysFS had negative value (-1), but there must be at least one NUMA node, so returning NUMA node zero. See more at https://github.com/torvalds/linux/blob/v6.0/Documentation/ABI/testing/sysfs-bus-pci#L344-L355\n",
      "2023-11-30 11:43:13.098303: I tensorflow/core/common_runtime/gpu/gpu_device.cc:1639] Created device /job:localhost/replica:0/task:0/device:GPU:0 with 2103 MB memory:  -> device: 0, name: NVIDIA GeForce RTX 3050 Laptop GPU, pci bus id: 0000:01:00.0, compute capability: 8.6\n"
     ]
    }
   ],
   "source": [
    "model_configuration = ModelConfig(train_fluxes_array,\n",
    "                                  train_amp_phase_array)\n",
    "print(model_configuration.get_description())"
   ]
  },
  {
   "cell_type": "markdown",
   "id": "2f98454d",
   "metadata": {},
   "source": [
    "## Instantiate model"
   ]
  },
  {
   "cell_type": "code",
   "execution_count": 5,
   "id": "2d80492e",
   "metadata": {
    "scrolled": true
   },
   "outputs": [],
   "source": [
    "model = create_fully_connected_architecture_for_amplitude_and_phase_reconstruction(\n",
    "    *model_configuration.unpack_architecture_hyperparameters()\n",
    ")\n"
   ]
  },
  {
   "cell_type": "markdown",
   "id": "c2098004",
   "metadata": {},
   "source": [
    "## Compile model"
   ]
  },
  {
   "cell_type": "code",
   "execution_count": 6,
   "id": "b2ea24b4",
   "metadata": {},
   "outputs": [],
   "source": [
    "compile_model(\n",
    "    model,\n",
    "    *model_configuration.unpack_compilation_hyperparameters()\n",
    ")"
   ]
  },
  {
   "cell_type": "markdown",
   "id": "37493d26",
   "metadata": {},
   "source": [
    "## Train model"
   ]
  },
  {
   "cell_type": "code",
   "execution_count": null,
   "id": "f3821502",
   "metadata": {},
   "outputs": [
    {
     "name": "stderr",
     "output_type": "stream",
     "text": [
      "2023-11-30 11:43:13.753599: W tensorflow/tsl/framework/cpu_allocator_impl.cc:83] Allocation of 663552000 exceeds 10% of free system memory.\n",
      "2023-11-30 11:43:14.335525: W tensorflow/tsl/framework/cpu_allocator_impl.cc:83] Allocation of 663552000 exceeds 10% of free system memory.\n"
     ]
    },
    {
     "name": "stdout",
     "output_type": "stream",
     "text": [
      "Epoch 1/500\n"
     ]
    },
    {
     "name": "stderr",
     "output_type": "stream",
     "text": [
      "2023-11-30 11:43:16.138257: I tensorflow/compiler/xla/stream_executor/cuda/cuda_blas.cc:606] TensorFloat-32 will be used for the matrix multiplication. This will only be logged once.\n",
      "2023-11-30 11:43:16.147273: I tensorflow/compiler/xla/service/service.cc:168] XLA service 0x7fc0add5f250 initialized for platform CUDA (this does not guarantee that XLA will be used). Devices:\n",
      "2023-11-30 11:43:16.147296: I tensorflow/compiler/xla/service/service.cc:176]   StreamExecutor device (0): NVIDIA GeForce RTX 3050 Laptop GPU, Compute Capability 8.6\n",
      "2023-11-30 11:43:16.151718: I tensorflow/compiler/mlir/tensorflow/utils/dump_mlir_util.cc:255] disabling MLIR crash reproducer, set env var `MLIR_CRASH_REPRODUCER_DIRECTORY` to enable.\n",
      "2023-11-30 11:43:16.329158: I tensorflow/compiler/xla/stream_executor/cuda/cuda_dnn.cc:432] Loaded cuDNN version 8600\n",
      "2023-11-30 11:43:16.456509: I ./tensorflow/compiler/jit/device_compiler.h:186] Compiled cluster using XLA!  This line is logged at most once for the lifetime of the process.\n"
     ]
    },
    {
     "name": "stdout",
     "output_type": "stream",
     "text": [
      "71/71 [==============================] - 4s 24ms/step - loss: 81.3529 - mean_squared_error: 74.1521 - val_loss: 9.4710 - val_mean_squared_error: 0.8601 - lr: 0.0100\n",
      "Epoch 2/500\n",
      "71/71 [==============================] - 1s 20ms/step - loss: 8.6589 - mean_squared_error: 0.7817 - val_loss: 7.9558 - val_mean_squared_error: 0.7720 - lr: 0.0100\n",
      "Epoch 3/500\n",
      "71/71 [==============================] - 1s 20ms/step - loss: 7.5432 - mean_squared_error: 0.7585 - val_loss: 7.2219 - val_mean_squared_error: 0.7753 - lr: 0.0100\n",
      "Epoch 4/500\n",
      "71/71 [==============================] - 1s 20ms/step - loss: 6.9246 - mean_squared_error: 0.7560 - val_loss: 6.6812 - val_mean_squared_error: 0.7753 - lr: 0.0100\n",
      "Epoch 5/500\n",
      "71/71 [==============================] - 1s 20ms/step - loss: 6.4475 - mean_squared_error: 0.7527 - val_loss: 6.2630 - val_mean_squared_error: 0.7771 - lr: 0.0100\n",
      "Epoch 6/500\n",
      "71/71 [==============================] - 1s 20ms/step - loss: 6.0858 - mean_squared_error: 0.7597 - val_loss: 6.1084 - val_mean_squared_error: 0.8214 - lr: 0.0100\n",
      "Epoch 7/500\n",
      "71/71 [==============================] - 1s 20ms/step - loss: 5.8354 - mean_squared_error: 0.7662 - val_loss: 5.6992 - val_mean_squared_error: 0.7853 - lr: 0.0100\n",
      "Epoch 8/500\n",
      "71/71 [==============================] - 1s 20ms/step - loss: 5.5318 - mean_squared_error: 0.7606 - val_loss: 5.4919 - val_mean_squared_error: 0.7774 - lr: 0.0100\n",
      "Epoch 9/500\n",
      "71/71 [==============================] - 1s 20ms/step - loss: 5.3615 - mean_squared_error: 0.7872 - val_loss: 5.4570 - val_mean_squared_error: 0.8682 - lr: 0.0100\n",
      "Epoch 10/500\n",
      "71/71 [==============================] - 1s 20ms/step - loss: 9.8197 - mean_squared_error: 3.4319 - val_loss: 419.9553 - val_mean_squared_error: 407.9213 - lr: 0.0100\n",
      "Epoch 11/500\n",
      "71/71 [==============================] - 1s 20ms/step - loss: 47.1102 - mean_squared_error: 28.1430 - val_loss: 19.3051 - val_mean_squared_error: 0.8656 - lr: 0.0100\n",
      "Epoch 12/500\n",
      "71/71 [==============================] - 1s 20ms/step - loss: 64.5000 - mean_squared_error: 45.1975 - val_loss: 19.5928 - val_mean_squared_error: 0.8482 - lr: 0.0100\n",
      "Epoch 13/500\n",
      "71/71 [==============================] - 1s 20ms/step - loss: 20.8658 - mean_squared_error: 3.2046 - val_loss: 18.7187 - val_mean_squared_error: 0.8277 - lr: 0.0100\n",
      "Epoch 14/500\n",
      "71/71 [==============================] - 1s 20ms/step - loss: 18.0711 - mean_squared_error: 1.0055 - val_loss: 16.7084 - val_mean_squared_error: 0.8097 - lr: 0.0100\n",
      "Epoch 15/500\n",
      "71/71 [==============================] - 1s 20ms/step - loss: 16.4636 - mean_squared_error: 1.3928 - val_loss: 15.2355 - val_mean_squared_error: 0.7980 - lr: 0.0100\n",
      "Epoch 16/500\n",
      "71/71 [==============================] - 1s 20ms/step - loss: 42.1583 - mean_squared_error: 24.6211 - val_loss: 20.2614 - val_mean_squared_error: 0.8124 - lr: 0.0100\n",
      "Epoch 17/500\n",
      "71/71 [==============================] - 1s 20ms/step - loss: 51.2542 - mean_squared_error: 31.9186 - val_loss: 20.2123 - val_mean_squared_error: 0.8270 - lr: 0.0100\n",
      "Epoch 18/500\n",
      "71/71 [==============================] - 1s 20ms/step - loss: 19.9701 - mean_squared_error: 1.3580 - val_loss: 18.4830 - val_mean_squared_error: 0.8150 - lr: 0.0100\n",
      "Epoch 19/500\n",
      "71/71 [==============================] - 1s 20ms/step - loss: 49.1709 - mean_squared_error: 32.0930 - val_loss: 17.8154 - val_mean_squared_error: 0.8419 - lr: 0.0100\n",
      "Epoch 20/500\n",
      "71/71 [==============================] - 1s 20ms/step - loss: 20.2450 - mean_squared_error: 3.2810 - val_loss: 17.2136 - val_mean_squared_error: 0.8605 - lr: 0.0100\n",
      "Epoch 21/500\n",
      "71/71 [==============================] - 1s 20ms/step - loss: 16.7913 - mean_squared_error: 0.9075 - val_loss: 16.1402 - val_mean_squared_error: 0.8314 - lr: 0.0100\n",
      "Epoch 22/500\n",
      "71/71 [==============================] - 1s 20ms/step - loss: 15.5629 - mean_squared_error: 0.8002 - val_loss: 15.0562 - val_mean_squared_error: 0.8070 - lr: 0.0100\n",
      "Epoch 23/500\n",
      "71/71 [==============================] - 1s 20ms/step - loss: 14.5854 - mean_squared_error: 0.7738 - val_loss: 14.1593 - val_mean_squared_error: 0.7917 - lr: 0.0100\n",
      "Epoch 24/500\n",
      "71/71 [==============================] - 1s 20ms/step - loss: 13.7755 - mean_squared_error: 0.7745 - val_loss: 13.4149 - val_mean_squared_error: 0.7823 - lr: 0.0100\n",
      "Epoch 25/500\n",
      "71/71 [==============================] - 1s 20ms/step - loss: 13.0504 - mean_squared_error: 0.7584 - val_loss: 12.7285 - val_mean_squared_error: 0.7767 - lr: 0.0100\n",
      "Epoch 26/500\n",
      "71/71 [==============================] - 1s 20ms/step - loss: 12.3978 - mean_squared_error: 0.7501 - val_loss: 12.1121 - val_mean_squared_error: 0.7732 - lr: 0.0100\n",
      "Epoch 27/500\n",
      "71/71 [==============================] - 1s 20ms/step - loss: 11.8516 - mean_squared_error: 0.7832 - val_loss: 11.5741 - val_mean_squared_error: 0.7717 - lr: 0.0100\n",
      "Epoch 28/500\n",
      "71/71 [==============================] - 1s 20ms/step - loss: 11.3185 - mean_squared_error: 0.7622 - val_loss: 11.0909 - val_mean_squared_error: 0.7706 - lr: 0.0100\n",
      "Epoch 29/500\n",
      "71/71 [==============================] - 1s 20ms/step - loss: 10.9237 - mean_squared_error: 0.8198 - val_loss: 10.8213 - val_mean_squared_error: 0.7702 - lr: 0.0100\n",
      "Epoch 30/500\n",
      "71/71 [==============================] - 1s 20ms/step - loss: 10.5880 - mean_squared_error: 0.8050 - val_loss: 10.4020 - val_mean_squared_error: 0.7700 - lr: 0.0100\n",
      "Epoch 31/500\n",
      "71/71 [==============================] - 1s 20ms/step - loss: 11.4584 - mean_squared_error: 1.4696 - val_loss: 11.8834 - val_mean_squared_error: 0.7712 - lr: 0.0100\n",
      "Epoch 32/500\n",
      "71/71 [==============================] - 1s 20ms/step - loss: 11.1517 - mean_squared_error: 0.7729 - val_loss: 10.5681 - val_mean_squared_error: 0.7704 - lr: 0.0100\n",
      "Epoch 33/500\n",
      "71/71 [==============================] - 1s 20ms/step - loss: 10.3129 - mean_squared_error: 0.7910 - val_loss: 10.1010 - val_mean_squared_error: 0.7698 - lr: 0.0100\n",
      "Epoch 34/500\n",
      "71/71 [==============================] - 1s 20ms/step - loss: 9.7197 - mean_squared_error: 0.7672 - val_loss: 9.4255 - val_mean_squared_error: 0.7694 - lr: 0.0100\n",
      "Epoch 35/500\n",
      "71/71 [==============================] - 1s 20ms/step - loss: 9.1638 - mean_squared_error: 0.7477 - val_loss: 8.9589 - val_mean_squared_error: 0.7691 - lr: 0.0100\n",
      "Epoch 36/500\n",
      "71/71 [==============================] - 1s 20ms/step - loss: 8.7904 - mean_squared_error: 0.7888 - val_loss: 8.6081 - val_mean_squared_error: 0.7691 - lr: 0.0100\n",
      "Epoch 37/500\n",
      "71/71 [==============================] - 1s 20ms/step - loss: 8.3988 - mean_squared_error: 0.7476 - val_loss: 8.2368 - val_mean_squared_error: 0.7690 - lr: 0.0100\n",
      "Epoch 38/500\n",
      "71/71 [==============================] - 1s 20ms/step - loss: 8.0401 - mean_squared_error: 0.7465 - val_loss: 7.8893 - val_mean_squared_error: 0.7689 - lr: 0.0100\n",
      "Epoch 39/500\n",
      "71/71 [==============================] - 1s 20ms/step - loss: 7.9926 - mean_squared_error: 1.0116 - val_loss: 7.9459 - val_mean_squared_error: 0.7689 - lr: 0.0100\n",
      "Epoch 40/500\n",
      "71/71 [==============================] - 1s 20ms/step - loss: 24.5654 - mean_squared_error: 14.2993 - val_loss: 15.8348 - val_mean_squared_error: 0.8248 - lr: 0.0100\n",
      "Epoch 41/500\n",
      "71/71 [==============================] - 1s 20ms/step - loss: 14.3559 - mean_squared_error: 1.0435 - val_loss: 12.7135 - val_mean_squared_error: 0.7995 - lr: 0.0100\n",
      "Epoch 42/500\n",
      "71/71 [==============================] - 1s 20ms/step - loss: 12.5157 - mean_squared_error: 1.6643 - val_loss: 10.8988 - val_mean_squared_error: 0.7873 - lr: 0.0100\n",
      "Epoch 43/500\n",
      "71/71 [==============================] - 1s 20ms/step - loss: 10.3422 - mean_squared_error: 0.7601 - val_loss: 9.7563 - val_mean_squared_error: 0.7757 - lr: 0.0100\n",
      "Epoch 44/500\n",
      "71/71 [==============================] - 1s 20ms/step - loss: 9.3076 - mean_squared_error: 0.7480 - val_loss: 8.9506 - val_mean_squared_error: 0.7714 - lr: 0.0100\n",
      "Epoch 45/500\n",
      "71/71 [==============================] - 1s 20ms/step - loss: 8.6364 - mean_squared_error: 0.7544 - val_loss: 8.3749 - val_mean_squared_error: 0.7699 - lr: 0.0100\n",
      "Epoch 46/500\n",
      "71/71 [==============================] - 1s 20ms/step - loss: 8.1084 - mean_squared_error: 0.7497 - val_loss: 7.8920 - val_mean_squared_error: 0.7694 - lr: 0.0100\n",
      "Epoch 47/500\n"
     ]
    },
    {
     "name": "stdout",
     "output_type": "stream",
     "text": [
      "71/71 [==============================] - 1s 20ms/step - loss: 7.6640 - mean_squared_error: 0.7475 - val_loss: 7.4826 - val_mean_squared_error: 0.7691 - lr: 0.0100\n",
      "Epoch 48/500\n",
      "71/71 [==============================] - 1s 20ms/step - loss: 7.3210 - mean_squared_error: 0.7568 - val_loss: 7.1728 - val_mean_squared_error: 0.7691 - lr: 0.0100\n",
      "Epoch 49/500\n",
      "71/71 [==============================] - 1s 20ms/step - loss: 16.1349 - mean_squared_error: 9.4490 - val_loss: 167.3004 - val_mean_squared_error: 158.2292 - lr: 0.0100\n",
      "Epoch 50/500\n",
      "71/71 [==============================] - 1s 20ms/step - loss: 14.0493 - mean_squared_error: 4.0544 - val_loss: 10.2746 - val_mean_squared_error: 0.7755 - lr: 0.0100\n",
      "Epoch 51/500\n",
      "71/71 [==============================] - 1s 20ms/step - loss: 9.8073 - mean_squared_error: 0.7533 - val_loss: 9.4271 - val_mean_squared_error: 0.7706 - lr: 0.0100\n",
      "Epoch 52/500\n",
      "71/71 [==============================] - 1s 20ms/step - loss: 9.0978 - mean_squared_error: 0.7446 - val_loss: 8.8308 - val_mean_squared_error: 0.7693 - lr: 0.0100\n",
      "Epoch 53/500\n",
      "28/71 [==========>...................] - ETA: 0s - loss: 8.6970 - mean_squared_error: 0.7337"
     ]
    }
   ],
   "source": [
    "history = train_model(\n",
    "    model,\n",
    "    train_fluxes_array,\n",
    "    train_amp_phase_array,\n",
    "    val_fluxes_array,\n",
    "    val_amp_phase_array,\n",
    "    *model_configuration.unpack_training_hyperparameters()\n",
    ")"
   ]
  },
  {
   "cell_type": "markdown",
   "id": "9685c939",
   "metadata": {},
   "source": [
    "## Results"
   ]
  },
  {
   "cell_type": "code",
   "execution_count": null,
   "id": "f4c1d77b",
   "metadata": {},
   "outputs": [],
   "source": [
    "plot_model_history(history)"
   ]
  },
  {
   "cell_type": "code",
   "execution_count": null,
   "id": "2001bf51",
   "metadata": {},
   "outputs": [],
   "source": [
    "n = 106\n",
    "plot_fully_connected_amp_phase_prediction(\n",
    "    model,\n",
    "    val_fluxes_array[n],\n",
    "    val_amp_phase_array[n][0],\n",
    "    val_amp_phase_array[n][1]\n",
    "    )"
   ]
  },
  {
   "cell_type": "code",
   "execution_count": null,
   "id": "f2ef8b3c",
   "metadata": {},
   "outputs": [],
   "source": [
    "n = 106\n",
    "plot_fully_connected_amp_phase_prediction(\n",
    "    model,\n",
    "    train_fluxes_array[n],\n",
    "    train_amp_phase_array[n][0],\n",
    "    train_amp_phase_array[n][1]\n",
    "    )"
   ]
  }
 ],
 "metadata": {
  "kernelspec": {
   "display_name": "Python 3 (ipykernel)",
   "language": "python",
   "name": "python3"
  },
  "language_info": {
   "codemirror_mode": {
    "name": "ipython",
    "version": 3
   },
   "file_extension": ".py",
   "mimetype": "text/x-python",
   "name": "python",
   "nbconvert_exporter": "python",
   "pygments_lexer": "ipython3",
   "version": "3.9.18"
  }
 },
 "nbformat": 4,
 "nbformat_minor": 5
}
