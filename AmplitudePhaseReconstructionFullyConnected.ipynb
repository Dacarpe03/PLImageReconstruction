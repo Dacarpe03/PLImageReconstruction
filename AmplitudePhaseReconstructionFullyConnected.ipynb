{
 "cells": [
  {
   "cell_type": "markdown",
   "id": "6c6f3390",
   "metadata": {},
   "source": [
    "## Imports"
   ]
  },
  {
   "cell_type": "code",
   "execution_count": 1,
   "id": "b7e12292",
   "metadata": {},
   "outputs": [
    {
     "name": "stderr",
     "output_type": "stream",
     "text": [
      "2023-12-18 08:47:53.677505: I tensorflow/core/util/port.cc:113] oneDNN custom operations are on. You may see slightly different numerical results due to floating-point round-off errors from different computation orders. To turn them off, set the environment variable `TF_ENABLE_ONEDNN_OPTS=0`.\n",
      "2023-12-18 08:47:53.705959: E external/local_xla/xla/stream_executor/cuda/cuda_dnn.cc:9261] Unable to register cuDNN factory: Attempting to register factory for plugin cuDNN when one has already been registered\n",
      "2023-12-18 08:47:53.705986: E external/local_xla/xla/stream_executor/cuda/cuda_fft.cc:607] Unable to register cuFFT factory: Attempting to register factory for plugin cuFFT when one has already been registered\n",
      "2023-12-18 08:47:53.706689: E external/local_xla/xla/stream_executor/cuda/cuda_blas.cc:1515] Unable to register cuBLAS factory: Attempting to register factory for plugin cuBLAS when one has already been registered\n",
      "2023-12-18 08:47:53.711522: I tensorflow/core/platform/cpu_feature_guard.cc:182] This TensorFlow binary is optimized to use available CPU instructions in performance-critical operations.\n",
      "To enable the following instructions: AVX2 AVX_VNNI FMA, in other operations, rebuild TensorFlow with the appropriate compiler flags.\n",
      "2023-12-18 08:47:54.206234: W tensorflow/compiler/tf2tensorrt/utils/py_utils.cc:38] TF-TRT Warning: Could not find TensorRT\n"
     ]
    }
   ],
   "source": [
    "from constants import TRAIN_FC_FLUXES_PATH, \\\n",
    "                      TRAIN_FC_AMP_PHASE_PATH, \\\n",
    "                      VALIDATION_FC_FLUXES_PATH, \\\n",
    "                      VALIDATION_FC_AMP_PHASE_PATH\n",
    "\n",
    "from data_utils import load_numpy_data\n",
    "                    \n",
    "\n",
    "from plot_utils import plot_map, \\\n",
    "                       plot_model_history, \\\n",
    "                       plot_fully_connected_amp_phase_prediction\n",
    "\n",
    "from modeling_utils import create_fully_connected_architecture_for_amplitude_and_phase_reconstruction, \\\n",
    "                           compile_model, \\\n",
    "                           train_model_with_generator, \\\n",
    "                           store_model\n",
    "\n",
    "from configurations import SimpleFCModel as ModelConfig"
   ]
  },
  {
   "cell_type": "markdown",
   "id": "fe49c6dd",
   "metadata": {},
   "source": [
    "## Load data"
   ]
  },
  {
   "cell_type": "markdown",
   "id": "c72e529b",
   "metadata": {},
   "source": [
    "In the first place, define the data paths"
   ]
  },
  {
   "cell_type": "code",
   "execution_count": 2,
   "id": "f8cbea5a-f4a4-4944-bb3e-77319b838cdd",
   "metadata": {},
   "outputs": [],
   "source": [
    "validation_fluxes_array = load_numpy_data(VALIDATION_FC_FLUXES_PATH)\n",
    "validation_amp_phase_array = load_numpy_data(VALIDATION_FC_AMP_PHASE_PATH)"
   ]
  },
  {
   "cell_type": "markdown",
   "id": "6250eab2",
   "metadata": {},
   "source": [
    "## Define configuration"
   ]
  },
  {
   "cell_type": "code",
   "execution_count": 3,
   "id": "aac88554",
   "metadata": {},
   "outputs": [
    {
     "name": "stdout",
     "output_type": "stream",
     "text": [
      "\n",
      "\t=== SimpleFCModel ===\n",
      "\t*ARCHITECTURE HYPERPARAMETERS:\n",
      "\t\t-Fully Connected\n",
      "\t\t-Input shape: 1320\n",
      "\t\t-Output shape: (2, 96, 96)\n",
      "\t\t-Hidden layers: [512, 512, 256, 256, 512, 512, 1024, 1024, 2048]\n",
      "\t\t-Regularizer: None\n",
      "\t\t-Hidden Layers Activation: relu\n",
      "\t\t-Output Layer Activation: linear\n",
      "\t\t-Batch Normalization: False\n",
      "\t\n",
      "\t*COMPILATION HYPERPARAMETERS:\n",
      "\t\t-Optimizer: ADAM lr=0.0001, beta_1=0.9, beta_2=0.999\n",
      "\t\t-Loss Function: MSE\n",
      "\t\t-Metric: MSE\n",
      "\t\n",
      "\t* TRAINING HYPERPARAMETERS:\n",
      "\t\t-Epochs: 200\n",
      "\t\t-Batch size: 64\n",
      "\t\t-Callbacks: \n",
      "\t\t\t-ReduceLROnPlateau: MSE 15 x0.1\n",
      "\t\t\t-Early Stop: MSE 50\n",
      "\t\n"
     ]
    },
    {
     "name": "stderr",
     "output_type": "stream",
     "text": [
      "2023-12-18 08:47:56.193455: I external/local_xla/xla/stream_executor/cuda/cuda_executor.cc:901] successful NUMA node read from SysFS had negative value (-1), but there must be at least one NUMA node, so returning NUMA node zero. See more at https://github.com/torvalds/linux/blob/v6.0/Documentation/ABI/testing/sysfs-bus-pci#L344-L355\n",
      "2023-12-18 08:47:56.224514: I external/local_xla/xla/stream_executor/cuda/cuda_executor.cc:901] successful NUMA node read from SysFS had negative value (-1), but there must be at least one NUMA node, so returning NUMA node zero. See more at https://github.com/torvalds/linux/blob/v6.0/Documentation/ABI/testing/sysfs-bus-pci#L344-L355\n",
      "2023-12-18 08:47:56.224678: I external/local_xla/xla/stream_executor/cuda/cuda_executor.cc:901] successful NUMA node read from SysFS had negative value (-1), but there must be at least one NUMA node, so returning NUMA node zero. See more at https://github.com/torvalds/linux/blob/v6.0/Documentation/ABI/testing/sysfs-bus-pci#L344-L355\n",
      "2023-12-18 08:47:56.226612: I external/local_xla/xla/stream_executor/cuda/cuda_executor.cc:901] successful NUMA node read from SysFS had negative value (-1), but there must be at least one NUMA node, so returning NUMA node zero. See more at https://github.com/torvalds/linux/blob/v6.0/Documentation/ABI/testing/sysfs-bus-pci#L344-L355\n",
      "2023-12-18 08:47:56.226717: I external/local_xla/xla/stream_executor/cuda/cuda_executor.cc:901] successful NUMA node read from SysFS had negative value (-1), but there must be at least one NUMA node, so returning NUMA node zero. See more at https://github.com/torvalds/linux/blob/v6.0/Documentation/ABI/testing/sysfs-bus-pci#L344-L355\n",
      "2023-12-18 08:47:56.226785: I external/local_xla/xla/stream_executor/cuda/cuda_executor.cc:901] successful NUMA node read from SysFS had negative value (-1), but there must be at least one NUMA node, so returning NUMA node zero. See more at https://github.com/torvalds/linux/blob/v6.0/Documentation/ABI/testing/sysfs-bus-pci#L344-L355\n",
      "2023-12-18 08:47:56.259282: I external/local_xla/xla/stream_executor/cuda/cuda_executor.cc:901] successful NUMA node read from SysFS had negative value (-1), but there must be at least one NUMA node, so returning NUMA node zero. See more at https://github.com/torvalds/linux/blob/v6.0/Documentation/ABI/testing/sysfs-bus-pci#L344-L355\n",
      "2023-12-18 08:47:56.259424: I external/local_xla/xla/stream_executor/cuda/cuda_executor.cc:901] successful NUMA node read from SysFS had negative value (-1), but there must be at least one NUMA node, so returning NUMA node zero. See more at https://github.com/torvalds/linux/blob/v6.0/Documentation/ABI/testing/sysfs-bus-pci#L344-L355\n",
      "2023-12-18 08:47:56.259518: I external/local_xla/xla/stream_executor/cuda/cuda_executor.cc:901] successful NUMA node read from SysFS had negative value (-1), but there must be at least one NUMA node, so returning NUMA node zero. See more at https://github.com/torvalds/linux/blob/v6.0/Documentation/ABI/testing/sysfs-bus-pci#L344-L355\n",
      "2023-12-18 08:47:56.259579: I tensorflow/core/common_runtime/gpu/gpu_device.cc:1929] Created device /job:localhost/replica:0/task:0/device:GPU:0 with 6263 MB memory:  -> device: 0, name: NVIDIA GeForce RTX 4070 Laptop GPU, pci bus id: 0000:01:00.0, compute capability: 8.9\n"
     ]
    }
   ],
   "source": [
    "model_configuration = ModelConfig()\n",
    "print(model_configuration.get_description())"
   ]
  },
  {
   "cell_type": "markdown",
   "id": "b13606f9",
   "metadata": {},
   "source": [
    "## Instantiate model"
   ]
  },
  {
   "cell_type": "code",
   "execution_count": 4,
   "id": "2d80492e",
   "metadata": {
    "scrolled": true
   },
   "outputs": [
    {
     "name": "stdout",
     "output_type": "stream",
     "text": [
      "Model: \"SimpleFCModel\"\n",
      "_________________________________________________________________\n",
      " Layer (type)                Output Shape              Param #   \n",
      "=================================================================\n",
      " dense (Dense)               (None, 512)               675840    \n",
      "                                                                 \n",
      " activation (Activation)     (None, 512)               0         \n",
      "                                                                 \n",
      " dense_1 (Dense)             (None, 512)               262144    \n",
      "                                                                 \n",
      " activation_1 (Activation)   (None, 512)               0         \n",
      "                                                                 \n",
      " dense_2 (Dense)             (None, 256)               131072    \n",
      "                                                                 \n",
      " activation_2 (Activation)   (None, 256)               0         \n",
      "                                                                 \n",
      " dense_3 (Dense)             (None, 256)               65536     \n",
      "                                                                 \n",
      " activation_3 (Activation)   (None, 256)               0         \n",
      "                                                                 \n",
      " dense_4 (Dense)             (None, 512)               131072    \n",
      "                                                                 \n",
      " activation_4 (Activation)   (None, 512)               0         \n",
      "                                                                 \n",
      " dense_5 (Dense)             (None, 512)               262144    \n",
      "                                                                 \n",
      " activation_5 (Activation)   (None, 512)               0         \n",
      "                                                                 \n",
      " dense_6 (Dense)             (None, 1024)              524288    \n",
      "                                                                 \n",
      " activation_6 (Activation)   (None, 1024)              0         \n",
      "                                                                 \n",
      " dense_7 (Dense)             (None, 1024)              1048576   \n",
      "                                                                 \n",
      " activation_7 (Activation)   (None, 1024)              0         \n",
      "                                                                 \n",
      " dense_8 (Dense)             (None, 2048)              2097152   \n",
      "                                                                 \n",
      " activation_8 (Activation)   (None, 2048)              0         \n",
      "                                                                 \n",
      " dense_9 (Dense)             (None, 18432)             37767168  \n",
      "                                                                 \n",
      " reshape (Reshape)           (None, 2, 96, 96)         0         \n",
      "                                                                 \n",
      "=================================================================\n",
      "Total params: 42964992 (163.90 MB)\n",
      "Trainable params: 42964992 (163.90 MB)\n",
      "Non-trainable params: 0 (0.00 Byte)\n",
      "_________________________________________________________________\n"
     ]
    }
   ],
   "source": [
    "model = create_fully_connected_architecture_for_amplitude_and_phase_reconstruction(\n",
    "    *model_configuration.unpack_architecture_hyperparameters()\n",
    ")\n"
   ]
  },
  {
   "cell_type": "markdown",
   "id": "c2098004",
   "metadata": {},
   "source": [
    "## Compile model"
   ]
  },
  {
   "cell_type": "code",
   "execution_count": 5,
   "id": "b2ea24b4",
   "metadata": {},
   "outputs": [],
   "source": [
    "compile_model(\n",
    "    model,\n",
    "    *model_configuration.unpack_compilation_hyperparameters()\n",
    ")"
   ]
  },
  {
   "cell_type": "markdown",
   "id": "37493d26",
   "metadata": {},
   "source": [
    "## Train model"
   ]
  },
  {
   "cell_type": "code",
   "execution_count": 6,
   "id": "4bf2677e-26e6-4a5a-afaf-15ebebbf9c54",
   "metadata": {},
   "outputs": [
    {
     "data": {
      "text/plain": [
       "(2, 96, 96)"
      ]
     },
     "execution_count": 6,
     "metadata": {},
     "output_type": "execute_result"
    }
   ],
   "source": [
    "validation_amp_phase_array[0].shape"
   ]
  },
  {
   "cell_type": "code",
   "execution_count": null,
   "id": "f3821502",
   "metadata": {},
   "outputs": [],
   "source": [
    "history = train_model_with_generator(\n",
    "    model,\n",
    "    TRAIN_FC_FLUXES_PATH,\n",
    "    TRAIN_FC_AMP_PHASE_PATH,\n",
    "    validation_fluxes_array,\n",
    "    validation_amp_phase_array,\n",
    "    *model_configuration.unpack_training_hyperparameters()\n",
    ")"
   ]
  },
  {
   "cell_type": "markdown",
   "id": "67b8e2c9",
   "metadata": {},
   "source": [
    "## Results"
   ]
  },
  {
   "cell_type": "code",
   "execution_count": null,
   "id": "f4c1d77b",
   "metadata": {},
   "outputs": [],
   "source": [
    "plot_model_history(history)"
   ]
  },
  {
   "cell_type": "code",
   "execution_count": null,
   "id": "2001bf51",
   "metadata": {},
   "outputs": [],
   "source": [
    "n = 106\n",
    "plot_fully_connected_amp_phase_prediction(\n",
    "    model,\n",
    "    val_fluxes_array[n],\n",
    "    val_amp_phase_array[n][0],\n",
    "    val_amp_phase_array[n][1]\n",
    "    )"
   ]
  },
  {
   "cell_type": "code",
   "execution_count": null,
   "id": "f2ef8b3c",
   "metadata": {},
   "outputs": [],
   "source": [
    "n = 106\n",
    "plot_fully_connected_amp_phase_prediction(\n",
    "    model,\n",
    "    train_fluxes_array[n],\n",
    "    train_amp_phase_array[n][0],\n",
    "    train_amp_phase_array[n][1]\n",
    "    )"
   ]
  },
  {
   "cell_type": "code",
   "execution_count": null,
   "id": "4870c8de-d1cb-474b-99f2-805a2de9a70e",
   "metadata": {},
   "outputs": [],
   "source": [
    "store_model(model,\n",
    "            model.name,\n",
    "            model_configuration.get_description())"
   ]
  }
 ],
 "metadata": {
  "kernelspec": {
   "display_name": "sail-env",
   "language": "python",
   "name": "sail-env"
  },
  "language_info": {
   "codemirror_mode": {
    "name": "ipython",
    "version": 3
   },
   "file_extension": ".py",
   "mimetype": "text/x-python",
   "name": "python",
   "nbconvert_exporter": "python",
   "pygments_lexer": "ipython3",
   "version": "3.9.18"
  }
 },
 "nbformat": 4,
 "nbformat_minor": 5
}
