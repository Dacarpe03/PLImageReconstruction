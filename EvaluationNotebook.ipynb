{
 "cells": [
  {
   "cell_type": "code",
   "execution_count": null,
   "id": "af743894-4d2a-494d-bda3-5157adf9ea55",
   "metadata": {},
   "outputs": [],
   "source": [
    "from modeling_utils import load_model, \\\n",
    "                           evaluate_model\n",
    "\n",
    "from plot_utils import plot_conv_amp_phase_prediction, \\\n",
    "                       plot_fully_connected_amp_phase_prediction, \n",
    "                       "
   ]
  }
 ],
 "metadata": {
  "kernelspec": {
   "display_name": "sail-env",
   "language": "python",
   "name": "sail-env"
  },
  "language_info": {
   "codemirror_mode": {
    "name": "ipython",
    "version": 3
   },
   "file_extension": ".py",
   "mimetype": "text/x-python",
   "name": "python",
   "nbconvert_exporter": "python",
   "pygments_lexer": "ipython3",
   "version": "3.9.18"
  }
 },
 "nbformat": 4,
 "nbformat_minor": 5
}
